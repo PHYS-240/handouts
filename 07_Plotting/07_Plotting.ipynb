{
 "cells": [
  {
   "cell_type": "markdown",
   "metadata": {
    "nbgrader": {
     "grade": false,
     "grade_id": "cell-5c081c1c48b5095c",
     "locked": true,
     "schema_version": 3,
     "solution": false,
     "task": false
    },
    "slideshow": {
     "slide_type": "slide"
    }
   },
   "source": [
    "---\n",
    "# Plotting\n",
    "\n",
    "### PHYS 240\n",
    "### Dr. Wolf"
   ]
  },
  {
   "cell_type": "markdown",
   "metadata": {
    "slideshow": {
     "slide_type": "slide"
    }
   },
   "source": [
    "# To make basic plots, we will learn the `numpy` and `matplotlib` packages\n",
    "- `numpy` (usually imported as `np`): numerical data and analysis (more in Chapter 6)\n",
    "- `matplotlib`: (usually just the `pyplot` submodule imported as `plt`) all things plotting (Chapter 7)\n",
    "\n",
    "We'll study both in more detail later. Right now, we'll focus on basic synthesis and use of `numpy`'s arrays and `matplotlib.pyplot`'s simplified interface lets us teach you \"enough to be dangerous\"."
   ]
  },
  {
   "cell_type": "markdown",
   "metadata": {
    "slideshow": {
     "slide_type": "subslide"
    }
   },
   "source": [
    "# Baby's first plot\n",
    "`matplotlib's`'s `plot` function takes in two iterables **of equal size** and treats them as the x and y values of a series of points to connect with lines."
   ]
  },
  {
   "cell_type": "code",
   "execution_count": null,
   "metadata": {
    "slideshow": {
     "slide_type": "skip"
    }
   },
   "outputs": [],
   "source": [
    "import matplotlib.pyplot as plt\n",
    "# you might not need these, but they help ensure that plots show up and look the same as on anyone else's setup\n",
    "%matplotlib inline\n",
    "plt.style.use('default')"
   ]
  },
  {
   "cell_type": "code",
   "execution_count": null,
   "metadata": {},
   "outputs": [],
   "source": [
    "import matplotlib.pyplot as plt\n",
    "plt.plot([0, 1, 2, 3, 4], [0, 1, 4, 9, 16])"
   ]
  },
  {
   "cell_type": "markdown",
   "metadata": {
    "slideshow": {
     "slide_type": "subslide"
    }
   },
   "source": [
    "# `scatter` works the same, but just shows the points without connecting lines"
   ]
  },
  {
   "cell_type": "code",
   "execution_count": null,
   "metadata": {},
   "outputs": [],
   "source": [
    "plt.scatter([0, 1, 2, 3, 4], [0, 1, 4, 9, 16])"
   ]
  },
  {
   "cell_type": "markdown",
   "metadata": {
    "slideshow": {
     "slide_type": "subslide"
    }
   },
   "source": [
    "# Example: Plotting a sine curve (Solution at end)\n",
    "We want to plot a smooth sine curve, but we can only plot series of straight line segments between points, so instead we just need to create A LOT of points. Iteration makes this much easier than hard-coding each point, but it is still tedious.\n",
    "\n",
    "Goal: plot $\\sin(x)$ from $x=0$ to $x = 4\\pi$ with 1001 points, including the end points."
   ]
  },
  {
   "cell_type": "code",
   "execution_count": null,
   "metadata": {},
   "outputs": [],
   "source": [
    "from math import sin, pi\n",
    "### GENERATE THE X AND Y LISTS TO PLOT\n",
    "    \n",
    "### THEN, ACTUALLY PLOT THE DATA\n"
   ]
  },
  {
   "cell_type": "markdown",
   "metadata": {
    "slideshow": {
     "slide_type": "slide"
    }
   },
   "source": [
    "# `numpy` Arrays: Our Long-awaited Savior\n",
    "So far, we've only used the plotting capabilities of `matplotlib` by plotting data in lists. `numpy`'s arrays can make working with the data we want to plot **much** easier. We will exclusively import `numpy` as `np`, which is standard in the python community.\n",
    "\n",
    "`numpy` arrays are iterables with the following constraints\n",
    "- All elements must be of the same type (all floats, all ints, etc.)\n",
    "- They cannot be easily resized (no append, remove, etc.)"
   ]
  },
  {
   "cell_type": "markdown",
   "metadata": {
    "slideshow": {
     "slide_type": "subslide"
    }
   },
   "source": [
    "# The payoff: Vectorization\n",
    "What we get in return, though, is **vectorization**. This means that if `ary` is a `numpy` array, we can do the following:\n",
    "- `ary * 2.0` returns a new array where each element is twice the corresponding element of `ary`\n",
    "- `ary * ary` returns a new array where each element is the square of the corresponding element of `ary`\n",
    "- `np.sin(ary)` returns a new array where each element is the sine of the corresponding element of `ary`\n",
    "\n",
    "Note that in the last example, we had to use `numpy`'s version of `sin`. It has some special sauce that allows it to work on arrays *or* scalars, so **there's really no reason to use the `math` module any more**."
   ]
  },
  {
   "cell_type": "markdown",
   "metadata": {
    "slideshow": {
     "slide_type": "subslide"
    }
   },
   "source": [
    "# Generating `numpy` arrays\n",
    "The most straightforward way to create `numpy` arrays is to just cast an iterable into an `array` using `numpy`'s `array` constructor:"
   ]
  },
  {
   "cell_type": "code",
   "execution_count": null,
   "metadata": {},
   "outputs": [],
   "source": [
    "import numpy as np\n",
    "xs = np.array([0, 1, 2, 3, 4])\n",
    "ys = xs**2\n",
    "print(xs, type(xs))\n",
    "print(ys, type(ys))"
   ]
  },
  {
   "cell_type": "markdown",
   "metadata": {
    "slideshow": {
     "slide_type": "subslide"
    }
   },
   "source": [
    "# Create evenly-spaced data with `np.linspace`\n",
    "So sometimes you really do need the whole `append` strategy at first, but then you can cast to a `numpy` array and get the best of both worlds. However, for the case of making a large number of evenly spaced values, `numpy` has a much more elegant solution: `linspace`. It takes three arguments: a starting value, an ending value, and a number of desired points in between. **Unlike many other iterable generators, `linspace` DOES INCLUDE THE END POINT**."
   ]
  },
  {
   "cell_type": "code",
   "execution_count": null,
   "metadata": {},
   "outputs": [],
   "source": [
    "num_points = 1001\n",
    "xs = np.linspace(0, 4, num_points)\n",
    "print(\"The first element of xs is {:.1f}, the last element is {:.4f}, and it has {:d} elements.\".format(xs[0], xs[-1], len(xs)))"
   ]
  },
  {
   "cell_type": "markdown",
   "metadata": {
    "slideshow": {
     "slide_type": "subslide"
    }
   },
   "source": [
    "# Challenge: Sine curve revisited (Solution at end)\n",
    "Simplify the data synthesis from the previous example by using vectorization. You will probably want to use both `np.linspace` and `np.sin`."
   ]
  },
  {
   "cell_type": "code",
   "execution_count": null,
   "metadata": {},
   "outputs": [],
   "source": [
    "# how many points we want to use; can change to make resolution higher or lower\n",
    "num_points = 1001\n",
    "\n",
    "### GENERATE X AND Y DATA IN TWO ARRAYS CALLED xs AND ys\n",
    "\n",
    "### Plotting step is the same\n",
    "plt.plot(xs, ys)"
   ]
  },
  {
   "cell_type": "markdown",
   "metadata": {
    "slideshow": {
     "slide_type": "subslide"
    }
   },
   "source": [
    "# Example: Adding a Second Dataset (Solution at end)\n",
    "To add a second dataset to the same plot, simply call `plot` again in the same cell, likely with different data. For fun, let's add a graph of\n",
    "$$y_2(x) = \\frac{1}{2}\\sin(x/2)$$"
   ]
  },
  {
   "cell_type": "code",
   "execution_count": null,
   "metadata": {},
   "outputs": [],
   "source": [
    "### USE SAME xs FROM BEFORE, BUT GENERATE NEW ys2; THEN PLOT BOTH ys AND ys2 AGAINST xs\n"
   ]
  },
  {
   "cell_type": "markdown",
   "metadata": {
    "slideshow": {
     "slide_type": "subslide"
    }
   },
   "source": [
    "# `matplotlib` automatically cycles through many colors, but you can customize this in the call to `plot`\n",
    "You can also customize the \n",
    "- line width (`lw=`; best to keep it above 1.5 pt)\n",
    "- line style (`ls=`; dashed, dotted, etc.)\n",
    "- label that would appear in a legend (`label=`)\n",
    "- symbols to be plotted at actual data points (`marker=`; creates symbols `scatter`-style)\n",
    "within the call to `plot`.\n",
    "\n",
    "There are **many** optional keyword arguments that you will mostly look up since going over each and every one is not a great way to learn them."
   ]
  },
  {
   "cell_type": "markdown",
   "metadata": {
    "slideshow": {
     "slide_type": "subslide"
    }
   },
   "source": [
    "# Extended Example: Double-Encoding the Second Dataset"
   ]
  },
  {
   "cell_type": "code",
   "execution_count": null,
   "metadata": {},
   "outputs": [],
   "source": [
    "# how many points we want to use; can change to make resolution higher or lower\n",
    "num_points = 1001\n",
    "# left and right end points on the x-axis\n",
    "x_start, x_stop = 0, 4 * np.pi\n",
    "\n",
    "# build up x- and y-values from empty arrays\n",
    "xs = np.linspace(x_start, x_stop, num_points)\n",
    "ys = np.sin(xs)\n",
    "plt.plot(xs, ys, label='$f(\\phi) = \\sin(\\phi)$')\n",
    "\n",
    "# NEW STUFF\n",
    "ys2 = 0.5 * np.sin(0.5 * xs)\n",
    "plt.plot(xs, ys2, ls='--', lw=3, label=r'$f(\\phi) = \\frac{1}{2}\\sin\\left(\\frac{1}{2}\\phi\\right)$')"
   ]
  },
  {
   "cell_type": "markdown",
   "metadata": {
    "slideshow": {
     "slide_type": "slide"
    }
   },
   "source": [
    "# Legends, Labels, and Limits\n",
    "To place a legend, we can use `matplotlib`'s `legend` function **after** we have plotted all datasets we want to appear in the legend **and** specified a `label` in each call to `plot` or `scatter`. Specify the position of the legend with an integer code or string as the sole argument to `legend` (see talbe 3.1 in Hill).\n",
    "\n",
    "We can (and should!) add labels to our axes, and even a title using the `xlabel`, `ylabel`, and `title` commands, which take a string as an argument. $\\rm\\LaTeX$ is allowed and encouraged! Make your plots pretty!\n",
    "\n",
    "We can also explicitly set the limits of the *x*- and *y*-axes using `xlim` and `ylim`, which take two numbers as arguments, indicating the left and right endpoints. You can use this to invert an axis (have it incrasing to the left/bottom)."
   ]
  },
  {
   "cell_type": "markdown",
   "metadata": {
    "slideshow": {
     "slide_type": "subslide"
    }
   },
   "source": [
    "# Further Extended Example"
   ]
  },
  {
   "cell_type": "code",
   "execution_count": null,
   "metadata": {},
   "outputs": [],
   "source": [
    "# how many points we want to use; can change to make resolution higher or lower\n",
    "num_points = 1001\n",
    "# left and right end points on the x-axis\n",
    "x_start, x_stop = 0, 4 * np.pi\n",
    "\n",
    "# build up x- and y-values from empty arrays\n",
    "xs = np.linspace(x_start, x_stop, num_points)\n",
    "ys = np.sin(xs)\n",
    "plt.plot(xs, ys, label='$f(\\phi) = \\sin(x)$')\n",
    "\n",
    "# NEW STUFF\n",
    "ys2 = 0.5 * np.sin(0.5 * xs)\n",
    "plt.plot(xs, ys2, ls='--', lw=3, label=r'$f(\\phi) = \\frac{1}{2}\\sin\\left(\\frac{1}{2}x\\right)$')\n",
    "\n",
    "# add labels to axes and a title\n",
    "plt.xlabel('$\\phi$ [Radians]')\n",
    "plt.ylabel('$f(\\phi)$')\n",
    "plt.title('Some Trig Functions')\n",
    "\n",
    "# add a legend; let matplotlib pick the location\n",
    "plt.legend(loc='best')"
   ]
  },
  {
   "cell_type": "markdown",
   "metadata": {
    "slideshow": {
     "slide_type": "subslide"
    }
   },
   "source": [
    "# Saving to a file\n",
    "`matplotlib` provides the `savefig` function, which, unsurprisingly, saves the current plot to a file. You must at least provide a name. The extension determines what type it will output. You'll usually want `.pdf` (almost always the best since it saves as a vector graphic) or `.png` (great for being small and web-friendly).\n",
    "\n",
    "Additional controls are available to `savefig` to specify whitesapce padding. To trim margins as much as possible, add optional keyword argument `bbox_inches = 'tight'`. For bitmap images, you can specify the dots per inch. Higher values mean higher resolution images. For very high resolution, can go wtih `dpi=300`. \n",
    "\n",
    "You can save one figure to multiple formats with multiple calls to `savefig`.\n"
   ]
  },
  {
   "cell_type": "markdown",
   "metadata": {
    "slideshow": {
     "slide_type": "subslide"
    }
   },
   "source": [
    "# Saving our masterpiece"
   ]
  },
  {
   "cell_type": "code",
   "execution_count": null,
   "metadata": {
    "scrolled": false
   },
   "outputs": [],
   "source": [
    "# how many points we want to use; can change to make resolution higher or lower\n",
    "num_points = 1001\n",
    "# left and right end points on the x-axis\n",
    "x_start, x_stop = 0, 4 * np.pi\n",
    "\n",
    "# build up x- and y-values from empty arrays\n",
    "xs = np.linspace(x_start, x_stop, num_points)\n",
    "ys = np.sin(xs)\n",
    "plt.plot(xs, ys, label='$f(\\phi) = \\sin(x)$')\n",
    "\n",
    "# NEW STUFF\n",
    "ys2 = 0.5 * np.sin(0.5 * xs)\n",
    "plt.plot(xs, ys2, ls='--', lw=3, label=r'$f(\\phi) = \\frac{1}{2}\\sin\\left(\\frac{1}{2}x\\right)$')\n",
    "\n",
    "# add labels to axes and a title\n",
    "plt.xlabel('$\\phi$ [Radians]')\n",
    "plt.ylabel('$f(\\phi)$')\n",
    "plt.title('Some Trig Functions')\n",
    "\n",
    "# add a legend; let matplotlib pick the location\n",
    "plt.legend(loc='best')\n",
    "\n",
    "# save to pdf (bbox_inches sets width of \"bounding box\", or how much whitespace to put around the\n",
    "# figure. 'tight' means make it as small as possible)\n",
    "plt.savefig('masterpiece.pdf', bbox_inches='tight')\n",
    "\n",
    "# save to png with 300 dpi (setting dpi is optional, though I don't remember what it defaults to)\n",
    "plt.savefig('masterpiece.png', bbox_inches='tight', dpi=300)"
   ]
  },
  {
   "cell_type": "markdown",
   "metadata": {
    "slideshow": {
     "slide_type": "subslide"
    }
   },
   "source": [
    "# Example: Plotting a sine curve SOLUTION\n",
    "We want to plot a smooth sine curve, but we can only plot series of straight line segments between points, so instead we just need to create A LOT of points. Iteration makes this much easier than hard-coding each point, but it is still tedious."
   ]
  },
  {
   "cell_type": "code",
   "execution_count": null,
   "metadata": {},
   "outputs": [],
   "source": [
    "from math import sin, pi\n",
    "# how many points we want to use; can change to make resolution higher or lower\n",
    "num_points = 1001\n",
    "# left and right end points on the x-axis\n",
    "x_start, x_stop = 0, 4 * np.pi\n",
    "\n",
    "# build up x- and y-values from empty arrays\n",
    "xs, ys = [], []\n",
    "for i in range(num_points):\n",
    "    # get the ith x value; makes sure zeroth is x_star and last is x_stop\n",
    "    new_x = x_start + i * (x_stop - x_start) / (num_points - 1)\n",
    "    new_y = sin(new_x)\n",
    "    xs.append(new_x)\n",
    "    ys.append(new_y)\n",
    "plt.plot(xs, ys)"
   ]
  },
  {
   "cell_type": "markdown",
   "metadata": {
    "slideshow": {
     "slide_type": "subslide"
    }
   },
   "source": [
    "# Challenge: Sine curve revisited SOLUTION\n",
    "Simplify the data synthesis from the previous example by using vectorization. You will probably want to use both `np.linspace` and `np.sin`."
   ]
  },
  {
   "cell_type": "code",
   "execution_count": null,
   "metadata": {},
   "outputs": [],
   "source": [
    "# how many points we want to use; can change to make resolution higher or lower\n",
    "num_points = 1001\n",
    "# left and right end points on the x-axis\n",
    "x_start, x_stop = 0, 4 * np.pi\n",
    "\n",
    "# build up x- and y-values from empty arrays\n",
    "xs = np.linspace(x_start, x_stop, num_points)\n",
    "ys = np.sin(xs)\n",
    "plt.plot(xs, ys)"
   ]
  },
  {
   "cell_type": "markdown",
   "metadata": {
    "slideshow": {
     "slide_type": "subslide"
    }
   },
   "source": [
    "# Example: Adding a Second Dataset SOLUTION\n",
    "To add a second dataset to the same plot, simply call `plot` again in the same cell, likely with different data. For fun, let's add a graph of\n",
    "$$y_2(x) = \\frac{1}{2}\\sin(x/2)$$"
   ]
  },
  {
   "cell_type": "code",
   "execution_count": null,
   "metadata": {},
   "outputs": [],
   "source": [
    "# how many points we want to use; can change to make resolution higher or lower\n",
    "num_points = 1001\n",
    "# left and right end points on the x-axis\n",
    "x_start, x_stop = 0, 4 * np.pi\n",
    "\n",
    "# build up x- and y-values from empty arrays\n",
    "xs = np.linspace(x_start, x_stop, num_points)\n",
    "ys = np.sin(xs)\n",
    "plt.plot(xs, ys)\n",
    "\n",
    "# NEW STUFF\n",
    "ys2 = 0.5 * np.sin(0.5 * xs)\n",
    "plt.plot(xs, ys2)"
   ]
  }
 ],
 "metadata": {
  "celltoolbar": "Slideshow",
  "kernelspec": {
   "display_name": "Python 3",
   "language": "python",
   "name": "python3"
  },
  "language_info": {
   "codemirror_mode": {
    "name": "ipython",
    "version": 3
   },
   "file_extension": ".py",
   "mimetype": "text/x-python",
   "name": "python",
   "nbconvert_exporter": "python",
   "pygments_lexer": "ipython3",
   "version": "3.7.8"
  },
  "rise": {
   "theme": "solarized",
   "transition": "fade"
  }
 },
 "nbformat": 4,
 "nbformat_minor": 4
}
