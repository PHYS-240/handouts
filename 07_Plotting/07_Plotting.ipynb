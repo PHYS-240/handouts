{
 "cells": [
  {
   "cell_type": "markdown",
   "metadata": {
    "nbgrader": {
     "grade": false,
     "grade_id": "cell-5c081c1c48b5095c",
     "locked": true,
     "schema_version": 3,
     "solution": false,
     "task": false
    },
    "slideshow": {
     "slide_type": "slide"
    }
   },
   "source": [
    "---\n",
    "# Plotting\n",
    "\n",
    "### PHYS 240\n",
    "### Dr. Wolf"
   ]
  },
  {
   "cell_type": "markdown",
   "metadata": {
    "slideshow": {
     "slide_type": "slide"
    }
   },
   "source": [
    "# To make basic plots, we will learn the `numpy` and `matplotlib` packages\n",
    "- `numpy` (usually imported as `np`): numerical data and analysis (more in Chapter 6)\n",
    "- `matplotlib`: (usually just the `pyplot` submodule imported as `plt`) all things plotting (Chapter 7)\n",
    "\n",
    "We'll study both in more detail later. Right now, we'll focus on basic synthesis and use of `numpy`'s arrays and `matplotlib.pyplot`'s simplified interface lets us teach you \"enough to be dangerous\"."
   ]
  },
  {
   "cell_type": "markdown",
   "metadata": {
    "slideshow": {
     "slide_type": "subslide"
    }
   },
   "source": [
    "# Baby's first plot\n",
    "`matplotlib's`'s `plot` function takes in two iterables **of equal size** and treats them as the x and y values of a series of points to connect with lines."
   ]
  },
  {
   "cell_type": "code",
   "execution_count": 1,
   "metadata": {
    "slideshow": {
     "slide_type": "skip"
    }
   },
   "outputs": [],
   "source": [
    "import matplotlib.pyplot as plt\n",
    "# This ensures that we use the default look and feel for plots\n",
    "plt.style.use('default')"
   ]
  },
  {
   "cell_type": "code",
   "execution_count": 2,
   "metadata": {},
   "outputs": [
    {
     "data": {
      "text/plain": [
       "[<matplotlib.lines.Line2D at 0x10f8127a0>]"
      ]
     },
     "execution_count": 2,
     "metadata": {},
     "output_type": "execute_result"
    },
    {
     "data": {
      "image/png": "[encoded data removed]",
      "text/plain": [
       "<Figure size 640x480 with 1 Axes>"
      ]
     },
     "metadata": {},
     "output_type": "display_data"
    }
   ],
   "source": [
    "plt.plot([0, 1, 2, 3, 4], [0, 1, 4, 9, 16])"
   ]
  },
  {
   "cell_type": "markdown",
   "metadata": {
    "slideshow": {
     "slide_type": "subslide"
    }
   },
   "source": [
    "# `scatter` works the same, but just shows the points without connecting lines"
   ]
  },
  {
   "cell_type": "code",
   "execution_count": 3,
   "metadata": {},
   "outputs": [
    {
     "data": {
      "text/plain": [
       "<matplotlib.collections.PathCollection at 0x10f914c10>"
      ]
     },
     "execution_count": 3,
     "metadata": {},
     "output_type": "execute_result"
    },
    {
     "data": {
      "image/png": "[encoded data removed]",
      "text/plain": [
       "<Figure size 640x480 with 1 Axes>"
      ]
     },
     "metadata": {},
     "output_type": "display_data"
    }
   ],
   "source": [
    "plt.scatter([0, 1, 2, 3, 4], [0, 1, 4, 9, 16])"
   ]
  },
  {
   "cell_type": "markdown",
   "metadata": {
    "slideshow": {
     "slide_type": "subslide"
    }
   },
   "source": [
    "# Example: Plotting a sine curve (Solution at end)\n",
    "We want to plot a smooth sine curve, but we can only plot series of straight line segments between points, so instead we just need to create A LOT of points. Iteration makes this much easier than hard-coding each point, but it is still tedious.\n",
    "\n",
    "Goal: plot $\\sin(x)$ from $x=0$ to $x = 4\\pi$ with 1001 points, including the end points."
   ]
  },
  {
   "cell_type": "code",
   "execution_count": null,
   "metadata": {},
   "outputs": [],
   "source": [
    "from math import sin, pi\n",
    "### GENERATE THE X AND Y LISTS TO PLOT\n",
    "    \n",
    "### THEN, ACTUALLY PLOT THE DATA\n"
   ]
  },
  {
   "cell_type": "markdown",
   "metadata": {
    "slideshow": {
     "slide_type": "slide"
    }
   },
   "source": [
    "# `numpy` Arrays: Our Long-awaited Savior\n",
    "So far, we've only used the plotting capabilities of `matplotlib` by plotting data in lists. `numpy`'s arrays can make working with the data we want to plot **much** easier. We will exclusively import `numpy` as `np`, which is standard in the python community.\n",
    "\n",
    "`numpy` arrays are iterables with the following constraints\n",
    "- All elements must be of the same type (all floats, all ints, etc.)\n",
    "- They cannot be easily resized (no append, remove, etc.)"
   ]
  },
  {
   "cell_type": "markdown",
   "metadata": {
    "slideshow": {
     "slide_type": "subslide"
    }
   },
   "source": [
    "# The payoff: Vectorization\n",
    "What we get in return, though, is **vectorization**. This means that if `ary` is a `numpy` array, we can do the following:\n",
    "- `ary * 2.0` returns a new array where each element is twice the corresponding element of `ary`\n",
    "- `ary * ary` returns a new array where each element is the square of the corresponding element of `ary`\n",
    "- `np.sin(ary)` returns a new array where each element is the sine of the corresponding element of `ary`\n",
    "\n",
    "Note that in the last example, we had to use `numpy`'s version of `sin`. It has some special sauce that allows it to work on arrays *or* scalars, so **there's really no reason to use the `math` module any more**."
   ]
  },
  {
   "cell_type": "markdown",
   "metadata": {
    "slideshow": {
     "slide_type": "subslide"
    }
   },
   "source": [
    "# Generating `numpy` arrays\n",
    "The most straightforward way to create `numpy` arrays is to just cast an iterable into an `array` using `numpy`'s `array` constructor:"
   ]
  },
  {
   "cell_type": "code",
   "execution_count": 4,
   "metadata": {},
   "outputs": [
    {
     "name": "stdout",
     "output_type": "stream",
     "text": [
      "[0 1 2 3 4] <class 'numpy.ndarray'>\n",
      "[ 0  1  4  9 16] <class 'numpy.ndarray'>\n"
     ]
    }
   ],
   "source": [
    "import numpy as np\n",
    "xs = np.array([0, 1, 2, 3, 4])\n",
    "ys = xs**2\n",
    "print(xs, type(xs))\n",
    "print(ys, type(ys))"
   ]
  },
  {
   "cell_type": "markdown",
   "metadata": {
    "slideshow": {
     "slide_type": "subslide"
    }
   },
   "source": [
    "# Create evenly-spaced data with `np.linspace`\n",
    "So sometimes you really do need the whole `append` strategy at first, but then you can cast to a `numpy` array and get the best of both worlds. However, for the case of making a large number of evenly spaced values, `numpy` has a much more elegant solution: `linspace`. It takes three arguments: a starting value, an ending value, and a number of desired points in between. **Unlike many other iterable generators, `linspace` DOES INCLUDE THE END POINT**."
   ]
  },
  {
   "cell_type": "code",
   "execution_count": 5,
   "metadata": {},
   "outputs": [
    {
     "name": "stdout",
     "output_type": "stream",
     "text": [
      "The first element of xs is 0.0, the last element is 4.0000, and it has 1001 elements.\n"
     ]
    }
   ],
   "source": [
    "num_points = 1001\n",
    "xs = np.linspace(0, 4, num_points)\n",
    "print(f\"The first element of xs is {xs[0]:.1f}, the last element is {xs[-1]:.4f}, and it has {len(xs):d} elements.\")"
   ]
  },
  {
   "cell_type": "markdown",
   "metadata": {
    "slideshow": {
     "slide_type": "subslide"
    }
   },
   "source": [
    "# Challenge: Sine curve revisited (Solution at end)\n",
    "Simplify the data synthesis from the previous example by using vectorization. You will probably want to use both `np.linspace` and `np.sin`."
   ]
  },
  {
   "cell_type": "code",
   "execution_count": 6,
   "metadata": {},
   "outputs": [
    {
     "ename": "ValueError",
     "evalue": "x and y must have same first dimension, but have shapes (1001,) and (5,)",
     "output_type": "error",
     "traceback": [
      "\u001b[0;31m---------------------------------------------------------------------------\u001b[0m",
      "\u001b[0;31mValueError\u001b[0m                                Traceback (most recent call last)",
      "Cell \u001b[0;32mIn[6], line 7\u001b[0m\n\u001b[1;32m      2\u001b[0m num_points \u001b[38;5;241m=\u001b[39m \u001b[38;5;241m1001\u001b[39m\n\u001b[1;32m      4\u001b[0m \u001b[38;5;66;03m### GENERATE X AND Y DATA IN TWO ARRAYS CALLED xs AND ys\u001b[39;00m\n\u001b[1;32m      5\u001b[0m \n\u001b[1;32m      6\u001b[0m \u001b[38;5;66;03m### Plotting step is the same\u001b[39;00m\n\u001b[0;32m----> 7\u001b[0m \u001b[43mplt\u001b[49m\u001b[38;5;241;43m.\u001b[39;49m\u001b[43mplot\u001b[49m\u001b[43m(\u001b[49m\u001b[43mxs\u001b[49m\u001b[43m,\u001b[49m\u001b[43m \u001b[49m\u001b[43mys\u001b[49m\u001b[43m)\u001b[49m\n",
      "File \u001b[0;32m~/mambaforge/envs/conda-forge/lib/python3.10/site-packages/matplotlib/pyplot.py:3578\u001b[0m, in \u001b[0;36mplot\u001b[0;34m(scalex, scaley, data, *args, **kwargs)\u001b[0m\n\u001b[1;32m   3570\u001b[0m \u001b[38;5;129m@_copy_docstring_and_deprecators\u001b[39m(Axes\u001b[38;5;241m.\u001b[39mplot)\n\u001b[1;32m   3571\u001b[0m \u001b[38;5;28;01mdef\u001b[39;00m \u001b[38;5;21mplot\u001b[39m(\n\u001b[1;32m   3572\u001b[0m     \u001b[38;5;241m*\u001b[39margs: \u001b[38;5;28mfloat\u001b[39m \u001b[38;5;241m|\u001b[39m ArrayLike \u001b[38;5;241m|\u001b[39m \u001b[38;5;28mstr\u001b[39m,\n\u001b[0;32m   (...)\u001b[0m\n\u001b[1;32m   3576\u001b[0m     \u001b[38;5;241m*\u001b[39m\u001b[38;5;241m*\u001b[39mkwargs,\n\u001b[1;32m   3577\u001b[0m ) \u001b[38;5;241m-\u001b[39m\u001b[38;5;241m>\u001b[39m \u001b[38;5;28mlist\u001b[39m[Line2D]:\n\u001b[0;32m-> 3578\u001b[0m     \u001b[38;5;28;01mreturn\u001b[39;00m \u001b[43mgca\u001b[49m\u001b[43m(\u001b[49m\u001b[43m)\u001b[49m\u001b[38;5;241;43m.\u001b[39;49m\u001b[43mplot\u001b[49m\u001b[43m(\u001b[49m\n\u001b[1;32m   3579\u001b[0m \u001b[43m        \u001b[49m\u001b[38;5;241;43m*\u001b[39;49m\u001b[43margs\u001b[49m\u001b[43m,\u001b[49m\n\u001b[1;32m   3580\u001b[0m \u001b[43m        \u001b[49m\u001b[43mscalex\u001b[49m\u001b[38;5;241;43m=\u001b[39;49m\u001b[43mscalex\u001b[49m\u001b[43m,\u001b[49m\n\u001b[1;32m   3581\u001b[0m \u001b[43m        \u001b[49m\u001b[43mscaley\u001b[49m\u001b[38;5;241;43m=\u001b[39;49m\u001b[43mscaley\u001b[49m\u001b[43m,\u001b[49m\n\u001b[1;32m   3582\u001b[0m \u001b[43m        \u001b[49m\u001b[38;5;241;43m*\u001b[39;49m\u001b[38;5;241;43m*\u001b[39;49m\u001b[43m(\u001b[49m\u001b[43m{\u001b[49m\u001b[38;5;124;43m\"\u001b[39;49m\u001b[38;5;124;43mdata\u001b[39;49m\u001b[38;5;124;43m\"\u001b[39;49m\u001b[43m:\u001b[49m\u001b[43m \u001b[49m\u001b[43mdata\u001b[49m\u001b[43m}\u001b[49m\u001b[43m \u001b[49m\u001b[38;5;28;43;01mif\u001b[39;49;00m\u001b[43m \u001b[49m\u001b[43mdata\u001b[49m\u001b[43m \u001b[49m\u001b[38;5;129;43;01mis\u001b[39;49;00m\u001b[43m \u001b[49m\u001b[38;5;129;43;01mnot\u001b[39;49;00m\u001b[43m \u001b[49m\u001b[38;5;28;43;01mNone\u001b[39;49;00m\u001b[43m \u001b[49m\u001b[38;5;28;43;01melse\u001b[39;49;00m\u001b[43m \u001b[49m\u001b[43m{\u001b[49m\u001b[43m}\u001b[49m\u001b[43m)\u001b[49m\u001b[43m,\u001b[49m\n\u001b[1;32m   3583\u001b[0m \u001b[43m        \u001b[49m\u001b[38;5;241;43m*\u001b[39;49m\u001b[38;5;241;43m*\u001b[39;49m\u001b[43mkwargs\u001b[49m\u001b[43m,\u001b[49m\n\u001b[1;32m   3584\u001b[0m \u001b[43m    \u001b[49m\u001b[43m)\u001b[49m\n",
      "File \u001b[0;32m~/mambaforge/envs/conda-forge/lib/python3.10/site-packages/matplotlib/axes/_axes.py:1721\u001b[0m, in \u001b[0;36mAxes.plot\u001b[0;34m(self, scalex, scaley, data, *args, **kwargs)\u001b[0m\n\u001b[1;32m   1478\u001b[0m \u001b[38;5;250m\u001b[39m\u001b[38;5;124;03m\"\"\"\u001b[39;00m\n\u001b[1;32m   1479\u001b[0m \u001b[38;5;124;03mPlot y versus x as lines and/or markers.\u001b[39;00m\n\u001b[1;32m   1480\u001b[0m \n\u001b[0;32m   (...)\u001b[0m\n\u001b[1;32m   1718\u001b[0m \u001b[38;5;124;03m(``'green'``) or hex strings (``'#008000'``).\u001b[39;00m\n\u001b[1;32m   1719\u001b[0m \u001b[38;5;124;03m\"\"\"\u001b[39;00m\n\u001b[1;32m   1720\u001b[0m kwargs \u001b[38;5;241m=\u001b[39m cbook\u001b[38;5;241m.\u001b[39mnormalize_kwargs(kwargs, mlines\u001b[38;5;241m.\u001b[39mLine2D)\n\u001b[0;32m-> 1721\u001b[0m lines \u001b[38;5;241m=\u001b[39m [\u001b[38;5;241m*\u001b[39m\u001b[38;5;28mself\u001b[39m\u001b[38;5;241m.\u001b[39m_get_lines(\u001b[38;5;28mself\u001b[39m, \u001b[38;5;241m*\u001b[39margs, data\u001b[38;5;241m=\u001b[39mdata, \u001b[38;5;241m*\u001b[39m\u001b[38;5;241m*\u001b[39mkwargs)]\n\u001b[1;32m   1722\u001b[0m \u001b[38;5;28;01mfor\u001b[39;00m line \u001b[38;5;129;01min\u001b[39;00m lines:\n\u001b[1;32m   1723\u001b[0m     \u001b[38;5;28mself\u001b[39m\u001b[38;5;241m.\u001b[39madd_line(line)\n",
      "File \u001b[0;32m~/mambaforge/envs/conda-forge/lib/python3.10/site-packages/matplotlib/axes/_base.py:303\u001b[0m, in \u001b[0;36m_process_plot_var_args.__call__\u001b[0;34m(self, axes, data, *args, **kwargs)\u001b[0m\n\u001b[1;32m    301\u001b[0m     this \u001b[38;5;241m+\u001b[39m\u001b[38;5;241m=\u001b[39m args[\u001b[38;5;241m0\u001b[39m],\n\u001b[1;32m    302\u001b[0m     args \u001b[38;5;241m=\u001b[39m args[\u001b[38;5;241m1\u001b[39m:]\n\u001b[0;32m--> 303\u001b[0m \u001b[38;5;28;01myield from\u001b[39;00m \u001b[38;5;28;43mself\u001b[39;49m\u001b[38;5;241;43m.\u001b[39;49m\u001b[43m_plot_args\u001b[49m\u001b[43m(\u001b[49m\n\u001b[1;32m    304\u001b[0m \u001b[43m    \u001b[49m\u001b[43maxes\u001b[49m\u001b[43m,\u001b[49m\u001b[43m \u001b[49m\u001b[43mthis\u001b[49m\u001b[43m,\u001b[49m\u001b[43m \u001b[49m\u001b[43mkwargs\u001b[49m\u001b[43m,\u001b[49m\u001b[43m \u001b[49m\u001b[43mambiguous_fmt_datakey\u001b[49m\u001b[38;5;241;43m=\u001b[39;49m\u001b[43mambiguous_fmt_datakey\u001b[49m\u001b[43m)\u001b[49m\n",
      "File \u001b[0;32m~/mambaforge/envs/conda-forge/lib/python3.10/site-packages/matplotlib/axes/_base.py:499\u001b[0m, in \u001b[0;36m_process_plot_var_args._plot_args\u001b[0;34m(self, axes, tup, kwargs, return_kwargs, ambiguous_fmt_datakey)\u001b[0m\n\u001b[1;32m    496\u001b[0m     axes\u001b[38;5;241m.\u001b[39myaxis\u001b[38;5;241m.\u001b[39mupdate_units(y)\n\u001b[1;32m    498\u001b[0m \u001b[38;5;28;01mif\u001b[39;00m x\u001b[38;5;241m.\u001b[39mshape[\u001b[38;5;241m0\u001b[39m] \u001b[38;5;241m!=\u001b[39m y\u001b[38;5;241m.\u001b[39mshape[\u001b[38;5;241m0\u001b[39m]:\n\u001b[0;32m--> 499\u001b[0m     \u001b[38;5;28;01mraise\u001b[39;00m \u001b[38;5;167;01mValueError\u001b[39;00m(\u001b[38;5;124mf\u001b[39m\u001b[38;5;124m\"\u001b[39m\u001b[38;5;124mx and y must have same first dimension, but \u001b[39m\u001b[38;5;124m\"\u001b[39m\n\u001b[1;32m    500\u001b[0m                      \u001b[38;5;124mf\u001b[39m\u001b[38;5;124m\"\u001b[39m\u001b[38;5;124mhave shapes \u001b[39m\u001b[38;5;132;01m{\u001b[39;00mx\u001b[38;5;241m.\u001b[39mshape\u001b[38;5;132;01m}\u001b[39;00m\u001b[38;5;124m and \u001b[39m\u001b[38;5;132;01m{\u001b[39;00my\u001b[38;5;241m.\u001b[39mshape\u001b[38;5;132;01m}\u001b[39;00m\u001b[38;5;124m\"\u001b[39m)\n\u001b[1;32m    501\u001b[0m \u001b[38;5;28;01mif\u001b[39;00m x\u001b[38;5;241m.\u001b[39mndim \u001b[38;5;241m>\u001b[39m \u001b[38;5;241m2\u001b[39m \u001b[38;5;129;01mor\u001b[39;00m y\u001b[38;5;241m.\u001b[39mndim \u001b[38;5;241m>\u001b[39m \u001b[38;5;241m2\u001b[39m:\n\u001b[1;32m    502\u001b[0m     \u001b[38;5;28;01mraise\u001b[39;00m \u001b[38;5;167;01mValueError\u001b[39;00m(\u001b[38;5;124mf\u001b[39m\u001b[38;5;124m\"\u001b[39m\u001b[38;5;124mx and y can be no greater than 2D, but have \u001b[39m\u001b[38;5;124m\"\u001b[39m\n\u001b[1;32m    503\u001b[0m                      \u001b[38;5;124mf\u001b[39m\u001b[38;5;124m\"\u001b[39m\u001b[38;5;124mshapes \u001b[39m\u001b[38;5;132;01m{\u001b[39;00mx\u001b[38;5;241m.\u001b[39mshape\u001b[38;5;132;01m}\u001b[39;00m\u001b[38;5;124m and \u001b[39m\u001b[38;5;132;01m{\u001b[39;00my\u001b[38;5;241m.\u001b[39mshape\u001b[38;5;132;01m}\u001b[39;00m\u001b[38;5;124m\"\u001b[39m)\n",
      "\u001b[0;31mValueError\u001b[0m: x and y must have same first dimension, but have shapes (1001,) and (5,)"
     ]
    },
    {
     "data": {
      "image/png": "[encoded data removed]",
      "text/plain": [
       "<Figure size 640x480 with 1 Axes>"
      ]
     },
     "metadata": {},
     "output_type": "display_data"
    }
   ],
   "source": [
    "# how many points we want to use; can change to make resolution higher or lower\n",
    "num_points = 1001\n",
    "\n",
    "### GENERATE X AND Y DATA IN TWO ARRAYS CALLED xs AND ys\n",
    "\n",
    "### Plotting step is the same\n",
    "plt.plot(xs, ys)"
   ]
  },
  {
   "cell_type": "markdown",
   "metadata": {
    "slideshow": {
     "slide_type": "subslide"
    }
   },
   "source": [
    "# Example: Adding a Second Dataset (Solution at end)\n",
    "To add a second dataset to the same plot, simply call `plot` again in the same cell, likely with different data. For fun, let's add a graph of\n",
    "$$y_2(x) = \\frac{1}{2}\\sin(x/2)$$\n",
    "over the same domain."
   ]
  },
  {
   "cell_type": "code",
   "execution_count": null,
   "metadata": {},
   "outputs": [],
   "source": [
    "### USE SAME xs FROM BEFORE, BUT GENERATE NEW ys2; THEN PLOT BOTH ys AND ys2 AGAINST xs\n"
   ]
  },
  {
   "cell_type": "markdown",
   "metadata": {
    "slideshow": {
     "slide_type": "subslide"
    }
   },
   "source": [
    "# `matplotlib` automatically cycles through many colors, but you can customize this in the call to `plot`\n",
    "You should usually stick to the default collection of matplotlib colors, which are labeled as `\"C0\"` through `\"C9\"`.\n",
    "\n",
    "You can also customize the \n",
    "- line width (`lw=`; best to keep it above 1.5 pt)\n",
    "- line style (`ls=`; dashed, dotted, etc.)\n",
    "- label that would appear in a legend (`label=`)\n",
    "- symbols to be plotted at actual data points (`marker=`; creates symbols `scatter`-style)\n",
    "within the call to `plot`.\n",
    "\n",
    "There are **many** optional keyword arguments that you will mostly look up since going over each and every one is not a great way to learn them."
   ]
  },
  {
   "cell_type": "code",
   "execution_count": null,
   "metadata": {},
   "outputs": [],
   "source": [
    "xs = np.linspace(0, 4 * np.pi, 100)\n",
    "ys = np.sin(xs)\n",
    "plt.plot(xs, ys, lw=2, ls=\"--\", color=\"C1\", marker=\"^\", label=\"Sine\")"
   ]
  },
  {
   "cell_type": "markdown",
   "metadata": {
    "slideshow": {
     "slide_type": "subslide"
    }
   },
   "source": [
    "# Extended Example: Double-Encoding the Second Dataset\n",
    "Now let's double encode the second series. To **double encode**, we mean that there is more than one characteristic that distinguishes the two series. Typically this means having a different color *and* linestyle (ex. solid vs. dashed). We might also vary the thickness of the lines if that is helpful."
   ]
  },
  {
   "cell_type": "code",
   "execution_count": null,
   "metadata": {},
   "outputs": [],
   "source": [
    "# how many points we want to use; can change to make resolution higher or lower\n",
    "num_points = 1001\n",
    "# left and right end points on the x-axis\n",
    "x_start, x_stop = 0, 4 * np.pi\n",
    "\n",
    "# build up x- and y-values from empty arrays\n",
    "xs = np.linspace(x_start, x_stop, num_points)\n",
    "ys = np.sin(xs)\n",
    "ys2 = 0.5 * np.sin(0.5 * xs)\n",
    "\n",
    "plt.plot(xs, ys)\n",
    "\n",
    "# NEW STUFF\n",
    "# double-encode linestyles\n",
    "plt.plot(xs, ys2)"
   ]
  },
  {
   "cell_type": "markdown",
   "metadata": {
    "slideshow": {
     "slide_type": "slide"
    }
   },
   "source": [
    "# Legends, Labels, and Limits\n",
    "To place a legend, we can use `matplotlib`'s `legend` function **after** we have plotted all datasets we want to appear in the legend **and** specified a `label` in each call to `plot` or `scatter`. Specify the position of the legend with an integer code or string as the sole argument to `legend` (see table 3.1 in Hill).\n",
    "\n",
    "We can (and should!) add labels to our axes, and even a title using the `xlabel`, `ylabel`, and `title` commands, which take a string as an argument. $\\rm\\LaTeX$ is allowed and encouraged! Make your plots pretty!\n",
    "\n",
    "We can also explicitly set the limits of the *x*- and *y*-axes using `xlim` and `ylim`, which take two numbers as arguments, indicating the left and right endpoints. You can use this to invert an axis (have it increasing to the left/bottom)."
   ]
  },
  {
   "cell_type": "markdown",
   "metadata": {
    "slideshow": {
     "slide_type": "subslide"
    }
   },
   "source": [
    "# Further Extended Example"
   ]
  },
  {
   "cell_type": "code",
   "execution_count": null,
   "metadata": {},
   "outputs": [],
   "source": [
    "# how many points we want to use; can change to make resolution higher or lower\n",
    "num_points = 1001\n",
    "# left and right end points on the x-axis\n",
    "x_start, x_stop = 0, 4 * np.pi\n",
    "\n",
    "# build up x- and y-values from empty arrays\n",
    "xs = np.linspace(x_start, x_stop, num_points)\n",
    "ys = np.sin(xs)\n",
    "plt.plot(xs, ys, label='$f(\\phi) = \\sin(x)$')\n",
    "\n",
    "# create second series and plot it\n",
    "ys2 = 0.5 * np.sin(0.5 * xs)\n",
    "# notice the RAW STRING (\"r\" BEFORE the quotes).\n",
    "# This makes it so curly braces are just plain curly braces\n",
    "plt.plot(xs, ys2, ls='--', lw=3, label=r'$f(\\phi) = \\frac{1}{2}\\sin\\left(\\frac{1}{2}x\\right)$')\n",
    "\n",
    "# NEW STUFF\n",
    "# add labels to axes and a title\n",
    "\n",
    "# add a legend; let matplotlib pick the location\n"
   ]
  },
  {
   "cell_type": "markdown",
   "metadata": {
    "slideshow": {
     "slide_type": "subslide"
    }
   },
   "source": [
    "# Saving to a file\n",
    "`matplotlib` provides the `savefig` function, which, unsurprisingly, saves the current plot to a file. You must at least provide a name. The extension determines what type it will output. You'll usually want `.pdf` (almost always the best since it saves as a vector graphic) or `.png` (great for being small and web-friendly).\n",
    "\n",
    "Additional controls are available to `savefig` to specify whitesapce padding. To trim margins as much as possible, add optional keyword argument `bbox_inches = 'tight'`. For bitmap images, you can specify the dots per inch. Higher values mean higher resolution images. For very high resolution, can go wtih `dpi=300`. \n",
    "\n",
    "You can save one figure to multiple formats with multiple calls to `savefig`.\n"
   ]
  },
  {
   "cell_type": "markdown",
   "metadata": {
    "slideshow": {
     "slide_type": "subslide"
    }
   },
   "source": [
    "# Saving our masterpiece"
   ]
  },
  {
   "cell_type": "code",
   "execution_count": null,
   "metadata": {},
   "outputs": [],
   "source": [
    "# how many points we want to use; can change to make resolution higher or lower\n",
    "num_points = 1001\n",
    "# left and right end points on the x-axis\n",
    "x_start, x_stop = 0, 4 * np.pi\n",
    "\n",
    "# build up x- and y-values from empty arrays\n",
    "xs = np.linspace(x_start, x_stop, num_points)\n",
    "ys = np.sin(xs)\n",
    "plt.plot(xs, ys, label='$f(\\phi) = \\sin(x)$')\n",
    "\n",
    "# create new series and plot it\n",
    "ys2 = 0.5 * np.sin(0.5 * xs)\n",
    "plt.plot(xs, ys2, ls='--', lw=3, label=r'$f(\\phi) = \\frac{1}{2}\\sin\\left(\\frac{1}{2}x\\right)$')\n",
    "\n",
    "# add labels to axes and a title\n",
    "plt.xlabel('$\\phi$ [Radians]')\n",
    "plt.ylabel('$f(\\phi)$')\n",
    "plt.title('Some Trig Functions')\n",
    "\n",
    "# add a legend; let matplotlib pick the location\n",
    "plt.legend(loc='best')\n",
    "\n",
    "# NEW STUFF\n",
    "# save to pdf (bbox_inches sets width of \"bounding box\", or how much whitespace to put around the\n",
    "# figure. 'tight' means make it as small as possible)\n",
    "\n",
    "# save to png with 300 dpi (setting dpi is optional, though I don't remember what it defaults to)\n"
   ]
  },
  {
   "cell_type": "markdown",
   "metadata": {
    "slideshow": {
     "slide_type": "slide"
    }
   },
   "source": [
    "# Final Thoughts: Font Sizes\n",
    "As you design a figure, you may wish that the text was bigger in your labels. While there are ways to manually change the font size, **don't use them**. Instead, shrink your overall figure using `plt.figure(figsize=(WIDTH, HEIGHT)` before you start plotting. The width and height are assumed to be in inches.\n",
    "\n",
    "This may seem counter-intuitive, but by shrinking the figure, the \"small\" text appears much larger relative to other elements. We'll talk more about this in the next class meeting."
   ]
  },
  {
   "cell_type": "markdown",
   "metadata": {
    "slideshow": {
     "slide_type": "skip"
    }
   },
   "source": [
    "# Example: Plotting a sine curve SOLUTION\n",
    "We want to plot a smooth sine curve, but we can only plot series of straight line segments between points, so instead we just need to create A LOT of points. Iteration makes this much easier than hard-coding each point, but it is still tedious."
   ]
  },
  {
   "cell_type": "code",
   "execution_count": null,
   "metadata": {
    "slideshow": {
     "slide_type": "skip"
    }
   },
   "outputs": [],
   "source": [
    "from math import sin, pi\n",
    "# how many points we want to use; can change to make resolution higher or lower\n",
    "num_points = 1001\n",
    "# left and right end points on the x-axis\n",
    "x_start, x_stop = 0, 4 * np.pi\n",
    "\n",
    "# build up x- and y-values from empty arrays\n",
    "xs, ys = [], []\n",
    "for i in range(num_points):\n",
    "    # get the ith x value; makes sure zeroth is x_star and last is x_stop\n",
    "    new_x = x_start + i * (x_stop - x_start) / (num_points - 1)\n",
    "    new_y = sin(new_x)\n",
    "    xs.append(new_x)\n",
    "    ys.append(new_y)\n",
    "plt.plot(xs, ys)"
   ]
  },
  {
   "cell_type": "markdown",
   "metadata": {
    "slideshow": {
     "slide_type": "skip"
    }
   },
   "source": [
    "# Challenge: Sine curve revisited SOLUTION\n",
    "Simplify the data synthesis from the previous example by using vectorization. You will probably want to use both `np.linspace` and `np.sin`."
   ]
  },
  {
   "cell_type": "code",
   "execution_count": null,
   "metadata": {
    "slideshow": {
     "slide_type": "skip"
    }
   },
   "outputs": [],
   "source": [
    "# how many points we want to use; can change to make resolution higher or lower\n",
    "num_points = 1001\n",
    "# left and right end points on the x-axis\n",
    "x_start, x_stop = 0, 4 * np.pi\n",
    "\n",
    "# build up x- and y-values from empty arrays\n",
    "xs = np.linspace(x_start, x_stop, num_points)\n",
    "ys = np.sin(xs)\n",
    "plt.plot(xs, ys)"
   ]
  },
  {
   "cell_type": "markdown",
   "metadata": {
    "slideshow": {
     "slide_type": "skip"
    }
   },
   "source": [
    "# Example: Adding a Second Dataset SOLUTION\n",
    "To add a second dataset to the same plot, simply call `plot` again in the same cell, likely with different data. For fun, let's add a graph of\n",
    "$$y_2(x) = \\frac{1}{2}\\sin(x/2)$$"
   ]
  },
  {
   "cell_type": "code",
   "execution_count": null,
   "metadata": {
    "slideshow": {
     "slide_type": "skip"
    }
   },
   "outputs": [],
   "source": [
    "# how many points we want to use; can change to make resolution higher or lower\n",
    "num_points = 1001\n",
    "# left and right end points on the x-axis\n",
    "x_start, x_stop = 0, 4 * np.pi\n",
    "\n",
    "# build up x- and y-values from empty arrays\n",
    "xs = np.linspace(x_start, x_stop, num_points)\n",
    "ys = np.sin(xs)\n",
    "plt.plot(xs, ys)\n",
    "\n",
    "# NEW STUFF\n",
    "ys2 = 0.5 * np.sin(0.5 * xs)\n",
    "plt.plot(xs, ys2)"
   ]
  }
 ],
 "metadata": {
  "celltoolbar": "Slideshow",
  "kernelspec": {
   "display_name": "Python 3 (ipykernel)",
   "language": "python",
   "name": "python3"
  },
  "language_info": {
   "codemirror_mode": {
    "name": "ipython",
    "version": 3
   },
   "file_extension": ".py",
   "mimetype": "text/x-python",
   "name": "python",
   "nbconvert_exporter": "python",
   "pygments_lexer": "ipython3",
   "version": "3.10.12"
  },
  "rise": {
   "theme": "solarized",
   "transition": "fade"
  }
 },
 "nbformat": 4,
 "nbformat_minor": 4
}
