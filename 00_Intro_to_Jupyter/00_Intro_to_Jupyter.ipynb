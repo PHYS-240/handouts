{
 "cells": [
  {
   "cell_type": "markdown",
   "metadata": {
    "cell_style": "center",
    "slideshow": {
     "slide_type": "slide"
    }
   },
   "source": [
    "# Introduction to Jupyter Notebooks <em style=\"color: Gray;\">(Hill 5.2)<em>\n",
    "### PHYS 240\n",
    "### Dr. Wolf"
   ]
  },
  {
   "cell_type": "markdown",
   "metadata": {
    "slideshow": {
     "slide_type": "slide"
    }
   },
   "source": [
    "# \"Jupyter\" is a portmanteau of three languages: Julia, Python, and R\n",
    "<img alt=\"Jupyter Logo\" align=\"right\" src=\"jupyter_logo.png\" height=\"300px\" width=\"300px\" style=\"display: block; margin-left: auto; margin-right: auto; float: right;\">    In short, Jupyter is a suite of tools that makes writing and disseminating code easy, particularly for applications in the sciences and education.\n",
    "\n",
    "The most famous tool is the **Jupyter Notebook**, which combines code, data, visualizations, and rich text to create a new type of document."
   ]
  },
  {
   "cell_type": "markdown",
   "metadata": {
    "slideshow": {
     "slide_type": "subslide"
    }
   },
   "source": [
    "# CoCalc is a service that provides access to Jupyter notebooks (and much, much more)\n",
    "<img alt=\"CoCalc Logo\" align=\"right\" src=\"cocalc_logo.png\" width=\"280px\" style=\"display: block; margin-left: auto; margin-right: auto; float: right;\"> Main job is to spin up virtual machines that run a tiny Linux operating system. For us: makes it easy to distribute, collect, grade, and return Jupyter notebook assignments rather than doing a dance between another Jupyter notebook tool and Canvas.\n",
    "\n",
    "### Other ways to create/edit Jupyter Notebooks\n",
    "- On a computer: Anaconda is a free python distribution that comes with Jupyter (on Phillips 225 lab computers; you can install on your own)\n",
    "- On an iPad: Juno app (others, too)\n",
    "- On the web\n",
    "    - Google CoLab\n",
    "    - Deepnote\n",
    "    - Others come and go... google \"Jupyter notebook free\""
   ]
  },
  {
   "cell_type": "markdown",
   "metadata": {
    "slideshow": {
     "slide_type": "slide"
    }
   },
   "source": [
    "# Jupyter notebooks are comprised of many cells\n",
    "<center>\n",
    "<img alt=\"Multiple Cell Notebook\" src=multiple_cells.png>\n",
    "</center>\n",
    "\n",
    "- Selected cell has <span style=\"color: blue;\">blue</span> hightlight: <strong style=\"color: blue;\">edit mode</strong> (press `Esc` to leave)\n",
    "- Selected cell has <span style=\"color: green;\">green</span> highlight: <strong style=\"color: green;\">command mode</strong> (press `Enter` to edit)"
   ]
  },
  {
   "cell_type": "markdown",
   "metadata": {
    "slideshow": {
     "slide_type": "subslide"
    }
   },
   "source": [
    "# Jupyter notebooks are comprised of many cells\n",
    "\n",
    "Cells can have three types:\n",
    "1. Code: contains one or more lines of python code\n",
    "2. Markdown: Text written in the markdown \"language\" to be formatted and used to convey information\n",
    "3. Raw: Just plain old text. No formatting of any kind.\n",
    "\n",
    "You can execute a cell (make it \"do its thing\") by pressing the \"Run\" button in the toolbar, or more often by pressing `Shift-Enter`, which executes the cell and advances to the next cell."
   ]
  },
  {
   "cell_type": "markdown",
   "metadata": {
    "slideshow": {
     "slide_type": "slide"
    }
   },
   "source": [
    "# Code Cells Contain Python Code\n",
    "_Or technically a whole bunch of other languages, but in this class, just Python_\n",
    "\n",
    "<b class=\"text-secondary shadow\">Challenge:</b>  Execute the following cell by selecting it (clicking on it so it is highlighted), and then clicking on the \"Run\" button."
   ]
  },
  {
   "cell_type": "code",
   "execution_count": 1,
   "metadata": {
    "slideshow": {
     "slide_type": "-"
    }
   },
   "outputs": [
    {
     "name": "stdout",
     "output_type": "stream",
     "text": [
      "Hello, World!\n"
     ]
    }
   ],
   "source": [
    "print(\"Hello, World!\") "
   ]
  },
  {
   "cell_type": "markdown",
   "metadata": {
    "slideshow": {
     "slide_type": "fragment"
    }
   },
   "source": [
    "<b class=\"text-secondary shadow\">Challenge:</b> Execute the following cell by selecting it and then pressing `Shift-Enter`"
   ]
  },
  {
   "cell_type": "code",
   "execution_count": 2,
   "metadata": {},
   "outputs": [
    {
     "name": "stdout",
     "output_type": "stream",
     "text": [
      "Goodbye, World!\n"
     ]
    }
   ],
   "source": [
    "print(\"Goodbye, World!\")"
   ]
  },
  {
   "cell_type": "markdown",
   "metadata": {
    "slideshow": {
     "slide_type": "subslide"
    }
   },
   "source": [
    "# Code Cells can be Exectued Multiple Times\n",
    "If you need to modify code and re-run it, you can edit and execute just a single cell over again. All other cells can be left unchanged (though they won't know about any changes until you re-execute them, too).\n",
    "\n",
    "<b class=\"text-secondary shadow\">Challenge:</b> Execute this cell, then replace `generic student` with your name, and execute it again. Ensure that it greets you properly."
   ]
  },
  {
   "cell_type": "code",
   "execution_count": 6,
   "metadata": {},
   "outputs": [
    {
     "name": "stdout",
     "output_type": "stream",
     "text": [
      "Greetings, students!\n"
     ]
    }
   ],
   "source": [
    "print(\"Greetings, students!\")"
   ]
  },
  {
   "cell_type": "markdown",
   "metadata": {
    "slideshow": {
     "slide_type": "slide"
    }
   },
   "source": [
    "# Markdown Cells Let You Explain Code, Write Mathematics, Display Lists and Tables, Images...\n",
    "\n",
    "- Markdown: surprisingly readable syntax\n",
    "- Meant to be quick way to type things for the web and for non-coding folks\n",
    "- When you \"execute\" it, it is compiled to equivalent html and rendered\n",
    "- Need something markdown can't do? You can mix in raw html, if you know it! (but you don't need to know any html for this class)\n",
    "\n",
    "<b class=\"text-secondary shadow\">Challenge:</b> Look at the next cell in edit mode before executing it to get an idea of some basic Markdown syntax."
   ]
  },
  {
   "cell_type": "markdown",
   "metadata": {
    "cell_style": "split",
    "slideshow": {
     "slide_type": "subslide"
    }
   },
   "source": [
    "# Heading\n",
    "### Smaller Heading\n",
    "*italic* _italic_\n",
    "\n",
    "**bold** __bold__\n",
    "\n",
    "- unordered\n",
    "    - sub list\n",
    "- list\n",
    "\n",
    "1. ordered\n",
    "1. list"
   ]
  },
  {
   "cell_type": "markdown",
   "metadata": {
    "cell_style": "split",
    "slideshow": {
     "slide_type": "-"
    }
   },
   "source": [
    "> This is a blockquote. Looks nice, eh?\n",
    "\n",
    "| Left Justified | Centered  | Right Justified |\n",
    "|:---------------|:---------:|----------------:|\n",
    "|PHYS 240        | 3 credits | Lecture/Lab     |\n",
    "|PHYS 332        | 3 credits | Lecture         |"
   ]
  },
  {
   "cell_type": "markdown",
   "metadata": {
    "slideshow": {
     "slide_type": "subslide"
    }
   },
   "source": [
    "# We Can Write in $\\rm \\LaTeX$ to Display Mathematics in Markdown\n",
    "- $\\rm \\LaTeX$: a markup langauge that excels in typesetting mathematics\n",
    "- To use $\\rm \\LaTeX$, surround the code in a Markdown cell with dollar signs: \\$`LaTeX code here`\\$\n",
    "- Simple example: `$a^2 + b^2 = c^2$` $\\to a^2 + b^2 = c^2$\n",
    "- More complicated expressions require functions that start with a backslash: `\\`\n",
    "- E.g. Greek letters: forward slash and then their name in English: `$\\alpha$` $\\to \\alpha$\n",
    "- Center equations on their own lines by using two dollar signs on either side: `$$a^2 + b^2 = c^2$$`: $$a^2 + b^2 = c^2$$\n",
    "\n",
    "<em class='text-info shadow'>Pro Tip:</em> Canvas equation editor has an advanced mode which is literally just $\\rm \\LaTeX$"
   ]
  },
  {
   "cell_type": "markdown",
   "metadata": {
    "slideshow": {
     "slide_type": "subslide"
    }
   },
   "source": [
    "# $\\rm \\LaTeX$ Examples\n",
    "- Subscripts: `$x_0$` $\\to x_0$\n",
    "- Subscripts \\[AND\\] Superscripts: `$x_0^2$` $\\to x_0^2$\n",
    "- Special functions: Compare `sin\\phi` $\\to sin\\phi$  versus  `\\sin\\phi` $\\to\\sin\\phi$\n",
    "- Fractions: `$\\frac{x^2 - 1}{x + 1}$` $\\to \\frac{x^2 - 1}{x + 1}$\n",
    "- Radicals: `$\\sqrt{2}$` $\\to \\sqrt{2}$ and `$\\sqrt[3]{2}$` $\\to \\sqrt[3]{2}$\n",
    "- Small spaces: `$\\int f(x)~dx$`$\\to\\int f(x)~dx$ (compare to $\\int f(x) dx$)\n",
    "- \"Roman\" Typeface `$g = 9.81~\\mathrm{m/s^2}$` $\\to g = 9.81~\\,\\mathrm{m/s^2}$ (compare to $g = 9.81~m/s^2$)\n",
    "\n",
    "<b class=\"text-info shadow\">Note:</b> $\\rm \\LaTeX$ functions and operators (like `^`) expect arguments to come in curly braces: `$\\sqrt{2}$`. Some functions also have optional arguments that you often don't need, and these go in square brackets, usually before the curly braces: `$\\sqrt[3]{2}$`.\n",
    "\n",
    "Without braces, the next _character_ is assumed to be the argument."
   ]
  },
  {
   "cell_type": "markdown",
   "metadata": {
    "slideshow": {
     "slide_type": "subslide"
    }
   },
   "source": [
    "# <b class=\"text-secondary\">Challenge:</b> Try to Typeset These Expressions\n",
    "A useful tool when trying to figure out the code for a mathematical expression is [detexify](http://detexify.kirelabs.org/classify.html).\n",
    "\n",
    "1. The Displacement Equation:\n",
    "<img src='displacement_eqn.png' alt='Displacement Equation'>\n",
    "2. The Power Rule for Differentiation (_hint:_ You'll need to use curly brackets to enclose the exponent)\n",
    "<img src='power_rule.png' alt='Power Rule'>\n",
    "3. Universal Gravitation Constant (Do your units look right?)\n",
    "<img src='planck_constant.png' alt=\"Planck's Constant\">\n",
    "4. The Fundamental Theorem of Calculus (_hint:_ use `\\left` and `\\right` before brackets to make sure they adjust to the correct size around larger expressions)\n",
    "<img src='fundamental_thm.png' alt='Fundamental Theorem of Calculus'>\n",
    "\n"
   ]
  },
  {
   "cell_type": "markdown",
   "metadata": {
    "slideshow": {
     "slide_type": "subslide"
    }
   },
   "source": [
    "# Enter your $\\rm \\LaTeX$ code below each prompt\n",
    "1. Displacement Equation\n",
    "\n",
    "2. Power Rule\n",
    "\n",
    "3. Universal Gravitation Constant\n",
    "\n",
    "4. Fundamental Theorem of Calculus\n"
   ]
  },
  {
   "cell_type": "markdown",
   "metadata": {
    "slideshow": {
     "slide_type": "subslide"
    }
   },
   "source": [
    "# Solutions (try on your own before peeking!)\n",
    "1. Displacement Equation\n",
    "<details>\n",
    "<summary class=\"text-success shadow\">Solution</summary>\n",
    "    <code>$$x=x_0 + v_0t + \\frac{1}{2}at^2$$</code>\n",
    "</details>\n",
    "\n",
    "2. Power Rule\n",
    "<details>\n",
    "<summary class=\"text-success shadow\">Solution</summary>\n",
    "    <code>$$\\frac{d}{dx}(x^n) = nx^{n-1}$$</code>\n",
    "</details>\n",
    "\n",
    "3. Universal Gravitation Constant\n",
    "<details>\n",
    "<summary class=\"text-success shadow\">Solution</summary>\n",
    "    <code>$$G = 6.674\\times 10^{-11}\\mathrm{\\frac{m^3}{kg~s^2}}$$</code>\n",
    "</details>\n",
    "\n",
    "4. Fundamental Theorem of Calculus\n",
    "<details>\n",
    "<summary class=\"text-success shadow\">Solution</summary>\n",
    "    <code>$$\\frac{d}{dx}\\left[\\int_a^xf(t)\\,dt\\right] = f(x)$$</code>\n",
    "</details>"
   ]
  },
  {
   "cell_type": "markdown",
   "metadata": {
    "slideshow": {
     "slide_type": "subslide"
    }
   },
   "source": [
    "# Markdown Can Also Format Non-Executable Code\n",
    "For monospace text, use backticks \"\\`\" around text (very difficult to show after rendering, so look at this cell in edit mode). Example: `inline code`.\n",
    "\n",
    "That works inline, but for larger blocks, start a line with __three backticks__. Subsequent lines will be formatted as code. End the code block with three more backticks. For syntax highlighting (color the code according to the words' meanings), enter the language name directly after the leading ticks:\n",
    "\n",
    "```python\n",
    "def say_hello(student_name):\n",
    "    print('hello, {}'.format(student_name))\n",
    "```\n",
    "\n",
    "```fortran\n",
    "subroutine say_hello(student_name):\n",
    "    implicit none\n",
    "    character(*) :: student_name\n",
    "    \n",
    "    write(*,*) \"hello, \", student_name\n",
    "end\n",
    "```\n",
    "(These colors shouldn't make sense yet, but you'll come to appreciate them.)"
   ]
  },
  {
   "cell_type": "markdown",
   "metadata": {
    "slideshow": {
     "slide_type": "slide"
    }
   },
   "source": [
    "# Create a new cell after the selected cell by pressing the \"+\" button in the toolbar\n",
    "<center>\n",
    "<img alt=\"Creating a New Cell\" src=new_cell.png>\n",
    "</center>\n",
    "\n",
    "Alternate keyboard shortcut: `Esc` _(that's the escape key), and then_ `b`. __OR__ Execute the current cell and create one after: `Alt-Enter`\n",
    "\n",
    "### Reminder: Command Mode and Edit Mode\n",
    "- Pressing `Esc` always enters \"command mode\". Check out the shortcuts helper in the toolbar whenever you get sick of clicking things.\n",
    "\n",
    "- You are in command mode when the selected cell is <span style=\"color: green;\">highlighted in green</span>, and in command mode when it is <span style=\"color: blue;\">highlighted in blue</span>.\n",
    "\n",
    "- Simply pressing `Enter` will take you to edit mode."
   ]
  },
  {
   "cell_type": "markdown",
   "metadata": {
    "slideshow": {
     "slide_type": "slide"
    }
   },
   "source": [
    "# Set the type of a selected cell with the dropdown menu in the main toolbar\n",
    "<center>\n",
    "\t<img src='cell_toolbar.png' alt='Toolbar'>\n",
    "</center>\n",
    "\n",
    "- <b class=\"text-info shadow\">Note:</b> ignore the \"Heading\" option and just use markdown for cell headings; this is deprecated in the \"new\" version of the Jupyter notebook\n",
    "\n",
    "- Keyboard shortcuts to change selected cell type: `y` in command mode to convert to code, and `m` in command mode to switch to markdown.\n",
    "\n",
    "- <b class=\"text-secondary shadow\">Challenge:</b> Create a new markdown cell and create a large heading with italic text that express how excited you are to be in this course."
   ]
  },
  {
   "cell_type": "markdown",
   "metadata": {
    "slideshow": {
     "slide_type": "subslide"
    }
   },
   "source": [
    "# <span class=\"text-success\"> Solution </span> (but try it first in your own cell!)\n",
    "Create a new markdown cell and create a large heading with italic text that express how excited you are to be in this course.\n",
    "<details>\n",
    "<summary class=\"text-success\">Solution</summary>\n",
    "<br>\n",
    "<pre>\n",
    "   # *I am so __stoked__ to be in this course*\n",
    "</pre>\n",
    "    (extra emphasis on stoked just for bonus points)\n",
    "</details>"
   ]
  }
 ],
 "metadata": {
  "celltoolbar": "Slideshow",
  "kernelspec": {
   "display_name": "Python 3 (ipykernel)",
   "language": "python",
   "name": "python3"
  },
  "language_info": {
   "codemirror_mode": {
    "name": "ipython",
    "version": 3
   },
   "file_extension": ".py",
   "mimetype": "text/x-python",
   "name": "python",
   "nbconvert_exporter": "python",
   "pygments_lexer": "ipython3",
   "version": "3.8.11"
  },
  "rise": {
   "height": "95%",
   "width": "95%"
  }
 },
 "nbformat": 4,
 "nbformat_minor": 4
}
