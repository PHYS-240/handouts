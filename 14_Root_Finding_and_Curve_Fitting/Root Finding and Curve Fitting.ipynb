{
 "cells": [
  {
   "cell_type": "code",
   "execution_count": 1,
   "metadata": {
    "slideshow": {
     "slide_type": "skip"
    }
   },
   "outputs": [],
   "source": [
    "import numpy as np\n",
    "import matplotlib.pyplot as plt\n",
    "plt.style.use('default')"
   ]
  },
  {
   "cell_type": "markdown",
   "metadata": {
    "slideshow": {
     "slide_type": "slide"
    }
   },
   "source": [
    "# Root Finding and Curve Fitting"
   ]
  },
  {
   "cell_type": "markdown",
   "metadata": {
    "slideshow": {
     "slide_type": "slide"
    }
   },
   "source": [
    "# Root Finding: What are Roots?\n",
    "The **root** of a function is an input that produces an output of zero. For example, $f(x) = x^2 - 4 = (x-2)(x+2)$ has two roots: $x=2$ and $x=-2$\n",
    "\n",
    "![function with two roots](roots_ex.png)"
   ]
  },
  {
   "cell_type": "markdown",
   "metadata": {
    "slideshow": {
     "slide_type": "subslide"
    }
   },
   "source": [
    "# Scipy has many functions for finding roots in the `optimize` submodule\n",
    "- `brentq` (probably what you want): finds a root within a **bracket**\n",
    "- `brenth`: like `brentq`, but with some numerical differences\n",
    "- `ridder`: another bracketing method\n",
    "- `bisect`: yet another bracketing method (we implemented this in a lab long ago)\n",
    "- `newton`: Uses Newton's method (no bracket required!). Can get stuck at local minima, but **really fast** if you have both the first and second derivatives\n",
    "\n",
    "Which tool should you use? Depends on the particular function! But for most well-behaved functions, `brentq` will do a great job at a reasonable speed."
   ]
  },
  {
   "cell_type": "markdown",
   "metadata": {
    "slideshow": {
     "slide_type": "subslide"
    }
   },
   "source": [
    "# Calling a bracketing function\n",
    "Calling sequence for a bracketing function typically takes a function/lambda, then the lower limit of the bracket, then the upper limit of the bracket. **The sign of the function must change from one end to another**"
   ]
  },
  {
   "cell_type": "code",
   "execution_count": 2,
   "metadata": {},
   "outputs": [
    {
     "data": {
      "text/plain": [
       "-2.0"
      ]
     },
     "execution_count": 2,
     "metadata": {},
     "output_type": "execute_result"
    }
   ],
   "source": [
    "from scipy.optimize import brentq\n",
    "brentq(lambda x: x**2 - 4, -3, 0)"
   ]
  },
  {
   "cell_type": "code",
   "execution_count": 3,
   "metadata": {},
   "outputs": [
    {
     "data": {
      "text/plain": [
       "2.0"
      ]
     },
     "execution_count": 3,
     "metadata": {},
     "output_type": "execute_result"
    }
   ],
   "source": [
    "brentq(lambda x: x**2 - 4, 0, 3)"
   ]
  },
  {
   "cell_type": "code",
   "execution_count": 4,
   "metadata": {
    "slideshow": {
     "slide_type": "fragment"
    }
   },
   "outputs": [
    {
     "ename": "ValueError",
     "evalue": "f(a) and f(b) must have different signs",
     "output_type": "error",
     "traceback": [
      "\u001b[0;31m---------------------------------------------------------------------------\u001b[0m",
      "\u001b[0;31mValueError\u001b[0m                                Traceback (most recent call last)",
      "\u001b[0;32m/var/folders/mn/lb4xrsdj48ncv11lppgnxh_0kpdclq/T/ipykernel_51227/1715888875.py\u001b[0m in \u001b[0;36m<module>\u001b[0;34m\u001b[0m\n\u001b[0;32m----> 1\u001b[0;31m \u001b[0mbrentq\u001b[0m\u001b[0;34m(\u001b[0m\u001b[0;32mlambda\u001b[0m \u001b[0mx\u001b[0m\u001b[0;34m:\u001b[0m \u001b[0mx\u001b[0m\u001b[0;34m**\u001b[0m\u001b[0;36m2\u001b[0m \u001b[0;34m-\u001b[0m \u001b[0;36m4\u001b[0m\u001b[0;34m,\u001b[0m \u001b[0;34m-\u001b[0m\u001b[0;36m3\u001b[0m\u001b[0;34m,\u001b[0m \u001b[0;36m3\u001b[0m\u001b[0;34m)\u001b[0m\u001b[0;34m\u001b[0m\u001b[0;34m\u001b[0m\u001b[0m\n\u001b[0m",
      "\u001b[0;32m~/anaconda3/envs/conda-forge/lib/python3.8/site-packages/scipy/optimize/zeros.py\u001b[0m in \u001b[0;36mbrentq\u001b[0;34m(f, a, b, args, xtol, rtol, maxiter, full_output, disp)\u001b[0m\n\u001b[1;32m    774\u001b[0m     \u001b[0;32mif\u001b[0m \u001b[0mrtol\u001b[0m \u001b[0;34m<\u001b[0m \u001b[0m_rtol\u001b[0m\u001b[0;34m:\u001b[0m\u001b[0;34m\u001b[0m\u001b[0;34m\u001b[0m\u001b[0m\n\u001b[1;32m    775\u001b[0m         \u001b[0;32mraise\u001b[0m \u001b[0mValueError\u001b[0m\u001b[0;34m(\u001b[0m\u001b[0;34m\"rtol too small (%g < %g)\"\u001b[0m \u001b[0;34m%\u001b[0m \u001b[0;34m(\u001b[0m\u001b[0mrtol\u001b[0m\u001b[0;34m,\u001b[0m \u001b[0m_rtol\u001b[0m\u001b[0;34m)\u001b[0m\u001b[0;34m)\u001b[0m\u001b[0;34m\u001b[0m\u001b[0;34m\u001b[0m\u001b[0m\n\u001b[0;32m--> 776\u001b[0;31m     \u001b[0mr\u001b[0m \u001b[0;34m=\u001b[0m \u001b[0m_zeros\u001b[0m\u001b[0;34m.\u001b[0m\u001b[0m_brentq\u001b[0m\u001b[0;34m(\u001b[0m\u001b[0mf\u001b[0m\u001b[0;34m,\u001b[0m \u001b[0ma\u001b[0m\u001b[0;34m,\u001b[0m \u001b[0mb\u001b[0m\u001b[0;34m,\u001b[0m \u001b[0mxtol\u001b[0m\u001b[0;34m,\u001b[0m \u001b[0mrtol\u001b[0m\u001b[0;34m,\u001b[0m \u001b[0mmaxiter\u001b[0m\u001b[0;34m,\u001b[0m \u001b[0margs\u001b[0m\u001b[0;34m,\u001b[0m \u001b[0mfull_output\u001b[0m\u001b[0;34m,\u001b[0m \u001b[0mdisp\u001b[0m\u001b[0;34m)\u001b[0m\u001b[0;34m\u001b[0m\u001b[0;34m\u001b[0m\u001b[0m\n\u001b[0m\u001b[1;32m    777\u001b[0m     \u001b[0;32mreturn\u001b[0m \u001b[0mresults_c\u001b[0m\u001b[0;34m(\u001b[0m\u001b[0mfull_output\u001b[0m\u001b[0;34m,\u001b[0m \u001b[0mr\u001b[0m\u001b[0;34m)\u001b[0m\u001b[0;34m\u001b[0m\u001b[0;34m\u001b[0m\u001b[0m\n\u001b[1;32m    778\u001b[0m \u001b[0;34m\u001b[0m\u001b[0m\n",
      "\u001b[0;31mValueError\u001b[0m: f(a) and f(b) must have different signs"
     ]
    }
   ],
   "source": [
    "brentq(lambda x: x**2 - 4, -3, 3)"
   ]
  },
  {
   "cell_type": "markdown",
   "metadata": {
    "slideshow": {
     "slide_type": "subslide"
    }
   },
   "source": [
    "# Simply making sure limits have different signs is not enough\n",
    "These functions will find **A** root, not **ALL** roots. Consider $f(x) = x^3 - 9x$. Sign changes from $x=-4$ to $x=+4$, but there are **three roots** in there!\n",
    "\n",
    "![function with three roots](roots_ex_2.png)"
   ]
  },
  {
   "cell_type": "markdown",
   "metadata": {
    "slideshow": {
     "slide_type": "subslide"
    }
   },
   "source": [
    "# Simply making sure limits have different signs is not enough\n",
    "These functions will find **A** root, not **ALL** roots. Consider $f(x) = x^3 - 9x$. Sign changes from $x=-4$ to $x=+4$, but there are **three roots** in there!"
   ]
  },
  {
   "cell_type": "code",
   "execution_count": 5,
   "metadata": {},
   "outputs": [
    {
     "data": {
      "text/plain": [
       "0.0"
      ]
     },
     "execution_count": 5,
     "metadata": {},
     "output_type": "execute_result"
    }
   ],
   "source": [
    "f = lambda x: x**3 - 9 * x\n",
    "brentq(f, -4, 4)"
   ]
  },
  {
   "cell_type": "markdown",
   "metadata": {
    "slideshow": {
     "slide_type": "fragment"
    }
   },
   "source": [
    "Can't guarantee which root we'll get! **You need to be certain your bracket only contains one root.**"
   ]
  },
  {
   "cell_type": "code",
   "execution_count": 6,
   "metadata": {},
   "outputs": [
    {
     "name": "stdout",
     "output_type": "stream",
     "text": [
      "[-3.0, 0.0, 3.0]\n"
     ]
    }
   ],
   "source": [
    "print([brentq(f, a, b) for a, b in [(-4, -2), (-1, 1), (2, 4)]])"
   ]
  },
  {
   "cell_type": "markdown",
   "metadata": {
    "slideshow": {
     "slide_type": "subslide"
    }
   },
   "source": [
    "# Root Finding Summary\n",
    "1. Visualize the function\n",
    "2. Identify bracketed regions that contain one (and only one) root (which implies that the function changes sign over the region)\n",
    "3. Call `brentq` with the function, the left endpoint, and the right endpoint\n",
    "\n",
    "Special scenarios may benefit more from using other bracketing methods, or even `newton` if you have access to the derivatives and know that it won't stall on a local minimum."
   ]
  },
  {
   "cell_type": "markdown",
   "metadata": {
    "slideshow": {
     "slide_type": "slide"
    }
   },
   "source": [
    "# We can use root-finding to solve **transcendental equations**\n",
    "A transcendental equation is one that involves transcendental functions, like trignometric or logarithmic functions; they rarely have closed-form solutions.\n",
    "\n",
    "For example:\n",
    "\n",
    "$$3\\ln(x - 1) = \\frac{1}{5}x^2 - 9$$\n",
    "\n",
    "Good luck trying to solve that! Is there even a solution?"
   ]
  },
  {
   "cell_type": "markdown",
   "metadata": {
    "slideshow": {
     "slide_type": "subslide"
    }
   },
   "source": [
    "# Use visualization (and limiting behaviors) to determine if there are any solutions.\n",
    "Graph both sides of the equation as separate functions. If the two lines intersect, that is necessarily a point that solves the equation (one $x$ value gives the same $y$ value on both sides). The previous equation has two solutions, it seems.\n",
    "\n",
    "![transcendental solutions in grpahical form](roots_ex_3.png)"
   ]
  },
  {
   "cell_type": "markdown",
   "metadata": {
    "slideshow": {
     "slide_type": "subslide"
    }
   },
   "source": [
    "# Cast the equation solution problem into a root-finding problem\n",
    "$$3\\ln(x-1) = \\frac{1}{5}x^2 - 9 \\quad \\Rightarrow \\quad f(x) = 3\\ln(x-1) - \\frac{1}{5}x^2 + 9 = 0$$"
   ]
  },
  {
   "cell_type": "code",
   "execution_count": null,
   "metadata": {
    "slideshow": {
     "slide_type": "-"
    }
   },
   "outputs": [],
   "source": [
    "# TODO: Find both solutions to the transcendental equation above\n"
   ]
  },
  {
   "cell_type": "markdown",
   "metadata": {
    "slideshow": {
     "slide_type": "subslide"
    }
   },
   "source": [
    "# General Equation Solving Summary\n",
    "1. Use limiting behavior of either side of a function **and** visualization (where plots of the two sides intersect) to determine if solutions exist and roughly where they are.\n",
    "2. Move one side of the equation to the other to convert problem to a root-finding one\n",
    "3. Use root-finding methods to solve (brackets can be obtained from regions around intersections of original visualization)"
   ]
  },
  {
   "cell_type": "markdown",
   "metadata": {
    "slideshow": {
     "slide_type": "slide"
    }
   },
   "source": [
    "# Curve Fitting: The Situation\n",
    "- You have some data that can be thought of as $x$ (indepenent) and $y$ (dependent) variables (eg. position vs time, or electric field strength vs position)\n",
    "- You suspect the underlying physics would predict these values to have a specific mathematical form, like displacement under constant acceleration:\n",
    "$$ x(t) = x_0 + v_0 t + \\frac{1}{2}at^2$$\n",
    "    (here $x$ is the dependent variable and $t$ is the independent variable) or a sinusoidal wave\n",
    "$$E(x) = E_0\\sin(k x + \\phi_0)$$\n",
    "    (here $E$ is the dependent variable and $x$ is the independent variable)\n",
    "- You wish to find the best **parameters** for these functions that fit the data most closely ($x_0$, $v_0$, and $a$, or $E_0$, $k$, and $\\phi_0$)"
   ]
  },
  {
   "cell_type": "markdown",
   "metadata": {
    "slideshow": {
     "slide_type": "subslide"
    }
   },
   "source": [
    "# Example: Oscillating Spring\n",
    "Suppose we measure the displacement of a block on a spring over several periods of oscillation and get the following data:\n",
    "![noisy data from oscillation experiment](curve-fit-data.png)"
   ]
  },
  {
   "cell_type": "markdown",
   "metadata": {
    "slideshow": {
     "slide_type": "skip"
    }
   },
   "source": [
    "# Aside: Plotting Errorbars\n",
    "Recall that Matplotlib has a nifty `errorbar` function that works like `plot` or `scatter`, but takes additional arrays with symmetric (or asymmetric) uncertainties in $y$ and/or $x$ values. Typically need to specify `fmt` keyword to make data not be joined by lines:"
   ]
  },
  {
   "cell_type": "code",
   "execution_count": 8,
   "metadata": {
    "slideshow": {
     "slide_type": "skip"
    }
   },
   "outputs": [
    {
     "data": {
      "text/plain": [
       "<matplotlib.legend.Legend at 0x7fcc38815be0>"
      ]
     },
     "execution_count": 8,
     "metadata": {},
     "output_type": "execute_result"
    },
    {
     "data": {
      "image/png": "[encoded data removed]",
      "text/plain": [
       "<Figure size 640x480 with 1 Axes>"
      ]
     },
     "metadata": {},
     "output_type": "display_data"
    }
   ],
   "source": [
    "all_data = np.genfromtxt('time-displacements.data', names=True)\n",
    "\n",
    "# make plot; only pass one array of uncertainties in, assumed for y. A second one would be for x\n",
    "fig, ax = plt.subplots()\n",
    "ax.errorbar(all_data['time'], all_data['displacement'], all_data['uncertainty'], fmt='o', label='data')\n",
    "ax.set_xlabel('Time [s]')\n",
    "ax.set_ylabel('Displacement [m]')\n",
    "ax.legend(loc='best')"
   ]
  },
  {
   "cell_type": "markdown",
   "metadata": {
    "slideshow": {
     "slide_type": "subslide"
    }
   },
   "source": [
    "# The Fitting Function\n",
    "We expect this data to be some sort of sinusoidal wave of the form\n",
    "$$d(t) = A\\cos(\\omega t + \\phi_0)$$\n",
    "We have two types of **data** and three **parameters**:\n",
    "- Data\n",
    "    - time ($t$)\n",
    "    - displacement ($d(t)$)\n",
    "- Parameters\n",
    "    - Amplitude ($A$, in meters)\n",
    "    - Angular frequencey ($\\omega$, in rad/s)\n",
    "    - Initial phase ($\\phi_0$, in radians)\n",
    "    \n",
    "Goal: find best values for parameters that \"fit the data\""
   ]
  },
  {
   "cell_type": "code",
   "execution_count": 9,
   "metadata": {
    "slideshow": {
     "slide_type": "subslide"
    }
   },
   "outputs": [
    {
     "data": {
      "application/vnd.jupyter.widget-view+json": {
       "model_id": "0984afbf01134e41819a606f3d3452ca",
       "version_major": 2,
       "version_minor": 0
      },
      "text/plain": [
       "interactive(children=(FloatSlider(value=0.4, description='A', max=0.5, min=0.3, step=0.025), FloatSlider(value…"
      ]
     },
     "metadata": {},
     "output_type": "display_data"
    }
   ],
   "source": [
    "from ipywidgets import interactive\n",
    "\n",
    "\n",
    "def f(A, omega, phi_0):\n",
    "    fig, ax = plt.subplots()\n",
    "    ax.set_xlabel('Time [s]')\n",
    "    ax.set_ylabel('Displacement [m]')\n",
    "    ax.set_ylim(-0.6, 0.6)\n",
    "\n",
    "    ts = np.linspace(np.min(all_data['time']), np.max(all_data['time']))\n",
    "    ax.errorbar(all_data['time'], all_data['displacement'], all_data['uncertainty'], fmt='o', label='data')\n",
    "    ax.plot(ts, A * np.cos(omega * ts + phi_0), color='orange', ls='--', label='fit')\n",
    "    ax.legend(loc='best')\n",
    "    plt.show()\n",
    "\n",
    "interactive_plot = interactive(f, A=(0.3, 0.5, 0.025), omega=(10, 20, 0.5), phi_0=(0, 2 * np.pi))\n",
    "output = interactive_plot.children[-1]\n",
    "output.layout.height = '250'\n",
    "interactive_plot"
   ]
  },
  {
   "cell_type": "markdown",
   "metadata": {
    "slideshow": {
     "slide_type": "subslide"
    }
   },
   "source": [
    "# The Nonlinear Least Squares Method rigorously computes the best parameters\n",
    "\n",
    "Goal is to minimize the following quantity:\n",
    "$$ \\chi^2 = \\sum_i \\left[\\frac{f(x_i) - y_i}{\\sigma_i}\\right]^2$$\n",
    "- Process sometimes called \"chi-squared minimization\"\n",
    "- quantities $f(x_i) - y_i$ are the **residuals**: differences between actual data values of dependent variable and those obtained by plugging independent variable data values into fitting function\n",
    "- $\\sigma_i$ is the uncertainty in measurement $i$. This ensure that highly-uncertain data are weighted less\n",
    "- actual process of how the method does this is beyond the scope of this class"
   ]
  },
  {
   "cell_type": "markdown",
   "metadata": {
    "slideshow": {
     "slide_type": "subslide"
    }
   },
   "source": [
    "# Easiest way to do least squares fitting with `scipy.optmize` is `curve_fit`\n",
    "- You provide:\n",
    "    - $x$ and $y$ data\n",
    "    - fitting function of $x$ and each of the free parameters\n",
    "    - uncertainties in $y$ values (optionally)\n",
    "- It returns\n",
    "    - \"Best fit\" values of each parameter\n",
    "    - Covariance matrix, which quantifies uncertainties"
   ]
  },
  {
   "cell_type": "markdown",
   "metadata": {
    "slideshow": {
     "slide_type": "subslide"
    }
   },
   "source": [
    "# Defining the fitting function\n",
    "Function **must** take independent variable as its first argument, and then the parameters in whatever order you prefer (but remember the order!):"
   ]
  },
  {
   "cell_type": "code",
   "execution_count": 10,
   "metadata": {},
   "outputs": [],
   "source": [
    "def disp(t, A, omega, phi_0):\n",
    "    return A * np.cos(omega * t + phi_0)"
   ]
  },
  {
   "cell_type": "markdown",
   "metadata": {
    "slideshow": {
     "slide_type": "subslide"
    }
   },
   "source": [
    "# Doing an \"unweighted\" fit\n",
    "We can fust provide fitting function, data, and an **initial guess** for the parameters (as a tuple), and we get back two objects from `curve_fit`:\n",
    "- `popt`: **opt**imal **p**arameter values in same order as they appear in the fitting function signature **and** the order of the initial guess\n",
    "- `pcov`: **cov**ariance matrix: an *n* × *n* array, where *n* is the number of paramters"
   ]
  },
  {
   "cell_type": "code",
   "execution_count": 11,
   "metadata": {},
   "outputs": [
    {
     "name": "stdout",
     "output_type": "stream",
     "text": [
      "Best fit amplitude is 0.349\n",
      "Best fit angular frequency is 12.543\n",
      "Best fit intial phase is 0.508\n"
     ]
    }
   ],
   "source": [
    "from scipy.optimize import curve_fit\n",
    "first_guesses = (0.375, 12.5, 0.4)\n",
    "popt, pcov = curve_fit(disp, all_data['time'], all_data['displacement'], first_guesses)\n",
    "A_best, omega_best, phi_0_best = popt\n",
    "print(\"Best fit amplitude is {:.3f}\".format(A_best))\n",
    "print(\"Best fit angular frequency is {:.3f}\".format(omega_best))\n",
    "print(\"Best fit intial phase is {:.3f}\".format(phi_0_best))"
   ]
  },
  {
   "cell_type": "markdown",
   "metadata": {
    "slideshow": {
     "slide_type": "subslide"
    }
   },
   "source": [
    "# Checking the unweighted fit"
   ]
  },
  {
   "cell_type": "code",
   "execution_count": 12,
   "metadata": {},
   "outputs": [
    {
     "data": {
      "text/plain": [
       "<matplotlib.legend.Legend at 0x7fcc8877cb50>"
      ]
     },
     "execution_count": 12,
     "metadata": {},
     "output_type": "execute_result"
    },
    {
     "data": {
      "image/png": "[encoded data removed]",
      "text/plain": [
       "<Figure size 640x480 with 1 Axes>"
      ]
     },
     "metadata": {},
     "output_type": "display_data"
    }
   ],
   "source": [
    "ts_fit = np.linspace(np.min(all_data['time']), np.max(all_data['time']), 100)\n",
    "ds_fit_unweighted = disp(ts_fit, A_best, omega_best, phi_0_best)\n",
    "\n",
    "plt.errorbar(all_data['time'], all_data['displacement'], all_data['uncertainty'], fmt='o', label='data')\n",
    "plt.plot(ts_fit, ds_fit_unweighted, color='orange', ls='--', label='unweighted fit')\n",
    "plt.xlabel('Time [s]')\n",
    "plt.ylabel('Displacement [m]')\n",
    "plt.legend(loc='best')"
   ]
  },
  {
   "cell_type": "markdown",
   "metadata": {
    "slideshow": {
     "slide_type": "subslide"
    }
   },
   "source": [
    "# That *looks* good, but we can do better: weighted solution\n",
    "Unweighted fit treats all data points equally, but we really should value fitting through data with smaller uncertainty more than data points with large uncertainties. We can pass in uncertainties to `curve_fit` via the `sigma` keyword, and we can tell `curve_fit` that these are true uncertainties (rather than just ad-hoc weights) by setting `absolute_sigma=True`."
   ]
  },
  {
   "cell_type": "code",
   "execution_count": 13,
   "metadata": {},
   "outputs": [
    {
     "name": "stdout",
     "output_type": "stream",
     "text": [
      "Best fit amplitude is 0.347\n",
      "Best fit angular frequency is 12.551\n",
      "Best fit intial phase is 0.509\n"
     ]
    }
   ],
   "source": [
    "first_guesses = (0.375, 12.5, 0.4)\n",
    "popt, pcov = curve_fit(disp, all_data['time'], all_data['displacement'], first_guesses, sigma=all_data['uncertainty'], absolute_sigma = True)\n",
    "A_best, omega_best, phi_0_best = popt\n",
    "print(\"Best fit amplitude is {:.3f}\".format(A_best))\n",
    "print(\"Best fit angular frequency is {:.3f}\".format(omega_best))\n",
    "print(\"Best fit intial phase is {:.3f}\".format(phi_0_best))"
   ]
  },
  {
   "cell_type": "markdown",
   "metadata": {
    "slideshow": {
     "slide_type": "subslide"
    }
   },
   "source": [
    "# With weighted solution, covariance matrix is more meaningful\n",
    "Most important: diagnonal terms. `pcov[i, i]` is the square of the uncertainty in the parameter `popt[i]`. So for our example, we find"
   ]
  },
  {
   "cell_type": "code",
   "execution_count": 14,
   "metadata": {},
   "outputs": [
    {
     "name": "stdout",
     "output_type": "stream",
     "text": [
      "Best fit amplitude is 0.347 m ± 0.009 m\n",
      "Best fit angular frequency is 12.551 rad/s ± 0.054 rad/s\n",
      "Best fit initial phase is 0.509 rad ± 0.041 rad\n"
     ]
    }
   ],
   "source": [
    "print('Best fit amplitude is {:.3f} m ± {:.3f} m'.format(A_best, np.sqrt(pcov[0, 0])))\n",
    "print('Best fit angular frequency is {:.3f} rad/s ± {:.3f} rad/s'.format(omega_best, np.sqrt(pcov[1, 1])))\n",
    "print('Best fit initial phase is {:.3f} rad ± {:.3f} rad'.format(phi_0_best, np.sqrt(pcov[2, 2])))"
   ]
  },
  {
   "cell_type": "markdown",
   "metadata": {},
   "source": [
    "You can still do this to the covariance matrix to get \"uncertainties\" with an unweighted solution, but it makes certain assumptions (all uncertainties are equal and scaled such that $\\chi^2 / N = 1$ where $N$ is the number of points. This is probably not reasonable.\n",
    "\n",
    "### Shortcut: getting uncertainties from covariance matrix\n",
    "`np.sqrt(np.diag(pcov))` gives the uncertainties of the paramters in `popt` in the same order. Neato!"
   ]
  },
  {
   "cell_type": "markdown",
   "metadata": {
    "slideshow": {
     "slide_type": "slide"
    }
   },
   "source": [
    "# Beware overfitting!\n",
    "Let's create some random data and try to fit it to a polynomial:"
   ]
  },
  {
   "cell_type": "code",
   "execution_count": 19,
   "metadata": {},
   "outputs": [
    {
     "data": {
      "text/plain": [
       "<matplotlib.collections.PathCollection at 0x7fcc388b8a90>"
      ]
     },
     "execution_count": 19,
     "metadata": {},
     "output_type": "execute_result"
    },
    {
     "data": {
      "image/png": "[encoded data removed]",
      "text/plain": [
       "<Figure size 640x480 with 1 Axes>"
      ]
     },
     "metadata": {},
     "output_type": "display_data"
    }
   ],
   "source": [
    "xs = np.linspace(0, 5, 8)\n",
    "ys = np.random.random_sample(xs.shape) * 5 + 5\n",
    "plt.scatter(xs, ys)"
   ]
  },
  {
   "cell_type": "markdown",
   "metadata": {
    "slideshow": {
     "slide_type": "slide"
    }
   },
   "source": [
    "# Beware overfitting!\n",
    "We **know** this data is random, but we can create a polynomial that goes through **every point**!"
   ]
  },
  {
   "cell_type": "code",
   "execution_count": 20,
   "metadata": {},
   "outputs": [
    {
     "name": "stderr",
     "output_type": "stream",
     "text": [
      "/Users/wolfwm/anaconda3/envs/conda-forge/lib/python3.8/site-packages/scipy/optimize/minpack.py:833: OptimizeWarning: Covariance of the parameters could not be estimated\n",
      "  warnings.warn('Covariance of the parameters could not be estimated',\n"
     ]
    },
    {
     "data": {
      "text/plain": [
       "[<matplotlib.lines.Line2D at 0x7fcc3897c310>]"
      ]
     },
     "execution_count": 20,
     "metadata": {},
     "output_type": "execute_result"
    },
    {
     "data": {
      "image/png": "[encoded data removed]",
      "text/plain": [
       "<Figure size 640x480 with 1 Axes>"
      ]
     },
     "metadata": {},
     "output_type": "display_data"
    }
   ],
   "source": [
    "def poly(x, c0, c1, c2, c3, c4, c5, c6, c7):\n",
    "    return c0 + c1 * x + c2 * x**2 + c3 * x**3 + c4 * x**4 + c5 * x**5 + c6 * x**6 + c7 * x**7\n",
    "\n",
    "popt, pcov = curve_fit(poly, xs, ys)\n",
    "fit_xs = np.linspace(0, 5, 100)\n",
    "fit_ys = poly(fit_xs, *popt)\n",
    "plt.scatter(xs, ys)\n",
    "plt.plot(fit_xs, fit_ys, color='orange', ls='--')"
   ]
  },
  {
   "cell_type": "markdown",
   "metadata": {
    "slideshow": {
     "slide_type": "fragment"
    }
   },
   "source": [
    "Just because a model fits the data doesn't mean it is meaningful. Ideally, you have far more data points than you have free parameters. In this case, we have equal number of data points and paramters, in which case we can **always** get a meaningless, but \"perfect\" fit."
   ]
  },
  {
   "cell_type": "markdown",
   "metadata": {
    "slideshow": {
     "slide_type": "subslide"
    }
   },
   "source": [
    "# Beware nonsensical models\n",
    "Models that fit the data but have no basis in physical reality have very little predictive power except very near the existing data.\n",
    "\n",
    "A comical example: [Trump Administrations \"Cubic Model\" of Covid-19 Deaths](https://www.vox.com/2020/5/8/21250641/kevin-hassett-cubic-model-smoothing)"
   ]
  },
  {
   "cell_type": "markdown",
   "metadata": {
    "slideshow": {
     "slide_type": "skip"
    }
   },
   "source": [
    "# Soutions"
   ]
  },
  {
   "cell_type": "code",
   "execution_count": null,
   "metadata": {
    "slideshow": {
     "slide_type": "skip"
    }
   },
   "outputs": [],
   "source": [
    "from scipy.optimize import brentq\n",
    "# Solving for the two unknown roots\n",
    "f = lambda x: 3 * np.log(x - 1) - 1 / 5 * x**2 + 9\n",
    "solutions = [brentq(f, a, b) for a, b in [(1.001, 2), (8, 10)]]\n",
    "solutions"
   ]
  },
  {
   "cell_type": "markdown",
   "metadata": {
    "slideshow": {
     "slide_type": "skip"
    }
   },
   "source": [
    "# Source\n",
    "Cells below create the data and figures used above."
   ]
  },
  {
   "cell_type": "code",
   "execution_count": null,
   "metadata": {
    "slideshow": {
     "slide_type": "skip"
    }
   },
   "outputs": [],
   "source": [
    "f = lambda x: x**2 - 4\n",
    "xs = np.linspace(-3, 3, 100)\n",
    "ys = f(xs)\n",
    "pylab.plot(xs, ys, zorder=2, label='$f(x) = x^2 - 4$')\n",
    "pylab.axhline(0, 0, 1, color='black', lw=2)\n",
    "pylab.axvline(0, 0, 1, color='black', lw=2)\n",
    "pylab.scatter([2, -2], [0, 0], color='orange', zorder=3, label='roots')\n",
    "pylab.xlabel('$x$')\n",
    "pylab.ylabel('$f(x)$')\n",
    "pylab.legend(loc='best')\n",
    "pylab.savefig('roots_ex.png', dpi=150, bbox_inches='tight')"
   ]
  },
  {
   "cell_type": "code",
   "execution_count": null,
   "metadata": {
    "slideshow": {
     "slide_type": "skip"
    }
   },
   "outputs": [],
   "source": [
    "f = lambda x: x**3 - 9*x\n",
    "xs = np.linspace(-4, 4, 100)\n",
    "ys = f(xs)\n",
    "pylab.plot(xs, ys, zorder=2, label='$f(x) = x^3 - 9x$')\n",
    "pylab.axhline(0, 0, 1, color='black', lw=2)\n",
    "pylab.axvline(0, 0, 1, color='black', lw=2)\n",
    "pylab.scatter([-3, 0, 3], [0, 0, 0], color='orange', zorder=3, label='roots')\n",
    "pylab.xlabel('$x$')\n",
    "pylab.ylabel('$f(x)$')\n",
    "pylab.legend(loc='best')\n",
    "pylab.savefig('roots_ex_2.png', dpi=150, bbox_inches='tight')"
   ]
  },
  {
   "cell_type": "code",
   "execution_count": null,
   "metadata": {
    "slideshow": {
     "slide_type": "skip"
    }
   },
   "outputs": [],
   "source": [
    "f1 = lambda x: 3 * np.log(x-1)\n",
    "f2 = lambda x: 1 / 5 * x**2 - 9\n",
    "xs = np.linspace(0.001, 10, 100)\n",
    "ys1 = f1(xs[xs > 1])\n",
    "ys2 = f2(xs)\n",
    "\n",
    "sols = np.array([brentq(lambda x: f1(x) - f2(x), a, b) for a, b in [(1, 2), (6, 10)]])\n",
    "\n",
    "pylab.plot(xs[xs>1], ys1, label='$f(x) = 3\\ln(x - 1)$')\n",
    "pylab.plot(xs, ys2, ls='--', label=r'$f(x) = \\frac{1}{5}x^2 - 9$')\n",
    "pylab.scatter(sols, f1(sols), color='black', label='solutions', zorder=5)\n",
    "pylab.ylim(-11, 8)\n",
    "pylab.legend(loc='best')\n",
    "pylab.xlabel('$x$')\n",
    "pylab.ylabel('$f(x)$')\n",
    "\n",
    "pylab.text(10, -3, 'Two solutions!', ha='right', va='bottom')\n",
    "\n",
    "pylab.savefig('roots_ex_3.png', dpi=150, bbox_inches='tight')"
   ]
  },
  {
   "cell_type": "code",
   "execution_count": null,
   "metadata": {
    "slideshow": {
     "slide_type": "skip"
    }
   },
   "outputs": [],
   "source": [
    "# ALL CODE DOWN TO THE CALL TO genfromtxt CREATES NOISY COSINE DATA AND SAVES TO A FILE\n",
    "\n",
    "# f = 2 # Hz\n",
    "# omega = 2 * np.pi * f\n",
    "# period = 1/f\n",
    "# phi_0 = np.pi/6\n",
    "\n",
    "# amplitude = 0.34 # M\n",
    "\n",
    "# times = np.linspace(0, 3 * period)\n",
    "# displacements = amplitude * np.cos(omega * times + phi_0)\n",
    "\n",
    "# # get randomly distributed uncertainteis (not errors; just uncertainties)\n",
    "# min_uncertainty = 0.02\n",
    "# max_uncertainty = 0.1\n",
    "# uncertainties = min_uncertainty + np.random.random_sample(times.shape) * (max_uncertainty - min_uncertainty)\n",
    "\n",
    "# # now generate error noise by adding something between -uncertainty and +uncertainty\n",
    "# # to every displacement\n",
    "# errors = uncertainties * (2 * np.random.random_sample(uncertainties.shape) - 1.0)\n",
    "# displacements += errors\n",
    "\n",
    "# dt = np.dtype([('time', 'float64'), ('displacement', 'float64'), ('uncertainty', 'float64')])\n",
    "# all_data = np.zeros(len(times), dtype=dt)\n",
    "# all_data['time'] = times\n",
    "# all_data['displacement'] = displacements\n",
    "# all_data['uncertainty'] = uncertainties\n",
    "# np.savetxt('time-displacements.data', all_data, delimiter='\\t', header='\\t'.join(['{:12s}'.format(name) for name in dt.names]), fmt='%12.6e')\n",
    "\n",
    "all_data = np.genfromtxt('time-displacements.data', names=True)\n",
    "\n",
    "# make plot\n",
    "pylab.errorbar(all_data['time'], all_data['displacement'], all_data['uncertainty'], fmt='o', label='data')\n",
    "pylab.xlabel('Time [s]')\n",
    "pylab.ylabel('Displacement [m]')\n",
    "pylab.legend(loc='best')\n",
    "pylab.savefig('curve-fit-data.png', dpi=150, bbox_inches='tight')"
   ]
  },
  {
   "cell_type": "code",
   "execution_count": null,
   "metadata": {
    "slideshow": {
     "slide_type": "skip"
    }
   },
   "outputs": [],
   "source": []
  }
 ],
 "metadata": {
  "celltoolbar": "Slideshow",
  "kernelspec": {
   "display_name": "Python 3 (ipykernel)",
   "language": "python",
   "name": "python3"
  },
  "language_info": {
   "codemirror_mode": {
    "name": "ipython",
    "version": 3
   },
   "file_extension": ".py",
   "mimetype": "text/x-python",
   "name": "python",
   "nbconvert_exporter": "python",
   "pygments_lexer": "ipython3",
   "version": "3.8.11"
  },
  "rise": {
   "theme": "solarized",
   "transition": "fade"
  }
 },
 "nbformat": 4,
 "nbformat_minor": 2
}
