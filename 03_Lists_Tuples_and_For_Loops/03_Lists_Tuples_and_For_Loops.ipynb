{
 "cells": [
  {
   "cell_type": "markdown",
   "metadata": {
    "nbgrader": {
     "grade": false,
     "grade_id": "cell-5c081c1c48b5095c",
     "locked": true,
     "schema_version": 3,
     "solution": false,
     "task": false
    },
    "slideshow": {
     "slide_type": "slide"
    }
   },
   "source": [
    "---\n",
    "# Lists and For Loops\n",
    "So far, we have encountered six data types in python 3 and their associated constructor functions:\n",
    "- integers (ex. `int(1)`)\n",
    "- floating point numbers (ex. `float(1.0)`)\n",
    "- complex numbers (ex. `complex(1, 2)`, which yields (`1+2j`)\n",
    "- booleans (only `True` and `False`)\n",
    "- the \"None\" type (only `None`)\n",
    "- Strings (`str('hello world')`)\n",
    "\n",
    "Note that `NoneType` does not have a constructor, since there is only one object that is of this type, `None`."
   ]
  },
  {
   "cell_type": "markdown",
   "metadata": {
    "slideshow": {
     "slide_type": "subslide"
    }
   },
   "source": [
    "# Lists and Tuples are Collections of Objects\n",
    "## Lists: a mutable, ordered collection of objects\n",
    "- Can organize objects, add them, remove them, shuffle them around, and much more.\n",
    "- Objects can be of different types (not possible in some other languages)\n",
    "- Literal is comma-separated list of objects enclosed in square brackets\n",
    "```python\n",
    "my_first_list = [1, True, 'Hello, World!']\n",
    "```\n",
    "\n",
    "## Tuples: an *immutable*, ordered collection of objects\n",
    "- Like lists, but they **cannot** be changed after instantiated. What's there is there.\n",
    "- Literal: same as lists, but with parentheses:\n",
    "```python\n",
    "my_first_tuple = (1, True, 'Hello, World!')\n",
    "```"
   ]
  },
  {
   "cell_type": "markdown",
   "metadata": {
    "slideshow": {
     "slide_type": "slide"
    }
   },
   "source": [
    "# Lists can be accessed and edited using indexing\n",
    "Lists can be de-referenced (accessing one element) or sliced into sublists in *exactly* the same way as strings."
   ]
  },
  {
   "cell_type": "code",
   "execution_count": 15,
   "metadata": {},
   "outputs": [
    {
     "name": "stdout",
     "output_type": "stream",
     "text": [
      "Zeroth element is 1\n",
      "Last element is Hello World!\n"
     ]
    }
   ],
   "source": [
    "my_first_list = [1, True, 'Hello World!']\n",
    "zeroth_elt = my_first_list[0]\n",
    "last_elt = my_first_list[-1]\n",
    "print(\"Zeroth element is {}\".format(zeroth_elt))\n",
    "print(\"Last element is {}\".format(last_elt))"
   ]
  },
  {
   "cell_type": "code",
   "execution_count": 16,
   "metadata": {
    "slideshow": {
     "slide_type": "fragment"
    }
   },
   "outputs": [
    {
     "data": {
      "text/plain": [
       "[True, 'Hello World!']"
      ]
     },
     "execution_count": 16,
     "metadata": {},
     "output_type": "execute_result"
    }
   ],
   "source": [
    "my_first_list[1:]"
   ]
  },
  {
   "cell_type": "markdown",
   "metadata": {
    "slideshow": {
     "slide_type": "subslide"
    }
   },
   "source": [
    "# Lists are **mutable**, so we can change, delete, and add elements\n",
    "To change an element at a particular index, use assignment operator after de-referencing. That is, treat the \"element\" as a variable and just assign it to a new variable."
   ]
  },
  {
   "cell_type": "code",
   "execution_count": 17,
   "metadata": {},
   "outputs": [
    {
     "name": "stdout",
     "output_type": "stream",
     "text": [
      "[1, True, 'Hello World!']\n",
      "[1, False, 'Hello World!']\n"
     ]
    }
   ],
   "source": [
    "print(my_first_list)\n",
    "my_first_list[1] = False\n",
    "print(my_first_list)"
   ]
  },
  {
   "cell_type": "markdown",
   "metadata": {
    "slideshow": {
     "slide_type": "fragment"
    }
   },
   "source": [
    "To remove the first instance of a particular **value** (not index!), we can use the `remove()` method. To just remove the last element, regardless of what it is, use the `pop()` method."
   ]
  },
  {
   "cell_type": "code",
   "execution_count": 18,
   "metadata": {},
   "outputs": [
    {
     "name": "stdout",
     "output_type": "stream",
     "text": [
      "[False, 'Hello World!']\n",
      "[False]\n"
     ]
    }
   ],
   "source": [
    "my_first_list.remove(1)\n",
    "print(my_first_list)\n",
    "my_first_list.pop()\n",
    "print(my_first_list)"
   ]
  },
  {
   "cell_type": "markdown",
   "metadata": {
    "slideshow": {
     "slide_type": "fragment"
    }
   },
   "source": [
    "To insert a new element at a particular location, we can use the `insert` method, or to just add to the end of the list, we can use `append`."
   ]
  },
  {
   "cell_type": "code",
   "execution_count": 19,
   "metadata": {},
   "outputs": [
    {
     "name": "stdout",
     "output_type": "stream",
     "text": [
      "[1, False]\n",
      "[1, False, 'Hello World!']\n"
     ]
    }
   ],
   "source": [
    "my_first_list.insert(0, 1)\n",
    "print(my_first_list)\n",
    "my_first_list.append('Hello World!')\n",
    "print(my_first_list)"
   ]
  },
  {
   "cell_type": "markdown",
   "metadata": {
    "slideshow": {
     "slide_type": "subslide"
    }
   },
   "source": [
    "# The Dark Side of Mutability\n",
    "Suppose we assign a new variable to the list object stored in a variable"
   ]
  },
  {
   "cell_type": "code",
   "execution_count": 20,
   "metadata": {},
   "outputs": [
    {
     "data": {
      "text/plain": [
       "[1, False, 'Hello World!']"
      ]
     },
     "execution_count": 20,
     "metadata": {},
     "output_type": "execute_result"
    }
   ],
   "source": [
    "my_second_list = my_first_list\n",
    "my_second_list"
   ]
  },
  {
   "cell_type": "markdown",
   "metadata": {},
   "source": [
    "Then we change a value in this new copy of the list"
   ]
  },
  {
   "cell_type": "code",
   "execution_count": 21,
   "metadata": {},
   "outputs": [
    {
     "data": {
      "text/plain": [
       "[1, False, 'Goodbye World!']"
      ]
     },
     "execution_count": 21,
     "metadata": {},
     "output_type": "execute_result"
    }
   ],
   "source": [
    "my_second_list[-1] = 'Goodbye World!'\n",
    "my_second_list"
   ]
  },
  {
   "cell_type": "markdown",
   "metadata": {},
   "source": [
    "Now from our experience with numbers, we'd expect `my_first_list` to be unchanged. Let's check!"
   ]
  },
  {
   "cell_type": "code",
   "execution_count": 22,
   "metadata": {
    "slideshow": {
     "slide_type": "-"
    }
   },
   "outputs": [
    {
     "data": {
      "text/plain": [
       "[1, False, 'Goodbye World!']"
      ]
     },
     "execution_count": 22,
     "metadata": {},
     "output_type": "execute_result"
    }
   ],
   "source": [
    "my_first_list"
   ]
  },
  {
   "cell_type": "markdown",
   "metadata": {
    "slideshow": {
     "slide_type": "fragment"
    }
   },
   "source": [
    "Uh oh! Since lists are **mutable**, we have to be more careful. The act of assigning `my_second_list` to `my_first_list` **did not make a copy**. Instead, it `my_second_list` now just points to the same chunk of memory that `my_first_list` does. We say that `my_second_list` is a **reference** to `my_first_list`."
   ]
  },
  {
   "cell_type": "markdown",
   "metadata": {
    "slideshow": {
     "slide_type": "subslide"
    }
   },
   "source": [
    "# To make a distinct copy of a list, use the `list` constructor, take an \"entire slice\" of a list, or use the `copy` method.\n",
    "The list constructor:"
   ]
  },
  {
   "cell_type": "code",
   "execution_count": 24,
   "metadata": {},
   "outputs": [
    {
     "name": "stdout",
     "output_type": "stream",
     "text": [
      "my_second_list is\n",
      "[2, False, 'Goodbye World!']\n",
      "After changing my_first_list, my_second_list is (still)\n",
      "[2, False, 'Goodbye World!']\n"
     ]
    }
   ],
   "source": [
    "my_second_list = list(my_first_list)\n",
    "print(\"my_second_list is\", my_second_list, sep='\\n')\n",
    "my_first_list[0] = my_first_list[0] + 1\n",
    "print(\"After changing my_first_list, my_second_list is (still)\", my_second_list, sep='\\n')"
   ]
  },
  {
   "cell_type": "markdown",
   "metadata": {
    "slideshow": {
     "slide_type": "fragment"
    }
   },
   "source": [
    "And taking an \"entire slice\":"
   ]
  },
  {
   "cell_type": "code",
   "execution_count": 25,
   "metadata": {},
   "outputs": [
    {
     "name": "stdout",
     "output_type": "stream",
     "text": [
      "my_second_list is\n",
      "[3, False, 'Goodbye World!']\n",
      "After changing my_first_list, my_second_list is (still)\n",
      "[3, False, 'Goodbye World!']\n"
     ]
    }
   ],
   "source": [
    "my_second_list = my_first_list[:]\n",
    "print(\"my_second_list is\", my_second_list, sep='\\n')\n",
    "my_first_list[0] = my_first_list[0] + 1\n",
    "print(\"After changing my_first_list, my_second_list is (still)\", my_second_list, sep='\\n')"
   ]
  },
  {
   "cell_type": "markdown",
   "metadata": {
    "slideshow": {
     "slide_type": "fragment"
    }
   },
   "source": [
    "There is also a `copy` method that does the same thing: `my_second_list = my_first_list.copy()`."
   ]
  },
  {
   "cell_type": "markdown",
   "metadata": {
    "slideshow": {
     "slide_type": "subslide"
    }
   },
   "source": [
    "# Sorting lists: `my_list.sort()` and `sorted(my_list)`\n",
    "If the elements of a list can be sorted by simple means (i.e., they are are all numerical or all strings which can be sorted alphabetically), there are two ways to sort the list.\n",
    "\n",
    "## The `sort` method\n",
    "This method sorts the list **in place**. That is, it does not create a new list, and simply shuffles the order of the elements."
   ]
  },
  {
   "cell_type": "code",
   "execution_count": 27,
   "metadata": {},
   "outputs": [
    {
     "name": "stdout",
     "output_type": "stream",
     "text": [
      "None\n",
      "[1, 2, 3]\n"
     ]
    }
   ],
   "source": [
    "nums = [3, 1, 2]\n",
    "print(nums.sort())\n",
    "print(nums)"
   ]
  },
  {
   "cell_type": "markdown",
   "metadata": {
    "slideshow": {
     "slide_type": "subslide"
    }
   },
   "source": [
    "# Sorting lists: `my_list.sort()` and `sorted(my_list)`\n",
    "## The `sorted` function\n",
    "`sorted` is a built-in function (i.e. **not** a method) that returns a **new list** that is sorted, leaving the argument unchanged."
   ]
  },
  {
   "cell_type": "code",
   "execution_count": 29,
   "metadata": {},
   "outputs": [
    {
     "name": "stdout",
     "output_type": "stream",
     "text": [
      "nums is        [3, 1, 2]\n",
      "sorted_nums is [1, 2, 3]\n"
     ]
    }
   ],
   "source": [
    "nums = [3, 1, 2]\n",
    "sorted_nums = sorted(nums)\n",
    "print('nums is       ', nums)\n",
    "print('sorted_nums is', sorted_nums)"
   ]
  },
  {
   "cell_type": "markdown",
   "metadata": {},
   "source": [
    "Both options have an optional keyword argument `reverse` that you can set to `True` to reverse the sorting order."
   ]
  },
  {
   "cell_type": "code",
   "execution_count": 30,
   "metadata": {},
   "outputs": [
    {
     "name": "stdout",
     "output_type": "stream",
     "text": [
      "[3, 2, 1]\n"
     ]
    }
   ],
   "source": [
    "print(sorted([3, 1, 2], reverse=True))"
   ]
  },
  {
   "cell_type": "markdown",
   "metadata": {
    "slideshow": {
     "slide_type": "subslide"
    }
   },
   "source": [
    "# Concatenating lists with `list_1.extend(list_2)` and `list_1 + list_2`\n",
    "The `extend` method tacks the elements of one list on to another, *changing* the calling list. It does *not* return the new list; it only changes the list it was called from."
   ]
  },
  {
   "cell_type": "code",
   "execution_count": 32,
   "metadata": {},
   "outputs": [
    {
     "name": "stdout",
     "output_type": "stream",
     "text": [
      "None\n",
      "[1, 2, 3, 4, 5, 6]\n"
     ]
    }
   ],
   "source": [
    "first = [1, 2, 3]\n",
    "second = [4, 5, 6]\n",
    "print(first.extend(second))\n",
    "print(first)"
   ]
  },
  {
   "cell_type": "markdown",
   "metadata": {
    "slideshow": {
     "slide_type": "fragment"
    }
   },
   "source": [
    "A similar effect can be achieved by simply adding two lists together. This returns a **new list** and does not change either of the two lists"
   ]
  },
  {
   "cell_type": "code",
   "execution_count": 33,
   "metadata": {},
   "outputs": [
    {
     "name": "stdout",
     "output_type": "stream",
     "text": [
      "[1, 2, 3]\n",
      "[1, 2, 3, 4, 5, 6]\n"
     ]
    }
   ],
   "source": [
    "first = [1, 2, 3]\n",
    "second = [4, 5, 6]\n",
    "combined = first + second\n",
    "print(first)\n",
    "print(combined)"
   ]
  },
  {
   "cell_type": "markdown",
   "metadata": {
    "slideshow": {
     "slide_type": "subslide"
    }
   },
   "source": [
    "# Other useful methods: `index` and `count`\n",
    "Just like with strings, the `index` method returns the index of the first appearance of an element in a list, and **raises an error if none exist**"
   ]
  },
  {
   "cell_type": "code",
   "execution_count": 37,
   "metadata": {},
   "outputs": [
    {
     "data": {
      "text/plain": [
       "1"
      ]
     },
     "execution_count": 37,
     "metadata": {},
     "output_type": "execute_result"
    }
   ],
   "source": [
    "['a', 'b', 'b', 'c'].index('b')"
   ]
  },
  {
   "cell_type": "markdown",
   "metadata": {
    "slideshow": {
     "slide_type": "fragment"
    }
   },
   "source": [
    "The `count` method counts the number of times a particular element appears in a list"
   ]
  },
  {
   "cell_type": "code",
   "execution_count": 39,
   "metadata": {},
   "outputs": [
    {
     "data": {
      "text/plain": [
       "2"
      ]
     },
     "execution_count": 39,
     "metadata": {},
     "output_type": "execute_result"
    }
   ],
   "source": [
    "['a', 'b', 'b', 'c'].count('b')"
   ]
  },
  {
   "cell_type": "markdown",
   "metadata": {
    "slideshow": {
     "slide_type": "slide"
    }
   },
   "source": [
    "# Tuples are essentially immutable lists\n",
    "Once they are set, they cannot be changed; only overwritten. Can still index and slice, but can't update values, append, extend, insert, delete, etc."
   ]
  },
  {
   "cell_type": "code",
   "execution_count": 40,
   "metadata": {},
   "outputs": [
    {
     "data": {
      "text/plain": [
       "(1, True, 'Hello World')"
      ]
     },
     "execution_count": 40,
     "metadata": {},
     "output_type": "execute_result"
    }
   ],
   "source": [
    "my_first_tuple = (1, True, 'Hello World')\n",
    "my_first_tuple"
   ]
  },
  {
   "cell_type": "code",
   "execution_count": 41,
   "metadata": {},
   "outputs": [
    {
     "ename": "TypeError",
     "evalue": "'tuple' object does not support item assignment",
     "output_type": "error",
     "traceback": [
      "\u001b[0;31m---------------------------------------------------------------------------\u001b[0m",
      "\u001b[0;31mTypeError\u001b[0m                                 Traceback (most recent call last)",
      "\u001b[0;32m<ipython-input-41-76cf35943528>\u001b[0m in \u001b[0;36m<module>\u001b[0;34m\u001b[0m\n\u001b[0;32m----> 1\u001b[0;31m \u001b[0mmy_first_tuple\u001b[0m\u001b[0;34m[\u001b[0m\u001b[0;36m1\u001b[0m\u001b[0;34m]\u001b[0m \u001b[0;34m=\u001b[0m \u001b[0;32mFalse\u001b[0m\u001b[0;34m\u001b[0m\u001b[0;34m\u001b[0m\u001b[0m\n\u001b[0m",
      "\u001b[0;31mTypeError\u001b[0m: 'tuple' object does not support item assignment"
     ]
    }
   ],
   "source": [
    "my_first_tuple[1] = False"
   ]
  },
  {
   "cell_type": "markdown",
   "metadata": {
    "slideshow": {
     "slide_type": "subslide"
    }
   },
   "source": [
    "# Singletons are single-element tuples\n",
    "Since the use of parentheses would be ambiguous without any commas (is `(1)` a one-element tuple, or just parentheses around the number 1?), a **singleton** has a dangling comma at the end."
   ]
  },
  {
   "cell_type": "code",
   "execution_count": 42,
   "metadata": {},
   "outputs": [
    {
     "data": {
      "text/plain": [
       "('a',)"
      ]
     },
     "execution_count": 42,
     "metadata": {},
     "output_type": "execute_result"
    }
   ],
   "source": [
    "my_singleton = ('a',)\n",
    "my_singleton"
   ]
  },
  {
   "cell_type": "markdown",
   "metadata": {
    "slideshow": {
     "slide_type": "subslide"
    }
   },
   "source": [
    "# Why use tuples?\n",
    "- Slightly faster than lists\n",
    "- Protect data you know shouldn't be changed\n",
    "- \"Tuple Packing\": assign multiple values simultaneously by implicitly using tuples"
   ]
  },
  {
   "cell_type": "code",
   "execution_count": 51,
   "metadata": {},
   "outputs": [
    {
     "name": "stdout",
     "output_type": "stream",
     "text": [
      "a: 1\n",
      "b: 2\n",
      "c: 3\n"
     ]
    }
   ],
   "source": [
    "(a, b, c) = 1, 2, 3\n",
    "print(\"a:\", a)\n",
    "print(\"b:\", b)\n",
    "print(\"c:\", c)"
   ]
  },
  {
   "cell_type": "markdown",
   "metadata": {},
   "source": [
    "## Nifty Trick: Convert a list to a tuple\n",
    "Maybe you need to build up a list, but then you want to \"freeze\" it. Simply cast it into a tuple once it's ready using the `tuple` constructor, a la `my_tuple = tuple(my_list)`."
   ]
  },
  {
   "cell_type": "markdown",
   "metadata": {
    "slideshow": {
     "slide_type": "slide"
    }
   },
   "source": [
    "# An iterable is any object that knows how to traverse itself\n",
    "By traverse, we mean how to get each piece of itself in succession. Some examples iterables we've seen so far:\n",
    "- strings (iterates character by character from beginning to end)\n",
    "- lists (iterates element by element from beginning to end)\n",
    "- tuples (same as lists)\n",
    "\n",
    "Any iterable can be cast into a list (and thus a tuple)"
   ]
  },
  {
   "cell_type": "code",
   "execution_count": 54,
   "metadata": {},
   "outputs": [
    {
     "data": {
      "text/plain": [
       "['H', 'e', 'l', 'l', 'o', ' ', 'W', 'o', 'r', 'l', 'd', '!']"
      ]
     },
     "execution_count": 54,
     "metadata": {},
     "output_type": "execute_result"
    }
   ],
   "source": [
    "list(\"Hello World!\")"
   ]
  },
  {
   "cell_type": "markdown",
   "metadata": {
    "slideshow": {
     "slide_type": "subslide"
    }
   },
   "source": [
    "# The most useful feature of iterable is creating `for` loops with them\n",
    "A `for` loop is a piece of code that executes once for each element of the iterable. Let's just look at an example to see how it works"
   ]
  },
  {
   "cell_type": "code",
   "execution_count": 57,
   "metadata": {},
   "outputs": [
    {
     "name": "stdout",
     "output_type": "stream",
     "text": [
      "1 squared is 1\n",
      "2 squared is 4\n",
      "3 squared is 9\n",
      "4 squared is 16\n",
      "5 squared is 25\n"
     ]
    }
   ],
   "source": [
    "nums = [1, 2, 3, 4, 5]\n",
    "for this_num in nums:\n",
    "    print(\"{:d} squared is {:d}\".format(this_num, this_num**2))"
   ]
  },
  {
   "cell_type": "markdown",
   "metadata": {},
   "source": [
    "The `for` line is the new bit here. It instructs the interpreter to repeatedly execute the following indented block (it can be many lines long), but at the beginning of each iteration, set the value of `this_num` to the next value found in `nums`.\n",
    "\n",
    "The counter variable (in this case, `this_num`) can be called whatever you like, though it is ideally not a pre-existing variable. Whatever you call it in the `for` statement must match how it appears in the body (indented code)."
   ]
  },
  {
   "cell_type": "markdown",
   "metadata": {
    "slideshow": {
     "slide_type": "subslide"
    }
   },
   "source": [
    "# Challenge: Print Each Letter (solution at end)\n",
    "Print each individual character of the string \"Hello World!\" by using a loop. That is, don't just use 12 separate `print` statements.  "
   ]
  },
  {
   "cell_type": "code",
   "execution_count": null,
   "metadata": {},
   "outputs": [],
   "source": []
  },
  {
   "cell_type": "markdown",
   "metadata": {
    "slideshow": {
     "slide_type": "subslide"
    }
   },
   "source": [
    "# The `range` iterable is like a lazy list of integers\n",
    "A `range` can step through some range of integers. You specifiy a starting value, one to stop **before**, and a stride, much like slicing. You can then iterate through the range with a `for` loop. So for example, we could print all integers greater than or equal to 2, but less than 14, and only every third such integer:"
   ]
  },
  {
   "cell_type": "code",
   "execution_count": 59,
   "metadata": {},
   "outputs": [
    {
     "name": "stdout",
     "output_type": "stream",
     "text": [
      "2\n",
      "5\n",
      "8\n",
      "11\n"
     ]
    }
   ],
   "source": [
    "for i in range(2, 14, 3):\n",
    "    print(i)"
   ]
  },
  {
   "cell_type": "markdown",
   "metadata": {},
   "source": [
    "Why use ranges?\n",
    "- Quicker than manually writing out a list\n",
    "- **Far** more performant. They only know the current value and how to get the next one; they don't store it all in memory\n",
    "- If you really just want a list, cast a range to a list: `list(range(0, 1000))`\n",
    "\n",
    "Shortcut: if you want to start at 0 and want every integer up to, but no including, the endpoint, you can just give a single argument. Ex. `range(5)` will yield 0, 1, 2, 3, and 4."
   ]
  },
  {
   "cell_type": "markdown",
   "metadata": {
    "slideshow": {
     "slide_type": "subslide"
    }
   },
   "source": [
    "# Challenge: Building a list from an iterable (solution at end)\n",
    "Construct a list of the first 1,000 cubes, starting at zero cubed. So the list should start with 0, 1, 8, 27, 64, etc.\n",
    "<details>\n",
    "<summary>Hint 1</summary>\n",
    "<br>\n",
    "Start with an empty list and then build it up by appending to it.\n",
    "</details>\n",
    "<details>\n",
    "<summary>Hint 2</summary>\n",
    "<br>\n",
    "    Loop over <code>range(1000)</code> to get each of the first 1000 numbers and do something with each one in the loop.\n",
    "</details>"
   ]
  },
  {
   "cell_type": "code",
   "execution_count": 43,
   "metadata": {},
   "outputs": [
    {
     "data": {
      "text/plain": [
       "[0, 1, 8, 27, 64]"
      ]
     },
     "execution_count": 43,
     "metadata": {},
     "output_type": "execute_result"
    }
   ],
   "source": []
  },
  {
   "cell_type": "markdown",
   "metadata": {
    "slideshow": {
     "slide_type": "subslide"
    }
   },
   "source": [
    "# Example: Creating a multiplication table (complete at end)\n",
    "Print every product $a\\times b$, letting both *a* and *b* vary from 0 to 9. For each calculation, format it so it looks like \"*a* × *b* = *N*\" where *N* is the actual product."
   ]
  },
  {
   "cell_type": "code",
   "execution_count": 66,
   "metadata": {},
   "outputs": [
    {
     "name": "stdout",
     "output_type": "stream",
     "text": [
      "0 × 0 =   0\n",
      "0 × 1 =   0\n",
      "0 × 2 =   0\n",
      "0 × 3 =   0\n",
      "0 × 4 =   0\n",
      "0 × 5 =   0\n",
      "0 × 6 =   0\n",
      "0 × 7 =   0\n",
      "0 × 8 =   0\n",
      "0 × 9 =   0\n",
      "1 × 0 =   0\n",
      "1 × 1 =   1\n",
      "1 × 2 =   2\n",
      "1 × 3 =   3\n",
      "1 × 4 =   4\n",
      "1 × 5 =   5\n",
      "1 × 6 =   6\n",
      "1 × 7 =   7\n",
      "1 × 8 =   8\n",
      "1 × 9 =   9\n",
      "2 × 0 =   0\n",
      "2 × 1 =   2\n",
      "2 × 2 =   4\n",
      "2 × 3 =   6\n",
      "2 × 4 =   8\n",
      "2 × 5 =  10\n",
      "2 × 6 =  12\n",
      "2 × 7 =  14\n",
      "2 × 8 =  16\n",
      "2 × 9 =  18\n",
      "3 × 0 =   0\n",
      "3 × 1 =   3\n",
      "3 × 2 =   6\n",
      "3 × 3 =   9\n",
      "3 × 4 =  12\n",
      "3 × 5 =  15\n",
      "3 × 6 =  18\n",
      "3 × 7 =  21\n",
      "3 × 8 =  24\n",
      "3 × 9 =  27\n",
      "4 × 0 =   0\n",
      "4 × 1 =   4\n",
      "4 × 2 =   8\n",
      "4 × 3 =  12\n",
      "4 × 4 =  16\n",
      "4 × 5 =  20\n",
      "4 × 6 =  24\n",
      "4 × 7 =  28\n",
      "4 × 8 =  32\n",
      "4 × 9 =  36\n",
      "5 × 0 =   0\n",
      "5 × 1 =   5\n",
      "5 × 2 =  10\n",
      "5 × 3 =  15\n",
      "5 × 4 =  20\n",
      "5 × 5 =  25\n",
      "5 × 6 =  30\n",
      "5 × 7 =  35\n",
      "5 × 8 =  40\n",
      "5 × 9 =  45\n",
      "6 × 0 =   0\n",
      "6 × 1 =   6\n",
      "6 × 2 =  12\n",
      "6 × 3 =  18\n",
      "6 × 4 =  24\n",
      "6 × 5 =  30\n",
      "6 × 6 =  36\n",
      "6 × 7 =  42\n",
      "6 × 8 =  48\n",
      "6 × 9 =  54\n",
      "7 × 0 =   0\n",
      "7 × 1 =   7\n",
      "7 × 2 =  14\n",
      "7 × 3 =  21\n",
      "7 × 4 =  28\n",
      "7 × 5 =  35\n",
      "7 × 6 =  42\n",
      "7 × 7 =  49\n",
      "7 × 8 =  56\n",
      "7 × 9 =  63\n",
      "8 × 0 =   0\n",
      "8 × 1 =   8\n",
      "8 × 2 =  16\n",
      "8 × 3 =  24\n",
      "8 × 4 =  32\n",
      "8 × 5 =  40\n",
      "8 × 6 =  48\n",
      "8 × 7 =  56\n",
      "8 × 8 =  64\n",
      "8 × 9 =  72\n",
      "9 × 0 =   0\n",
      "9 × 1 =   9\n",
      "9 × 2 =  18\n",
      "9 × 3 =  27\n",
      "9 × 4 =  36\n",
      "9 × 5 =  45\n",
      "9 × 6 =  54\n",
      "9 × 7 =  63\n",
      "9 × 8 =  72\n",
      "9 × 9 =  81\n"
     ]
    }
   ],
   "source": []
  },
  {
   "cell_type": "markdown",
   "metadata": {
    "slideshow": {
     "slide_type": "subslide"
    }
   },
   "source": [
    "# Last trick: the `enumerate` iterable\n",
    "`enumerate` lets you iterate over both the index [AND] the value of the elements of an iterable."
   ]
  },
  {
   "cell_type": "code",
   "execution_count": 68,
   "metadata": {},
   "outputs": [
    {
     "name": "stdout",
     "output_type": "stream",
     "text": [
      "i = 0, elt = 5\n",
      "i = 1, elt = 10\n",
      "i = 2, elt = 15\n",
      "i = 3, elt = 20\n",
      "i = 4, elt = 25\n"
     ]
    }
   ],
   "source": [
    "for i, elt in enumerate(range(5, 26, 5)):\n",
    "    print(\"i = {}, elt = {}\".format(i, elt))"
   ]
  },
  {
   "cell_type": "markdown",
   "metadata": {
    "slideshow": {
     "slide_type": "skip"
    }
   },
   "source": [
    "# Print Each Letter Solution"
   ]
  },
  {
   "cell_type": "code",
   "execution_count": 45,
   "metadata": {
    "slideshow": {
     "slide_type": "skip"
    }
   },
   "outputs": [
    {
     "name": "stdout",
     "output_type": "stream",
     "text": [
      "H\n",
      "e\n",
      "l\n",
      "l\n",
      "o\n",
      " \n",
      "W\n",
      "o\n",
      "r\n",
      "l\n",
      "d\n",
      "!\n"
     ]
    }
   ],
   "source": [
    "for char in 'Hello World!':\n",
    "    print(char)"
   ]
  },
  {
   "cell_type": "markdown",
   "metadata": {
    "slideshow": {
     "slide_type": "skip"
    }
   },
   "source": [
    "# Building a List from an Iterable Solution"
   ]
  },
  {
   "cell_type": "code",
   "execution_count": 44,
   "metadata": {
    "slideshow": {
     "slide_type": "skip"
    }
   },
   "outputs": [],
   "source": [
    "res = []\n",
    "for i in range(1000):\n",
    "    res.append(i**3)"
   ]
  },
  {
   "cell_type": "markdown",
   "metadata": {
    "slideshow": {
     "slide_type": "skip"
    }
   },
   "source": [
    "# Multiplication Table Complete"
   ]
  },
  {
   "cell_type": "code",
   "execution_count": 46,
   "metadata": {},
   "outputs": [
    {
     "name": "stdout",
     "output_type": "stream",
     "text": [
      "0 × 0 =   0\n",
      "0 × 1 =   0\n",
      "0 × 2 =   0\n",
      "0 × 3 =   0\n",
      "0 × 4 =   0\n",
      "0 × 5 =   0\n",
      "0 × 6 =   0\n",
      "0 × 7 =   0\n",
      "0 × 8 =   0\n",
      "0 × 9 =   0\n",
      "1 × 0 =   0\n",
      "1 × 1 =   1\n",
      "1 × 2 =   2\n",
      "1 × 3 =   3\n",
      "1 × 4 =   4\n",
      "1 × 5 =   5\n",
      "1 × 6 =   6\n",
      "1 × 7 =   7\n",
      "1 × 8 =   8\n",
      "1 × 9 =   9\n",
      "2 × 0 =   0\n",
      "2 × 1 =   2\n",
      "2 × 2 =   4\n",
      "2 × 3 =   6\n",
      "2 × 4 =   8\n",
      "2 × 5 =  10\n",
      "2 × 6 =  12\n",
      "2 × 7 =  14\n",
      "2 × 8 =  16\n",
      "2 × 9 =  18\n",
      "3 × 0 =   0\n",
      "3 × 1 =   3\n",
      "3 × 2 =   6\n",
      "3 × 3 =   9\n",
      "3 × 4 =  12\n",
      "3 × 5 =  15\n",
      "3 × 6 =  18\n",
      "3 × 7 =  21\n",
      "3 × 8 =  24\n",
      "3 × 9 =  27\n",
      "4 × 0 =   0\n",
      "4 × 1 =   4\n",
      "4 × 2 =   8\n",
      "4 × 3 =  12\n",
      "4 × 4 =  16\n",
      "4 × 5 =  20\n",
      "4 × 6 =  24\n",
      "4 × 7 =  28\n",
      "4 × 8 =  32\n",
      "4 × 9 =  36\n",
      "5 × 0 =   0\n",
      "5 × 1 =   5\n",
      "5 × 2 =  10\n",
      "5 × 3 =  15\n",
      "5 × 4 =  20\n",
      "5 × 5 =  25\n",
      "5 × 6 =  30\n",
      "5 × 7 =  35\n",
      "5 × 8 =  40\n",
      "5 × 9 =  45\n",
      "6 × 0 =   0\n",
      "6 × 1 =   6\n",
      "6 × 2 =  12\n",
      "6 × 3 =  18\n",
      "6 × 4 =  24\n",
      "6 × 5 =  30\n",
      "6 × 6 =  36\n",
      "6 × 7 =  42\n",
      "6 × 8 =  48\n",
      "6 × 9 =  54\n",
      "7 × 0 =   0\n",
      "7 × 1 =   7\n",
      "7 × 2 =  14\n",
      "7 × 3 =  21\n",
      "7 × 4 =  28\n",
      "7 × 5 =  35\n",
      "7 × 6 =  42\n",
      "7 × 7 =  49\n",
      "7 × 8 =  56\n",
      "7 × 9 =  63\n",
      "8 × 0 =   0\n",
      "8 × 1 =   8\n",
      "8 × 2 =  16\n",
      "8 × 3 =  24\n",
      "8 × 4 =  32\n",
      "8 × 5 =  40\n",
      "8 × 6 =  48\n",
      "8 × 7 =  56\n",
      "8 × 8 =  64\n",
      "8 × 9 =  72\n",
      "9 × 0 =   0\n",
      "9 × 1 =   9\n",
      "9 × 2 =  18\n",
      "9 × 3 =  27\n",
      "9 × 4 =  36\n",
      "9 × 5 =  45\n",
      "9 × 6 =  54\n",
      "9 × 7 =  63\n",
      "9 × 8 =  72\n",
      "9 × 9 =  81\n"
     ]
    }
   ],
   "source": [
    "for a in range(10):\n",
    "    for b in range(10):\n",
    "        print(\"{:1d} × {:1d} = {:3d}\".format(a, b, a * b))"
   ]
  },
  {
   "cell_type": "markdown",
   "metadata": {
    "slideshow": {
     "slide_type": "skip"
    }
   },
   "source": [
    "# Multiplication, but Prettier!"
   ]
  },
  {
   "cell_type": "code",
   "execution_count": 74,
   "metadata": {
    "slideshow": {
     "slide_type": "skip"
    }
   },
   "outputs": [
    {
     "name": "stdout",
     "output_type": "stream",
     "text": [
      "     ||  0  |  1  |  2  |  3  |  4  |  5  |  6  |  7  |  8  |  9  | 10  | 11  | 12  | 13  | 14  |\n",
      "-------------------------------------------------------------------------------------------------\n",
      "-------------------------------------------------------------------------------------------------\n",
      "  0  ||  0  |  0  |  0  |  0  |  0  |  0  |  0  |  0  |  0  |  0  |  0  |  0  |  0  |  0  |  0  |\n",
      "-------------------------------------------------------------------------------------------------\n",
      "  1  ||  0  |  1  |  2  |  3  |  4  |  5  |  6  |  7  |  8  |  9  | 10  | 11  | 12  | 13  | 14  |\n",
      "-------------------------------------------------------------------------------------------------\n",
      "  2  ||  0  |  2  |  4  |  6  |  8  | 10  | 12  | 14  | 16  | 18  | 20  | 22  | 24  | 26  | 28  |\n",
      "-------------------------------------------------------------------------------------------------\n",
      "  3  ||  0  |  3  |  6  |  9  | 12  | 15  | 18  | 21  | 24  | 27  | 30  | 33  | 36  | 39  | 42  |\n",
      "-------------------------------------------------------------------------------------------------\n",
      "  4  ||  0  |  4  |  8  | 12  | 16  | 20  | 24  | 28  | 32  | 36  | 40  | 44  | 48  | 52  | 56  |\n",
      "-------------------------------------------------------------------------------------------------\n",
      "  5  ||  0  |  5  | 10  | 15  | 20  | 25  | 30  | 35  | 40  | 45  | 50  | 55  | 60  | 65  | 70  |\n",
      "-------------------------------------------------------------------------------------------------\n",
      "  6  ||  0  |  6  | 12  | 18  | 24  | 30  | 36  | 42  | 48  | 54  | 60  | 66  | 72  | 78  | 84  |\n",
      "-------------------------------------------------------------------------------------------------\n",
      "  7  ||  0  |  7  | 14  | 21  | 28  | 35  | 42  | 49  | 56  | 63  | 70  | 77  | 84  | 91  | 98  |\n",
      "-------------------------------------------------------------------------------------------------\n",
      "  8  ||  0  |  8  | 16  | 24  | 32  | 40  | 48  | 56  | 64  | 72  | 80  | 88  | 96  | 104 | 112 |\n",
      "-------------------------------------------------------------------------------------------------\n",
      "  9  ||  0  |  9  | 18  | 27  | 36  | 45  | 54  | 63  | 72  | 81  | 90  | 99  | 108 | 117 | 126 |\n",
      "-------------------------------------------------------------------------------------------------\n",
      " 10  ||  0  | 10  | 20  | 30  | 40  | 50  | 60  | 70  | 80  | 90  | 100 | 110 | 120 | 130 | 140 |\n",
      "-------------------------------------------------------------------------------------------------\n",
      " 11  ||  0  | 11  | 22  | 33  | 44  | 55  | 66  | 77  | 88  | 99  | 110 | 121 | 132 | 143 | 154 |\n",
      "-------------------------------------------------------------------------------------------------\n",
      " 12  ||  0  | 12  | 24  | 36  | 48  | 60  | 72  | 84  | 96  | 108 | 120 | 132 | 144 | 156 | 168 |\n",
      "-------------------------------------------------------------------------------------------------\n",
      " 13  ||  0  | 13  | 26  | 39  | 52  | 65  | 78  | 91  | 104 | 117 | 130 | 143 | 156 | 169 | 182 |\n",
      "-------------------------------------------------------------------------------------------------\n",
      " 14  ||  0  | 14  | 28  | 42  | 56  | 70  | 84  | 98  | 112 | 126 | 140 | 154 | 168 | 182 | 196 |"
     ]
    }
   ],
   "source": [
    "def print_pretty_mult_table(factors):\n",
    "    # initial blank spot in upper left of table\n",
    "    print(' '*5, end='||')\n",
    "\n",
    "    # print top line of factors\n",
    "    for a in factors:\n",
    "        print(\"{:^5d}\".format(a), end='|')\n",
    "\n",
    "    # add first horizontal line. Will appear double since next loop \n",
    "    # starts with a horizontal line, too\n",
    "    print('\\n' + '-' * (6 * (len(factors) + 1) + 1), end='')\n",
    "\n",
    "    # print each line of table, starting with a newline to end previous\n",
    "    # line. Then add a horizontal divider, and start the \"real\" line with\n",
    "    # the factor, followed by products.\n",
    "    for b in factors:\n",
    "        # print horiontal divider\n",
    "        print('\\n' + '-' * (6 * (len(factors) + 1) + 1))\n",
    "\n",
    "        # print left column element\n",
    "        print(\"{:^5d}\".format(b), end='||')\n",
    "\n",
    "        for a in factors:\n",
    "            # print each multiple of b by looping over values of a\n",
    "            print(\"{:^5d}\".format(a*b), end=\"|\")\n",
    "\n",
    "print_pretty_mult_table(range(15))"
   ]
  },
  {
   "cell_type": "code",
   "execution_count": null,
   "metadata": {},
   "outputs": [],
   "source": []
  }
 ],
 "metadata": {
  "celltoolbar": "Slideshow",
  "kernelspec": {
   "display_name": "Python 3",
   "language": "python",
   "name": "python3"
  },
  "language_info": {
   "codemirror_mode": {
    "name": "ipython",
    "version": 3
   },
   "file_extension": ".py",
   "mimetype": "text/x-python",
   "name": "python",
   "nbconvert_exporter": "python",
   "pygments_lexer": "ipython3",
   "version": "3.7.8"
  },
  "rise": {
   "theme": "solarized",
   "transition": "fade"
  }
 },
 "nbformat": 4,
 "nbformat_minor": 4
}
