{
 "cells": [
  {
   "cell_type": "markdown",
   "metadata": {
    "slideshow": {
     "slide_type": "slide"
    }
   },
   "source": [
    "# Lists and For Loops\n",
    "## PHYS 240"
   ]
  },
  {
   "cell_type": "markdown",
   "metadata": {
    "nbgrader": {
     "grade": false,
     "grade_id": "cell-5c081c1c48b5095c",
     "locked": true,
     "schema_version": 3,
     "solution": false,
     "task": false
    },
    "slideshow": {
     "slide_type": "slide"
    }
   },
   "source": [
    "---\n",
    "# Data Types So Far\n",
    "So far, we have encountered six data types in python 3 and their associated constructor functions:\n",
    "- integers (ex. `int(1)`)\n",
    "- floating point numbers (ex. `float(1.0)`)\n",
    "- complex numbers (ex. `complex(1, 2)`, which yields (`1+2j`)\n",
    "- booleans (only `True` and `False`)\n",
    "- the \"None\" type (only `None`)\n",
    "- Strings (`str('hello world')`)\n",
    "\n",
    "Note that `NoneType` does not have a constructor, since there is only one object that is of this type, `None`."
   ]
  },
  {
   "cell_type": "markdown",
   "metadata": {
    "slideshow": {
     "slide_type": "subslide"
    }
   },
   "source": [
    "# Lists and Tuples are Collections of Objects\n",
    "## Lists: a *mutable*, ordered collection of objects\n",
    "- Can organize objects, add them, remove them, shuffle them around, and much more.\n",
    "- Objects can be of different types (not possible in some other languages)\n",
    "- Literal is comma-separated list of objects enclosed in square brackets\n",
    "```python\n",
    "my_first_list = [1, True, 'Hello, World!']\n",
    "```\n",
    "\n",
    "## Tuples: an *immutable*, ordered collection of objects\n",
    "- Like lists, but they **cannot** be changed after instantiated. What's there is there.\n",
    "- Literal: same as lists, but with parentheses:\n",
    "```python\n",
    "my_first_tuple = (1, True, 'Hello, World!')\n",
    "```"
   ]
  },
  {
   "cell_type": "markdown",
   "metadata": {
    "slideshow": {
     "slide_type": "slide"
    }
   },
   "source": [
    "# Lists can be accessed and edited using indexing\n",
    "Lists can be de-referenced (accessing one element) or sliced into sublists in *exactly* the same way as strings."
   ]
  },
  {
   "cell_type": "code",
   "execution_count": null,
   "metadata": {},
   "outputs": [],
   "source": [
    "my_first_list = [1, True, 'Hello World!']\n",
    "zeroth_elt = my_first_list[0]\n",
    "last_elt = my_first_list[-1]\n",
    "print(\"Zeroth element is {}\".format(zeroth_elt))\n",
    "print(\"Last element is {}\".format(last_elt))"
   ]
  },
  {
   "cell_type": "code",
   "execution_count": null,
   "metadata": {
    "slideshow": {
     "slide_type": "fragment"
    }
   },
   "outputs": [],
   "source": [
    "my_first_list[1:]"
   ]
  },
  {
   "cell_type": "markdown",
   "metadata": {
    "slideshow": {
     "slide_type": "subslide"
    }
   },
   "source": [
    "# Review Challenge: List Slicing (Solution at End)\n",
    "Take the list provided below, and slice it to produce a list with only the odd numbers between 2 and 8. Do this in a single line using slicing only."
   ]
  },
  {
   "cell_type": "code",
   "execution_count": null,
   "metadata": {},
   "outputs": [],
   "source": [
    "starter_list = [0, 1, 2, 3, 4, 5, 6, 7, 8, 9, 10]"
   ]
  },
  {
   "cell_type": "markdown",
   "metadata": {
    "slideshow": {
     "slide_type": "subslide"
    }
   },
   "source": [
    "# Lists are **mutable**, so we can change, delete, and add elements\n",
    "To change an element at a particular index, use assignment operator after de-referencing. That is, treat the \"element\" as a variable and just assign it to a new variable."
   ]
  },
  {
   "cell_type": "code",
   "execution_count": null,
   "metadata": {},
   "outputs": [],
   "source": [
    "print(my_first_list)\n",
    "my_first_list[1] = False\n",
    "print(my_first_list)"
   ]
  },
  {
   "cell_type": "markdown",
   "metadata": {
    "slideshow": {
     "slide_type": "fragment"
    }
   },
   "source": [
    "To remove the first instance of a particular **value** (not index!), we can use the `remove()` method. To just remove the last element, regardless of what it is, use the `pop()` method."
   ]
  },
  {
   "cell_type": "code",
   "execution_count": null,
   "metadata": {},
   "outputs": [],
   "source": [
    "my_first_list.remove(1)\n",
    "print(my_first_list)\n",
    "my_first_list.pop()\n",
    "print(my_first_list)"
   ]
  },
  {
   "cell_type": "markdown",
   "metadata": {
    "slideshow": {
     "slide_type": "fragment"
    }
   },
   "source": [
    "To insert a new element at a particular location, we can use the `insert` method, or to just add to the end of the list, we can use `append`."
   ]
  },
  {
   "cell_type": "code",
   "execution_count": null,
   "metadata": {},
   "outputs": [],
   "source": [
    "my_first_list.insert(0, 1)\n",
    "print(my_first_list)\n",
    "my_first_list.append('Hello World!')\n",
    "print(my_first_list)"
   ]
  },
  {
   "cell_type": "markdown",
   "metadata": {
    "slideshow": {
     "slide_type": "subslide"
    }
   },
   "source": [
    "# The Dark Side of Mutability\n",
    "Suppose we assign a new variable to the list object stored in a variable"
   ]
  },
  {
   "cell_type": "code",
   "execution_count": null,
   "metadata": {},
   "outputs": [],
   "source": [
    "my_second_list = my_first_list\n",
    "my_second_list"
   ]
  },
  {
   "cell_type": "markdown",
   "metadata": {},
   "source": [
    "Then we change a value in this new copy of the list"
   ]
  },
  {
   "cell_type": "code",
   "execution_count": null,
   "metadata": {},
   "outputs": [],
   "source": [
    "my_second_list[-1] = 'Goodbye World!'\n",
    "my_second_list"
   ]
  },
  {
   "cell_type": "markdown",
   "metadata": {},
   "source": [
    "Now from our experience with numbers, we'd expect `my_first_list` to be unchanged. Let's check!"
   ]
  },
  {
   "cell_type": "code",
   "execution_count": null,
   "metadata": {
    "slideshow": {
     "slide_type": "-"
    }
   },
   "outputs": [],
   "source": [
    "my_first_list"
   ]
  },
  {
   "cell_type": "markdown",
   "metadata": {
    "slideshow": {
     "slide_type": "fragment"
    }
   },
   "source": [
    "Uh oh! Since lists are **mutable**, we have to be more careful. The act of assigning `my_second_list` to `my_first_list` **did not make a copy**. Instead, `my_second_list` now just points to the same chunk of memory that `my_first_list` does. We say that `my_second_list` is a **reference** to `my_first_list`."
   ]
  },
  {
   "cell_type": "markdown",
   "metadata": {
    "slideshow": {
     "slide_type": "subslide"
    }
   },
   "source": [
    "# To make a distinct copy of a list, use the `list` constructor, take an \"entire slice\" of a list, or use the `copy` method.\n",
    "The list constructor:"
   ]
  },
  {
   "cell_type": "code",
   "execution_count": null,
   "metadata": {},
   "outputs": [],
   "source": [
    "my_second_list = list(my_first_list)\n",
    "print(\"my_second_list is\", my_second_list, sep='\\n')\n",
    "my_first_list[0] = my_first_list[0] + 1\n",
    "print(\"After changing my_first_list, my_second_list is (still)\", my_second_list, sep='\\n')"
   ]
  },
  {
   "cell_type": "markdown",
   "metadata": {
    "slideshow": {
     "slide_type": "fragment"
    }
   },
   "source": [
    "And taking an \"entire slice\":"
   ]
  },
  {
   "cell_type": "code",
   "execution_count": null,
   "metadata": {},
   "outputs": [],
   "source": [
    "my_second_list = my_first_list[:]\n",
    "print(\"my_second_list is\", my_second_list, sep='\\n')\n",
    "my_first_list[0] = my_first_list[0] + 1\n",
    "print(\"After changing my_first_list, my_second_list is (still)\", my_second_list, sep='\\n')"
   ]
  },
  {
   "cell_type": "markdown",
   "metadata": {
    "slideshow": {
     "slide_type": "fragment"
    }
   },
   "source": [
    "There is also a `copy` method that does the same thing: `my_second_list = my_first_list.copy()`."
   ]
  },
  {
   "cell_type": "markdown",
   "metadata": {
    "slideshow": {
     "slide_type": "subslide"
    }
   },
   "source": [
    "# Sorting lists: `my_list.sort()` and `sorted(my_list)`\n",
    "If the elements of a list can be sorted by simple means (i.e., they are are all numerical or all strings which can be sorted alphabetically), there are two ways to sort the list.\n",
    "\n",
    "## The `sort` method\n",
    "This method sorts the list **in place**. That is, it does not create a new list, and simply shuffles the order of the elements."
   ]
  },
  {
   "cell_type": "code",
   "execution_count": null,
   "metadata": {},
   "outputs": [],
   "source": [
    "nums = [3, 1, 2]\n",
    "print(nums.sort())\n",
    "print(nums)"
   ]
  },
  {
   "cell_type": "markdown",
   "metadata": {
    "slideshow": {
     "slide_type": "subslide"
    }
   },
   "source": [
    "# Sorting lists: `my_list.sort()` and `sorted(my_list)`\n",
    "## The `sorted` function\n",
    "`sorted` is a built-in function (i.e. **not** a method) that returns a **new list** that is sorted, leaving the argument unchanged."
   ]
  },
  {
   "cell_type": "code",
   "execution_count": null,
   "metadata": {},
   "outputs": [],
   "source": [
    "nums = [3, 1, 2]\n",
    "sorted_nums = sorted(nums)\n",
    "print('nums is       ', nums)\n",
    "print('sorted_nums is', sorted_nums)"
   ]
  },
  {
   "cell_type": "markdown",
   "metadata": {},
   "source": [
    "Both options have an optional keyword argument `reverse` that you can set to `True` to reverse the sorting order."
   ]
  },
  {
   "cell_type": "code",
   "execution_count": null,
   "metadata": {},
   "outputs": [],
   "source": [
    "print(sorted([3, 1, 2], reverse=True))"
   ]
  },
  {
   "cell_type": "markdown",
   "metadata": {
    "slideshow": {
     "slide_type": "subslide"
    }
   },
   "source": [
    "# Concatenating lists with `list_1.extend(list_2)` and `list_1 + list_2`\n",
    "The `extend` method tacks the elements of one list on to another, *changing* the calling list. It does *not* return the new list; it only changes the list it was called from."
   ]
  },
  {
   "cell_type": "code",
   "execution_count": null,
   "metadata": {},
   "outputs": [],
   "source": [
    "first = [1, 2, 3]\n",
    "second = [4, 5, 6]\n",
    "print(first.extend(second))\n",
    "print(first)"
   ]
  },
  {
   "cell_type": "markdown",
   "metadata": {
    "slideshow": {
     "slide_type": "fragment"
    }
   },
   "source": [
    "A similar effect can be achieved by simply adding two lists together. This returns a **new list** and does not change either of the two lists"
   ]
  },
  {
   "cell_type": "code",
   "execution_count": null,
   "metadata": {},
   "outputs": [],
   "source": [
    "first = [1, 2, 3]\n",
    "second = [4, 5, 6]\n",
    "combined = first + second\n",
    "print(first)\n",
    "print(combined)"
   ]
  },
  {
   "cell_type": "markdown",
   "metadata": {
    "slideshow": {
     "slide_type": "subslide"
    }
   },
   "source": [
    "# Other useful methods: `index` and `count`\n",
    "Just like with strings, the `index` method returns the index of the first appearance of an element in a list, and **raises an error if none exist**"
   ]
  },
  {
   "cell_type": "code",
   "execution_count": null,
   "metadata": {},
   "outputs": [],
   "source": [
    "['a', 'b', 'b', 'c'].index('b')"
   ]
  },
  {
   "cell_type": "markdown",
   "metadata": {
    "slideshow": {
     "slide_type": "fragment"
    }
   },
   "source": [
    "The `count` method counts the number of times a particular element appears in a list"
   ]
  },
  {
   "cell_type": "code",
   "execution_count": null,
   "metadata": {},
   "outputs": [],
   "source": [
    "['a', 'b', 'b', 'c'].count('b')"
   ]
  },
  {
   "cell_type": "markdown",
   "metadata": {
    "slideshow": {
     "slide_type": "slide"
    }
   },
   "source": [
    "# Tuples are essentially immutable lists\n",
    "Once they are set, they cannot be changed; only overwritten. Can still index and slice, but can't update values, append, extend, insert, delete, etc."
   ]
  },
  {
   "cell_type": "code",
   "execution_count": null,
   "metadata": {},
   "outputs": [],
   "source": [
    "my_first_tuple = (1, True, 'Hello World')\n",
    "my_first_tuple"
   ]
  },
  {
   "cell_type": "code",
   "execution_count": null,
   "metadata": {},
   "outputs": [],
   "source": [
    "my_first_tuple[1] = False"
   ]
  },
  {
   "cell_type": "markdown",
   "metadata": {
    "slideshow": {
     "slide_type": "subslide"
    }
   },
   "source": [
    "# Singletons are single-element tuples\n",
    "Since the use of parentheses would be ambiguous without any commas (is `(1)` a one-element tuple, or just parentheses around the number 1?), a **singleton** has a dangling comma at the end."
   ]
  },
  {
   "cell_type": "code",
   "execution_count": null,
   "metadata": {},
   "outputs": [],
   "source": [
    "my_singleton = ('a',)\n",
    "my_singleton"
   ]
  },
  {
   "cell_type": "markdown",
   "metadata": {
    "slideshow": {
     "slide_type": "subslide"
    }
   },
   "source": [
    "# Why use tuples?\n",
    "- Slightly faster than lists\n",
    "- Protect data you know shouldn't be changed\n",
    "- \"Tuple Packing\": assign multiple values simultaneously by implicitly using tuples"
   ]
  },
  {
   "cell_type": "code",
   "execution_count": null,
   "metadata": {},
   "outputs": [],
   "source": [
    "(a, b, c) = 1, 2, 3\n",
    "print(\"a:\", a)\n",
    "print(\"b:\", b)\n",
    "print(\"c:\", c)"
   ]
  },
  {
   "cell_type": "markdown",
   "metadata": {},
   "source": [
    "## Nifty Trick: Convert a list to a tuple\n",
    "Maybe you need to build up a list, but then you want to \"freeze\" it. Simply cast it into a tuple once it's ready using the `tuple` constructor, a la `my_tuple = tuple(my_list)`."
   ]
  },
  {
   "cell_type": "markdown",
   "metadata": {
    "slideshow": {
     "slide_type": "slide"
    }
   },
   "source": [
    "# An iterable is any object that knows how to traverse itself\n",
    "By traverse, we mean how to get each piece of itself in succession. Some examples iterables we've seen so far:\n",
    "- strings (iterates character by character from beginning to end)\n",
    "- lists (iterates element by element from beginning to end)\n",
    "- tuples (same as lists)\n",
    "\n",
    "Any iterable can be cast into a list (and thus a tuple)"
   ]
  },
  {
   "cell_type": "code",
   "execution_count": null,
   "metadata": {},
   "outputs": [],
   "source": [
    "list(\"Hello World!\")"
   ]
  },
  {
   "cell_type": "markdown",
   "metadata": {
    "slideshow": {
     "slide_type": "subslide"
    }
   },
   "source": [
    "# The most useful feature of iterable is creating `for` loops with them\n",
    "A `for` loop is a piece of code that executes once for each element of the iterable. Let's just look at an example to see how it works"
   ]
  },
  {
   "cell_type": "code",
   "execution_count": null,
   "metadata": {},
   "outputs": [],
   "source": [
    "nums = [1, 2, 3, 4, 5]\n",
    "for this_num in nums:\n",
    "    print(f\"{this_num} squared is {this_num**2}\")"
   ]
  },
  {
   "cell_type": "markdown",
   "metadata": {},
   "source": [
    "The `for` line is the new bit here. It instructs the interpreter to repeatedly execute the following indented block (it can be many lines long), but at the beginning of each iteration, set the value of `this_num` to the next value found in `nums`.\n",
    "\n",
    "The counter variable (in this case, `this_num`) can be called whatever you like, though it is ideally not a pre-existing variable. Whatever you call it in the `for` statement must match how it appears in the body (indented code)."
   ]
  },
  {
   "cell_type": "markdown",
   "metadata": {
    "slideshow": {
     "slide_type": "subslide"
    }
   },
   "source": [
    "# Challenge: Print Each Letter (solution at end)\n",
    "Print each individual character of the string \"Hello World!\" by using a loop. That is, don't just use 12 separate `print` statements.  "
   ]
  },
  {
   "cell_type": "code",
   "execution_count": null,
   "metadata": {},
   "outputs": [],
   "source": []
  },
  {
   "cell_type": "markdown",
   "metadata": {
    "slideshow": {
     "slide_type": "subslide"
    }
   },
   "source": [
    "# The `range` iterable is like a lazy list of integers\n",
    "A `range` can step through some range of integers. You specifiy a starting value, one to stop **before**, and a stride, much like slicing. You can then iterate through the range with a `for` loop. So for example, we could print all integers greater than or equal to 2, but less than 14, and only every third such integer:"
   ]
  },
  {
   "cell_type": "code",
   "execution_count": null,
   "metadata": {},
   "outputs": [],
   "source": [
    "for i in range(2, 14, 3):\n",
    "    print(i)"
   ]
  },
  {
   "cell_type": "markdown",
   "metadata": {},
   "source": [
    "Why use ranges?\n",
    "- Quicker than manually writing out a list\n",
    "- **Far** more performant. They only know the current value and how to get the next one; they don't store it all in memory\n",
    "- If you really just want a list, cast a range to a list: `list(range(0, 1000))`\n",
    "\n",
    "Shortcut: if you want to start at 0 and want every integer up to, but no including, the endpoint, you can just give a single argument. Ex. `range(5)` will yield 0, 1, 2, 3, and 4."
   ]
  },
  {
   "cell_type": "markdown",
   "metadata": {
    "slideshow": {
     "slide_type": "subslide"
    }
   },
   "source": [
    "# Challenge: Building a list from an iterable (solution at end)\n",
    "Construct a list of the first 1,000 cubes, starting at zero cubed. So the list should start with 0, 1, 8, 27, 64, etc.\n",
    "<details>\n",
    "<summary>Hint 1</summary>\n",
    "<br>\n",
    "Start with an empty list and then build it up by appending to it.\n",
    "</details>\n",
    "<details>\n",
    "<summary>Hint 2</summary>\n",
    "<br>\n",
    "    Loop over <code>range(1000)</code> to get each of the first 1000 numbers and do something with each one in the loop.\n",
    "</details>"
   ]
  },
  {
   "cell_type": "code",
   "execution_count": null,
   "metadata": {},
   "outputs": [],
   "source": []
  },
  {
   "cell_type": "markdown",
   "metadata": {
    "slideshow": {
     "slide_type": "subslide"
    }
   },
   "source": [
    "# Example: Creating a multiplication table (complete at end)\n",
    "Print every product $a\\times b$, letting both *a* and *b* vary from 0 to 9. For each calculation, format it so it looks like \"*a* × *b* = *N*\" where *N* is the actual product."
   ]
  },
  {
   "cell_type": "code",
   "execution_count": null,
   "metadata": {},
   "outputs": [],
   "source": []
  },
  {
   "cell_type": "markdown",
   "metadata": {
    "slideshow": {
     "slide_type": "subslide"
    }
   },
   "source": [
    "# Last trick: the `enumerate` iterable\n",
    "`enumerate` lets you iterate over both the index [AND] the value of the elements of an iterable. Note that the \"looping\" variable is actually an unpacked tuple (`i, elt`). The first variable will hold on to the index, while the second will hold the value at that index."
   ]
  },
  {
   "cell_type": "code",
   "execution_count": null,
   "metadata": {},
   "outputs": [],
   "source": [
    "for i, elt in enumerate(range(5, 26, 5)):\n",
    "    print(f\"i = {i}, elt = {elt}\")"
   ]
  },
  {
   "cell_type": "markdown",
   "metadata": {
    "slideshow": {
     "slide_type": "skip"
    }
   },
   "source": [
    "# Review Challenge: List Slicing (Solution at End)\n",
    "Take the list provided below, and slice it to produce a list with only the odd numbers between 2 and 8. Do this in a single line using slicing only."
   ]
  },
  {
   "cell_type": "code",
   "execution_count": null,
   "metadata": {
    "slideshow": {
     "slide_type": "skip"
    }
   },
   "outputs": [],
   "source": [
    "starter_list = [0, 1, 2, 3, 4, 5, 6, 7, 8, 9, 10]\n",
    "starter_list[3:8:2]"
   ]
  },
  {
   "cell_type": "markdown",
   "metadata": {
    "slideshow": {
     "slide_type": "skip"
    }
   },
   "source": [
    "# Print Each Letter Solution"
   ]
  },
  {
   "cell_type": "code",
   "execution_count": null,
   "metadata": {
    "slideshow": {
     "slide_type": "skip"
    }
   },
   "outputs": [],
   "source": [
    "for char in 'Hello World!':\n",
    "    print(char)"
   ]
  },
  {
   "cell_type": "markdown",
   "metadata": {
    "slideshow": {
     "slide_type": "skip"
    }
   },
   "source": [
    "# Building a List from an Iterable Solution"
   ]
  },
  {
   "cell_type": "code",
   "execution_count": null,
   "metadata": {
    "slideshow": {
     "slide_type": "skip"
    }
   },
   "outputs": [],
   "source": [
    "res = []\n",
    "for i in range(1000):\n",
    "    res.append(i**3)"
   ]
  },
  {
   "cell_type": "markdown",
   "metadata": {
    "slideshow": {
     "slide_type": "skip"
    }
   },
   "source": [
    "# Multiplication Table Complete"
   ]
  },
  {
   "cell_type": "code",
   "execution_count": null,
   "metadata": {
    "slideshow": {
     "slide_type": "skip"
    }
   },
   "outputs": [],
   "source": [
    "for a in range(10):\n",
    "    for b in range(10):\n",
    "        print(f\"{a:1d} × {b:1d} = {a * b:3d}\")"
   ]
  },
  {
   "cell_type": "markdown",
   "metadata": {
    "slideshow": {
     "slide_type": "skip"
    }
   },
   "source": [
    "# Multiplication, but Prettier!"
   ]
  },
  {
   "cell_type": "code",
   "execution_count": null,
   "metadata": {
    "slideshow": {
     "slide_type": "skip"
    }
   },
   "outputs": [],
   "source": [
    "def print_pretty_mult_table(factors):\n",
    "    # initial blank spot in upper left of table\n",
    "    print(' '*5, end='||')\n",
    "\n",
    "    # print top line of factors\n",
    "    for a in factors:\n",
    "        print(\"{:^5d}\".format(a), end='|')\n",
    "\n",
    "    # add first horizontal line. Will appear double since next loop \n",
    "    # starts with a horizontal line, too\n",
    "    print('\\n' + '-' * (6 * (len(factors) + 1) + 1), end='')\n",
    "\n",
    "    # print each line of table, starting with a newline to end previous\n",
    "    # line. Then add a horizontal divider, and start the \"real\" line with\n",
    "    # the factor, followed by products.\n",
    "    for b in factors:\n",
    "        # print horiontal divider\n",
    "        print('\\n' + '-' * (6 * (len(factors) + 1) + 1))\n",
    "\n",
    "        # print left column element\n",
    "        print(\"{:^5d}\".format(b), end='||')\n",
    "\n",
    "        for a in factors:\n",
    "            # print each multiple of b by looping over values of a\n",
    "            print(\"{:^5d}\".format(a*b), end=\"|\")\n",
    "\n",
    "print_pretty_mult_table(range(15))"
   ]
  },
  {
   "cell_type": "code",
   "execution_count": null,
   "metadata": {},
   "outputs": [],
   "source": []
  }
 ],
 "metadata": {
  "celltoolbar": "Slideshow",
  "kernelspec": {
   "display_name": "Python 3 (ipykernel)",
   "language": "python",
   "name": "python3"
  },
  "language_info": {
   "codemirror_mode": {
    "name": "ipython",
    "version": 3
   },
   "file_extension": ".py",
   "mimetype": "text/x-python",
   "name": "python",
   "nbconvert_exporter": "python",
   "pygments_lexer": "ipython3",
   "version": "3.11.3"
  },
  "rise": {
   "theme": "solarized",
   "transition": "fade"
  }
 },
 "nbformat": 4,
 "nbformat_minor": 4
}
