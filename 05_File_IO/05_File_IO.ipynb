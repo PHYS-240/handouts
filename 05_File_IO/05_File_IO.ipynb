{
 "cells": [
  {
   "cell_type": "markdown",
   "metadata": {
    "nbgrader": {
     "grade": false,
     "grade_id": "cell-5c081c1c48b5095c",
     "locked": true,
     "schema_version": 3,
     "solution": false,
     "task": false
    },
    "slideshow": {
     "slide_type": "slide"
    }
   },
   "source": [
    "---\n",
    "# File I/O\n",
    "\n",
    "### PHYS 240\n",
    "### Dr. Wolf"
   ]
  },
  {
   "cell_type": "markdown",
   "metadata": {
    "slideshow": {
     "slide_type": "slide"
    }
   },
   "source": [
    "# \"File I/O\" refers to reading (**I**nput) and writing (**O**utput) files\n",
    "Examples:\n",
    "- Keep grade data in a comma-separated-value (CSV) file, compute averages and plot histograms in a program that reads data in\n",
    "- Perform orbital dynamics simulation and write positions and momenta of all particles to a file at each timestep for later analysis\n",
    "- Gather data from an open-source provider, read it in, and search for patterns and trends\n",
    "\n",
    "Files usually store many lines of **text**, so File I/O usually comes hand in hand with lists and string manipulation."
   ]
  },
  {
   "cell_type": "markdown",
   "metadata": {
    "slideshow": {
     "slide_type": "subslide"
    }
   },
   "source": [
    "# Files are represented in python as their own objects that can be written to or read from\n",
    "We create a file object (which represents a file on the computer) with the `open()` function, which is sort of like a constructor for the `file` datatype. The first argument is the name of the file, and the second is the \"mode\" we want the file to work in. There are several modes, but the most useful ones are summarized below\n",
    "\n",
    "| Mode | Description                                  |\n",
    "|:----:|:---------------------------------------------|\n",
    "| `r`  | **Read** from a file **only**; no writing    |\n",
    "| `w`  | **Write** to blank (or newly erased) file    |\n",
    "| `a`  | **Append** (write, but don't erase) to the end of a file |\n",
    "| `r+` | **Read** *or* **write** text from/to file    |"
   ]
  },
  {
   "cell_type": "markdown",
   "metadata": {
    "slideshow": {
     "slide_type": "slide"
    }
   },
   "source": [
    "# First example: writing a simple file\n",
    "We want to create a new file called `hello.txt` and open it for writing. Then we will write the string `\"Hello, world!\"` to it. Finally we will close the file (more on closing in a bit)."
   ]
  },
  {
   "cell_type": "code",
   "execution_count": null,
   "metadata": {},
   "outputs": [],
   "source": [
    "f = open('hello.txt', 'w')\n",
    "f.write('Hello, world!')\n",
    "f.close()"
   ]
  },
  {
   "cell_type": "markdown",
   "metadata": {
    "slideshow": {
     "slide_type": "-"
    }
   },
   "source": [
    "After executing this code look in your files list, and you should find `hello.txt` waiting for you. Open it up and see what it contains."
   ]
  },
  {
   "cell_type": "markdown",
   "metadata": {
    "slideshow": {
     "slide_type": "subslide"
    }
   },
   "source": [
    "# Second Example: overwriting a file\n",
    "We've created `hello.txt`, but what happens if we open that file again and write a different string to it?"
   ]
  },
  {
   "cell_type": "code",
   "execution_count": null,
   "metadata": {},
   "outputs": [],
   "source": [
    "f = open('hello.txt', 'w')\n",
    "f.write('Goodbye, world!')\n",
    "f.close()"
   ]
  },
  {
   "cell_type": "markdown",
   "metadata": {},
   "source": [
    "Look again at the contents of `hello.txt`. What happend?"
   ]
  },
  {
   "cell_type": "markdown",
   "metadata": {
    "slideshow": {
     "slide_type": "subslide"
    }
   },
   "source": [
    "# Aside: Filenames\n",
    "While we won't delve into the bowels of operating system, we should explain a bit about how files are named. File names have two parts separated by a period: the base name and the extension:\n",
    "<div style=\"width: 50%; margin: auto;\">\n",
    "    <img src=filename.svg alt=\"Filename Anatomy\">\n",
    "</div>"
   ]
  },
  {
   "cell_type": "markdown",
   "metadata": {
    "slideshow": {
     "slide_type": "-"
    }
   },
   "source": [
    "## Base name\n",
    "What you probably think of the file. Usually text, numbers, underscores. When possible, best to avoide spaces and other special characters (some operating systems get grumpy).\n",
    "\n",
    "## Extension\n",
    "Even if you don't see it in your OS, they're there. Indicates to OS or program how to interpret the data inside (e.g. plain text, comma-separated data, binary data, h.265-encoded video, etc.)."
   ]
  },
  {
   "cell_type": "markdown",
   "metadata": {
    "slideshow": {
     "slide_type": "subslide"
    }
   },
   "source": [
    "# `f.close()`: Why bother closing?\n",
    "- Don't want to risk corrupting the file with accidental writes\n",
    "- While a file is open, operating system won't let other resources open the file.\n",
    "- Even if it's in read mode, what if a program gets stuck in an infinite loop while a file is open?\n",
    "\n",
    "Best practice: open, do what you need to do, and close as fast as possible!\n"
   ]
  },
  {
   "cell_type": "markdown",
   "metadata": {
    "slideshow": {
     "slide_type": "subslide"
    }
   },
   "source": [
    "# File methods: writing\n",
    "If a file has a write-compatible mode (`'w'`, `'a'`, or `'r+'`), the following methods can write (or append) to a file:\n",
    "- `write()`: takes argument (a string) and writes to the file or appends to the end of it\n",
    "- `writelines()`: takes a list of strings and writes each to file. Does **not** add new lines for you!"
   ]
  },
  {
   "cell_type": "code",
   "execution_count": null,
   "metadata": {},
   "outputs": [],
   "source": [
    "f = open('several_lines.txt', 'w')\n",
    "f.writelines(['is', 'each', 'word', 'a', 'line?'])\n",
    "f.close()"
   ]
  },
  {
   "cell_type": "markdown",
   "metadata": {
    "slideshow": {
     "slide_type": "skip"
    }
   },
   "source": [
    "We should change the above cell to this code to show how we could use `write` and the `join` method of strings to actually output multiple lines:\n",
    "```python\n",
    "f = open('several_lines.txt', 'w')\n",
    "f.write('\\n'.join(['is', 'each', 'word', 'a', 'line?']))\n",
    "f.close()\n",
    "```"
   ]
  },
  {
   "cell_type": "markdown",
   "metadata": {},
   "source": [
    "If in append mode (`'a'`) instead of write mode, these methods add text to the very end of a file rather than overwriting the contentes of the files."
   ]
  },
  {
   "cell_type": "markdown",
   "metadata": {
    "slideshow": {
     "slide_type": "subslide"
    }
   },
   "source": [
    "# Writing to files with print\n",
    "If a file is opened in a mode that allows writing, we can also redirect the output of print to a file. This is nice since we know how to change some behavior of `print` already. To direct this output to a file, simply set the keyword argument `print` to the file object in question."
   ]
  },
  {
   "cell_type": "code",
   "execution_count": null,
   "metadata": {},
   "outputs": [],
   "source": [
    "f = open('from_print.txt', 'w')\n",
    "print('this', 'came', 'from', 'calling', 'print', sep='\\t', end='!!!', file=f)\n",
    "f.close()"
   ]
  },
  {
   "cell_type": "markdown",
   "metadata": {
    "slideshow": {
     "slide_type": "slide"
    }
   },
   "source": [
    "# File methods: reading\n",
    "If a file has a read-compatible mode (`r`, `r+`), we can extract text from the file (though reading alone cannot change the file). We have three useful methods:\n",
    "\n",
    "- `read()`: With no argument, reads entire contents of file into a single string\n",
    "- `readline()`: Reads current (default: first) line, up to and including the newline character, into a string. A subsequent call to `readline()` will read in the *next* line.\n",
    "- `readlines()`: Reads in all lines into a list of strings, each including the newline character"
   ]
  },
  {
   "cell_type": "markdown",
   "metadata": {
    "slideshow": {
     "slide_type": "subslide"
    }
   },
   "source": [
    "# Three ways to read!"
   ]
  },
  {
   "cell_type": "code",
   "execution_count": null,
   "metadata": {},
   "outputs": [],
   "source": [
    "# read: all in one go\n",
    "f = open('several_lines.txt', 'r')\n",
    "read_contents = f.read()\n",
    "f.close()\n",
    "print(read_contents)"
   ]
  },
  {
   "cell_type": "code",
   "execution_count": null,
   "metadata": {},
   "outputs": [],
   "source": [
    "# readline: just one line at a time\n",
    "f = open('several_lines.txt', 'r')\n",
    "first_line = f.readline()\n",
    "second_line = f.readline()\n",
    "f.close()\n",
    "print('first line is \"{}\"'.format(first_line))\n",
    "print('second line is \"{}\"'.format(second_line))"
   ]
  },
  {
   "cell_type": "code",
   "execution_count": null,
   "metadata": {},
   "outputs": [],
   "source": [
    "# readlines: all lines as a list of strings\n",
    "f = open('several_lines.txt', 'r')\n",
    "readlines_contents = f.readlines()\n",
    "f.close()\n",
    "readlines_contents"
   ]
  },
  {
   "cell_type": "markdown",
   "metadata": {
    "slideshow": {
     "slide_type": "subslide"
    }
   },
   "source": [
    "# The Dr. Wolf Special\n",
    "Often (**very often**), you want a **list** of strings representing each line, but _without_ the newline characters at the end. One could transform the result of calling the `readlines` method of a file, but I prefer using `read` and `split` to accomplish the same task a bit more cleanly:"
   ]
  },
  {
   "cell_type": "code",
   "execution_count": null,
   "metadata": {},
   "outputs": [],
   "source": [
    "f = open('several_lines.txt', 'r')\n",
    "# read contents, remove any whitespace at the end, and then get\n",
    "# a list of all lines\n",
    "lines = f.read().rstrip().split('\\n')\n",
    "f.close()\n",
    "print(f'Lines is a {type(lines)} with a value of {lines}')"
   ]
  },
  {
   "cell_type": "markdown",
   "metadata": {
    "slideshow": {
     "slide_type": "slide"
    }
   },
   "source": [
    "# One more trick: text files are iterable\n",
    "Their \"elements\" are lines. So looping over a file effectively pipes the return value of `readline` into the looping variable."
   ]
  },
  {
   "cell_type": "code",
   "execution_count": null,
   "metadata": {},
   "outputs": [],
   "source": [
    "f = open('several_lines.txt', 'r')\n",
    "for line in f:\n",
    "    print(line)\n",
    "f.close()"
   ]
  },
  {
   "cell_type": "markdown",
   "metadata": {},
   "source": [
    "Recall: each line has its own newline character, and each call to print also adds its own newline. We could get rid of the one from the lines by calling the `strip` method on strings, and we could also change the behavior of `print` by setting the `end` keyword argument to something more appropriate."
   ]
  },
  {
   "cell_type": "markdown",
   "metadata": {
    "slideshow": {
     "slide_type": "slide"
    }
   },
   "source": [
    "# File types: Comma-Separated Values (`.csv`)\n",
    "```\n",
    "val1a,val1b,val1c,val1d\n",
    "val2a,val2b,val2c,val2d\n",
    "```\n",
    "- **Rows** are separated by newlines\n",
    "- **Columns** are separated by commas"
   ]
  },
  {
   "cell_type": "markdown",
   "metadata": {
    "slideshow": {
     "slide_type": "skip"
    }
   },
   "source": [
    "This is a **very** common (and useful) file format that can even be read in and saved from spreadsheet applications like Excel, Google Sheets, and Numbers. The only major downside is when you have to deal with values that themselves should have commas in them!"
   ]
  },
  {
   "cell_type": "markdown",
   "metadata": {
    "slideshow": {
     "slide_type": "subslide"
    }
   },
   "source": [
    "# Example: Airline Safety Data (Solution at End)\n",
    "Along with this handout is a file called `airline_safety.csv` that contains data on avearge weekly kilometer-seats of various airlines (how many seats travel how many kilometers each week) and how many fatalities occurred on flights from those airlines over various time frames. It is stored in a comma-separated-value (CSV) format.\n",
    "\n",
    "Examine this data and then write a program to ingest this data into a list of lists. The main list should have one list for each column, each sub-list should be composed of strings or integers as is appropriate for the data."
   ]
  },
  {
   "cell_type": "code",
   "execution_count": null,
   "metadata": {
    "slideshow": {
     "slide_type": "subslide"
    }
   },
   "outputs": [],
   "source": [
    "# do this together in class\n",
    "# Read data from file\n",
    "\n",
    "# set up data structures (lists) for headers and data\n",
    "\n",
    "# Process data into lists\n",
    "\n",
    "# For fun: plot stuff!"
   ]
  },
  {
   "cell_type": "markdown",
   "metadata": {
    "slideshow": {
     "slide_type": "subslide"
    }
   },
   "source": [
    "# A Final Project Tease\n",
    "`pandas` is an extremely powerful tool that makes ingesting and working with large datasets extremely easy. Compare the last example with the code below."
   ]
  },
  {
   "cell_type": "code",
   "execution_count": null,
   "metadata": {},
   "outputs": [],
   "source": [
    "import pandas as pd\n",
    "df = pd.read_csv('airline_safety.csv')\n",
    "df"
   ]
  },
  {
   "cell_type": "markdown",
   "metadata": {
    "slideshow": {
     "slide_type": "skip"
    }
   },
   "source": [
    "# Example: Airline Safety Data SOLUTION"
   ]
  },
  {
   "cell_type": "code",
   "execution_count": null,
   "metadata": {
    "slideshow": {
     "slide_type": "skip"
    }
   },
   "outputs": [],
   "source": [
    "# open up file read data into a list of strings, and close the file\n",
    "f = open('airline_safety.csv', 'r')\n",
    "lines = f.read().rstrip().split('\\n')\n",
    "f.close()\n",
    "\n",
    "# extract headers (first line of strings)\n",
    "headers = lines[0].split(',')\n",
    "\n",
    "# set up data structure, which will be a list of lists.\n",
    "# Each sub-list will contain one column of data\n",
    "data = []\n",
    "for _ in range(len(headers)):\n",
    "    data.append([])\n",
    "    \n",
    "# Process the non-header data line by line\n",
    "for line in lines[1:]:\n",
    "    # break line up by element and plop each datum\n",
    "    # into the right list of `data`\n",
    "    for i_col, datum in enumerate(line.split(',')):\n",
    "        if i_col == 0:\n",
    "            # zeroth row is a string, so just append the\n",
    "            # value with no processing\n",
    "            data[i_col].append(datum)\n",
    "        else:\n",
    "            # all other rows are just integers, so convert\n",
    "            # the to integers before appending\n",
    "            data[i_col].append(int(datum))\n",
    "            \n",
    "# plot everything for funsies (we'll learn about this soon!)\n",
    "xs = data[headers.index('avail_seat_km_per_week')]\n",
    "ys = data[headers.index('fatalities_00_14')]\n",
    "            \n",
    "import matplotlib.pyplot as plt\n",
    "plt.style.use('default')\n",
    "plt.scatter(xs, ys)\n",
    "plt.xscale('log')\n",
    "# plt.yscale('log')\n",
    "plt.xlabel(\"Weekly Available Seat Kilometers\")\n",
    "plt.ylabel(\"Fatalaties Between 2000 and 2014\")\n"
   ]
  }
 ],
 "metadata": {
  "celltoolbar": "Slideshow",
  "kernelspec": {
   "display_name": "Python 3 (ipykernel)",
   "language": "python",
   "name": "python3"
  },
  "language_info": {
   "codemirror_mode": {
    "name": "ipython",
    "version": 3
   },
   "file_extension": ".py",
   "mimetype": "text/x-python",
   "name": "python",
   "nbconvert_exporter": "python",
   "pygments_lexer": "ipython3",
   "version": "3.10.12"
  },
  "rise": {
   "theme": "solarized",
   "transition": "fade"
  }
 },
 "nbformat": 4,
 "nbformat_minor": 4
}
