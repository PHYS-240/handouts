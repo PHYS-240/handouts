{
 "cells": [
  {
   "cell_type": "markdown",
   "metadata": {
    "nbgrader": {
     "grade": false,
     "grade_id": "cell-5c081c1c48b5095c",
     "locked": true,
     "schema_version": 3,
     "solution": false,
     "task": false
    },
    "slideshow": {
     "slide_type": "slide"
    }
   },
   "source": [
    "---\n",
    "# File I/O\n",
    "\n",
    "### PHYS 240\n",
    "### Dr. Wolf"
   ]
  },
  {
   "cell_type": "markdown",
   "metadata": {
    "slideshow": {
     "slide_type": "slide"
    }
   },
   "source": [
    "# \"File I/O\" refers to reading (**I**nput) and writing (**O**utput) files\n",
    "Examples:\n",
    "- Keep grade data in a comma-separated-value (CSV) file, compute averages and plot histograms in a program that reads data in\n",
    "- Perform orbital dynamics simulation and write positions and momenta of all particles to a file at each timestep for later analysis\n",
    "- Gather data from an open-source provider, read it in, and search for patterns and trends\n",
    "\n",
    "Files usually store many lines of **text**, so File I/O usually comes hand in hand with lists and string manipulation."
   ]
  },
  {
   "cell_type": "markdown",
   "metadata": {
    "slideshow": {
     "slide_type": "subslide"
    }
   },
   "source": [
    "# Files are represented in python as their own objects that can be written to or read from\n",
    "We create a file object (which represents a file on the computer) with the `open()` function, which is sort of like a constructor for the `file` datatype. The first argument is the name of the file, and the second is the \"mode\" we want the file to work in. There are several modes, but the most useful ones are summarized below\n",
    "\n",
    "| Mode | Description                                  |\n",
    "|:----:|:---------------------------------------------|\n",
    "| `r`  | **Read** from a file **only**; no writing    |\n",
    "| `w`  | **Write** to blank (or newly erased) file    |\n",
    "| `a`  | **Append** (write, but don't erase) to the end of a file |\n",
    "| `r+` | **Read** *or* **write** text from/to file    |"
   ]
  },
  {
   "cell_type": "markdown",
   "metadata": {
    "slideshow": {
     "slide_type": "slide"
    }
   },
   "source": [
    "# First example: writing a simple file\n",
    "We want to create a new file called `hello.txt` and open it for writing. Then we will write the string `\"Hello, world!\"` to it. Finally we will close the file (more on closing in a bit)."
   ]
  },
  {
   "cell_type": "code",
   "execution_count": null,
   "metadata": {},
   "outputs": [],
   "source": [
    "f = open('hello.txt', 'w')\n",
    "f.write('Hello, world!')\n",
    "f.close()"
   ]
  },
  {
   "cell_type": "markdown",
   "metadata": {
    "slideshow": {
     "slide_type": "-"
    }
   },
   "source": [
    "After executing this code look in your files list, and you should find `hello.txt` waiting for you. Open it up and see what it contains."
   ]
  },
  {
   "cell_type": "markdown",
   "metadata": {
    "slideshow": {
     "slide_type": "subslide"
    }
   },
   "source": [
    "# Second Example: overwriting a file\n",
    "We've created `hello.txt`, but what happens if we open that file again and write a different string to it?"
   ]
  },
  {
   "cell_type": "code",
   "execution_count": null,
   "metadata": {},
   "outputs": [],
   "source": [
    "f = open('hello.txt', 'w')\n",
    "f.write('Goodbye, world!')\n",
    "f.close()"
   ]
  },
  {
   "cell_type": "markdown",
   "metadata": {},
   "source": [
    "Look again at the contents of `hello.txt`. What happend?"
   ]
  },
  {
   "cell_type": "markdown",
   "metadata": {
    "slideshow": {
     "slide_type": "subslide"
    }
   },
   "source": [
    "# Aside: Filenames\n",
    "While we won't delve into the bowels of operating system, we should explain a bit about how files are named. File names have two parts separated by a period: the base name and the extension:\n",
    "<div style=\"width: 50%; margin: auto;\">\n",
    "    <img src=filename.svg alt=\"Filename Anatomy\">\n",
    "</div>"
   ]
  },
  {
   "cell_type": "markdown",
   "metadata": {
    "slideshow": {
     "slide_type": "-"
    }
   },
   "source": [
    "## Base name\n",
    "What you probably think of the file. Usually text, numbers, underscores. When possible, best to avoide spaces and other special characters (some operating systems get grumpy).\n",
    "\n",
    "## Extension\n",
    "Even if you don't see it in your OS, they're there. Indicates to OS or program how to interpret the data inside (e.g. plain text, comma-separated data, binary data, h.265-encoded video, etc.)."
   ]
  },
  {
   "cell_type": "markdown",
   "metadata": {
    "slideshow": {
     "slide_type": "subslide"
    }
   },
   "source": [
    "# `f.close()`: Why bother closing?\n",
    "- Don't want to risk corrupting the file with accidental writes\n",
    "- While a file is open, operating system won't let other resources open the file.\n",
    "- Even if it's in read mode, what if a program gets stuck in an infinite loop while a file is open?\n",
    "\n",
    "Best practice: open, do what you need to do, and close as fast as possible!\n"
   ]
  },
  {
   "cell_type": "markdown",
   "metadata": {
    "slideshow": {
     "slide_type": "subslide"
    }
   },
   "source": [
    "# File methods: writing\n",
    "If a file has a write-compatible mode (`'w'`, `'a'`, or `'r+'`), the following methods can write (or append) to a file:\n",
    "- `write()`: takes argument (a string) and writes to the file or appends to the end of it\n",
    "- `writelines()`: takes a list of strings and writes each to file. Does **not** add new lines for you!"
   ]
  },
  {
   "cell_type": "code",
   "execution_count": null,
   "metadata": {},
   "outputs": [],
   "source": [
    "f = open('several_lines.txt', 'w')\n",
    "f.writelines(['is', 'each', 'word', 'a', 'line?'])\n",
    "f.close()"
   ]
  },
  {
   "cell_type": "markdown",
   "metadata": {
    "slideshow": {
     "slide_type": "skip"
    }
   },
   "source": [
    "We should change the above cell to this code to show how we could use `write` and the `join` method of strings to actually output multiple lines:\n",
    "```python\n",
    "f = open('several_lines.txt', 'w')\n",
    "f.write('\\n'.join(['is', 'each', 'word', 'a', 'line?']))\n",
    "f.close()\n",
    "```"
   ]
  },
  {
   "cell_type": "markdown",
   "metadata": {},
   "source": [
    "If in append mode (`'a'`) instead of write mode, these methods add text to the very end of a file rather than overwriting the contentes of the files."
   ]
  },
  {
   "cell_type": "markdown",
   "metadata": {
    "slideshow": {
     "slide_type": "subslide"
    }
   },
   "source": [
    "# Writing to files with print\n",
    "If a file is opened in a mode that allows writing, we can also redirect the output of print to a file. This is nice since we know how to change some behavior of `print` already. To direct this output to a file, simply set the keyword argument `print` to the file object in question."
   ]
  },
  {
   "cell_type": "code",
   "execution_count": null,
   "metadata": {},
   "outputs": [],
   "source": [
    "f = open('from_print.txt', 'w')\n",
    "print('this', 'came', 'from', 'calling', 'print', sep='\\t', end='!!!', file=f)\n",
    "f.close()"
   ]
  },
  {
   "cell_type": "markdown",
   "metadata": {
    "slideshow": {
     "slide_type": "slide"
    }
   },
   "source": [
    "# File methods: reading\n",
    "If a file has a read-compatible mode (`r`, `r+`), we can extract text from the file (though reading alone cannot change the file). We have three useful methods:\n",
    "\n",
    "- `read()`: With no argument, reads entire contents of file into a single string\n",
    "- `readline()`: Reads current (default: first) line, up to and including the newline character, into a string. A subsequent call to `readline()` will read in the *next* line.\n",
    "- `readlines()`: Reads in all lines into a list of strings, each including the newline character"
   ]
  },
  {
   "cell_type": "markdown",
   "metadata": {
    "slideshow": {
     "slide_type": "subslide"
    }
   },
   "source": [
    "# Three ways to read!"
   ]
  },
  {
   "cell_type": "code",
   "execution_count": null,
   "metadata": {},
   "outputs": [],
   "source": [
    "# read: all in one go\n",
    "f = open('several_lines.txt', 'r')\n",
    "read_contents = f.read()\n",
    "f.close()\n",
    "print(read_contents)"
   ]
  },
  {
   "cell_type": "code",
   "execution_count": null,
   "metadata": {},
   "outputs": [],
   "source": [
    "# readline: just one line at a time\n",
    "f = open('several_lines.txt', 'r')\n",
    "first_line = f.readline()\n",
    "second_line = f.readline()\n",
    "f.close()\n",
    "print('first line is \"{}\"'.format(first_line))\n",
    "print('second line is \"{}\"'.format(second_line))"
   ]
  },
  {
   "cell_type": "code",
   "execution_count": null,
   "metadata": {},
   "outputs": [],
   "source": [
    "# readlines: all lines as a list of strings\n",
    "f = open('several_lines.txt', 'r')\n",
    "readlines_contents = f.readlines()\n",
    "f.close()\n",
    "readlines_contents"
   ]
  },
  {
   "cell_type": "markdown",
   "metadata": {
    "slideshow": {
     "slide_type": "subslide"
    }
   },
   "source": [
    "# The Dr. Wolf Special\n",
    "Often (**very often**), you want a **list** of strings representing each line, but _without_ the newline characters at the end. One could transform the result of calling the `readlines` method of a file, but I prever using `read` and `split` to accomplish the same task a bit more cleanly:"
   ]
  },
  {
   "cell_type": "code",
   "execution_count": null,
   "metadata": {},
   "outputs": [],
   "source": [
    "f = open('several_lines.txt', 'r')\n",
    "# read contents, remove any whitespace at the end, and then get\n",
    "# a list of all lines\n",
    "lines = f.read().rstrip().split('\\n')\n",
    "f.close()\n",
    "print(f'Lines is a {type(lines)} with a value of {lines}')"
   ]
  },
  {
   "cell_type": "markdown",
   "metadata": {
    "slideshow": {
     "slide_type": "slide"
    }
   },
   "source": [
    "# One more trick: text files are iterable\n",
    "Their \"elements\" are lines. So looping over a file effectively pipes the return value of `readline` into the looping variable."
   ]
  },
  {
   "cell_type": "code",
   "execution_count": null,
   "metadata": {},
   "outputs": [],
   "source": [
    "f = open('several_lines.txt', 'r')\n",
    "for line in f:\n",
    "    print(line)\n",
    "f.close()"
   ]
  },
  {
   "cell_type": "markdown",
   "metadata": {},
   "source": [
    "Recall: each line has its own newline character, and each call to print also adds its own newline. We could get rid of the one from the lines by calling the `strip` method on strings, and we could also change the behavior of `print` by setting the `end` keyword argument to something more appropriate."
   ]
  },
  {
   "cell_type": "markdown",
   "metadata": {
    "slideshow": {
     "slide_type": "slide"
    }
   },
   "source": [
    "# File types: Comma-Separated Values (`.csv`)\n",
    "```\n",
    "val1a,val1b,val1c,val1d\n",
    "val2a,val2b,val2d,val2d\n",
    "```\n",
    "- **Rows** are separated by newlines\n",
    "- **Columns** are separated by commas"
   ]
  },
  {
   "cell_type": "markdown",
   "metadata": {
    "slideshow": {
     "slide_type": "skip"
    }
   },
   "source": [
    "This is a **very** common (and useful) file format that can even be read in and saved from spreadsheet applications like Excel, Google Sheets, and Numbers. The only major downside is when you have to deal with values that themselves should have commas in them!"
   ]
  },
  {
   "cell_type": "markdown",
   "metadata": {
    "slideshow": {
     "slide_type": "subslide"
    }
   },
   "source": [
    "# Example: Airline Safety Data (Solution at End)\n",
    "Along with this handout is a file called `airline_safety.csv` that contains data on avearge weekly kilometer-seats of various airlines (how many seats travel how many kilometers each week) and how many fatalaties occurred on flights from those airlines over various time frames. It is stored in a comma-separated-value (CSV) format.\n",
    "\n",
    "Examine this data and then write a program to ingest this data into a list of lists. The main list should have one list for each column, each sub-list should be composed of strings or integers as is appropriate for the data."
   ]
  },
  {
   "cell_type": "code",
   "execution_count": 11,
   "metadata": {
    "slideshow": {
     "slide_type": "subslide"
    }
   },
   "outputs": [],
   "source": [
    "# do this together in class\n",
    "# Read data from file\n",
    "\n",
    "# set up data structures (lists) for headers and data\n",
    "\n",
    "# Process data into lists\n",
    "\n",
    "# For fun: plot stuff!"
   ]
  },
  {
   "cell_type": "markdown",
   "metadata": {
    "slideshow": {
     "slide_type": "subslide"
    }
   },
   "source": [
    "# A Final Project Tease\n",
    "`pandas` is an extremely powerful tool that makes ingesting and working with large datasets extremely easy. Compare the last example with the code below."
   ]
  },
  {
   "cell_type": "code",
   "execution_count": 17,
   "metadata": {},
   "outputs": [
    {
     "data": {
      "text/html": [
       "<div>\n",
       "<style scoped>\n",
       "    .dataframe tbody tr th:only-of-type {\n",
       "        vertical-align: middle;\n",
       "    }\n",
       "\n",
       "    .dataframe tbody tr th {\n",
       "        vertical-align: top;\n",
       "    }\n",
       "\n",
       "    .dataframe thead th {\n",
       "        text-align: right;\n",
       "    }\n",
       "</style>\n",
       "<table border=\"1\" class=\"dataframe\">\n",
       "  <thead>\n",
       "    <tr style=\"text-align: right;\">\n",
       "      <th></th>\n",
       "      <th>airline</th>\n",
       "      <th>avail_seat_km_per_week</th>\n",
       "      <th>incidents_85_99</th>\n",
       "      <th>fatal_accidents_85_99</th>\n",
       "      <th>fatalities_85_99</th>\n",
       "      <th>incidents_00_14</th>\n",
       "      <th>fatal_accidents_00_14</th>\n",
       "      <th>fatalities_00_14</th>\n",
       "    </tr>\n",
       "  </thead>\n",
       "  <tbody>\n",
       "    <tr>\n",
       "      <th>0</th>\n",
       "      <td>Aer Lingus</td>\n",
       "      <td>320906734</td>\n",
       "      <td>2</td>\n",
       "      <td>0</td>\n",
       "      <td>0</td>\n",
       "      <td>0</td>\n",
       "      <td>0</td>\n",
       "      <td>0</td>\n",
       "    </tr>\n",
       "    <tr>\n",
       "      <th>1</th>\n",
       "      <td>Aeroflot*</td>\n",
       "      <td>1197672318</td>\n",
       "      <td>76</td>\n",
       "      <td>14</td>\n",
       "      <td>128</td>\n",
       "      <td>6</td>\n",
       "      <td>1</td>\n",
       "      <td>88</td>\n",
       "    </tr>\n",
       "    <tr>\n",
       "      <th>2</th>\n",
       "      <td>Aerolineas Argentinas</td>\n",
       "      <td>385803648</td>\n",
       "      <td>6</td>\n",
       "      <td>0</td>\n",
       "      <td>0</td>\n",
       "      <td>1</td>\n",
       "      <td>0</td>\n",
       "      <td>0</td>\n",
       "    </tr>\n",
       "    <tr>\n",
       "      <th>3</th>\n",
       "      <td>Aeromexico*</td>\n",
       "      <td>596871813</td>\n",
       "      <td>3</td>\n",
       "      <td>1</td>\n",
       "      <td>64</td>\n",
       "      <td>5</td>\n",
       "      <td>0</td>\n",
       "      <td>0</td>\n",
       "    </tr>\n",
       "    <tr>\n",
       "      <th>4</th>\n",
       "      <td>Air Canada</td>\n",
       "      <td>1865253802</td>\n",
       "      <td>2</td>\n",
       "      <td>0</td>\n",
       "      <td>0</td>\n",
       "      <td>2</td>\n",
       "      <td>0</td>\n",
       "      <td>0</td>\n",
       "    </tr>\n",
       "    <tr>\n",
       "      <th>5</th>\n",
       "      <td>Air France</td>\n",
       "      <td>3004002661</td>\n",
       "      <td>14</td>\n",
       "      <td>4</td>\n",
       "      <td>79</td>\n",
       "      <td>6</td>\n",
       "      <td>2</td>\n",
       "      <td>337</td>\n",
       "    </tr>\n",
       "    <tr>\n",
       "      <th>6</th>\n",
       "      <td>Air India*</td>\n",
       "      <td>869253552</td>\n",
       "      <td>2</td>\n",
       "      <td>1</td>\n",
       "      <td>329</td>\n",
       "      <td>4</td>\n",
       "      <td>1</td>\n",
       "      <td>158</td>\n",
       "    </tr>\n",
       "    <tr>\n",
       "      <th>7</th>\n",
       "      <td>Air New Zealand*</td>\n",
       "      <td>710174817</td>\n",
       "      <td>3</td>\n",
       "      <td>0</td>\n",
       "      <td>0</td>\n",
       "      <td>5</td>\n",
       "      <td>1</td>\n",
       "      <td>7</td>\n",
       "    </tr>\n",
       "    <tr>\n",
       "      <th>8</th>\n",
       "      <td>Alaska Airlines*</td>\n",
       "      <td>965346773</td>\n",
       "      <td>5</td>\n",
       "      <td>0</td>\n",
       "      <td>0</td>\n",
       "      <td>5</td>\n",
       "      <td>1</td>\n",
       "      <td>88</td>\n",
       "    </tr>\n",
       "    <tr>\n",
       "      <th>9</th>\n",
       "      <td>Alitalia</td>\n",
       "      <td>698012498</td>\n",
       "      <td>7</td>\n",
       "      <td>2</td>\n",
       "      <td>50</td>\n",
       "      <td>4</td>\n",
       "      <td>0</td>\n",
       "      <td>0</td>\n",
       "    </tr>\n",
       "    <tr>\n",
       "      <th>10</th>\n",
       "      <td>All Nippon Airways</td>\n",
       "      <td>1841234177</td>\n",
       "      <td>3</td>\n",
       "      <td>1</td>\n",
       "      <td>1</td>\n",
       "      <td>7</td>\n",
       "      <td>0</td>\n",
       "      <td>0</td>\n",
       "    </tr>\n",
       "    <tr>\n",
       "      <th>11</th>\n",
       "      <td>American*</td>\n",
       "      <td>5228357340</td>\n",
       "      <td>21</td>\n",
       "      <td>5</td>\n",
       "      <td>101</td>\n",
       "      <td>17</td>\n",
       "      <td>3</td>\n",
       "      <td>416</td>\n",
       "    </tr>\n",
       "    <tr>\n",
       "      <th>12</th>\n",
       "      <td>Austrian Airlines</td>\n",
       "      <td>358239823</td>\n",
       "      <td>1</td>\n",
       "      <td>0</td>\n",
       "      <td>0</td>\n",
       "      <td>1</td>\n",
       "      <td>0</td>\n",
       "      <td>0</td>\n",
       "    </tr>\n",
       "    <tr>\n",
       "      <th>13</th>\n",
       "      <td>Avianca</td>\n",
       "      <td>396922563</td>\n",
       "      <td>5</td>\n",
       "      <td>3</td>\n",
       "      <td>323</td>\n",
       "      <td>0</td>\n",
       "      <td>0</td>\n",
       "      <td>0</td>\n",
       "    </tr>\n",
       "    <tr>\n",
       "      <th>14</th>\n",
       "      <td>British Airways*</td>\n",
       "      <td>3179760952</td>\n",
       "      <td>4</td>\n",
       "      <td>0</td>\n",
       "      <td>0</td>\n",
       "      <td>6</td>\n",
       "      <td>0</td>\n",
       "      <td>0</td>\n",
       "    </tr>\n",
       "    <tr>\n",
       "      <th>15</th>\n",
       "      <td>Cathay Pacific*</td>\n",
       "      <td>2582459303</td>\n",
       "      <td>0</td>\n",
       "      <td>0</td>\n",
       "      <td>0</td>\n",
       "      <td>2</td>\n",
       "      <td>0</td>\n",
       "      <td>0</td>\n",
       "    </tr>\n",
       "    <tr>\n",
       "      <th>16</th>\n",
       "      <td>China Airlines</td>\n",
       "      <td>813216487</td>\n",
       "      <td>12</td>\n",
       "      <td>6</td>\n",
       "      <td>535</td>\n",
       "      <td>2</td>\n",
       "      <td>1</td>\n",
       "      <td>225</td>\n",
       "    </tr>\n",
       "    <tr>\n",
       "      <th>17</th>\n",
       "      <td>Condor</td>\n",
       "      <td>417982610</td>\n",
       "      <td>2</td>\n",
       "      <td>1</td>\n",
       "      <td>16</td>\n",
       "      <td>0</td>\n",
       "      <td>0</td>\n",
       "      <td>0</td>\n",
       "    </tr>\n",
       "    <tr>\n",
       "      <th>18</th>\n",
       "      <td>COPA</td>\n",
       "      <td>550491507</td>\n",
       "      <td>3</td>\n",
       "      <td>1</td>\n",
       "      <td>47</td>\n",
       "      <td>0</td>\n",
       "      <td>0</td>\n",
       "      <td>0</td>\n",
       "    </tr>\n",
       "    <tr>\n",
       "      <th>19</th>\n",
       "      <td>Delta / Northwest*</td>\n",
       "      <td>6525658894</td>\n",
       "      <td>24</td>\n",
       "      <td>12</td>\n",
       "      <td>407</td>\n",
       "      <td>24</td>\n",
       "      <td>2</td>\n",
       "      <td>51</td>\n",
       "    </tr>\n",
       "    <tr>\n",
       "      <th>20</th>\n",
       "      <td>Egyptair</td>\n",
       "      <td>557699891</td>\n",
       "      <td>8</td>\n",
       "      <td>3</td>\n",
       "      <td>282</td>\n",
       "      <td>4</td>\n",
       "      <td>1</td>\n",
       "      <td>14</td>\n",
       "    </tr>\n",
       "    <tr>\n",
       "      <th>21</th>\n",
       "      <td>El Al</td>\n",
       "      <td>335448023</td>\n",
       "      <td>1</td>\n",
       "      <td>1</td>\n",
       "      <td>4</td>\n",
       "      <td>1</td>\n",
       "      <td>0</td>\n",
       "      <td>0</td>\n",
       "    </tr>\n",
       "    <tr>\n",
       "      <th>22</th>\n",
       "      <td>Ethiopian Airlines</td>\n",
       "      <td>488560643</td>\n",
       "      <td>25</td>\n",
       "      <td>5</td>\n",
       "      <td>167</td>\n",
       "      <td>5</td>\n",
       "      <td>2</td>\n",
       "      <td>92</td>\n",
       "    </tr>\n",
       "    <tr>\n",
       "      <th>23</th>\n",
       "      <td>Finnair</td>\n",
       "      <td>506464950</td>\n",
       "      <td>1</td>\n",
       "      <td>0</td>\n",
       "      <td>0</td>\n",
       "      <td>0</td>\n",
       "      <td>0</td>\n",
       "      <td>0</td>\n",
       "    </tr>\n",
       "    <tr>\n",
       "      <th>24</th>\n",
       "      <td>Garuda Indonesia</td>\n",
       "      <td>613356665</td>\n",
       "      <td>10</td>\n",
       "      <td>3</td>\n",
       "      <td>260</td>\n",
       "      <td>4</td>\n",
       "      <td>2</td>\n",
       "      <td>22</td>\n",
       "    </tr>\n",
       "    <tr>\n",
       "      <th>25</th>\n",
       "      <td>Gulf Air</td>\n",
       "      <td>301379762</td>\n",
       "      <td>1</td>\n",
       "      <td>0</td>\n",
       "      <td>0</td>\n",
       "      <td>3</td>\n",
       "      <td>1</td>\n",
       "      <td>143</td>\n",
       "    </tr>\n",
       "    <tr>\n",
       "      <th>26</th>\n",
       "      <td>Hawaiian Airlines</td>\n",
       "      <td>493877795</td>\n",
       "      <td>0</td>\n",
       "      <td>0</td>\n",
       "      <td>0</td>\n",
       "      <td>1</td>\n",
       "      <td>0</td>\n",
       "      <td>0</td>\n",
       "    </tr>\n",
       "    <tr>\n",
       "      <th>27</th>\n",
       "      <td>Iberia</td>\n",
       "      <td>1173203126</td>\n",
       "      <td>4</td>\n",
       "      <td>1</td>\n",
       "      <td>148</td>\n",
       "      <td>5</td>\n",
       "      <td>0</td>\n",
       "      <td>0</td>\n",
       "    </tr>\n",
       "    <tr>\n",
       "      <th>28</th>\n",
       "      <td>Japan Airlines</td>\n",
       "      <td>1574217531</td>\n",
       "      <td>3</td>\n",
       "      <td>1</td>\n",
       "      <td>520</td>\n",
       "      <td>0</td>\n",
       "      <td>0</td>\n",
       "      <td>0</td>\n",
       "    </tr>\n",
       "    <tr>\n",
       "      <th>29</th>\n",
       "      <td>Kenya Airways</td>\n",
       "      <td>277414794</td>\n",
       "      <td>2</td>\n",
       "      <td>0</td>\n",
       "      <td>0</td>\n",
       "      <td>2</td>\n",
       "      <td>2</td>\n",
       "      <td>283</td>\n",
       "    </tr>\n",
       "    <tr>\n",
       "      <th>30</th>\n",
       "      <td>KLM*</td>\n",
       "      <td>1874561773</td>\n",
       "      <td>7</td>\n",
       "      <td>1</td>\n",
       "      <td>3</td>\n",
       "      <td>1</td>\n",
       "      <td>0</td>\n",
       "      <td>0</td>\n",
       "    </tr>\n",
       "    <tr>\n",
       "      <th>31</th>\n",
       "      <td>Korean Air</td>\n",
       "      <td>1734522605</td>\n",
       "      <td>12</td>\n",
       "      <td>5</td>\n",
       "      <td>425</td>\n",
       "      <td>1</td>\n",
       "      <td>0</td>\n",
       "      <td>0</td>\n",
       "    </tr>\n",
       "    <tr>\n",
       "      <th>32</th>\n",
       "      <td>LAN Airlines</td>\n",
       "      <td>1001965891</td>\n",
       "      <td>3</td>\n",
       "      <td>2</td>\n",
       "      <td>21</td>\n",
       "      <td>0</td>\n",
       "      <td>0</td>\n",
       "      <td>0</td>\n",
       "    </tr>\n",
       "    <tr>\n",
       "      <th>33</th>\n",
       "      <td>Lufthansa*</td>\n",
       "      <td>3426529504</td>\n",
       "      <td>6</td>\n",
       "      <td>1</td>\n",
       "      <td>2</td>\n",
       "      <td>3</td>\n",
       "      <td>0</td>\n",
       "      <td>0</td>\n",
       "    </tr>\n",
       "    <tr>\n",
       "      <th>34</th>\n",
       "      <td>Malaysia Airlines</td>\n",
       "      <td>1039171244</td>\n",
       "      <td>3</td>\n",
       "      <td>1</td>\n",
       "      <td>34</td>\n",
       "      <td>3</td>\n",
       "      <td>2</td>\n",
       "      <td>537</td>\n",
       "    </tr>\n",
       "    <tr>\n",
       "      <th>35</th>\n",
       "      <td>Pakistan International</td>\n",
       "      <td>348563137</td>\n",
       "      <td>8</td>\n",
       "      <td>3</td>\n",
       "      <td>234</td>\n",
       "      <td>10</td>\n",
       "      <td>2</td>\n",
       "      <td>46</td>\n",
       "    </tr>\n",
       "    <tr>\n",
       "      <th>36</th>\n",
       "      <td>Philippine Airlines</td>\n",
       "      <td>413007158</td>\n",
       "      <td>7</td>\n",
       "      <td>4</td>\n",
       "      <td>74</td>\n",
       "      <td>2</td>\n",
       "      <td>1</td>\n",
       "      <td>1</td>\n",
       "    </tr>\n",
       "    <tr>\n",
       "      <th>37</th>\n",
       "      <td>Qantas*</td>\n",
       "      <td>1917428984</td>\n",
       "      <td>1</td>\n",
       "      <td>0</td>\n",
       "      <td>0</td>\n",
       "      <td>5</td>\n",
       "      <td>0</td>\n",
       "      <td>0</td>\n",
       "    </tr>\n",
       "    <tr>\n",
       "      <th>38</th>\n",
       "      <td>Royal Air Maroc</td>\n",
       "      <td>295705339</td>\n",
       "      <td>5</td>\n",
       "      <td>3</td>\n",
       "      <td>51</td>\n",
       "      <td>3</td>\n",
       "      <td>0</td>\n",
       "      <td>0</td>\n",
       "    </tr>\n",
       "    <tr>\n",
       "      <th>39</th>\n",
       "      <td>SAS*</td>\n",
       "      <td>682971852</td>\n",
       "      <td>5</td>\n",
       "      <td>0</td>\n",
       "      <td>0</td>\n",
       "      <td>6</td>\n",
       "      <td>1</td>\n",
       "      <td>110</td>\n",
       "    </tr>\n",
       "    <tr>\n",
       "      <th>40</th>\n",
       "      <td>Saudi Arabian</td>\n",
       "      <td>859673901</td>\n",
       "      <td>7</td>\n",
       "      <td>2</td>\n",
       "      <td>313</td>\n",
       "      <td>11</td>\n",
       "      <td>0</td>\n",
       "      <td>0</td>\n",
       "    </tr>\n",
       "    <tr>\n",
       "      <th>41</th>\n",
       "      <td>Singapore Airlines</td>\n",
       "      <td>2376857805</td>\n",
       "      <td>2</td>\n",
       "      <td>2</td>\n",
       "      <td>6</td>\n",
       "      <td>2</td>\n",
       "      <td>1</td>\n",
       "      <td>83</td>\n",
       "    </tr>\n",
       "    <tr>\n",
       "      <th>42</th>\n",
       "      <td>South African</td>\n",
       "      <td>651502442</td>\n",
       "      <td>2</td>\n",
       "      <td>1</td>\n",
       "      <td>159</td>\n",
       "      <td>1</td>\n",
       "      <td>0</td>\n",
       "      <td>0</td>\n",
       "    </tr>\n",
       "    <tr>\n",
       "      <th>43</th>\n",
       "      <td>Southwest Airlines</td>\n",
       "      <td>3276525770</td>\n",
       "      <td>1</td>\n",
       "      <td>0</td>\n",
       "      <td>0</td>\n",
       "      <td>8</td>\n",
       "      <td>0</td>\n",
       "      <td>0</td>\n",
       "    </tr>\n",
       "    <tr>\n",
       "      <th>44</th>\n",
       "      <td>Sri Lankan / AirLanka</td>\n",
       "      <td>325582976</td>\n",
       "      <td>2</td>\n",
       "      <td>1</td>\n",
       "      <td>14</td>\n",
       "      <td>4</td>\n",
       "      <td>0</td>\n",
       "      <td>0</td>\n",
       "    </tr>\n",
       "    <tr>\n",
       "      <th>45</th>\n",
       "      <td>SWISS*</td>\n",
       "      <td>792601299</td>\n",
       "      <td>2</td>\n",
       "      <td>1</td>\n",
       "      <td>229</td>\n",
       "      <td>3</td>\n",
       "      <td>0</td>\n",
       "      <td>0</td>\n",
       "    </tr>\n",
       "    <tr>\n",
       "      <th>46</th>\n",
       "      <td>TACA</td>\n",
       "      <td>259373346</td>\n",
       "      <td>3</td>\n",
       "      <td>1</td>\n",
       "      <td>3</td>\n",
       "      <td>1</td>\n",
       "      <td>1</td>\n",
       "      <td>3</td>\n",
       "    </tr>\n",
       "    <tr>\n",
       "      <th>47</th>\n",
       "      <td>TAM</td>\n",
       "      <td>1509195646</td>\n",
       "      <td>8</td>\n",
       "      <td>3</td>\n",
       "      <td>98</td>\n",
       "      <td>7</td>\n",
       "      <td>2</td>\n",
       "      <td>188</td>\n",
       "    </tr>\n",
       "    <tr>\n",
       "      <th>48</th>\n",
       "      <td>TAP - Air Portugal</td>\n",
       "      <td>619130754</td>\n",
       "      <td>0</td>\n",
       "      <td>0</td>\n",
       "      <td>0</td>\n",
       "      <td>0</td>\n",
       "      <td>0</td>\n",
       "      <td>0</td>\n",
       "    </tr>\n",
       "    <tr>\n",
       "      <th>49</th>\n",
       "      <td>Thai Airways</td>\n",
       "      <td>1702802250</td>\n",
       "      <td>8</td>\n",
       "      <td>4</td>\n",
       "      <td>308</td>\n",
       "      <td>2</td>\n",
       "      <td>1</td>\n",
       "      <td>1</td>\n",
       "    </tr>\n",
       "    <tr>\n",
       "      <th>50</th>\n",
       "      <td>Turkish Airlines</td>\n",
       "      <td>1946098294</td>\n",
       "      <td>8</td>\n",
       "      <td>3</td>\n",
       "      <td>64</td>\n",
       "      <td>8</td>\n",
       "      <td>2</td>\n",
       "      <td>84</td>\n",
       "    </tr>\n",
       "    <tr>\n",
       "      <th>51</th>\n",
       "      <td>United / Continental*</td>\n",
       "      <td>7139291291</td>\n",
       "      <td>19</td>\n",
       "      <td>8</td>\n",
       "      <td>319</td>\n",
       "      <td>14</td>\n",
       "      <td>2</td>\n",
       "      <td>109</td>\n",
       "    </tr>\n",
       "    <tr>\n",
       "      <th>52</th>\n",
       "      <td>US Airways / America West*</td>\n",
       "      <td>2455687887</td>\n",
       "      <td>16</td>\n",
       "      <td>7</td>\n",
       "      <td>224</td>\n",
       "      <td>11</td>\n",
       "      <td>2</td>\n",
       "      <td>23</td>\n",
       "    </tr>\n",
       "    <tr>\n",
       "      <th>53</th>\n",
       "      <td>Vietnam Airlines</td>\n",
       "      <td>625084918</td>\n",
       "      <td>7</td>\n",
       "      <td>3</td>\n",
       "      <td>171</td>\n",
       "      <td>1</td>\n",
       "      <td>0</td>\n",
       "      <td>0</td>\n",
       "    </tr>\n",
       "    <tr>\n",
       "      <th>54</th>\n",
       "      <td>Virgin Atlantic</td>\n",
       "      <td>1005248585</td>\n",
       "      <td>1</td>\n",
       "      <td>0</td>\n",
       "      <td>0</td>\n",
       "      <td>0</td>\n",
       "      <td>0</td>\n",
       "      <td>0</td>\n",
       "    </tr>\n",
       "    <tr>\n",
       "      <th>55</th>\n",
       "      <td>Xiamen Airlines</td>\n",
       "      <td>430462962</td>\n",
       "      <td>9</td>\n",
       "      <td>1</td>\n",
       "      <td>82</td>\n",
       "      <td>2</td>\n",
       "      <td>0</td>\n",
       "      <td>0</td>\n",
       "    </tr>\n",
       "  </tbody>\n",
       "</table>\n",
       "</div>"
      ],
      "text/plain": [
       "                       airline  avail_seat_km_per_week  incidents_85_99  \\\n",
       "0                   Aer Lingus               320906734                2   \n",
       "1                    Aeroflot*              1197672318               76   \n",
       "2        Aerolineas Argentinas               385803648                6   \n",
       "3                  Aeromexico*               596871813                3   \n",
       "4                   Air Canada              1865253802                2   \n",
       "5                   Air France              3004002661               14   \n",
       "6                   Air India*               869253552                2   \n",
       "7             Air New Zealand*               710174817                3   \n",
       "8             Alaska Airlines*               965346773                5   \n",
       "9                     Alitalia               698012498                7   \n",
       "10          All Nippon Airways              1841234177                3   \n",
       "11                   American*              5228357340               21   \n",
       "12           Austrian Airlines               358239823                1   \n",
       "13                     Avianca               396922563                5   \n",
       "14            British Airways*              3179760952                4   \n",
       "15             Cathay Pacific*              2582459303                0   \n",
       "16              China Airlines               813216487               12   \n",
       "17                      Condor               417982610                2   \n",
       "18                        COPA               550491507                3   \n",
       "19          Delta / Northwest*              6525658894               24   \n",
       "20                    Egyptair               557699891                8   \n",
       "21                       El Al               335448023                1   \n",
       "22          Ethiopian Airlines               488560643               25   \n",
       "23                     Finnair               506464950                1   \n",
       "24            Garuda Indonesia               613356665               10   \n",
       "25                    Gulf Air               301379762                1   \n",
       "26           Hawaiian Airlines               493877795                0   \n",
       "27                      Iberia              1173203126                4   \n",
       "28              Japan Airlines              1574217531                3   \n",
       "29               Kenya Airways               277414794                2   \n",
       "30                        KLM*              1874561773                7   \n",
       "31                  Korean Air              1734522605               12   \n",
       "32                LAN Airlines              1001965891                3   \n",
       "33                  Lufthansa*              3426529504                6   \n",
       "34           Malaysia Airlines              1039171244                3   \n",
       "35      Pakistan International               348563137                8   \n",
       "36         Philippine Airlines               413007158                7   \n",
       "37                     Qantas*              1917428984                1   \n",
       "38             Royal Air Maroc               295705339                5   \n",
       "39                        SAS*               682971852                5   \n",
       "40               Saudi Arabian               859673901                7   \n",
       "41          Singapore Airlines              2376857805                2   \n",
       "42               South African               651502442                2   \n",
       "43          Southwest Airlines              3276525770                1   \n",
       "44       Sri Lankan / AirLanka               325582976                2   \n",
       "45                      SWISS*               792601299                2   \n",
       "46                        TACA               259373346                3   \n",
       "47                         TAM              1509195646                8   \n",
       "48          TAP - Air Portugal               619130754                0   \n",
       "49                Thai Airways              1702802250                8   \n",
       "50            Turkish Airlines              1946098294                8   \n",
       "51       United / Continental*              7139291291               19   \n",
       "52  US Airways / America West*              2455687887               16   \n",
       "53            Vietnam Airlines               625084918                7   \n",
       "54             Virgin Atlantic              1005248585                1   \n",
       "55             Xiamen Airlines               430462962                9   \n",
       "\n",
       "    fatal_accidents_85_99  fatalities_85_99  incidents_00_14  \\\n",
       "0                       0                 0                0   \n",
       "1                      14               128                6   \n",
       "2                       0                 0                1   \n",
       "3                       1                64                5   \n",
       "4                       0                 0                2   \n",
       "5                       4                79                6   \n",
       "6                       1               329                4   \n",
       "7                       0                 0                5   \n",
       "8                       0                 0                5   \n",
       "9                       2                50                4   \n",
       "10                      1                 1                7   \n",
       "11                      5               101               17   \n",
       "12                      0                 0                1   \n",
       "13                      3               323                0   \n",
       "14                      0                 0                6   \n",
       "15                      0                 0                2   \n",
       "16                      6               535                2   \n",
       "17                      1                16                0   \n",
       "18                      1                47                0   \n",
       "19                     12               407               24   \n",
       "20                      3               282                4   \n",
       "21                      1                 4                1   \n",
       "22                      5               167                5   \n",
       "23                      0                 0                0   \n",
       "24                      3               260                4   \n",
       "25                      0                 0                3   \n",
       "26                      0                 0                1   \n",
       "27                      1               148                5   \n",
       "28                      1               520                0   \n",
       "29                      0                 0                2   \n",
       "30                      1                 3                1   \n",
       "31                      5               425                1   \n",
       "32                      2                21                0   \n",
       "33                      1                 2                3   \n",
       "34                      1                34                3   \n",
       "35                      3               234               10   \n",
       "36                      4                74                2   \n",
       "37                      0                 0                5   \n",
       "38                      3                51                3   \n",
       "39                      0                 0                6   \n",
       "40                      2               313               11   \n",
       "41                      2                 6                2   \n",
       "42                      1               159                1   \n",
       "43                      0                 0                8   \n",
       "44                      1                14                4   \n",
       "45                      1               229                3   \n",
       "46                      1                 3                1   \n",
       "47                      3                98                7   \n",
       "48                      0                 0                0   \n",
       "49                      4               308                2   \n",
       "50                      3                64                8   \n",
       "51                      8               319               14   \n",
       "52                      7               224               11   \n",
       "53                      3               171                1   \n",
       "54                      0                 0                0   \n",
       "55                      1                82                2   \n",
       "\n",
       "    fatal_accidents_00_14  fatalities_00_14  \n",
       "0                       0                 0  \n",
       "1                       1                88  \n",
       "2                       0                 0  \n",
       "3                       0                 0  \n",
       "4                       0                 0  \n",
       "5                       2               337  \n",
       "6                       1               158  \n",
       "7                       1                 7  \n",
       "8                       1                88  \n",
       "9                       0                 0  \n",
       "10                      0                 0  \n",
       "11                      3               416  \n",
       "12                      0                 0  \n",
       "13                      0                 0  \n",
       "14                      0                 0  \n",
       "15                      0                 0  \n",
       "16                      1               225  \n",
       "17                      0                 0  \n",
       "18                      0                 0  \n",
       "19                      2                51  \n",
       "20                      1                14  \n",
       "21                      0                 0  \n",
       "22                      2                92  \n",
       "23                      0                 0  \n",
       "24                      2                22  \n",
       "25                      1               143  \n",
       "26                      0                 0  \n",
       "27                      0                 0  \n",
       "28                      0                 0  \n",
       "29                      2               283  \n",
       "30                      0                 0  \n",
       "31                      0                 0  \n",
       "32                      0                 0  \n",
       "33                      0                 0  \n",
       "34                      2               537  \n",
       "35                      2                46  \n",
       "36                      1                 1  \n",
       "37                      0                 0  \n",
       "38                      0                 0  \n",
       "39                      1               110  \n",
       "40                      0                 0  \n",
       "41                      1                83  \n",
       "42                      0                 0  \n",
       "43                      0                 0  \n",
       "44                      0                 0  \n",
       "45                      0                 0  \n",
       "46                      1                 3  \n",
       "47                      2               188  \n",
       "48                      0                 0  \n",
       "49                      1                 1  \n",
       "50                      2                84  \n",
       "51                      2               109  \n",
       "52                      2                23  \n",
       "53                      0                 0  \n",
       "54                      0                 0  \n",
       "55                      0                 0  "
      ]
     },
     "execution_count": 17,
     "metadata": {},
     "output_type": "execute_result"
    }
   ],
   "source": [
    "import pandas as pd\n",
    "df = pd.read_csv('airline_safety.csv')\n",
    "df"
   ]
  },
  {
   "cell_type": "markdown",
   "metadata": {
    "slideshow": {
     "slide_type": "skip"
    }
   },
   "source": [
    "# Example: Airline Safety Data SOLUTION"
   ]
  },
  {
   "cell_type": "code",
   "execution_count": 14,
   "metadata": {
    "slideshow": {
     "slide_type": "skip"
    }
   },
   "outputs": [
    {
     "data": {
      "text/plain": [
       "Text(0, 0.5, 'Fatalaties Between 2000 and 2014')"
      ]
     },
     "execution_count": 14,
     "metadata": {},
     "output_type": "execute_result"
    },
    {
     "data": {
      "image/png": "[encoded data removed]",
      "text/plain": [
       "<Figure size 432x288 with 1 Axes>"
      ]
     },
     "metadata": {
      "needs_background": "light"
     },
     "output_type": "display_data"
    }
   ],
   "source": [
    "# open up file read data into a list of strings, and close the file\n",
    "f = open('airline_safety.csv', 'r')\n",
    "lines = f.read().rstrip().split('\\n')\n",
    "f.close()\n",
    "\n",
    "# extract headers (first line of strings)\n",
    "headers = lines[0].split(',')\n",
    "\n",
    "# set up data structure, which will be a list of lists.\n",
    "# Each sub-list will contain one column of data\n",
    "data = []\n",
    "for i in range(len(headers)):\n",
    "    data.append([])\n",
    "    \n",
    "# Process the non-header data line by line\n",
    "for line in lines[1:]:\n",
    "    # break line up by element and plop each datum\n",
    "    # into the right list of `data`\n",
    "    for i, datum in enumerate(line.split(',')):\n",
    "        if i == 0:\n",
    "            # zeroth row is a string, so just append the\n",
    "            # value with no processing\n",
    "            data[i].append(datum)\n",
    "        else:\n",
    "            # all other rows are just integers, so convert\n",
    "            # the to integers before appending\n",
    "            data[i].append(int(datum))\n",
    "            \n",
    "# plot everything for funsies (we'll learn about this soon!)\n",
    "xs = data[headers.index('avail_seat_km_per_week')]\n",
    "ys = data[headers.index('fatalities_00_14')]\n",
    "            \n",
    "import matplotlib.pyplot as plt\n",
    "plt.scatter(xs, ys)\n",
    "plt.xlabel(\"Weekly Available Seat Kilometers\")\n",
    "plt.ylabel(\"Fatalaties Between 2000 and 2014\")\n"
   ]
  },
  {
   "cell_type": "code",
   "execution_count": null,
   "metadata": {},
   "outputs": [],
   "source": []
  }
 ],
 "metadata": {
  "celltoolbar": "Slideshow",
  "kernelspec": {
   "display_name": "Python 3 (ipykernel)",
   "language": "python",
   "name": "python3"
  },
  "language_info": {
   "codemirror_mode": {
    "name": "ipython",
    "version": 3
   },
   "file_extension": ".py",
   "mimetype": "text/x-python",
   "name": "python",
   "nbconvert_exporter": "python",
   "pygments_lexer": "ipython3",
   "version": "3.9.16"
  },
  "rise": {
   "theme": "solarized",
   "transition": "fade"
  }
 },
 "nbformat": 4,
 "nbformat_minor": 4
}
