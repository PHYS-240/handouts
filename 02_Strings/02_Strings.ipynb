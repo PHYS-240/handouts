{
 "cells": [
  {
   "cell_type": "markdown",
   "metadata": {
    "cell_style": "center",
    "slideshow": {
     "slide_type": "slide"
    }
   },
   "source": [
    "# Python Objects I: Strings <em style=\"color: Gray;\">(Hill 2.3)<em>\n",
    "### PHYS 240\n",
    "### Dr. Wolf"
   ]
  },
  {
   "cell_type": "markdown",
   "metadata": {
    "slideshow": {
     "slide_type": "slide"
    }
   },
   "source": [
    "# Strings are Python objects that encode text\n",
    "- No numerical value whatsoever (though number-like text can be converted to integers, floats, etc.)\n",
    "- Examples:\n",
    "    - a password\n",
    "    - your full name\n",
    "    - the entire text of Moby Dick\n",
    "    "
   ]
  },
  {
   "cell_type": "markdown",
   "metadata": {
    "slideshow": {
     "slide_type": "subslide"
    }
   },
   "source": [
    "# Basics: Literals for Strings\n",
    "\n",
    "We can use either single quotes: `'Hello, World'` or double quotes: `\"Hello World\"`. **There is no difference.** Pick one and stick to it unless you have a good reason to switch.\n",
    "\n",
    "Example: what if a piece of text has the string delimiter in it?"
   ]
  },
  {
   "cell_type": "code",
   "execution_count": null,
   "metadata": {
    "slideshow": {
     "slide_type": "-"
    }
   },
   "outputs": [],
   "source": [
    "'Dr. Wolf isn't very good at this'"
   ]
  },
  {
   "cell_type": "markdown",
   "metadata": {
    "slideshow": {
     "slide_type": "subslide"
    }
   },
   "source": [
    "# Basics: Concatenating Strings\n",
    "**Concatentation** is the act of bringing two or more strings together into a new, combined string.\n",
    "\n",
    "To concatenate, we can simply use the `+` operator between string literals/variables."
   ]
  },
  {
   "cell_type": "code",
   "execution_count": null,
   "metadata": {},
   "outputs": [],
   "source": [
    "first = 'William'\n",
    "last = 'Wolf'\n",
    "full = first + ' ' + last\n",
    "full"
   ]
  },
  {
   "cell_type": "markdown",
   "metadata": {
    "slideshow": {
     "slide_type": "slide"
    }
   },
   "source": [
    "# Escape Sequences\n",
    "Many characters do not appear on your keyboard (like µ or Ω) or may be difficult to decipher (four spaces or a tab?). **Escape Sequences** are special combinations of characters that Python will interpret as a special character.\n",
    "\n",
    "Escape sequences always start with a backslash (`\\`; same symbol used for most $\\rm\\LaTeX$ commands).\n",
    "\n",
    "Most common and basic escape sequences:\n",
    "- single quote: `\\'` (works even in a single-quote-delimited string)\n",
    "- double quote: `\\\"` (works even in a double-quote-delimited string)\n",
    "- linefeed (or newline): `\\n` (creates a new line in the text)\n",
    "- tab: `\\t`\n",
    "- backspace; `\\b`\n",
    "- the backslash character: `\\\\`"
   ]
  },
  {
   "cell_type": "markdown",
   "metadata": {
    "slideshow": {
     "slide_type": "subslide"
    }
   },
   "source": [
    "# Escape Sequence Challenge\n",
    "Let's create a literal that replicates this grocery list. Items are set off by tabs.\n",
    "```\n",
    "Bill's Grocery List\n",
    "    - Diet Coke\n",
    "    - Newfangled \"Lady Gaga\" Oreos\n",
    "```\n",
    "\n",
    "Note, to render to the screen properly, we need to use the `print` function to make the string appear properly. You'll explore this more in lab."
   ]
  },
  {
   "cell_type": "code",
   "execution_count": null,
   "metadata": {},
   "outputs": [],
   "source": []
  },
  {
   "cell_type": "markdown",
   "metadata": {
    "slideshow": {
     "slide_type": "subslide"
    }
   },
   "source": [
    "# Unicode Strings\n",
    "**Unicode** is a standard that allows displaying more than 100,000 different characters (asian languages, special accents, and even our beloved emoji) from all over the world. Essentially it is a mapping from binary numbers to what a computer screen should display.\n",
    "\n",
    "### Using `\\u` and `\\N`\n",
    "If you know the 16- or 32- bit hex (hexadecimal) value, simply use `\\u` *immediately* follwed by the code. Or, if you know the official unicode name, you can use `\\N{}`, and put the name in all caps inside the curly brackets.\n",
    "\n",
    "**Note:** `\\u` is for 16-bit hexadecimal codes, which have **four characters** of 0–9 and A–F. `\\U` is for 32-bit codes, which have **eight characters**. If using `\\U`, you may need to put zeros at the beginning of a code to get it to 8.\n",
    "\n",
    "The internet is your friend in finding these special names, or you can copy and paste characters in manually."
   ]
  },
  {
   "cell_type": "code",
   "execution_count": null,
   "metadata": {},
   "outputs": [],
   "source": [
    "print('\\u26C4')\n",
    "print('\\N{FREEZING FACE}')"
   ]
  },
  {
   "cell_type": "markdown",
   "metadata": {
    "slideshow": {
     "slide_type": "subslide"
    }
   },
   "source": [
    "# Escaping from Escape Sequences: Raw Strings\n",
    "If you want to render a string EXACTLY as you typed it, without interpreting any escpae sequences, you can use a **raw string**. To indicate a literal as a raw string, append the letter \"r\" directly in front of the opening quotation mark."
   ]
  },
  {
   "cell_type": "code",
   "execution_count": null,
   "metadata": {},
   "outputs": [],
   "source": [
    "print(\"The code for a freezing face (\\N{FREEZING FACE}) is \" + r'\\N{FREEZING FACE}')"
   ]
  },
  {
   "cell_type": "markdown",
   "metadata": {
    "slideshow": {
     "slide_type": "subslide"
    }
   },
   "source": [
    "# Challenge: Unicorn Emoji\n",
    "Using the almighty google, find a way to encode the unicorn emoji (🦄) into a string using the `\\u`, `\\U`, or `\\N` escape sequences and print it out. Do not simply copy and paste the emoji itself from somewhere."
   ]
  },
  {
   "cell_type": "code",
   "execution_count": null,
   "metadata": {},
   "outputs": [],
   "source": []
  },
  {
   "cell_type": "markdown",
   "metadata": {
    "slideshow": {
     "slide_type": "slide"
    }
   },
   "source": [
    "# Getting the Length of a String\n",
    "We can use python's built-in `len` function, which computes the lengths of many things (we'll use it more later on other objects)."
   ]
  },
  {
   "cell_type": "code",
   "execution_count": null,
   "metadata": {},
   "outputs": [],
   "source": [
    "course = 'PHYS 240'\n",
    "len(course)"
   ]
  },
  {
   "cell_type": "code",
   "execution_count": null,
   "metadata": {},
   "outputs": [],
   "source": [
    "# we can cast integers to strings using the `str` constructor method\n",
    "# but we'll have more robust ways to convert numbers to strings later\n",
    "print('\"' + course + '\" has ' + str(len(course)) + ' characters.')"
   ]
  },
  {
   "cell_type": "markdown",
   "metadata": {
    "slideshow": {
     "slide_type": "fragment"
    }
   },
   "source": [
    " It is **not** a ***method*** of strings (we'll deal with those later)."
   ]
  },
  {
   "cell_type": "code",
   "execution_count": null,
   "metadata": {},
   "outputs": [],
   "source": [
    "'PHYS 240'.len()"
   ]
  },
  {
   "cell_type": "markdown",
   "metadata": {
    "slideshow": {
     "slide_type": "slide"
    }
   },
   "source": [
    "# Indexing and Slicing\n",
    "To get at individual characters or sequences of characters in a string, we can **slice** the string using **indexes**. First let's focus on getting at individual characters.\n",
    "\n",
    "## Getting a single character\n",
    "Imagine that each character in a string occupies a slot that is labeled by an index. The very first slot is labeled \"0\", the next by \"1\", and so on. This means that the *last* character is at a position equal to the length of the string **minus 1**. So the string `PHYS 240` would be organized thusly:\n",
    "\n",
    "```\n",
    "characters: P|H|Y|S| |2|4|0\n",
    "indexes:    0|1|2|3|4|5|6|7\n",
    "```\n",
    "To retrieve the character located at some index, we add square brackets containing an integer literal or variable to the end of a string literal or variable."
   ]
  },
  {
   "cell_type": "code",
   "execution_count": null,
   "metadata": {},
   "outputs": [],
   "source": [
    "course = 'PHYS 240'\n",
    "course[3]"
   ]
  },
  {
   "cell_type": "markdown",
   "metadata": {
    "slideshow": {
     "slide_type": "subslide"
    }
   },
   "source": [
    "# Indexing and Slicing\n",
    "## Getting the last character\n",
    "We can get at characters from the end of a string, too. The last character can be referenced as –1. The one before it is at position –2, etc. So in reality, each character has two valid indexes."
   ]
  },
  {
   "cell_type": "code",
   "execution_count": null,
   "metadata": {},
   "outputs": [],
   "source": [
    "print(course)\n",
    "print(course[len(course) - 1])\n",
    "print(course[-1])"
   ]
  },
  {
   "cell_type": "markdown",
   "metadata": {
    "slideshow": {
     "slide_type": "subslide"
    }
   },
   "source": [
    "# Indexing and Slicing\n",
    "## Getting a substring\n",
    "We can **slice** a string by providing two indices, producing a **substring**. The first one indicates where we want to start taking characters, and the second indicates the first character that we **don't** want. These two characters are placed in square brackets and delimited by a colon."
   ]
  },
  {
   "cell_type": "code",
   "execution_count": null,
   "metadata": {},
   "outputs": [],
   "source": [
    "print(course)\n",
    "print(course[0:4])"
   ]
  },
  {
   "cell_type": "markdown",
   "metadata": {
    "slideshow": {
     "slide_type": "fragment"
    }
   },
   "source": [
    "If you leave off the first index (and start with a colon), the substring is assumed to start from the beginning, and if you leave off the second one, it is assumed to go on until it runs out of characters."
   ]
  },
  {
   "cell_type": "code",
   "execution_count": null,
   "metadata": {},
   "outputs": [],
   "source": [
    "print(course[:4])\n",
    "print(course[-3:])"
   ]
  },
  {
   "cell_type": "markdown",
   "metadata": {
    "slideshow": {
     "slide_type": "slide"
    }
   },
   "source": [
    "# Indexing and Slicing\n",
    "## Setting the stride\n",
    "A third, optional, number in the list of indices for a slice sets the **stride**. The stride says, \"take every n<sup>th</sup> character\", where n is the stride. By default, it is 1. Notably, passing a stride of –1 will walk the string backwards."
   ]
  },
  {
   "cell_type": "code",
   "execution_count": null,
   "metadata": {},
   "outputs": [],
   "source": [
    "# every second character, starting at the one at index 1\n",
    "print(course[1::2])\n",
    "# all characters, but in reverse order\n",
    "print(course[::-1])"
   ]
  },
  {
   "cell_type": "markdown",
   "metadata": {
    "slideshow": {
     "slide_type": "subslide"
    }
   },
   "source": [
    "# Indexing and Slicing\n",
    "### Determining if a substring is in a string\n",
    "You can check for the inclusion of a substring within a string using the python keyword `in`."
   ]
  },
  {
   "cell_type": "code",
   "execution_count": null,
   "metadata": {},
   "outputs": [],
   "source": [
    "course = 'PHYS 240'\n",
    "'PHYS' in course"
   ]
  },
  {
   "cell_type": "markdown",
   "metadata": {},
   "source": [
    "It returns a boolean, indicating if any contiguous substring of the string is equal to the one being checked for."
   ]
  },
  {
   "cell_type": "markdown",
   "metadata": {
    "slideshow": {
     "slide_type": "subslide"
    }
   },
   "source": [
    "# Challenge: Find the Hidden Message!\n",
    "There is a hidden message in the string below. Try different combinations of starting characters, ending characters, and strides to see if you can find it!"
   ]
  },
  {
   "cell_type": "code",
   "execution_count": null,
   "metadata": {},
   "outputs": [],
   "source": [
    "original = '?P!%so agll zeo;2t:p nny ja#kW'\n",
    "# play around with the slicing to see if you can find the hidden message.\n",
    "print(original[0::1])"
   ]
  },
  {
   "cell_type": "markdown",
   "metadata": {
    "slideshow": {
     "slide_type": "slide"
    }
   },
   "source": [
    "# String Methods\n",
    "Strings, unlike numbers, have a large number of useful **methods**. Remember, methods are little functions that are attached to string objects that perform various useful features. We'll go over a few important ones, but you should look at Table 2.11 in Hill for more examples.\n",
    "\n",
    "## `center(width)`\n",
    "Create a new string that contains the original string, but padding it with whitespace on either side so it is centered and of a fixed width."
   ]
  },
  {
   "cell_type": "code",
   "execution_count": null,
   "metadata": {},
   "outputs": [],
   "source": [
    "course.center(20)"
   ]
  },
  {
   "cell_type": "markdown",
   "metadata": {
    "slideshow": {
     "slide_type": "subslide"
    }
   },
   "source": [
    "# String Methods\n",
    "## `strip([chars])`\n",
    "With no arguments, will remove all whitespace on either side of a string. If characters are given as a single string as an argument, those character will be removed from the returned string if they are at the beginning or end.\n",
    "\n",
    "**Note:** `rstrip` and `lstrip` variants work only on the right and left ends of the string, respectively."
   ]
  },
  {
   "cell_type": "code",
   "execution_count": null,
   "metadata": {},
   "outputs": [],
   "source": [
    "# new concept: method chaining! calling center returns a new string, which we can then immediately call methods like strip on\n",
    "course.center(20).strip()"
   ]
  },
  {
   "cell_type": "code",
   "execution_count": null,
   "metadata": {},
   "outputs": [],
   "source": [
    "course.strip('P0')"
   ]
  },
  {
   "cell_type": "markdown",
   "metadata": {
    "slideshow": {
     "slide_type": "subslide"
    }
   },
   "source": [
    "# String Methods\n",
    "## `index(substring)`\n",
    "Return index where a substring (possibly a single character) **first begins**. Raises an error if the substring isn't found (be careful!)."
   ]
  },
  {
   "cell_type": "code",
   "execution_count": null,
   "metadata": {},
   "outputs": [],
   "source": [
    "course.index('240')"
   ]
  },
  {
   "cell_type": "code",
   "execution_count": null,
   "metadata": {},
   "outputs": [],
   "source": [
    "# try searching for a substring that isn't in `course`"
   ]
  },
  {
   "cell_type": "markdown",
   "metadata": {
    "slideshow": {
     "slide_type": "subslide"
    }
   },
   "source": [
    "# String Methods\n",
    "## `replace(old, new)`\n",
    "Replaces every instance of a particular substring with a new one."
   ]
  },
  {
   "cell_type": "code",
   "execution_count": null,
   "metadata": {},
   "outputs": [],
   "source": [
    "# let's fix this. Replace \"terrible\" with \"terrific\"\n",
    "'Professor Wolf is a terrible professor doing a terrible job.'"
   ]
  },
  {
   "cell_type": "markdown",
   "metadata": {
    "slideshow": {
     "slide_type": "slide"
    }
   },
   "source": [
    "# Advanced Usage of  `print`\n",
    "What does `print` really do? In short, it converts its argument to a string (or fails in trying) and then displays it to the screen, interpreting any escape codes as needed, ultimately returning `None`.\n",
    "\n",
    "But it also has some other tricks up its sleeve.\n",
    "\n",
    "## Printing multiple objects\n",
    "By providing multiple arguments that are comma-separated, you can print multiple strings in one command."
   ]
  },
  {
   "cell_type": "code",
   "execution_count": null,
   "metadata": {},
   "outputs": [],
   "source": [
    "print('The', 'Power', 'of', '[AND]')"
   ]
  },
  {
   "cell_type": "markdown",
   "metadata": {
    "slideshow": {
     "slide_type": "subslide"
    }
   },
   "source": [
    "# Using `print`: Changing the Separation String\n",
    "When printing multiple strings, default behavior is to separate the strings by spaces. We can customize this by using the optional **keyword argument** `sep`.\n",
    "\n",
    "A keyword argument is an argument given near the end of a function call that has the format `KEYWORD=VALUE` where `KEYWORD` is the special name of the argument, and `VALUE` is the actual value."
   ]
  },
  {
   "cell_type": "code",
   "execution_count": null,
   "metadata": {},
   "outputs": [],
   "source": [
    "print('The', 'Power', 'of', '[AND]', sep=\"\\n\")"
   ]
  },
  {
   "cell_type": "markdown",
   "metadata": {},
   "source": [
    "Note that last argument is the keyword argument. This order is important! Keyword arguments must always go at the end of a function call."
   ]
  },
  {
   "cell_type": "markdown",
   "metadata": {
    "slideshow": {
     "slide_type": "subslide"
    }
   },
   "source": [
    "# Using `print`: Changing the Termination String\n",
    "You might not notice it, but `print` automatically ends a newline (`\"\\n\"`) to the end of every sequence of strings passed to it. That is, subsequent calls to `print` will result in text appearing on a new line.\n",
    "\n",
    "We can customize what character, if any, is added to the end of a call to `print` by using the `end` keyword argument."
   ]
  },
  {
   "cell_type": "code",
   "execution_count": null,
   "metadata": {},
   "outputs": [],
   "source": [
    "# add nothing to end of string\n",
    "print('The', end='')\n",
    "# add a single space after printing the string\n",
    "print('Power', end=' ')\n",
    "# add a space and an opening square bracket\n",
    "print('of', end=' [')\n",
    "# add closing square bracket\n",
    "print('AND', end=']')"
   ]
  },
  {
   "cell_type": "markdown",
   "metadata": {
    "slideshow": {
     "slide_type": "slide"
    }
   },
   "source": [
    "# Formatting Strings\n",
    "The `format` method of python strings allows for fine control over how a data should be **interpolated** (or turned into a string). Most important application for us: formatting numbers (How to do scientific notation? How many digits of precision?).\n",
    "\n",
    "Here's how it works in its simplest form.\n",
    "- Create a string with one or more pairs of curly braces in it. Within the curly braces, optionally embed **format codes**, which python uses to format strings.\n",
    "- Call that string's `format` method, and provide a series of arguments, one for each pair of curly braces.\n",
    "- Python then converts each argument passed to `format` into its corresponding pair of curly braces according to the format string present in those curly braces."
   ]
  },
  {
   "cell_type": "markdown",
   "metadata": {
    "slideshow": {
     "slide_type": "subslide"
    }
   },
   "source": [
    "# Formatting Strings Example: Simple Interpolation\n",
    "Suppose we have several string variables that we simply want to insert into a template string."
   ]
  },
  {
   "cell_type": "code",
   "execution_count": null,
   "metadata": {},
   "outputs": [],
   "source": [
    "student = 'Ben Bitdiddle'\n",
    "course = 'PHYS 240'\n",
    "print('Hello, {}, and welcome to {}'.format(student, course))"
   ]
  },
  {
   "cell_type": "markdown",
   "metadata": {
    "slideshow": {
     "slide_type": "fragment"
    }
   },
   "source": [
    "The curly braces represent where the arguments to `format` should be inserted. You can also get fancy with specifying *which* arguments you want to use by inserting the index (starting at zero) of the argument to insert within the curly braces."
   ]
  },
  {
   "cell_type": "code",
   "execution_count": null,
   "metadata": {},
   "outputs": [],
   "source": [
    "print('Welcome to {0}\\'s class, where the one and only {0} will teach you to code just as professionally as {0} does!'.format('Bill Wolf'))"
   ]
  },
  {
   "cell_type": "markdown",
   "metadata": {
    "slideshow": {
     "slide_type": "subslide"
    }
   },
   "source": [
    "# Formatting Strings Example: Centering a String"
   ]
  },
  {
   "cell_type": "code",
   "execution_count": null,
   "metadata": {},
   "outputs": [],
   "source": [
    "'{:^40}'.format('The Power of [AND]')"
   ]
  },
  {
   "cell_type": "markdown",
   "metadata": {},
   "source": [
    "Let's break this down.\n",
    "- Main string: `'{:^40}'`. This string is JUST a format code. Format codes start with a colon, and the interesting part is `^40`. This means, center the string (`^`) and make it 40 characters wide.\n",
    "- We call the `format` method, which seeks out curly brace pairs, and then applies the format code in each to the corresponding argument\n",
    "- Argument list: `'The Power of [AND]'`. This is the object (in this case, another string) that is to be formatted. It has the format code applied to it, and appears as the centered version of itself in the output."
   ]
  },
  {
   "cell_type": "markdown",
   "metadata": {
    "slideshow": {
     "slide_type": "subslide"
    }
   },
   "source": [
    "# Formatting numbers"
   ]
  },
  {
   "cell_type": "code",
   "execution_count": null,
   "metadata": {},
   "outputs": [],
   "source": [
    "\"The square root of 2 is {:.3f} and Avogadro's number is {:.2e}.\".format(2**(1/2), 6.0221415e23)"
   ]
  },
  {
   "cell_type": "markdown",
   "metadata": {
    "slideshow": {
     "slide_type": "-"
    }
   },
   "source": [
    "Here we have a more interesting base string that has two format codes embedded in it.\n",
    "\n",
    "1. standard (i.e. not scientific notation) floating point number with three places after the decimal point\n",
    "2. scientific notation with a lower case \"e\" separating the mantissa from the power of 10 and two numbers after the decimal point"
   ]
  },
  {
   "cell_type": "markdown",
   "metadata": {
    "slideshow": {
     "slide_type": "subslide"
    }
   },
   "source": [
    "# Format code details (paraphrased from [realpython](https://realpython.com/python-formatted-output/#the-format_spec-component))\n",
    "\n",
    "General structure of a format code:\n",
    "\n",
    "```\n",
    ":[[<fill>]<align>][<sign>][#][0][<width>][<group>][.<prec>][<type>]\n",
    "```\n",
    "| Component | Description |\n",
    "|:---------:|:------------|\n",
    "|`fill` |What to pad extra characters with|\n",
    "|`align`|left, right, or center align|\n",
    "|`sign` |Whether or not to always provide an explicit sign|\n",
    "|`#`|Whether to use alternate format (special)|\n",
    "|`0`|Whether to pad extra spaces with zeros|\n",
    "|`width`|Minimum width of formatted string|\n",
    "|`group`|Character to use as a thousands separator|\n",
    "|`.prec`|How many digits after the decimal place to display|\n",
    "|`type`|Broad type of data to be distributed|\n",
    "\n",
    "**Most** are optional, but too many to go over! We'll look at the most important: type, width, precision."
   ]
  },
  {
   "cell_type": "markdown",
   "metadata": {
    "slideshow": {
     "slide_type": "subslide"
    }
   },
   "source": [
    "# Format Codes: types\n",
    "| Value | Presentation Type | Example |\n",
    "|:------|:------------------|:-------:|\n",
    "|`b`    |Binary integer     |`'{:b}'.format(15) => '1111'` |\n",
    "|`c`    |Single character   |`'{:c}'.format(65) => 'A'`|\n",
    "|`d`    |Decimal integer    |`'{:d}'.format(1_000) => '1000'`|\n",
    "|`e` or `E`|Exponential     |`'{:E}'.format(6.02e23) => '6.020000E+23'`|\n",
    "|`f` or `F`|Floating Point  |`'{:f}'.format(1.34e-5) => '0.0000134'`|\n",
    "|`g` or `G`| Floating point/Exponential|`'{:g}'.format(1.34e-5) => '1.34e-5'`|\n",
    "|`o`    |Octal integer      |`'{:o}'.format(17) => '21'`|\n",
    "|`s`    |String             |`'{:s}'.format('Hello!') => 'Hello!'`|\n",
    "|`x` or `X`| Hexadecimal integer|`'{:X}'.format(28) => '1C'`|\n",
    "|`%`    |Percentage|`'{:%}'.format(0.0249) => '2.490000%'`|"
   ]
  },
  {
   "cell_type": "code",
   "execution_count": null,
   "metadata": {},
   "outputs": [],
   "source": []
  },
  {
   "cell_type": "markdown",
   "metadata": {
    "slideshow": {
     "slide_type": "subslide"
    }
   },
   "source": [
    "# Format Codes: width\n",
    "What is the **minimum** number of characters wide for the output string?"
   ]
  },
  {
   "cell_type": "code",
   "execution_count": null,
   "metadata": {},
   "outputs": [],
   "source": [
    "# decimal integer is only 2 characters wide, but we force the string to be four wide\n",
    "'{:4d}'.format(10)"
   ]
  },
  {
   "cell_type": "markdown",
   "metadata": {
    "slideshow": {
     "slide_type": "fragment"
    }
   },
   "source": [
    "Combine with an alignment for nice effect!"
   ]
  },
  {
   "cell_type": "code",
   "execution_count": null,
   "metadata": {},
   "outputs": [],
   "source": [
    "'{:^20d}'.format(10)"
   ]
  },
  {
   "cell_type": "markdown",
   "metadata": {
    "slideshow": {
     "slide_type": "subslide"
    }
   },
   "source": [
    "# Format Codes: precision\n",
    "For floating point numbers, precision goes **after the width**, (if you provide one) and a period, but **before the type** (one of `f/F`, `g/G`, `e/E`, or `%`."
   ]
  },
  {
   "cell_type": "code",
   "execution_count": null,
   "metadata": {},
   "outputs": [],
   "source": [
    "'{:20.4e}'.format(6.02214076e23)"
   ]
  },
  {
   "cell_type": "code",
   "execution_count": null,
   "metadata": {},
   "outputs": [],
   "source": [
    "'{:.2%}'.format(0.7733529)"
   ]
  },
  {
   "cell_type": "code",
   "execution_count": null,
   "metadata": {},
   "outputs": [],
   "source": []
  },
  {
   "cell_type": "markdown",
   "metadata": {
    "slideshow": {
     "slide_type": "subslide"
    }
   },
   "source": [
    "# New(ish) Feature! `f`-strings\n",
    "Like raw strings, but with `f` instead of `r`. In this case, we can embed format codes and values directly into a string."
   ]
  },
  {
   "cell_type": "code",
   "execution_count": null,
   "metadata": {},
   "outputs": [],
   "source": [
    "prof = 'Dr. Wolf'\n",
    "course = 'PHYS 240'\n",
    "print(f'{prof} is teaching {course} this semester.')"
   ]
  },
  {
   "cell_type": "markdown",
   "metadata": {},
   "source": [
    "You can use the colon+format code syntax to format numbers, too!"
   ]
  },
  {
   "cell_type": "code",
   "execution_count": null,
   "metadata": {},
   "outputs": [],
   "source": [
    "from math import pi\n",
    "print(f\"\\N{GREEK SMALL LETTER PI} = {pi:.5f}\")"
   ]
  },
  {
   "cell_type": "code",
   "execution_count": null,
   "metadata": {},
   "outputs": [],
   "source": []
  }
 ],
 "metadata": {
  "celltoolbar": "Slideshow",
  "kernelspec": {
   "display_name": "Python 3 (ipykernel)",
   "language": "python",
   "name": "python3"
  },
  "language_info": {
   "codemirror_mode": {
    "name": "ipython",
    "version": 3
   },
   "file_extension": ".py",
   "mimetype": "text/x-python",
   "name": "python",
   "nbconvert_exporter": "python",
   "pygments_lexer": "ipython3",
   "version": "3.11.3"
  },
  "rise": {
   "theme": "solarized",
   "transition": "fade"
  }
 },
 "nbformat": 4,
 "nbformat_minor": 4
}
