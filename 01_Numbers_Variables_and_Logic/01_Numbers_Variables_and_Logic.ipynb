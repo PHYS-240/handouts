{
 "cells": [
  {
   "cell_type": "markdown",
   "metadata": {
    "cell_style": "center",
    "slideshow": {
     "slide_type": "slide"
    }
   },
   "source": [
    "# Numbers, Variables, Comparisons, and Logic <em style=\"color: Gray;\">(Hill 2.2)<em>\n",
    "### PHYS 240\n",
    "### Dr. Wolf"
   ]
  },
  {
   "cell_type": "markdown",
   "metadata": {
    "slideshow": {
     "slide_type": "slide"
    }
   },
   "source": [
    "# Foreword: Execution of Python Code\n",
    "In python (and most languages), your code occurs line-by-line. The interpreter (the program that actually does the computation) starts at the top line, executes it, and then moves on to the next one, executes, it, and so on."
   ]
  },
  {
   "cell_type": "code",
   "execution_count": null,
   "metadata": {},
   "outputs": [],
   "source": [
    "from time import sleep\n",
    "print(\"I'm executed first\")\n",
    "sleep(2.0)\n",
    "print(\"I'm executed two seconds later\")"
   ]
  },
  {
   "cell_type": "markdown",
   "metadata": {},
   "source": [
    "Later on, we'll learn several ways to move the point of execution around."
   ]
  },
  {
   "cell_type": "markdown",
   "metadata": {
    "slideshow": {
     "slide_type": "subslide"
    }
   },
   "source": [
    "# Comments are pieces of text that are completely ignored by the interpreter\n",
    "A comment is denoted with an octothorp (`#`). Any text after the octothorp will be ignored by the interpreter. You can use comments to temporarily deactivate code without deleting it. We call this \"commenting out\" code."
   ]
  },
  {
   "cell_type": "code",
   "execution_count": null,
   "metadata": {},
   "outputs": [],
   "source": [
    "print('Hello, world')\n",
    "print('Comment me out')\n",
    "print('Goodbye, world')"
   ]
  },
  {
   "cell_type": "markdown",
   "metadata": {},
   "source": [
    "**Pro tip:** With a cursor on a line of code, press `control /` (`⌘ /` on a Mac). It will comment out the whole line, or uncomment it. You can also do this with whole blocks of highlighted code."
   ]
  },
  {
   "cell_type": "markdown",
   "metadata": {
    "slideshow": {
     "slide_type": "slide"
    }
   },
   "source": [
    "# Python Can Accommodate three types of Numbers\n",
    "- Integers\n",
    "$$1, \\quad 2020, \\quad -294{,}333{,}104{,}034{,}466$$\n",
    "- Floating Point Numbers (Real Numbers)\n",
    "$$1.96,\\quad 9.109\\times 10^{-31},\\quad 1.98\\times 10^{33}$$\n",
    "- Complex numbers\n",
    "$$2i, \\quad 3.14 + 2.17i, \\quad 6.02\\times 10^{23} + 6.636\\times 10^{-34}i$$"
   ]
  },
  {
   "cell_type": "markdown",
   "metadata": {
    "slideshow": {
     "slide_type": "subslide"
    }
   },
   "source": [
    "# Integers\n",
    "\n",
    "- Size is only limited by memory of your computer.\n",
    "- __Literal__: the format to input data as text so that the python interpreter understands it\n",
    "- Literal for integers: just... the number. You can add underscores for clarity if desired.\n",
    "- **Follow Along**: Confirm the `type` of an integer literal with the built-in `type()` function"
   ]
  },
  {
   "cell_type": "code",
   "execution_count": null,
   "metadata": {
    "slideshow": {
     "slide_type": "-"
    }
   },
   "outputs": [],
   "source": []
  },
  {
   "cell_type": "markdown",
   "metadata": {
    "slideshow": {
     "slide_type": "subslide"
    }
   },
   "source": [
    "# Floating Point Numbers (Floats)\n",
    "- Real numbers, can be between integers\n",
    "- __NOT EXACT!__ Decimal places only valid out to 15 or 16 places\n",
    "- Allocates finite memory for _mantissa_ (base, before the power of ten) and finite memory for exponent\n",
    "- Literal includes a decimal point `.` and/or the letter `e` (or `E`):\n",
    "- **Challenge**: Confirm that all three types of literals work with the `type()` function"
   ]
  },
  {
   "cell_type": "code",
   "execution_count": null,
   "metadata": {},
   "outputs": [],
   "source": []
  },
  {
   "cell_type": "markdown",
   "metadata": {
    "slideshow": {
     "slide_type": "subslide"
    }
   },
   "source": [
    "# Complex Numbers\n",
    "- Encodes **two floats**: the real and imaginary parts\n",
    "- Real and imaginary parts subject to the limitations of floats\n",
    "- Literal: real float added to another float with the letter `j` appended\n",
    "- **Challenge**: Confirm a complex literal works with the `type()` function"
   ]
  },
  {
   "cell_type": "code",
   "execution_count": null,
   "metadata": {},
   "outputs": [],
   "source": []
  },
  {
   "cell_type": "markdown",
   "metadata": {
    "slideshow": {
     "slide_type": "slide"
    }
   },
   "source": [
    "# Casting\n",
    "We can enforce that a number has a certain type by __casting__ them with the __constructor function__ of the desired type. This also allows you to be less careful with your literals.\n",
    "\n",
    "### Constructor Functions\n",
    "- Integers: `int()`\n",
    "- Floats: `float()`\n",
    "- Complex: `complex()` (__Note:__ this takes two arguments, separated by a comma; first is real part and second is imaginary)\n",
    "\n",
    "For example, we can force an integer to be a float: `float(12)` will produce `12.0`.\n",
    "\n",
    "**Follow Along:** Try constructing and casting several numbers of each type"
   ]
  },
  {
   "cell_type": "code",
   "execution_count": null,
   "metadata": {},
   "outputs": [],
   "source": [
    "  "
   ]
  },
  {
   "cell_type": "markdown",
   "metadata": {
    "slideshow": {
     "slide_type": "slide"
    }
   },
   "source": [
    "# Arithmetic\n",
    "Cells will automatically print out whatever the last line \"evaluates to\". Think of a calculator. When you hit `=`, it evaluates all that you've entered and produces a single result. We can thus use each cell as little calculator.\n",
    "\n",
    "### Binary Operators (place in between two numbers)\n",
    "- Addition (`+`)\n",
    "- Subtraction (`–`)\n",
    "- Multiplication (`*`)\n",
    "- Floating Point Division (`/`)\n",
    "\n",
    "\n",
    "- Integer Division (`//`)\n",
    "- Modulus (Remainder (`%`)\n",
    "- Exponentiation (`**`) (__NOT__ `^`)"
   ]
  },
  {
   "cell_type": "markdown",
   "metadata": {
    "slideshow": {
     "slide_type": "subslide"
    }
   },
   "source": [
    "# Addition, Subtraction, Multiplication, and Exponentiation Work as You'd Expect"
   ]
  },
  {
   "cell_type": "code",
   "execution_count": null,
   "metadata": {
    "slideshow": {
     "slide_type": "fragment"
    }
   },
   "outputs": [],
   "source": [
    "# adding two integers produces an integer\n",
    "3 + 4"
   ]
  },
  {
   "cell_type": "code",
   "execution_count": null,
   "metadata": {
    "slideshow": {
     "slide_type": "fragment"
    }
   },
   "outputs": [],
   "source": [
    "# subtracting two floats produces a float\n",
    "5.3 - 1e-1"
   ]
  },
  {
   "cell_type": "code",
   "execution_count": null,
   "metadata": {
    "slideshow": {
     "slide_type": "fragment"
    }
   },
   "outputs": [],
   "source": [
    "# multiplying an integer and a float produces a float\n",
    "2 * 5.5"
   ]
  },
  {
   "cell_type": "code",
   "execution_count": null,
   "metadata": {
    "slideshow": {
     "slide_type": "fragment"
    }
   },
   "outputs": [],
   "source": [
    "# exponentiating an integer by a complex gives a complex\n",
    "2 ** (1 + 2j)"
   ]
  },
  {
   "cell_type": "markdown",
   "metadata": {
    "slideshow": {
     "slide_type": "subslide"
    }
   },
   "source": [
    "# There are Two Ways to Divide Numbers\n",
    "- Floating point division (`/`) is probably what you are expecting. Dividing integers and floats in any combination will __always__ produce a float"
   ]
  },
  {
   "cell_type": "code",
   "execution_count": null,
   "metadata": {},
   "outputs": [],
   "source": [
    "1 / 2"
   ]
  },
  {
   "cell_type": "markdown",
   "metadata": {
    "slideshow": {
     "slide_type": "fragment"
    }
   },
   "source": [
    "- Integer division (`//`) enforces the result is an integer. It is equivalent to first doing floating point division and then casting to an integer. \n",
    "- __This is the default behavior of integers in most computer languages__"
   ]
  },
  {
   "cell_type": "code",
   "execution_count": null,
   "metadata": {},
   "outputs": [],
   "source": [
    "1 // 2"
   ]
  },
  {
   "cell_type": "markdown",
   "metadata": {
    "slideshow": {
     "slide_type": "subslide"
    }
   },
   "source": [
    "# The Modululus Operator (`%`) Computes the Remainder from Integer Division\n",
    "- When doing integer division, the modulus can help keep the dropped remainder.\n",
    "- For example, dividing 5 by 2 gives 2 (integer division), with a remainder of 1 (which is what \"5 modulo 2\" is)"
   ]
  },
  {
   "cell_type": "code",
   "execution_count": null,
   "metadata": {},
   "outputs": [],
   "source": [
    "5 % 2"
   ]
  },
  {
   "cell_type": "markdown",
   "metadata": {
    "slideshow": {
     "slide_type": "subslide"
    }
   },
   "source": [
    "# Binary Operators are Executed in a Specific Order\n",
    "1. Parentheses\n",
    "2. Exponents\n",
    "3. Multiplication/Division (both)/Modulus\n",
    "4. Addition/Subtraction\n",
    "\n",
    "Please Excuse My Dear, ***Marvelous*** Aunt Sally?"
   ]
  },
  {
   "cell_type": "code",
   "execution_count": null,
   "metadata": {},
   "outputs": [],
   "source": []
  },
  {
   "cell_type": "markdown",
   "metadata": {
    "slideshow": {
     "slide_type": "slide"
    }
   },
   "source": [
    "# Numbers, and All Other Python \"Objects\" have Attributes and Methods\n",
    "\n",
    "__Attribute__: a piece of data stored within a python object. Accessed with the \"dot\" notation. `object.attribute`. For instance, complex numbers have the attributes `real` and `imag`, that are the real and imaginary parts of the number."
   ]
  },
  {
   "cell_type": "code",
   "execution_count": null,
   "metadata": {},
   "outputs": [],
   "source": [
    "(3+2j).real"
   ]
  },
  {
   "cell_type": "markdown",
   "metadata": {
    "slideshow": {
     "slide_type": "slide"
    }
   },
   "source": [
    "__Method__: an attribute that happens to be a function that is tied to an object that relies somehow on its other attributes. For instance, complex numbers have a `conjugate()` method, which computes its own complex conjugate.\n",
    "\n",
    "All functions or methods *must use parentheses*, even if they don't have arguments!"
   ]
  },
  {
   "cell_type": "code",
   "execution_count": null,
   "metadata": {},
   "outputs": [],
   "source": [
    "(3 + 2j).conjugate()"
   ]
  },
  {
   "cell_type": "markdown",
   "metadata": {
    "slideshow": {
     "slide_type": "subslide"
    }
   },
   "source": [
    "# Functions Exist to Perform Common Mathematical Calculations\n",
    "\n",
    "A __function__ is a programming entity that takes in zero or more *arguments*, or *parameters*, and does something with them, possibly producing a resulting object (called its *return value*)\n",
    "\n",
    "To call a function, we write its name, then open parentheses, then any arguments, separated by commas, followed by closing parentheses. Example:\n",
    "\n",
    "```python\n",
    "abs(-3)\n",
    "```\n",
    "\n",
    "Built-in examples:\n",
    "- `abs()`: Calculates things that are _like_ the absolute value\n",
    "- `round()`: Rounds to the nearest integer (interesting convention at half integers, though!)"
   ]
  },
  {
   "cell_type": "code",
   "execution_count": null,
   "metadata": {},
   "outputs": [],
   "source": []
  },
  {
   "cell_type": "markdown",
   "metadata": {
    "slideshow": {
     "slide_type": "subslide"
    }
   },
   "source": [
    "# Aside: `print()` Outputs the Value of its Argument to the Screen\n",
    "- Extremely useful for learning the output of things that aren't literals (i.e. values held in variables or the return values of other functions)\n",
    "- It has __no return value__. Just because it prints something (it does a thing) doesn't mean it returns something (more on this later)\n",
    "- Can print multiple things by separating them with commas\n",
    "- Such a common task, that `print()` is automatically called on the last line of __all__ code cells in Jupyter notebooks, so you won't need to execute it as often.\n",
    "- Debugging tool: Code not working as you expected? Try printing various values in the middle of the execution to see what's _really_ going on."
   ]
  },
  {
   "cell_type": "code",
   "execution_count": null,
   "metadata": {},
   "outputs": [],
   "source": []
  },
  {
   "cell_type": "markdown",
   "metadata": {
    "slideshow": {
     "slide_type": "subslide"
    }
   },
   "source": [
    "# The `math` Module Contains Many Useful Mathematical Functions\n",
    "- __Modules__ are collections of functions and constants that are useful in specific scenarios.\n",
    "- Those functions and constants act _like_ attributes and methods of the module. \n",
    "- To import a module, use the `import` statement (like `import math`).\n",
    "- Check out table 2.3 for a list of _some_ of the functions available in the `math` module"
   ]
  },
  {
   "cell_type": "code",
   "execution_count": null,
   "metadata": {},
   "outputs": [],
   "source": []
  },
  {
   "cell_type": "markdown",
   "metadata": {
    "slideshow": {
     "slide_type": "subslide"
    }
   },
   "source": [
    "# To make specific functions/constants available without the module name, use `from [module] import [func1, func2, const1, const2]`\n",
    "- Modules try not to pollute the __namespace__ (the list of all named variables, functions, etc.)\n",
    "- They hide objects behind their own name (i.e. `math.sin()`, rather than just `sin()`\n",
    "- You might know that you're not going to accidentally overwrite `sin`, and don't want to keep writing `math.` over and over again. There's a solution!\n",
    "```python\n",
    "from math import sin, cos, pi, e\n",
    "```\n",
    "- Now `sin()`, `cos()`, `pi` and `e`, are all available, without prepending `math`"
   ]
  },
  {
   "cell_type": "code",
   "execution_count": null,
   "metadata": {},
   "outputs": [],
   "source": []
  },
  {
   "cell_type": "markdown",
   "metadata": {
    "slideshow": {
     "slide_type": "subslide"
    }
   },
   "source": [
    "# Use the question mark to get help on a function\n",
    "- Just type the name of a function followed immediately by a question mark (and no parentheses!) and execute the cell\n",
    "- Documentation should pop up"
   ]
  },
  {
   "cell_type": "code",
   "execution_count": null,
   "metadata": {},
   "outputs": [],
   "source": []
  },
  {
   "cell_type": "markdown",
   "metadata": {
    "slideshow": {
     "slide_type": "slide"
    }
   },
   "source": [
    "# Variables allow us to store data\n",
    "- We specify a name, which the python interpreter associates with a chunk of memory that holds the data\n",
    "```python\n",
    "my_first_var = 3.0\n",
    "```\n",
    "- After the above code, whenever we reference `my_first_var`, the interpreter knows to look in memory for a specific location and retrieve the data that it finds (the float 3.0 in this case).\n",
    "- We say `my_first_var` is \"bound\" to 3.0\n",
    "- Can use variables in definitions of other variables, too!"
   ]
  },
  {
   "cell_type": "code",
   "execution_count": null,
   "metadata": {},
   "outputs": [],
   "source": [
    "a = 2\n",
    "b = 3\n",
    "c = a * b\n",
    "c"
   ]
  },
  {
   "cell_type": "markdown",
   "metadata": {
    "slideshow": {
     "slide_type": "subslide"
    }
   },
   "source": [
    "# In Jupyter, a variable defined in another cell is usable in another cell, so long as the defining cell was executed first\n",
    "If you execute this cell first, you'll get an error, because `my_var` is not defined yet."
   ]
  },
  {
   "cell_type": "code",
   "execution_count": null,
   "metadata": {},
   "outputs": [],
   "source": [
    "# this will throw an error unless you have already defined `my_var`\n",
    "print(my_var)"
   ]
  },
  {
   "cell_type": "markdown",
   "metadata": {},
   "source": [
    "Now let's define `my_var` in the cell below and then try re-executing the cell above again"
   ]
  },
  {
   "cell_type": "code",
   "execution_count": null,
   "metadata": {},
   "outputs": [],
   "source": [
    "my_var = 10"
   ]
  },
  {
   "cell_type": "markdown",
   "metadata": {},
   "source": [
    "**Best Practice:** Write your notebook such that it works \"correctly\" when executed from top to bottom."
   ]
  },
  {
   "cell_type": "markdown",
   "metadata": {
    "slideshow": {
     "slide_type": "subslide"
    }
   },
   "source": [
    "# When naming variables, there are rules you *must* follow, and conventions that you _should_ follow\n",
    "## Rules\n",
    "- names can contain any letter, digit, and the underscore character (`_`)\n",
    "- names cannot start with a digit\n",
    "- names cannot be the same as any python keyword or built-in constant (see table 2.4)"
   ]
  },
  {
   "cell_type": "code",
   "execution_count": null,
   "metadata": {},
   "outputs": [],
   "source": []
  },
  {
   "cell_type": "markdown",
   "metadata": {
    "slideshow": {
     "slide_type": "subslide"
    }
   },
   "source": [
    "# When naming variables, there are rules you must follow, and conventions that you _should_ follow\n",
    "## Guidelines\n",
    "- make them meaningful (avoid one letter names unless it really makes sense; `wavelength`, not `w`)\n",
    "- multi-word variables should be separated by underscores (`distance_1` and `distance_2`)\n",
    "- stick with lowercase for true variables (they vary), and all capital letters for constants (whose values will never change in the code, nor would you ever change them even when editing the code)"
   ]
  },
  {
   "cell_type": "code",
   "execution_count": null,
   "metadata": {},
   "outputs": [],
   "source": [
    "G = 6.67e-11 # gravitational constant in N m^2 / kg^2\n",
    "M_EARTH = 5.972e24 # mass of Earth in kg\n",
    "R_EARTH = 6371e3 # radius of Earth in m\n",
    "M_MOON = 7.3459e22 # mass of moon in kg\n",
    "R_MOON = 1737.4e3 # radius of Moon in m\n",
    "g = G * M_EARTH / R_EARTH**2\n",
    "print(g)\n",
    "g = G * M_MOON / R_MOON**2\n",
    "print(g)"
   ]
  },
  {
   "cell_type": "markdown",
   "metadata": {
    "slideshow": {
     "slide_type": "slide"
    }
   },
   "source": [
    "# Logic: `True`, `False`, and Logical Operators\n",
    "Another data type in python (besides `int`, `float`, and `complex`) is a `bool` (short for Boolean). There are only two values: `True` and `False`, which are global constants.\n",
    "\n",
    "## Logical Operators\n",
    "- __or__: `p or q` evaluates to true when one **or both** of `p` and `q` are `True`\n",
    "- __and__: `p and q` evaluates to true only when both `p` and `q` are `True`\n",
    "- __not__: A __unary__ operator that flips the truth value of the boolean right after it: `not True` evaluates to `False`"
   ]
  },
  {
   "cell_type": "code",
   "execution_count": null,
   "metadata": {},
   "outputs": [],
   "source": []
  },
  {
   "cell_type": "markdown",
   "metadata": {
    "slideshow": {
     "slide_type": "subslide"
    }
   },
   "source": [
    "# Logic: Comparison Operators\n",
    "Python has many binary _logical_ operators. Instead of returning a new number, they return either `True` or `False`\n",
    "- Equality (`==`, that's __two__ equal signs) and Inequality (`!=`)\n",
    "- Less than (`<`) and greater than (`>`)\n",
    "- Less than or equal to (`<=`) and greater than or equal to (`>=`)"
   ]
  },
  {
   "cell_type": "code",
   "execution_count": null,
   "metadata": {},
   "outputs": [],
   "source": []
  },
  {
   "cell_type": "markdown",
   "metadata": {
    "slideshow": {
     "slide_type": "slide"
    }
   },
   "source": [
    "# The Absence of Data: `None`\n",
    "`None` is a special object that is a placeholder, and indicates that there is no important data.\n",
    "\n",
    "## Why use this?\n",
    "Sometimes you want a variable to exist, but not have an initial value. It may or may not be set later, but if it is not, the `None` value indicates that it was not set.\n",
    "\n",
    "Or, a function may return `None` to signify that something went right (or that nothing went wrong!). It's surprisingly useful, even if it seems weird now."
   ]
  },
  {
   "cell_type": "code",
   "execution_count": null,
   "metadata": {},
   "outputs": [],
   "source": [
    "type(None)"
   ]
  },
  {
   "cell_type": "markdown",
   "metadata": {
    "slideshow": {
     "slide_type": "slide"
    }
   },
   "source": [
    "# Immutability and Identity\n",
    "If one object is defined in terms of another, does changing the independent object affect the value contained in the dependent object?"
   ]
  },
  {
   "cell_type": "code",
   "execution_count": null,
   "metadata": {},
   "outputs": [],
   "source": [
    "a = 5\n",
    "print(\"initially, a is\", a)\n",
    "b = a + 3\n",
    "print(\"initially, b is\", b)\n",
    "a = 4\n",
    "\n",
    "# what is the value of b now?\n",
    "print(\"now, a is\", a)\n",
    "# print(\"now, b is\", b)"
   ]
  },
  {
   "cell_type": "markdown",
   "metadata": {
    "slideshow": {
     "slide_type": "fragment"
    }
   },
   "source": [
    "The answer is... __sometimes__. The objects we've studied so far (numbers and booleans) are all __immutable__: changes to other objects do not affect them.\n",
    "\n",
    "Later, we _will_ deal with __mutable__ objects. In this case, the object will contain references to other variables, and changes to those variables _are_ propagated to the dependent object. This can be surprising, so we will revisit this topic later."
   ]
  },
  {
   "cell_type": "markdown",
   "metadata": {},
   "source": [
    "# For Funsies: Python-generated Truth Table\n",
    "(We definitely don't have the skills to build this yet, but it's a cute demo.)"
   ]
  },
  {
   "cell_type": "code",
   "execution_count": null,
   "metadata": {},
   "outputs": [],
   "source": [
    "print(f\"|{'p':^9s}|{'q':^9s}|{'not p':^9s}|{'p and q':^9s}|{'p or q':^9s}|\")\n",
    "print((\"|\" + \"-\"*9) * 5 + \"|\")\n",
    "for p in [True, False]:\n",
    "    for q in [True, False]:\n",
    "        print(f'|{p:^9}|{q:^9}|{not p: ^9}|{p and q:^9}|{p or q:^9}|')"
   ]
  },
  {
   "cell_type": "code",
   "execution_count": null,
   "metadata": {},
   "outputs": [],
   "source": []
  }
 ],
 "metadata": {
  "celltoolbar": "Slideshow",
  "kernelspec": {
   "display_name": "Python 3 (ipykernel)",
   "language": "python",
   "name": "python3"
  },
  "language_info": {
   "codemirror_mode": {
    "name": "ipython",
    "version": 3
   },
   "file_extension": ".py",
   "mimetype": "text/x-python",
   "name": "python",
   "nbconvert_exporter": "python",
   "pygments_lexer": "ipython3",
   "version": "3.10.12"
  },
  "rise": {
   "theme": "solarized",
   "transition": "fade"
  }
 },
 "nbformat": 4,
 "nbformat_minor": 4
}
