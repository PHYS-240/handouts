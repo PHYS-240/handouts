{
 "cells": [
  {
   "cell_type": "markdown",
   "metadata": {
    "slideshow": {
     "slide_type": "slide"
    }
   },
   "source": [
    "# Matplotlib"
   ]
  },
  {
   "cell_type": "markdown",
   "metadata": {
    "slideshow": {
     "slide_type": "slide"
    }
   },
   "source": [
    "# Pylab vs. Matplotlib\n",
    "- Matplotlib is the **real** plotting library; `pylab` just robs from it (and `numpy`)\n",
    "- Most plotting-centered functions really come from `matplotlib`'s `pyplot` submodule\n",
    "- Get at it more directly by importing `matplotlib.pyplot`, which we traditionally alias to `plt`"
   ]
  },
  {
   "cell_type": "code",
   "execution_count": null,
   "metadata": {},
   "outputs": [],
   "source": [
    "import pylab\n",
    "import matplotlib.pyplot as plt\n",
    "import numpy as np\n",
    "plt.style.use('default')"
   ]
  },
  {
   "cell_type": "markdown",
   "metadata": {
    "slideshow": {
     "slide_type": "subslide"
    }
   },
   "source": [
    "# Basic Example: Plotting Hyperbolic functions in `pylab`:\n",
    "Recall (or behold, if you haven't seen them before!) the hyperbolic trigonometric functions, $\\sinh$ and $\\cosh$:\n",
    "\n",
    "$$\\sinh(x) = \\frac{e^x-e^{-x}}{2}\\qquad \\cosh(x) = \\frac{e^x + e^{-x}}{2}$$\n",
    "\n",
    "`numpy`/`pylab` provide shortcut functions for these. Let's first visualize them with `pylab`:"
   ]
  },
  {
   "cell_type": "code",
   "execution_count": null,
   "metadata": {},
   "outputs": [],
   "source": [
    "xs_pylab = pylab.linspace(-3, 3, 1000)\n",
    "ys1_pylab = pylab.sinh(xs_pylab)\n",
    "ys2_pylab = pylab.cosh(xs_pylab)\n",
    "pylab.plot(xs_pylab, ys1_pylab, label='$\\sinh(x)$')\n",
    "pylab.plot(xs_pylab, ys2_pylab, ls='--', label='$\\cosh(x)$')\n",
    "pylab.xlabel('$x$'); pylab.ylabel('$f(x)$'); pylab.legend(loc='best')"
   ]
  },
  {
   "cell_type": "markdown",
   "metadata": {
    "slideshow": {
     "slide_type": "subslide"
    }
   },
   "source": [
    "# Basic Example: Plotting Hyperbolic functions with `numpy` and `matplotlib`:\n",
    "Now let's do the same thing without using `pylab` at all:"
   ]
  },
  {
   "cell_type": "code",
   "execution_count": null,
   "metadata": {},
   "outputs": [],
   "source": [
    "xs = np.linspace(-3, 3, 1000)\n",
    "ys1 = np.sinh(xs)\n",
    "ys2 = np.cosh(xs)\n",
    "plt.plot(xs, ys1, label='$\\sinh(x)$')\n",
    "plt.plot(xs, ys2, ls='--', label='$\\cosh(x)$')\n",
    "plt.xlabel('$x$'), plt.ylabel('$f(x)$'); plt.legend(loc='best')"
   ]
  },
  {
   "cell_type": "markdown",
   "metadata": {
    "slideshow": {
     "slide_type": "subslide"
    }
   },
   "source": [
    "# Why not just rely on `pylab`?\n",
    "- For quick plots... not really an issue\n",
    "- For more complex plots with multiple panels and more customization, `pylab`/`pyplot` is very cumbersome\n",
    "- Once you learn the more flexible approach, you'll want to stay with it for consistency"
   ]
  },
  {
   "cell_type": "markdown",
   "metadata": {
    "slideshow": {
     "slide_type": "subslide"
    }
   },
   "source": [
    "# State Machine vs. Object-Oriented Approach\n",
    "In using `pyplot` (`plt`) we are implicitly using the \"state machine\" of `matplotlib`.\n",
    "- There is one figure that `plot`, `legend`, `xlabel`, etc. implicitly \"go to\"\n",
    "- To create a new figure for subsequent calls to go to, need to call `plt.figure()`, but then it is hard to get a handle on the older figure\n",
    "- `matplotlib` has a sense of \"state\"; what the current figure is and how it is set up\n",
    "\n",
    "We'll move to using the object-oriented approach. All aspects of a figure are instances of various classes and they each have their own attributes and methods\n",
    "- `Figure` encompasses an entire figure of any kind, plots or otherwise\n",
    "- `Axes` is a coordinate axes, including any plotted data; this is what we usually want to work iwth\n",
    "- `Line2D` is an object that controls a single line-plot's worth of data on a given `Axes` instance\n",
    "\n",
    "There are a dizzying number of distinct classes that make up figures, but the most important are `Figure` and `Axes`."
   ]
  },
  {
   "cell_type": "markdown",
   "metadata": {
    "slideshow": {
     "slide_type": "slide"
    }
   },
   "source": [
    "# Object-Oriented Approach: Creating Figures\n",
    "A figure object is instantiated by `pyplot`'s `figure()` constructor. There are many optional arguments to this function, but the most useful is probably `figsize`, which you can set to a tuple which gives the dimensions (length, width) of the desired figure, in inches.\n",
    "\n",
    "So the following would create a figure that is 6 inches wide by 4 inches tall and stores it in `fig`:\n",
    "\n",
    "```python\n",
    "fig = plt.figure(figsize=(6, 4))\n",
    "```"
   ]
  },
  {
   "cell_type": "markdown",
   "metadata": {
    "slideshow": {
     "slide_type": "subslide"
    }
   },
   "source": [
    "# Object-Oriented Approach: Adding Axes to a Figure\n",
    "Once a figure is instantiated, we can add an `Axes` object, which is what we can use to plot data. The classic way to do this is to call the `add_subplot` method of the `Figure` instance you want to add the axes to.\n",
    "\n",
    "We can see how we are already \"naming\" objects so that we can get at them, possibly juggling multiple axes (panels) in multiple figures.\n",
    "\n",
    "`add_subplot` takes three integer arguments (sort of). They represent the number of rows of subplots there will be in the figure, then the number of columns of subplots there will be, and finally the index (starting at 1 for some reason) of the plot we actually want to create. Indexing goes from top to bottom, left to right.\n",
    "\n",
    "**Shortcut:** Rather than using three integers, us a single three digit integer, with the hundreds, tens, and ones places representing the three original digits."
   ]
  },
  {
   "cell_type": "markdown",
   "metadata": {
    "slideshow": {
     "slide_type": "subslide"
    }
   },
   "source": [
    "# Example: Creating figures and axes"
   ]
  },
  {
   "cell_type": "code",
   "execution_count": null,
   "metadata": {},
   "outputs": [],
   "source": [
    "# create the figure\n",
    "fig = plt.figure()\n",
    "\n",
    "# create left axis object in a 1-row, 2-columns setup\n",
    "ax1 = fig.add_subplot(1, 2, 1)\n",
    "# create right axis object in a 1-row, 2-columns setup using the `add_subplot` shortcut\n",
    "ax2 = fig.add_subplot(122)"
   ]
  },
  {
   "cell_type": "markdown",
   "metadata": {
    "slideshow": {
     "slide_type": "subslide"
    }
   },
   "source": [
    "# Shortcut: Create the figure and all subplots in one call!\n",
    "Not well-known enough: `plt.subplots`. This function combines aspects of `plt.figure` and the `add_subplot` method of figures, ultimately returning a figure and an iterable of axis objects, which are instead **indexed from zero**. The function takes two integers, which are the same as the first two arguments to `add_subplot`, but it has many other optional arguments. If there are only one row and one column, the return value will just be a tuple of a figure and a single axis object."
   ]
  },
  {
   "cell_type": "code",
   "execution_count": null,
   "metadata": {},
   "outputs": [],
   "source": [
    "# create figure (fig) and an ARRAY of axes objects (axes) over three rows and one column\n",
    "fig, axes = plt.subplots(3, 1, figsize=(6, 6))"
   ]
  },
  {
   "cell_type": "markdown",
   "metadata": {
    "slideshow": {
     "slide_type": "subslide"
    }
   },
   "source": [
    "# Subplots/Axes: The Main Event!\n",
    "- Axes objects are the ones that can accept `plot` and `scatter` method calls.\n",
    "- Lines, labels, and legends are all attached to axes objects, and most of the functions are the same as in `pylab`/`pyplot`'s state machine approach.\n",
    "- Main difference is labels (`xlabel()` → `set_xlabel()`) and limits (`xlim()` → `set_xlim()`)."
   ]
  },
  {
   "cell_type": "markdown",
   "metadata": {
    "slideshow": {
     "slide_type": "subslide"
    }
   },
   "source": [
    "# Hyperbolic trig functions revisited: Object-Oriented Approach"
   ]
  },
  {
   "cell_type": "code",
   "execution_count": null,
   "metadata": {},
   "outputs": [],
   "source": [
    "fig, ax = plt.subplots(1, 1)\n",
    "ax.plot(xs, ys1, label='$\\sinh(x)$')\n",
    "ax.plot(xs, ys2, ls='--', label='$\\cosh(x)$')\n",
    "ax.set_xlabel('$x$')\n",
    "ax.set_ylabel('$f(x)$')\n",
    "ax.legend(loc='best')"
   ]
  },
  {
   "cell_type": "markdown",
   "metadata": {
    "slideshow": {
     "slide_type": "subslide"
    }
   },
   "source": [
    "# Example: 3 Harmonics in 3 Panels\n",
    "Goal: plot the three functions $f_1(x) = \\sin(x)$, $f_2(x) = \\sin(2x)$, and $f_3(x) = \\sin(3x)$ in three vertically-stacked panels, all from $x=0$ to $x=2\\pi$.\n",
    "\n",
    "**Pro Tip**: Specifying `sharex=True` in call to `subplots` will force stacked plots to share the same ticks and tick labels, regardless the range over which they are plotted"
   ]
  },
  {
   "cell_type": "code",
   "execution_count": null,
   "metadata": {},
   "outputs": [],
   "source": [
    "# first, create the data\n",
    "\n",
    "# Make figure and axes: 3 rows, one column!\n",
    "\n",
    "# plot each function in its own axis\n"
   ]
  },
  {
   "cell_type": "markdown",
   "metadata": {
    "slideshow": {
     "slide_type": "subslide"
    }
   },
   "source": [
    "# Focus: Customizing Dashstyles\n",
    "We've seen that you can specify a linestyle for a `plot` command using simple strings like `'-'` (solid; default), `'--'` (dashed), `':'` (dotted), and `'-.'` (dash-dotted). But you can actually customize these to arbitrary pattern by providing a value to the optional `dashes` keyword argument.\n",
    "\n",
    "`dashes` takes an iterable that gives the lengths of \"on\" and \"off\" patterns, measured in points. For example,\n",
    "\n",
    "```python\n",
    "ax.plot(xs, ys, dashes=[3, 1.5, 1.5, 1.5])`\n",
    "```\n",
    "will plot with a pattern of 3 points drawn, 1.5 points off, 1.5 on, and another 1.5 off, and then the pattern repeats. This is essentially a dot-dash pattern."
   ]
  },
  {
   "cell_type": "markdown",
   "metadata": {
    "slideshow": {
     "slide_type": "subslide"
    }
   },
   "source": [
    "# Example: Lots of Dashes!"
   ]
  },
  {
   "cell_type": "code",
   "execution_count": null,
   "metadata": {},
   "outputs": [],
   "source": [
    "dashstyles = ('', [3, 1.5], [1.5, 1.5], [3, 1.5, 1.5, 1.5], [3, 1.5, 1.5, 1.5, 1.5, 1.5])\n",
    "fig, ax = plt.subplots(1, 1)\n",
    "for i, ds in zip(range(1, len(dashstyles) + 1), dashstyles):\n",
    "    ax.plot(xs, np.sin(i * xs), dashes=ds, label=r'$\\sin(' + str(i) + 'x)$')\n",
    "ax.legend(loc='best')\n"
   ]
  },
  {
   "cell_type": "markdown",
   "metadata": {
    "slideshow": {
     "slide_type": "subslide"
    }
   },
   "source": [
    "# Focus: Adding Markers to Line Plots\n",
    "We know that we can make scatter plots (markers only; no connecting lines) by using the `scatter` method of axes, but we can also include markers in a standard plot by specifying the `marker` keyword argument. By default, it will add a marker at *every point*, which is probably too often, so you can also specify `markerevery`, which will only plot a marker for every $n$ points, for some chosen value of $n$."
   ]
  },
  {
   "cell_type": "code",
   "execution_count": null,
   "metadata": {},
   "outputs": [],
   "source": [
    "fig, ax = plt.subplots(1, 1, figsize=(4.5,4.5))\n",
    "ax.plot(xs, ys1, marker='o', markevery=80, label='$\\sinh(x)$')\n",
    "ax.plot(xs, ys2, marker='^', markevery=80, ls='--', label='$\\cosh(x)$')\n",
    "ax.set_xlabel('$x$'); ax.set_ylabel('$f(x)$'); ax.legend(loc='best')"
   ]
  },
  {
   "cell_type": "markdown",
   "metadata": {
    "slideshow": {
     "slide_type": "slide"
    }
   },
   "source": [
    "# Scatter Plots: Using Color and Size\n",
    "Below I implement Hill's [Problem 7.1.3](https://scipython.com/book/chapter-7-matplotlib/problems/p71/bmi-variation-with-of-gdp/), with some stylistic choices of my own."
   ]
  },
  {
   "cell_type": "code",
   "execution_count": null,
   "metadata": {},
   "outputs": [],
   "source": [
    "# load bmi data\n",
    "dt = np.dtype([('country', 'U60'), ('bmi', 'float64')])\n",
    "bmi_data = np.genfromtxt('bmi_men.tsv', dtype=dt, delimiter='\\t')\n",
    "\n",
    "# load gdp data\n",
    "dt2 = np.dtype([('country', 'U60'), ('gdp', 'float64')])\n",
    "gdp_data = np.genfromtxt('gdp.tsv', dtype=dt2, delimiter='\\t', filling_values=-1, skip_footer=1)\n",
    "\n",
    "# load population data (try on your own first!)\n",
    "dt3 = np.dtype([('country', 'U60'), ('population', 'float64')])\n",
    "pop_data = np.genfromtxt('population_total.tsv', dtype=dt3, delimiter='\\t', filling_values=-1, skip_footer=1)\n",
    "\n",
    "# load continent data\n",
    "# witchcraft to get a list of the default colors\n",
    "lines_color_cycle = [p['color'] for p in plt.rcParams['axes.prop_cycle']]\n",
    "dt4 = np.dtype([('country', 'U60'), ('continent', 'U60')])\n",
    "con_data = np.genfromtxt('continents.tsv', dtype=dt4, delimiter='\\t')\n",
    "continents = list(set(con_data['continent']))\n",
    "continent_colors = dict(zip(continents, lines_color_cycle[:len(continents)]))\n",
    "continent_colors\n"
   ]
  },
  {
   "cell_type": "code",
   "execution_count": null,
   "metadata": {},
   "outputs": [],
   "source": [
    "# this cell just creates one record array with all countries that have valid data in all categories\n",
    "# (bmi, gdp, population, and continent), so that they can be easily accessed and consistently used\n",
    "# in the plotting (next cell)\n",
    "\n",
    "# first, go through each country and assemble its bmi, gdp, population, and color,\n",
    "# creating a list of tuples\n",
    "records = []\n",
    "for country, bmi in bmi_data:\n",
    "    if country in gdp_data['country'] and country in pop_data['country'] and country in con_data['country']:\n",
    "        gdp_loc = np.where(gdp_data['country'] == country)[0]\n",
    "        pop_loc = np.where(pop_data['country'] == country)[0]\n",
    "        con_loc = np.where(con_data['country'] == country)[0]\n",
    "        gdp = gdp_data['gdp'][gdp_loc]\n",
    "        pop = pop_data['population'][pop_loc]\n",
    "        # ran into strange problem where the \"location\" for a continent\n",
    "        # still returned an array, so catch that and just de-reference\n",
    "        # it one more time... I was too lazy to properly figure out\n",
    "        # what was going on\n",
    "        try:\n",
    "            color = continent_colors[cont_data['continent'][con_loc]]\n",
    "        except TypeError as e:\n",
    "            color = continent_colors[cont_data['continent'][con_loc[0]]]\n",
    "        if gdp > 0 and pop > 0:\n",
    "            records.append((country, bmi, gdp, pop, color))\n",
    "\n",
    "# now convert the list of tuples into a record array\n",
    "dt5 = np.dtype([('country', 'U60'), ('bmi', 'float64'), ('gdp', 'float64'), ('population', 'float64'), ('color', 'U60')])\n",
    "all_data = np.array(records, dtype = dt5)\n",
    "    "
   ]
  },
  {
   "cell_type": "code",
   "execution_count": null,
   "metadata": {},
   "outputs": [],
   "source": [
    "fig, ax = plt.subplots(1, 1)\n",
    "# all the magic in one line! scatter plot of bmi vs gdp, but get sizes of markers from the population,\n",
    "# scaled to it looks nice to the eye, and setting the color according to the continent\n",
    "# note also the use of alpha, which adds some trasparency to the bubbles so we can \"see through\" them\n",
    "ax.scatter(all_data['bmi'], all_data['gdp'], s=all_data['population'] / max(all_data['population']) * 1000, c=all_data['color'], alpha=0.4)\n",
    "ax.set_xlabel('Average Male BMI [kg/m$^2$]')\n",
    "ax.set_ylabel('GDP per capita [\\$]')\n",
    "\n",
    "# using log scale makes the diversity among the low gdp nations more clear\n",
    "ax.set_yscale('log')\n",
    "\n",
    "# chop off some high-bmi outliers (maybe not a good idea, but it looks nicer!)\n",
    "ax.set_xlim(right=30)"
   ]
  },
  {
   "cell_type": "markdown",
   "metadata": {
    "slideshow": {
     "slide_type": "slide"
    }
   },
   "source": [
    "# Customizing Tickmarks\n",
    "The **ticks** are the little lines along the axis edges that set the scale and values in a plot. `matplotlib` is usually pretty good about making these look decent, but you can customize them to an arbitrary precision using these methods of axes objects:\n",
    "- `set_yticks` and `set_xticks` (sets the positions of major or minor tickmarks)\n",
    "- `set_yticklabels` and `set_xticklabels` (sets the labels for major or minor tickmarks)\n",
    "- `tick_params` (change appearance of major and/or minor tick marks)"
   ]
  },
  {
   "cell_type": "markdown",
   "metadata": {
    "slideshow": {
     "slide_type": "subslide"
    }
   },
   "source": [
    "# Example: Tinkering with Tickmarks\n",
    "Here we want to create a figure showing a generic sine curve, without specifying a wavelength or amplitude. That is, we want to show a generic plot of\n",
    "\n",
    "$$f(x) = A\\sin\\left(\\frac{2\\pi x}{\\lambda}\\right)$$"
   ]
  },
  {
   "cell_type": "code",
   "execution_count": null,
   "metadata": {},
   "outputs": [],
   "source": [
    "xs = np.linspace(0, 1, 200)\n",
    "# implicitly: lambda is 1 and A is one\n",
    "ys = np.sin(2*np.pi * xs)\n",
    "fig, ax = plt.subplots(1, 1)\n",
    "ax.plot(xs, ys)\n",
    "ax.set_xlabel('$x$')\n",
    "ax.set_ylabel('$f(x)$')\n",
    "\n",
    "# TODO: change positions and labels of tick marks to be more \"generic\"\n",
    "\n",
    "# TODO: make tick marks point inward (my personal preference)\n",
    "\n",
    "# show arbitrary label (not a legend); coming up soon!\n",
    "ax.text(0.95, 0.95, r'$f(x) = A\\sin\\left(\\frac{2\\pi x}{\\lambda}\\right)$', ha='right', va='top', transform=ax.transAxes)"
   ]
  },
  {
   "cell_type": "markdown",
   "metadata": {
    "slideshow": {
     "slide_type": "slide"
    }
   },
   "source": [
    "# Errorbars\n",
    "Most experimental data is meaningless without associated uncertainties. On plots, we represent uncertainties with error bars, expressing the region of confidence around a data point.\n",
    "\n",
    "`matplotlib` axes objects have the powerful `errobar` function, which plots a line plot, optionally with markers, and can also specify uncertainties in either the $x$ or $y$ directions in the following ways:\n",
    "- No uncertainty (no errobar)\n",
    "- Constant uncertainty for all values\n",
    "- Varying, but symmetric (plus or minus) uncertainties\n",
    "- Asymmetric and varying (different positive and negative undertaintes"
   ]
  },
  {
   "cell_type": "markdown",
   "metadata": {
    "slideshow": {
     "slide_type": "subslide"
    }
   },
   "source": [
    "# Example: \"Noisy Drop the Rock\"\n",
    "We want to create simulated data for measuring the position of a falling object as a function of time. We know that an object dropped from rest should roughly follow the equation\n",
    "\n",
    "$$y(t) = y_0 - \\frac{1}{2}gt^2$$\n",
    "\n",
    "Suppose we could only measure the time accurate to within one tenth of a second, and we could only measure the position to within a 25 centimeters (we're really bad at that, I guess). Let's first generate some bogus experimental data by adding some random noise, and then we'll plot it using `errorbar`."
   ]
  },
  {
   "cell_type": "code",
   "execution_count": null,
   "metadata": {},
   "outputs": [],
   "source": [
    "num_points = 15  # number of measurements\n",
    "t_unc = 0.1  # uncertainty in time measurements, in seconds\n",
    "y_unc = 0.25  # uncertainty in position measurements, in meters\n",
    "y_0 = 10.0  # initial height, in meters\n",
    "g = 9.81  # acceleration due to gravity, in m/s^2\n",
    "\n",
    "# np.random.random creates random values between 0 and 1, so we subtract a half, and\n",
    "# multiply by 2 to get a random number between -1 and 1, and then multiply by the\n",
    "# uncertainty\n",
    "expected_times = np.linspace(0,1.5, num_points)\n",
    "noisy_times = expected_times + 2 * (np.random.random(num_points) - 0.5) * t_unc\n",
    "\n",
    "expected_ys = y_0 - 0.5 * g * expected_times**2\n",
    "noisy_ys = expected_ys + 2 * (np.random.random(num_points) - 0.5) * y_unc"
   ]
  },
  {
   "cell_type": "code",
   "execution_count": null,
   "metadata": {},
   "outputs": [],
   "source": [
    "fig, ax = plt.subplots(1, 1)\n",
    "# note order of inputs is xs, ys, uncertainty in ys (NOT XS!), then uncertainty in xs.\n",
    "# to get rid of line connecting points, set fmt to just be circular markers\n",
    "# to get caps (lines at the ends of the errorbars), set capsize to length of the caps in pts\n",
    "ax.errorbar(noisy_times, noisy_ys, y_unc, t_unc, capsize=3, fmt='o', ecolor='black', label='Noisy Data')\n",
    "ax.plot(expected_times, expected_ys, label='Perfect Data')\n",
    "ax.set_ylabel('Height [m]')\n",
    "ax.set_xlabel('Time [s]')\n",
    "ax.legend(loc='best')"
   ]
  },
  {
   "cell_type": "markdown",
   "metadata": {
    "slideshow": {
     "slide_type": "slide"
    }
   },
   "source": [
    "# Practical Tips\n",
    "- **Use Examples to Learn**:\n",
    "    - Google \"matplotlib errboar asymmetric\" or something similar; usually an excellent stack overflow qustion\n",
    "    - Use [matplotlib gallery](https://matplotlib.org/stable/gallery/index.html) for inspiration\n",
    "- **Create a styleguide**\n",
    "    - Creat your own `matplotlibrc` file that you include in the same directory as projects\n",
    "    - Get basic one [here](https://matplotlib.org/stable/tutorials/introductory/customizing.html#a-sample-matplotlibrc-file). Copy into a file with the name `matplotlibrc` in the same directory, and `matplotlib` will use the styles you define there as the default."
   ]
  }
 ],
 "metadata": {
  "celltoolbar": "Slideshow",
  "kernelspec": {
   "display_name": "Python 3",
   "language": "python",
   "name": "python3"
  },
  "language_info": {
   "codemirror_mode": {
    "name": "ipython",
    "version": 3
   },
   "file_extension": ".py",
   "mimetype": "text/x-python",
   "name": "python",
   "nbconvert_exporter": "python",
   "pygments_lexer": "ipython3",
   "version": "3.9.1"
  },
  "rise": {
   "theme": "solarized",
   "transition": "fade"
  }
 },
 "nbformat": 4,
 "nbformat_minor": 4
}
