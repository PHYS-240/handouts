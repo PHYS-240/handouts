{
 "cells": [
  {
   "cell_type": "markdown",
   "metadata": {
    "slideshow": {
     "slide_type": "slide"
    }
   },
   "source": [
    "# Advanced Plotting with Matplotlib\n",
    "\n",
    "## PHYS 240\n",
    "## Dr. Wolf"
   ]
  },
  {
   "cell_type": "markdown",
   "metadata": {
    "slideshow": {
     "slide_type": "slide"
    }
   },
   "source": [
    "# But first, imports"
   ]
  },
  {
   "cell_type": "code",
   "execution_count": null,
   "metadata": {},
   "outputs": [],
   "source": [
    "import matplotlib.pyplot as plt\n",
    "import numpy as np\n",
    "plt.style.use('default')"
   ]
  },
  {
   "cell_type": "markdown",
   "metadata": {
    "slideshow": {
     "slide_type": "subslide"
    }
   },
   "source": [
    "# Basic Example: Plotting Hyperbolic functions in `matplotlib`:\n",
    "Recall (or behold, if you haven't seen them before!) the hyperbolic trigonometric functions, $\\sinh$ and $\\cosh$:\n",
    "\n",
    "$$\\sinh(x) = \\frac{e^x-e^{-x}}{2}\\qquad \\cosh(x) = \\frac{e^x + e^{-x}}{2}$$\n",
    "\n",
    "`numpy` provides shortcut functions for these. Let's first visualize them with `matplotlib` like we always have:"
   ]
  },
  {
   "cell_type": "code",
   "execution_count": null,
   "metadata": {},
   "outputs": [],
   "source": [
    "xs = np.linspace(-3, 3, 1000)\n",
    "ys1 = np.sinh(xs)\n",
    "ys2 = np.cosh(xs)\n",
    "plt.plot(xs, ys1, label=r'$\\sinh(x)$')\n",
    "plt.plot(xs, ys2, ls='--', label=r'$\\cosh(x)$')\n",
    "plt.xlabel('$x$'); plt.ylabel('$f(x)$'); plt.legend(loc='best')"
   ]
  },
  {
   "cell_type": "markdown",
   "metadata": {
    "slideshow": {
     "slide_type": "subslide"
    }
   },
   "source": [
    "# State Machine vs. Object-Oriented Approach\n",
    "In using `pyplot` (`plt`) we are implicitly using the \"state machine\" of `matplotlib`.\n",
    "- There is one figure that `plot`, `legend`, `xlabel`, etc. implicitly \"go to\"\n",
    "- To create a new figure for subsequent calls to go to, need to call `plt.figure()`, but then it is hard to get a handle on the older figure\n",
    "- `matplotlib` has a sense of \"state\"; what the current figure is and how it is set up"
   ]
  },
  {
   "cell_type": "markdown",
   "metadata": {
    "slideshow": {
     "slide_type": "subslide"
    }
   },
   "source": [
    "# State Machine vs. Object-Oriented Approach\n",
    "We'll move to using the object-oriented approach. All aspects of a figure are instances of various classes and they each have their own attributes and methods\n",
    "- `Figure` encompasses an entire figure of any kind, plots or otherwise\n",
    "- `Axes` is a coordinate axes, including any plotted data; this is what we usually want to work with\n",
    "- `Line2D` is an object that controls a single line-plot's worth of data on a given `Axes` instance\n",
    "\n",
    "There are a dizzying number of distinct classes that make up figures, but the most important are `Figure` and `Axes`."
   ]
  },
  {
   "cell_type": "markdown",
   "metadata": {
    "slideshow": {
     "slide_type": "slide"
    }
   },
   "source": [
    "# Object-Oriented Approach: Creating Figures\n",
    "A figure object is instantiated by `pyplot`'s `figure()` constructor. There are many optional arguments to this function, but the most useful is probably `figsize`, which you can set to a tuple which gives the dimensions (length, width) of the desired figure, in inches.\n",
    "\n",
    "So the following would create a figure that is 6 inches wide by 4 inches tall and stores it in `fig`:\n",
    "\n",
    "```python\n",
    "fig = plt.figure(figsize=(6, 4))\n",
    "```"
   ]
  },
  {
   "cell_type": "markdown",
   "metadata": {
    "slideshow": {
     "slide_type": "subslide"
    }
   },
   "source": [
    "# Object-Oriented Approach: Adding Axes to a Figure\n",
    "Once a figure is instantiated, we can add an `Axes` object, which is what we can use to plot data. The classic way to do this is to call the `add_subplot` method of the `Figure` instance you want to add the axes to.\n",
    "\n",
    "We can see how we are already \"naming\" objects so that we can get at them, possibly juggling multiple axes (panels) in multiple figures.\n",
    "\n",
    "`add_subplot` takes three integer arguments (sort of). They represent the number of rows of subplots there will be in the figure, then the number of columns of subplots there will be, and finally the index (starting at 1 for some reason) of the plot we actually want to create. Indexing goes from top to bottom, left to right.\n",
    "\n",
    "**Shortcut:** Rather than using three integers, use a single three digit integer, with the hundreds, tens, and ones places representing the three original digits."
   ]
  },
  {
   "cell_type": "markdown",
   "metadata": {
    "slideshow": {
     "slide_type": "subslide"
    }
   },
   "source": [
    "# Example: Creating figures and axes"
   ]
  },
  {
   "cell_type": "code",
   "execution_count": null,
   "metadata": {},
   "outputs": [],
   "source": [
    "# create the figure\n",
    "fig = plt.figure()\n",
    "\n",
    "# create left axis object in a 1-row, 2-columns setup\n",
    "ax1 = fig.add_subplot(1, 2, 1)\n",
    "# create right axis object in a 1-row, 2-columns setup using the `add_subplot` shortcut\n",
    "ax2 = fig.add_subplot(122)"
   ]
  },
  {
   "cell_type": "markdown",
   "metadata": {
    "slideshow": {
     "slide_type": "subslide"
    }
   },
   "source": [
    "# Shortcut: Create the figure and all subplots in one call!\n",
    "Not well-known enough: `plt.subplots`. This function combines aspects of `plt.figure` and the `add_subplot` method of figures, ultimately returning a figure and a `numpy` array of axis objects, which are instead **indexed from zero**. The function takes two integers, which are the same as the first two arguments to `add_subplot`, but it has many other optional arguments. If there are only one row and one column, the return value will just be a tuple of a figure and a single axis object."
   ]
  },
  {
   "cell_type": "code",
   "execution_count": null,
   "metadata": {},
   "outputs": [],
   "source": [
    "# create figure (fig) and an ARRAY of axes objects (axes) over three rows and one column\n",
    "fig, axes = plt.subplots(3, 1, figsize=(6, 6))"
   ]
  },
  {
   "cell_type": "markdown",
   "metadata": {
    "slideshow": {
     "slide_type": "subslide"
    }
   },
   "source": [
    "# Subplots/Axes: The Main Event!\n",
    "- Axes objects are the ones that can accept `plot` and `scatter` method calls.\n",
    "- Lines, labels, and legends are all attached to axes objects, and _most_ of the functions are the same as in `pyplot`'s state machine approach.\n",
    "- Main difference is labels (`xlabel()` → `set_xlabel()`) and limits (`xlim()` → `set_xlim()`)."
   ]
  },
  {
   "cell_type": "markdown",
   "metadata": {
    "slideshow": {
     "slide_type": "subslide"
    }
   },
   "source": [
    "# Example: Hyperbolic trig functions revisited: Object-Oriented Approach (Solution at end)"
   ]
  },
  {
   "cell_type": "code",
   "execution_count": null,
   "metadata": {},
   "outputs": [],
   "source": [
    "xs = np.linspace(-3, 3, 1000)\n",
    "ys1 = np.sinh(xs)\n",
    "ys2 = np.cosh(xs)\n",
    "\n",
    "# do plotting together in class"
   ]
  },
  {
   "cell_type": "markdown",
   "metadata": {
    "slideshow": {
     "slide_type": "subslide"
    }
   },
   "source": [
    "# Challenge: 3 Harmonics in 3 Panels (Solution at end)\n",
    "Goal: plot the three functions $f_1(x) = \\sin(x)$, $f_2(x) = \\sin(2x)$, and $f_3(x) = \\sin(3x)$ in three vertically-stacked panels, all from $x=0$ to $x=2\\pi$.\n",
    "\n",
    "**Pro Tip**: Specifying `sharex=True` in call to `subplots` will force stacked plots to share the same ticks and tick labels, regardless the range over which they are plotted"
   ]
  },
  {
   "cell_type": "code",
   "execution_count": null,
   "metadata": {},
   "outputs": [],
   "source": [
    "# first, create the data\n",
    "\n",
    "# Make figure and axes: 3 rows, one column!\n",
    "\n",
    "# plot each function in its own axis\n"
   ]
  },
  {
   "cell_type": "markdown",
   "metadata": {
    "slideshow": {
     "slide_type": "subslide"
    }
   },
   "source": [
    "# Focus: Customizing Dashstyles\n",
    "We've seen that you can specify a linestyle for a `plot` command using simple strings like `'-'` (solid; default), `'--'` (dashed), `':'` (dotted), and `'-.'` (dash-dotted). But you can actually customize these to arbitrary pattern by providing a value to the optional `dashes` keyword argument.\n",
    "\n",
    "`dashes` takes an iterable that gives the lengths of \"on\" and \"off\" patterns, measured in points. For example,\n",
    "\n",
    "```python\n",
    "ax.plot(xs, ys, dashes=[3, 1.5, 1.5, 1.5])`\n",
    "```\n",
    "will plot with a pattern of 3 points drawn, 1.5 points off, 1.5 on, and another 1.5 off, and then the pattern repeats. This is essentially a dot-dash pattern."
   ]
  },
  {
   "cell_type": "markdown",
   "metadata": {
    "slideshow": {
     "slide_type": "subslide"
    }
   },
   "source": [
    "# Example: Lots of Dashes!\n",
    "If you find yourself in a situation where you need this many linestyles in a single figure, you should first reconsider some life choices. Every now and then, though, it makes sense to have this many linestyles."
   ]
  },
  {
   "cell_type": "code",
   "execution_count": null,
   "metadata": {},
   "outputs": [],
   "source": [
    "dashstyles = ('', [3, 1.5], [1.5, 1.5], [3, 1.5, 1.5, 1.5], [3, 1.5, 1.5, 1.5, 1.5, 1.5])\n",
    "fig, ax = plt.subplots(1, 1)\n",
    "for i, ds in zip(range(1, len(dashstyles) + 1), dashstyles):\n",
    "    ax.plot(xs, np.sin(i * xs), dashes=ds, label=r'$\\sin(' + str(i) + 'x)$')\n",
    "ax.legend(loc='best')\n"
   ]
  },
  {
   "cell_type": "markdown",
   "metadata": {
    "slideshow": {
     "slide_type": "subslide"
    }
   },
   "source": [
    "# Focus: Adding Markers to Line Plots\n",
    "We know that we can make scatter plots (markers only; no connecting lines) by using the `scatter` method of axes, but we can also include markers in a standard plot by specifying the `marker` keyword argument. By default, it will add a marker at *every point*, which is probably too often, so you can also specify `markevery`, which will only plot a marker for every $n$ points, for some chosen value of $n$."
   ]
  },
  {
   "cell_type": "code",
   "execution_count": null,
   "metadata": {},
   "outputs": [],
   "source": [
    "fig, ax = plt.subplots(1, 1, figsize=(4.5,4.5))\n",
    "ax.plot(xs, ys1, marker='o', markevery=80, label=r'$\\sinh(x)$')\n",
    "ax.plot(xs, ys2, marker='^', markevery=80, ls='--', label=r'$\\cosh(x)$')\n",
    "ax.set_xlabel('$x$'); ax.set_ylabel('$f(x)$'); ax.legend(loc='best')"
   ]
  },
  {
   "cell_type": "markdown",
   "metadata": {
    "slideshow": {
     "slide_type": "skip"
    }
   },
   "source": [
    "# Complicated Example: Bubble Plots Use Color and Size\n",
    "## We won't cover this in class, but you should check it out on your own time.\n",
    "Below I implement Hill's 7.4.3, with some stylistic choices of my own.\n",
    "\n",
    "The goal is to plot the average body mass index (BMI) for men in various countries against those countries' gross domestic product (GDP) per capita. Additionally, we want to represent the relative populations of the countries with the size of the markers, or \"bubbles\" for each country. Finally, we want to color-code each country's marker according to which continent it came from.\n",
    "\n",
    "In the next three cells we:\n",
    "1. Read in the necessary data from several tab-separated-value (tsv) files to create `numpy` record arrays (and also set up a dictionary from continent name to the default colors of `matplotlib`)\n",
    "2. Combine all of that data into one single record array that contains all necessary data (country name, GDP per capita, male BMI, population, and continent)\n",
    "3. Plot that data as a scatter plot, but varying the sizes of the markers according to population, and varying the color of each marker by the appropriate continent."
   ]
  },
  {
   "cell_type": "code",
   "execution_count": null,
   "metadata": {
    "slideshow": {
     "slide_type": "skip"
    }
   },
   "outputs": [],
   "source": [
    "# load bmi data\n",
    "dt = np.dtype([('country', 'U60'), ('bmi', 'float64')])\n",
    "bmi_data = np.genfromtxt('bmi_men.tsv', dtype=dt, delimiter='\\t')\n",
    "\n",
    "# load gdp data\n",
    "dt2 = np.dtype([('country', 'U60'), ('gdp', 'float64')])\n",
    "gdp_data = np.genfromtxt('gdp.tsv', dtype=dt2, delimiter='\\t', filling_values=-1, skip_footer=1)\n",
    "\n",
    "# load population data (try on your own first!)\n",
    "dt3 = np.dtype([('country', 'U60'), ('population', 'float64')])\n",
    "pop_data = np.genfromtxt('population_total.tsv', dtype=dt3, delimiter='\\t', filling_values=-1, skip_footer=1)\n",
    "\n",
    "# load continent data\n",
    "# witchcraft to get a list of the default colors\n",
    "lines_color_cycle = [p['color'] for p in plt.rcParams['axes.prop_cycle']]\n",
    "dt4 = np.dtype([('country', 'U60'), ('continent', 'U60')])\n",
    "con_data = np.genfromtxt('continents.tsv', dtype=dt4, delimiter='\\t')\n",
    "continents = list(set(con_data['continent']))\n",
    "continent_colors = dict(zip(continents, lines_color_cycle[:len(continents)]))\n",
    "continent_colors\n"
   ]
  },
  {
   "cell_type": "code",
   "execution_count": null,
   "metadata": {
    "slideshow": {
     "slide_type": "skip"
    }
   },
   "outputs": [],
   "source": [
    "# this cell just creates one record array with all countries that have valid data in all categories\n",
    "# (bmi, gdp, population, and continent), so that they can be easily accessed and consistently used\n",
    "# in the plotting (next cell)\n",
    "\n",
    "# first, go through each country and assemble its bmi, gdp, population, and color,\n",
    "# creating a list of tuples\n",
    "records = []\n",
    "for country, bmi in bmi_data:\n",
    "    if country in gdp_data['country'] and country in pop_data['country'] and country in con_data['country']:\n",
    "        gdp_loc = np.where(gdp_data['country'] == country)[0]\n",
    "        pop_loc = np.where(pop_data['country'] == country)[0]\n",
    "        con_loc = np.where(con_data['country'] == country)[0]\n",
    "        gdp = gdp_data['gdp'][gdp_loc]\n",
    "        pop = pop_data['population'][pop_loc]\n",
    "        # ran into strange problem where the \"location\" for a continent\n",
    "        # still returned an array, so catch that and just de-reference\n",
    "        # it one more time... I was too lazy to properly figure out\n",
    "        # what was going on\n",
    "        try:\n",
    "            color = continent_colors[con_data['continent'][con_loc]]\n",
    "        except TypeError as e:\n",
    "            color = continent_colors[con_data['continent'][con_loc[0]]]\n",
    "        if gdp > 0 and pop > 0:\n",
    "            records.append((country, bmi, gdp, pop, color))\n",
    "\n",
    "# now convert the list of tuples into a record array\n",
    "dt5 = np.dtype([('country', 'U60'), ('bmi', 'float64'), ('gdp', 'float64'), ('population', 'float64'), ('color', 'U60')])\n",
    "all_data = np.array(records, dtype = dt5)\n",
    "    "
   ]
  },
  {
   "cell_type": "code",
   "execution_count": null,
   "metadata": {
    "slideshow": {
     "slide_type": "skip"
    }
   },
   "outputs": [],
   "source": [
    "fig, ax = plt.subplots(1, 1)\n",
    "# all the magic in one line! scatter plot of bmi vs gdp, but get sizes of markers from the population,\n",
    "# scaled so it looks nice to the eye, and setting the color according to the continent\n",
    "# note also the use of alpha, which adds some trasparency to the bubbles so we can \"see through\" them\n",
    "ax.scatter(all_data['gdp'], all_data['bmi'], s=all_data['population'] / max(all_data['population']) * 1000, c=all_data['color'], alpha=0.4)\n",
    "ax.set_ylabel('Average Male BMI [kg/m$^2$]')\n",
    "ax.set_xlabel('GDP per capita [\\$]')\n",
    "\n",
    "# bogus plots to get a useful legend\n",
    "for cont, color in continent_colors.items():\n",
    "    ax.scatter([], [], c=color, alpha=0.4, label=cont)\n",
    "ax.legend(loc='best')\n",
    "\n",
    "# using log scale makes the diversity among the low gdp nations more clear\n",
    "ax.set_xscale('log')\n",
    "\n",
    "# chop off some high-bmi outliers (maybe not a good idea, but it looks nicer!)\n",
    "ax.set_ylim(top=30)"
   ]
  },
  {
   "cell_type": "markdown",
   "metadata": {
    "slideshow": {
     "slide_type": "slide"
    }
   },
   "source": [
    "# Customizing Tickmarks\n",
    "The **ticks** are the little lines along the axis edges that set the scale and values in a plot. `matplotlib` is usually pretty good about making these look decent, but you can customize them to an arbitrary precision using these methods of axes objects:\n",
    "- `set_yticks` and `set_xticks` (sets the positions of major or minor tickmarks)\n",
    "- `set_yticklabels` and `set_xticklabels` (sets the labels for major or minor tickmarks)\n",
    "- `tick_params` (change appearance of major and/or minor tick marks)"
   ]
  },
  {
   "cell_type": "markdown",
   "metadata": {
    "slideshow": {
     "slide_type": "subslide"
    }
   },
   "source": [
    "# Example: Tinkering with Tickmarks\n",
    "Here we want to create a figure showing a generic sine curve, without specifying a wavelength or amplitude. That is, we want to show a generic plot of\n",
    "\n",
    "$$f(x) = A\\sin\\left(\\frac{2\\pi x}{\\lambda}\\right)$$"
   ]
  },
  {
   "cell_type": "code",
   "execution_count": null,
   "metadata": {},
   "outputs": [],
   "source": [
    "xs = np.linspace(0, 1, 200)\n",
    "# implicitly: lambda is 1 and A is one\n",
    "ys = np.sin(2*np.pi * xs)\n",
    "fig, ax = plt.subplots(1, 1)\n",
    "ax.plot(xs, ys)\n",
    "ax.set_xlabel('$x$')\n",
    "ax.set_ylabel('$f(x)$')\n",
    "\n",
    "# TODO: change positions and labels of tick marks to be more \"generic\"\n",
    "\n",
    "# TODO: make tick marks point inward (my personal preference)\n",
    "\n",
    "# show arbitrary label (not a legend); coming up soon!\n",
    "ax.text(0.95, 0.95, r'$f(x) = A\\sin\\left(\\frac{2\\pi x}{\\lambda}\\right)$', ha='right', va='top', transform=ax.transAxes)"
   ]
  },
  {
   "cell_type": "markdown",
   "metadata": {
    "slideshow": {
     "slide_type": "slide"
    }
   },
   "source": [
    "# Errorbars\n",
    "Most experimental data is meaningless without associated uncertainties. On plots, we represent uncertainties with error bars, expressing the region of confidence around a data point.\n",
    "\n",
    "`matplotlib` axes objects have the powerful `errorbar` function, which plots a line plot, optionally with markers, and can also specify uncertainties in either the $x$ or $y$ directions in the following ways:\n",
    "- No uncertainty (no errorbar)\n",
    "- Constant uncertainty for all values\n",
    "- Varying, but symmetric (plus or minus) uncertainties\n",
    "- Asymmetric and varying (different positive and negative) undertaintes"
   ]
  },
  {
   "cell_type": "markdown",
   "metadata": {
    "slideshow": {
     "slide_type": "subslide"
    }
   },
   "source": [
    "# Example: \"Noisy Drop the Rock\"\n",
    "We want to create simulated data for measuring the position of a falling object as a function of time. We know that an object dropped from rest should roughly follow the equation\n",
    "\n",
    "$$y(t) = y_0 - \\frac{1}{2}gt^2$$\n",
    "\n",
    "Suppose we could only measure the time accurate to within one tenth of a second, and we could only measure the position to within a 25 centimeters (we're really bad at that, I guess). Let's first generate some bogus experimental data by adding some random noise, and then we'll plot it using `errorbar`."
   ]
  },
  {
   "cell_type": "code",
   "execution_count": null,
   "metadata": {},
   "outputs": [],
   "source": [
    "num_points = 15  # number of measurements\n",
    "t_unc = 0.1  # uncertainty in time measurements, in seconds\n",
    "y_unc = 0.25  # uncertainty in position measurements, in meters\n",
    "y_0 = 10.0  # initial height, in meters\n",
    "g = 9.81  # acceleration due to gravity, in m/s^2\n",
    "\n",
    "# np.random.random creates random values between 0 and 1, so we subtract a half, and\n",
    "# multiply by 2 to get a random number between -1 and 1, and then multiply by the\n",
    "# uncertainty\n",
    "expected_times = np.linspace(0,1.5, num_points)\n",
    "noisy_times = expected_times + 2 * (np.random.random(num_points) - 0.5) * t_unc\n",
    "\n",
    "expected_ys = y_0 - 0.5 * g * expected_times**2\n",
    "noisy_ys = expected_ys + 2 * (np.random.random(num_points) - 0.5) * y_unc"
   ]
  },
  {
   "cell_type": "code",
   "execution_count": null,
   "metadata": {},
   "outputs": [],
   "source": [
    "plt.style.use('default')\n",
    "# plt.style.use('custom.mplstyle')\n",
    "fig, ax = plt.subplots(1, 1)\n",
    "# note order of inputs is xs, ys, uncertainty in ys (NOT XS!), then uncertainty in xs.\n",
    "# to get rid of line connecting points, set fmt to just be circular markers\n",
    "# to get caps (lines at the ends of the errorbars), set capsize to length of the caps in pts\n",
    "ax.errorbar(noisy_times, noisy_ys, y_unc, t_unc, capsize=3, fmt='o', ecolor='black', label='Noisy Data')\n",
    "ax.plot(expected_times, expected_ys, label='Perfect Data')\n",
    "ax.set_ylabel('Height [m]')\n",
    "ax.set_xlabel('Time [s]')\n",
    "ax.legend(loc='best')"
   ]
  },
  {
   "cell_type": "markdown",
   "metadata": {
    "slideshow": {
     "slide_type": "slide"
    }
   },
   "source": [
    "# Practical Tips\n",
    "- **Use Examples to Learn**:\n",
    "    - Google \"matplotlib errboar asymmetric\" or something similar; usually an excellent stack overflow question\n",
    "    - Use [matplotlib gallery](https://matplotlib.org/stable/gallery/index.html) for inspiration\n",
    "- **Create a styleguide**\n",
    "    - Creat your own `matplotlibrc` file that you include in the same directory as projects\n",
    "    - Get basic one [here](https://matplotlib.org/stable/tutorials/introductory/customizing.html#a-sample-matplotlibrc-file). Copy into a file with the name `matplotlibrc` in the same directory, and `matplotlib` will use the styles you define there as the default.\n",
    "- **Don't Mess with Font Sizes**: Change the figure size instead"
   ]
  },
  {
   "cell_type": "markdown",
   "metadata": {
    "slideshow": {
     "slide_type": "slide"
    }
   },
   "source": [
    "# Labeling Plots: Philosophical Points\n",
    "- A few well-chosen words and symbols can ensure a figure is always interpreted in context\n",
    "- Don't add piles of text, though... just enough to provide context, like what you might include in a legend label\n",
    "- Particularly good application: qualitatively labeling panels in a multi-panel plot"
   ]
  },
  {
   "cell_type": "markdown",
   "metadata": {
    "slideshow": {
     "slide_type": "subslide"
    }
   },
   "source": [
    "# Labeling Plots: Text Only with `ax.text`\n",
    "### Key parameters:\n",
    "- `x` and `y`: coordinates where text should be placed\n",
    "- `s`: string that is the text to be added to the plot\n",
    "\n",
    "### Other useful parameters:\n",
    "- `bbox`: dictionary of paramters describing a box around the text (look this up)\n",
    "- `ha`: horizontal alignment of text (`'center`', `'left`', or `'right'`)\n",
    "- `va`: vertical alignment of text (`'center'`, `'top'`, `'bottom'`, `'baseline'`, or `'center_baseline'`)\n",
    "- `transform`: determines how coordinates should be interpreted (are they relative to data, the width of the figure, the width of the axes? This is **important**!)\n"
   ]
  },
  {
   "cell_type": "markdown",
   "metadata": {
    "slideshow": {
     "slide_type": "subslide"
    }
   },
   "source": [
    "# Challenge: Labeling a Critical Point (Solution at end)\n",
    "Let's locate the critical points of the polynomial $f(x) = 2x^3 + x^2 - 8x -5$, which has a derivative of $f^\\prime(x) = 6x^2 + 2x - 8 = (2x - 2)(3x + 4)$, and thus has critical points at $x=1$ and $x = -4/3$.\n",
    "\n",
    "The code below does exactly this, placing markers at the critical points and labeling them. Execute it, but then notice... the labels are a little crowded, aren't they? Change it so the first critical point label is centered above the marker, and the second is centered below the marker. You might also need to manually adjust the plotting limits to accommodate the new labels."
   ]
  },
  {
   "cell_type": "code",
   "execution_count": null,
   "metadata": {},
   "outputs": [],
   "source": [
    "f = lambda x: 2 * x**3 + x**2 - 8 * x - 5\n",
    "xs = np.linspace(-2, 2)\n",
    "ys = f(xs)\n",
    "x_crits = [-4.0/3.0, 1]\n",
    "y_crits = [f(x) for x in x_crits]\n",
    "fig, ax = plt.subplots(figsize=(4, 4))\n",
    "ax.plot(xs, ys)\n",
    "ax.scatter(x_crits, y_crits, marker='o', color='Black')\n",
    "# TODO: fix alignment to make this pretty!\n",
    "ax.text(x_crits[0], y_crits[0], '$x_0 = -4/3$')\n",
    "ax.text(x_crits[1], y_crits[1], '$x_0 = 1$')"
   ]
  },
  {
   "cell_type": "markdown",
   "metadata": {
    "slideshow": {
     "slide_type": "subslide"
    }
   },
   "source": [
    "# In axes coordinates, the lower left corner is (0,0) and the upper right is (1,1)\n",
    "Axes coordinates are...\n",
    "- decoupled from the actual data or limits on the subplot\n",
    "- useful when you want a qualitative for the plot that's not associated with a particular point\n",
    "- used in `ax.text` when you set the optional keyword argument `transform=ax.transAxes`\n",
    "- used for annotation in a frustratingly different way (more on that soon)"
   ]
  },
  {
   "cell_type": "markdown",
   "metadata": {
    "slideshow": {
     "slide_type": "subslide"
    }
   },
   "source": [
    "# Extended Example: Adding a label for the function (Complete at end)\n",
    "Goal: Add a label to the upper right corner that shows the function, properly typeset."
   ]
  },
  {
   "cell_type": "code",
   "execution_count": null,
   "metadata": {},
   "outputs": [],
   "source": [
    "# xs and ys should still be set appropriately according to f(x) = 2x^2 + x^2 - 8x - 5\n",
    "f = lambda x: 2 * x**3 + x**2 - 8 * x - 5\n",
    "fig, ax = plt.subplots(figsize=(4, 4))\n",
    "ax.plot(xs, ys)\n",
    "ax.scatter(x_crits, y_crits, marker='o', color='Black')\n",
    "ax.text(x_crits[0], y_crits[0], '$x_0 = -4/3$',ha='center', va='bottom')\n",
    "ax.text(x_crits[1], y_crits[1], '$x_0 = 1$',ha='center', va='top')\n",
    "ylo, yhi = ax.get_ylim() # min(ys), max(ys)\n",
    "height = yhi - ylo\n",
    "margin = 0.05 * height\n",
    "ax.set_ylim(ylo - margin, yhi + margin)\n",
    "\n",
    "# TODO: Add label in the upper right hand corner giving the functional form\n"
   ]
  },
  {
   "cell_type": "markdown",
   "metadata": {
    "slideshow": {
     "slide_type": "subslide"
    }
   },
   "source": [
    "# Annotations are labels with arrows\n",
    "- Use `ax.annotate`, which is more complex than `ax.text`\n",
    "- Frustratingly different syntax than `text`\n",
    "- Need **two locations**, the position of the text, and the location the arrow should point to."
   ]
  },
  {
   "cell_type": "markdown",
   "metadata": {
    "slideshow": {
     "slide_type": "subslide"
    }
   },
   "source": [
    "# Calling Sequence:\n",
    "- text comes **first**, called `s`\n",
    "- then, coordinates of point to be annotated as a **tuple** called `xy`\n",
    "- then, coordinates for the location of the text, in `xytext`\n",
    "- rather than specifying a `transform`, we specify `xycoords` to be one of `'data`', `'figure fraction'`, or `axes fraction`'. Sets the interpretation of `xy`\n",
    "- `textcoords` does the same, but for `xytext`\n",
    "- Finally, you can customize the appearance of the arrows with a dictionary called `arrowprops`\n",
    "```python\n",
    "ax.annotate('my label', 1, 0, 2, 2, 'data', 'data', arrowprops={'arrowstyle': '->'}\n",
    "```\n",
    "This creates a text annotation at (2, 2) with the text \"my label\" and an arrow that points from the text to the point (1, 0)."
   ]
  },
  {
   "cell_type": "markdown",
   "metadata": {
    "slideshow": {
     "slide_type": "subslide"
    }
   },
   "source": [
    "# Very Basic Annotation in Action"
   ]
  },
  {
   "cell_type": "code",
   "execution_count": null,
   "metadata": {
    "slideshow": {
     "slide_type": "-"
    }
   },
   "outputs": [],
   "source": [
    "fig, ax = plt.subplots(figsize=(3.4, 3.4))\n",
    "ax.set_xlim(0, 3)\n",
    "ax.set_ylim(0, 3)\n",
    "ax.annotate('my label', (1, 1), (2, 2), 'data', 'data', arrowprops={'arrowstyle': '->'})"
   ]
  },
  {
   "cell_type": "markdown",
   "metadata": {
    "slideshow": {
     "slide_type": "subslide"
    }
   },
   "source": [
    "# Example: Labels to Annotations (Complete at end)\n",
    "Goal: convert the labels near critical points to annotations with labels."
   ]
  },
  {
   "cell_type": "code",
   "execution_count": null,
   "metadata": {
    "scrolled": true,
    "slideshow": {
     "slide_type": "-"
    }
   },
   "outputs": [],
   "source": [
    "# xs and ys should still be set appropriately according to f(x) = 2x^2 + x^2 - 8x - 5\n",
    "f = lambda x: 2 * x**3 + x**2 - 8 * x - 5\n",
    "fig, ax = plt.subplots(figsize=(4, 4))\n",
    "ax.plot(xs, ys)\n",
    "ax.scatter(x_crits, y_crits, marker='o', color='Black')\n",
    "# TODO: Adjust these to be annotations\n",
    "ax.text(x_crits[0], y_crits[0], '$x_0 = -4/3$',ha='center', va='bottom')\n",
    "ax.text(x_crits[1], y_crits[1], '$x_0 = 1$',ha='center', va='top')\n",
    "ylo, yhi = min(ys), max(ys)\n",
    "height = yhi - ylo\n",
    "ax.set_ylim(ylo - 0.10 * height, yhi + 0.10 * height)\n",
    "\n",
    "# Add label in the upper right hand corner giving the functional form (done before)\n",
    "ax.text(0.98, 0.98, '$f(x) = 2x^2 + x^2 - 8x - 5$', ha='right', va='top', transform=ax.transAxes)\n"
   ]
  },
  {
   "cell_type": "markdown",
   "metadata": {
    "slideshow": {
     "slide_type": "subslide"
    }
   },
   "source": [
    "# Reference: The Completed Plot\n",
    "Here we chose to use arrows to show how you can customize them. We also used `'axes fraction'` as the text coordinates option, to easily place them on the axis canvas wherever we wanted, regardless of the data. You might (and probably did) make some other choices, and that's okay."
   ]
  },
  {
   "cell_type": "code",
   "execution_count": null,
   "metadata": {},
   "outputs": [],
   "source": [
    "# generate plot data\n",
    "f = lambda x: 2 * x**3 + x**2 - 8 * x - 5\n",
    "xs = np.linspace(-2, 2)\n",
    "ys = f(xs)\n",
    "\n",
    "# hard-code in critical point locations\n",
    "x_crits = [-4.0/3.0, 1]\n",
    "y_crits = [f(x) for x in x_crits]\n",
    "\n",
    "# line plot of main data; scatter plot locations of critical points\n",
    "fig, ax = plt.subplots(figsize=(4, 4))\n",
    "ax.plot(xs, ys)\n",
    "ax.scatter(x_crits, y_crits, marker='o', color='Black')\n",
    "\n",
    "# add in annotations\n",
    "ax.annotate('$x_0 = -4/3$', (x_crits[0], y_crits[0]), (0.1, 0.7), 'data', 'axes fraction', arrowprops={'arrowstyle': '->', 'shrinkB': 4, 'shrinkA': 0})\n",
    "ax.annotate('$x_0 = 1$', (x_crits[1], y_crits[1]), (0.65, 0.3), 'data', 'axes fraction',  arrowprops={'arrowstyle': '->', 'shrinkB': 4, 'shrinkA': 0})\n",
    "\n",
    "# add in function label\n",
    "ax.text(0.98, 0.98, '$f(x) = 2x^2 + x^2 - 8x - 5$', ha='right', va='top', transform=ax.transAxes)"
   ]
  },
  {
   "cell_type": "markdown",
   "metadata": {
    "slideshow": {
     "slide_type": "skip"
    }
   },
   "source": [
    "# Example: Hyperbolic trig functions revisited: Object-Oriented Approach SOLUTION"
   ]
  },
  {
   "cell_type": "code",
   "execution_count": null,
   "metadata": {
    "slideshow": {
     "slide_type": "skip"
    }
   },
   "outputs": [],
   "source": [
    "# first set up the figure and axes\n",
    "fig, ax = plt.subplots(1, 1)\n",
    "\n",
    "# plotting calls and other adjustments are methods of the\n",
    "# axes object rather than a funciton from pyplot\n",
    "ax.plot(xs, ys1, label=r'$\\sinh(x)$')\n",
    "ax.plot(xs, ys2, ls='--', label=r'$\\cosh(x)$')\n",
    "ax.set_xlabel('$x$')\n",
    "ax.set_ylabel('$f(x)$')\n",
    "ax.legend(loc='best')"
   ]
  },
  {
   "cell_type": "markdown",
   "metadata": {
    "slideshow": {
     "slide_type": "skip"
    }
   },
   "source": [
    "# Challenge: 3 Harmonics in 3 Panels Solution\n",
    "Goal: plot the three functions $f_1(x) = \\sin(x)$, $f_2(x) = \\sin(2x)$, and $f_3(x) = \\sin(3x)$ in three vertically-stacked panels, all from $x=0$ to $x=2\\pi$.\n",
    "\n",
    "**Pro Tip**: Specifying `sharex=True` in call to `subplots` will force stacked plots to share the same ticks and tick labels, regardless the range over which they are plotted"
   ]
  },
  {
   "cell_type": "code",
   "execution_count": null,
   "metadata": {
    "slideshow": {
     "slide_type": "skip"
    }
   },
   "outputs": [],
   "source": [
    "# first, create the data\n",
    "xs = np.linspace(0, 2 * np.pi, 1000)\n",
    "ys1 = np.sin(xs)\n",
    "ys2 = np.sin(2 * xs)\n",
    "ys3 = np.sin(3 * xs)\n",
    "\n",
    "# Make figure and axes: 3 rows, one column!\n",
    "fig, axes = plt.subplots(3, 1, sharex=True)\n",
    "\n",
    "# plot each function in its own axis\n",
    "# NOTE: I've added some trickery here to get all three lines to\n",
    "# appear on a single legend. Such things are necessary since\n",
    "# a legend \"belongs\" to a single axis\n",
    "axes[0].plot(xs, ys1, label=r'$\\sin(x)$')\n",
    "\n",
    "# bogus empty plots to create a valid legend. Note how\n",
    "# the linestyles and colors match that of the second and third\n",
    "# panels\n",
    "axes[0].plot([], [], ls='--', color='C1', label=r'$\\sin(2x)$')\n",
    "axes[0].plot([], [], ls=':', color='C2', label=r'$\\sin(3x)$')\n",
    "\n",
    "# actual lower panels for the higher harmonics\n",
    "axes[1].plot(xs, ys2, ls='--', color='C1')\n",
    "axes[2].plot(xs, ys3, ls=':', color='C2')\n",
    "\n",
    "# add the legend to the top panel only\n",
    "axes[0].legend(loc='best')\n",
    "\n",
    "# label the axes. Skip x-axes for the top two panels since\n",
    "# it is redundant with the bottom panel.\n",
    "for ax in axes:\n",
    "    ax.set_ylabel('$f(x)$')\n",
    "axes[-1].set_xlabel(r'$x$')"
   ]
  },
  {
   "cell_type": "markdown",
   "metadata": {
    "slideshow": {
     "slide_type": "skip"
    }
   },
   "source": [
    "# Example: Tinkering with Tickmarks (Complete)\n",
    "Here we want to create a figure showing a generic sine curve, without specifying a wavelength or amplitude. That is, we want to show a generic plot of\n",
    "\n",
    "$$f(x) = A\\sin\\left(\\frac{2\\pi x}{\\lambda}\\right)$$"
   ]
  },
  {
   "cell_type": "code",
   "execution_count": null,
   "metadata": {
    "scrolled": true,
    "slideshow": {
     "slide_type": "skip"
    }
   },
   "outputs": [],
   "source": [
    "xs = np.linspace(0, 1, 200)\n",
    "# implicitly: lambda is 1 and A is one\n",
    "ys = np.sin(2*np.pi * xs)\n",
    "fig, ax = plt.subplots(1, 1)\n",
    "ax.plot(xs, ys)\n",
    "ax.set_xlabel('$x$')\n",
    "ax.set_ylabel('$f(x)$')\n",
    "\n",
    "# TODO: change positions and labels of tick marks to be more \"generic\"\n",
    "ax.set_xticks([0, 0.25, 0.5, 0.75, 1])\n",
    "ax.set_yticks([-1, -0.5, 0, 0.5, 1])\n",
    "ax.set_xticklabels(['${}$'.format(label) for label in (0, r'\\lambda/4', r'\\lambda/2', r'3\\lambda/4', r'\\lambda')])\n",
    "ax.set_yticklabels(['${}$'.format(label) for label in ('-A', '-A/2', '0', 'A/2', 'A')])\n",
    "\n",
    "# TODO: make tick marks point inward (my personal preference)\n",
    "ax.tick_params(axis='both', direction='in')\n",
    "\n",
    "# show arbitrary label (not a legend); coming up soon!\n",
    "ax.text(0.95, 0.95, r'$f(x) = A\\sin\\left(\\frac{2\\pi x}{\\lambda}\\right)$', ha='right', va='top', transform=ax.transAxes)"
   ]
  },
  {
   "cell_type": "markdown",
   "metadata": {
    "slideshow": {
     "slide_type": "skip"
    }
   },
   "source": [
    "# Challenge: Labeling a Critical Point (Solution)\n",
    "Let's locate the critical points of the polynomial $f(x) = 2x^3 + x^2 - 8x -5$, which has a derivative of $f^\\prime(x) = 6x^2 + 2x - 8 = (2x - 2)(3x + 4)$, and thus has critical points at $x=1$ and $x = -4/3$.\n",
    "\n",
    "The code below does exactly this, placing markers at the critical points and labeling them. Execute it, but then notice... the labels are a little crowded, aren't they? Change it so the first critical point label is centered above the marker, and the second is centered below the marker. You might also need to manually adjust the plotting limits to accommodate the new labels."
   ]
  },
  {
   "cell_type": "code",
   "execution_count": null,
   "metadata": {
    "scrolled": true,
    "slideshow": {
     "slide_type": "skip"
    }
   },
   "outputs": [],
   "source": [
    "f = lambda x: 2 * x**3 + x**2 - 8 * x - 5\n",
    "xs = np.linspace(-2, 2)\n",
    "ys = f(xs)\n",
    "x_crits = [-4.0/3.0, 1]\n",
    "y_crits = [f(x) for x in x_crits]\n",
    "fig, ax = plt.subplots(figsize=(4, 4))\n",
    "ax.plot(xs, ys)\n",
    "ax.scatter(x_crits, y_crits, marker='o', color='Black')\n",
    "\n",
    "# the new alignments make things better, but they're still not perfect.\n",
    "# In particular the second one is still quite close to the point itself.\n",
    "# the `annotate` method of axes might be a better choice, but it is more\n",
    "# complicated to implement.\n",
    "ax.text(x_crits[0], y_crits[0], '$x_0 = -4/3$', va='bottom', ha='center')\n",
    "ax.text(x_crits[1], y_crits[1], '$x_0 = 1$', va='top', ha='center')\n",
    "\n",
    "# ensure a 5% margin at the top and bottom... scales gracefully!\n",
    "ylo, yhi = ax.get_ylim()\n",
    "height = yhi - ylo\n",
    "margin = 0.05 * height\n",
    "ax.set_ylim(ylo - margin, yhi + margin)"
   ]
  },
  {
   "cell_type": "markdown",
   "metadata": {
    "slideshow": {
     "slide_type": "skip"
    }
   },
   "source": [
    "# Extended Example: Adding a label for the function (Complete at end)\n",
    "Goal: Add a label to the upper right corner that shows the function, properly typeset."
   ]
  },
  {
   "cell_type": "code",
   "execution_count": null,
   "metadata": {
    "scrolled": true,
    "slideshow": {
     "slide_type": "skip"
    }
   },
   "outputs": [],
   "source": [
    "# xs and ys should still be set appropriately according to f(x) = 2x^2 + x^2 - 8x - 5, but just in case, we re-implement them here\n",
    "f = lambda x: 2 * x**3 + x**2 - 8 * x - 5\n",
    "xs = np.linspace(-2, 2)\n",
    "ys = f(xs)\n",
    "x_crits = [-4.0/3.0, 1]\n",
    "y_crits = [f(x) for x in x_crits]\n",
    "\n",
    "\n",
    "fig, ax = plt.subplots(figsize=(4, 4))\n",
    "ax.plot(xs, ys)\n",
    "ax.scatter(x_crits, y_crits, marker='o', color='Black')\n",
    "ax.text(x_crits[0], y_crits[0], '$x_0 = -4/3$',ha='center', va='bottom')\n",
    "ax.text(x_crits[1], y_crits[1], '$x_0 = 1$',ha='center', va='top')\n",
    "ylo, yhi = ax.get_ylim() # min(ys), max(ys)\n",
    "height = yhi - ylo\n",
    "margin = 0.05 * height\n",
    "ax.set_ylim(ylo - margin, yhi + margin)\n",
    "\n",
    "# TODO: Add label in the upper right hand corner giving the functional form\n",
    "# x and y locations are essentially fractions of the figure width/height\n",
    "# where we want the label to be. So this will e 98% to the right and 98%\n",
    "# towards the top. We also set the alignment so that we place the \n",
    "# upper right corner at that location, and finally, the transform\n",
    "# forces `text` to use figure coordinates rather than data coordinates.\n",
    "ax.text(0.98, 0.98, r'$f(x) = 2x^3+x^2-8x-5$', ha='right', va='top', transform=ax.transAxes)"
   ]
  },
  {
   "cell_type": "markdown",
   "metadata": {
    "slideshow": {
     "slide_type": "skip"
    }
   },
   "source": [
    "# Example: Labels to Annotations (Solution)\n",
    "Goal: convert the labels near critical points to annotations with labels."
   ]
  },
  {
   "cell_type": "code",
   "execution_count": null,
   "metadata": {
    "slideshow": {
     "slide_type": "skip"
    }
   },
   "outputs": [],
   "source": [
    "# xs and ys should still be set appropriately according to f(x) = 2x^2 + x^2 - 8x - 5\n",
    "f = lambda x: 2 * x**3 + x**2 - 8 * x - 5\n",
    "fig, ax = plt.subplots(figsize=(4, 4))\n",
    "ax.plot(xs, ys)\n",
    "ax.scatter(x_crits, y_crits, marker='o', color='Black')\n",
    "# TODO: Adjust these to be annotations\n",
    "# Note that the locations of the annotation point remain the same, but now we specify some\n",
    "# text coordinates: (0, 5) and then (0, -5). By then specifying that these are meant to be\n",
    "# interpreted as \"offsets in points\", this means they will be 5 points above and 5 points\n",
    "# below (respectively) the actual annotation points. This is a powerful way to get arbitrary\n",
    "# offsets without having to fiddle with the data coordinates.\n",
    "#\n",
    "# And since we don't specify any arrow properties, there is no arrow connecting the text to\n",
    "# the annotation location.\n",
    "ax.annotate('$x_0 = -4/3$', (x_crits[0], y_crits[0]), (0, 5), xycoords='data', textcoords='offset points', ha='center')\n",
    "ax.annotate('$x_0 = 1$', (x_crits[1], y_crits[1]), (0, -5), xycoords='data', textcoords='offset points', ha='center', va='top')\n",
    "ylo, yhi = min(ys), max(ys)\n",
    "height = yhi - ylo\n",
    "ax.set_ylim(ylo - 0.10 * height, yhi + 0.10 * height)\n",
    "\n",
    "# Add label in the upper right hand corner giving the functional form\n",
    "ax.text(0.98, 0.98, '$f(x) = 2x^2 + x^2 - 8x - 5$', ha='right', va='top', transform=ax.transAxes)\n"
   ]
  }
 ],
 "metadata": {
  "celltoolbar": "Slideshow",
  "kernelspec": {
   "display_name": "Python 3 (ipykernel)",
   "language": "python",
   "name": "python3"
  },
  "language_info": {
   "codemirror_mode": {
    "name": "ipython",
    "version": 3
   },
   "file_extension": ".py",
   "mimetype": "text/x-python",
   "name": "python",
   "nbconvert_exporter": "python",
   "pygments_lexer": "ipython3",
   "version": "3.13.1"
  },
  "rise": {
   "theme": "solarized",
   "transition": "fade"
  }
 },
 "nbformat": 4,
 "nbformat_minor": 4
}
