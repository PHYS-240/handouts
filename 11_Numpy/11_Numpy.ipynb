{
 "cells": [
  {
   "cell_type": "markdown",
   "metadata": {
    "slideshow": {
     "slide_type": "slide"
    }
   },
   "source": [
    "# Numpy module\n",
    "- prounounced \"NUM-pie\" (doesn't rhyme with \"lumpy\")\n",
    "- A __num__erical library for __py__thon\n",
    "- Primary class provided is the \"numpy array\", or `ndarray` (N-dimensional array)"
   ]
  },
  {
   "cell_type": "code",
   "execution_count": 1,
   "metadata": {
    "slideshow": {
     "slide_type": "-"
    }
   },
   "outputs": [],
   "source": [
    "# traditionally give numpy a shorthand of \"np\"\n",
    "# also typically just import the whole thing\n",
    "import numpy as np"
   ]
  },
  {
   "cell_type": "markdown",
   "metadata": {
    "slideshow": {
     "slide_type": "slide"
    }
   },
   "source": [
    "# Creating an array\n",
    "The easiest way to create a numpy array is from a list. Call numpy's `array` method with an iterable as an argument:"
   ]
  },
  {
   "cell_type": "code",
   "execution_count": 2,
   "metadata": {},
   "outputs": [
    {
     "data": {
      "text/plain": [
       "array([1, 2, 3])"
      ]
     },
     "execution_count": 2,
     "metadata": {},
     "output_type": "execute_result"
    }
   ],
   "source": [
    "first_array = np.array([1, 2, 3])\n",
    "first_array"
   ]
  },
  {
   "cell_type": "markdown",
   "metadata": {},
   "source": [
    "Looks like a list, doesn't it? But there are important advantages. Numpy arrays:\n",
    "- are __vectorized__ (this is amazing):\n",
    "    - adding two arrays adds all of the matching elements (if they are the same size)\n",
    "    - you can take the `sin` of the entire array at once with numpy's version of `sin`\n",
    "- are __*extremely*__ fast (all the restrictions allow a deeper and lower-level languages take care of the numerical details at lightning speed"
   ]
  },
  {
   "cell_type": "markdown",
   "metadata": {
    "slideshow": {
     "slide_type": "slide"
    }
   },
   "source": [
    "# Speed Comparison\n",
    "Let's compute the sine of 100,000 elements with the `math` module's version of `sin`, and compare it to doing it with the vectorized arrays and `sin` from `numpy`."
   ]
  },
  {
   "cell_type": "code",
   "execution_count": 3,
   "metadata": {},
   "outputs": [
    {
     "name": "stdout",
     "output_type": "stream",
     "text": [
      "11.2 ms ± 20.4 µs per loop (mean ± std. dev. of 7 runs, 100 loops each)\n"
     ]
    }
   ],
   "source": [
    "import math\n",
    "xs = [i for i in range(int(1e5))]\n",
    "%timeit ys = [math.sin(x) for x in xs]"
   ]
  },
  {
   "cell_type": "code",
   "execution_count": 4,
   "metadata": {},
   "outputs": [
    {
     "name": "stdout",
     "output_type": "stream",
     "text": [
      "809 µs ± 985 ns per loop (mean ± std. dev. of 7 runs, 1000 loops each)\n"
     ]
    }
   ],
   "source": [
    "new_xs = np.array(xs)\n",
    "%timeit new_ys = np.sin(new_xs)"
   ]
  },
  {
   "cell_type": "markdown",
   "metadata": {
    "slideshow": {
     "slide_type": "slide"
    }
   },
   "source": [
    "# Limitations of `numpy` arrays\n",
    "There are some severe downsides to using `numpy` arrays, though. The two most obvious are that they:\n",
    "- are of fixed size. There is no `append` method (this sucks)\n",
    "- are composed of only one type of element (this sucks, but makes sense in most applications)"
   ]
  },
  {
   "cell_type": "code",
   "execution_count": 5,
   "metadata": {
    "slideshow": {
     "slide_type": "fragment"
    }
   },
   "outputs": [
    {
     "ename": "AttributeError",
     "evalue": "'numpy.ndarray' object has no attribute 'append'",
     "output_type": "error",
     "traceback": [
      "\u001b[0;31m---------------------------------------------------------------------------\u001b[0m",
      "\u001b[0;31mAttributeError\u001b[0m                            Traceback (most recent call last)",
      "\u001b[0;32m<ipython-input-5-312a75ac18ad>\u001b[0m in \u001b[0;36m<module>\u001b[0;34m\u001b[0m\n\u001b[1;32m      1\u001b[0m \u001b[0;31m# try to append\u001b[0m\u001b[0;34m\u001b[0m\u001b[0;34m\u001b[0m\u001b[0;34m\u001b[0m\u001b[0m\n\u001b[1;32m      2\u001b[0m \u001b[0mtest_array\u001b[0m \u001b[0;34m=\u001b[0m \u001b[0mnp\u001b[0m\u001b[0;34m.\u001b[0m\u001b[0marray\u001b[0m\u001b[0;34m(\u001b[0m\u001b[0;34m[\u001b[0m\u001b[0;36m0\u001b[0m\u001b[0;34m,\u001b[0m\u001b[0;36m1\u001b[0m\u001b[0;34m,\u001b[0m\u001b[0;36m2\u001b[0m\u001b[0;34m]\u001b[0m\u001b[0;34m)\u001b[0m\u001b[0;34m\u001b[0m\u001b[0;34m\u001b[0m\u001b[0m\n\u001b[0;32m----> 3\u001b[0;31m \u001b[0mtest_array\u001b[0m\u001b[0;34m.\u001b[0m\u001b[0mappend\u001b[0m\u001b[0;34m(\u001b[0m\u001b[0;36m3\u001b[0m\u001b[0;34m)\u001b[0m\u001b[0;34m\u001b[0m\u001b[0;34m\u001b[0m\u001b[0m\n\u001b[0m",
      "\u001b[0;31mAttributeError\u001b[0m: 'numpy.ndarray' object has no attribute 'append'"
     ]
    }
   ],
   "source": [
    "# try to append\n",
    "test_array = np.array([0,1,2])\n",
    "test_array.append(3)"
   ]
  },
  {
   "cell_type": "code",
   "execution_count": 6,
   "metadata": {
    "slideshow": {
     "slide_type": "fragment"
    }
   },
   "outputs": [
    {
     "ename": "ValueError",
     "evalue": "invalid literal for int() with base 10: 'one'",
     "output_type": "error",
     "traceback": [
      "\u001b[0;31m---------------------------------------------------------------------------\u001b[0m",
      "\u001b[0;31mValueError\u001b[0m                                Traceback (most recent call last)",
      "\u001b[0;32m<ipython-input-6-fdd04a416cc5>\u001b[0m in \u001b[0;36m<module>\u001b[0;34m\u001b[0m\n\u001b[1;32m      1\u001b[0m \u001b[0;31m# try to add a non-integer to an integer array\u001b[0m\u001b[0;34m\u001b[0m\u001b[0;34m\u001b[0m\u001b[0;34m\u001b[0m\u001b[0m\n\u001b[0;32m----> 2\u001b[0;31m \u001b[0mtest_array\u001b[0m\u001b[0;34m[\u001b[0m\u001b[0;36m1\u001b[0m\u001b[0;34m]\u001b[0m \u001b[0;34m=\u001b[0m \u001b[0;34m'one'\u001b[0m\u001b[0;34m\u001b[0m\u001b[0;34m\u001b[0m\u001b[0m\n\u001b[0m",
      "\u001b[0;31mValueError\u001b[0m: invalid literal for int() with base 10: 'one'"
     ]
    }
   ],
   "source": [
    "# try to add a non-integer to an integer array\n",
    "test_array[1] = 'one'"
   ]
  },
  {
   "cell_type": "markdown",
   "metadata": {
    "slideshow": {
     "slide_type": "slide"
    }
   },
   "source": [
    "# Data Types\n",
    "Evidently I can only use integers in a `test_array`. How did that get set? Could I do a numpy array of `float`s? `bool`s? `string`s?"
   ]
  },
  {
   "cell_type": "code",
   "execution_count": 7,
   "metadata": {
    "slideshow": {
     "slide_type": "fragment"
    }
   },
   "outputs": [
    {
     "data": {
      "text/plain": [
       "array([0., 1., 2.])"
      ]
     },
     "execution_count": 7,
     "metadata": {},
     "output_type": "execute_result"
    }
   ],
   "source": [
    "float_array = np.array([0.0, 1.0, 2.0])\n",
    "float_array"
   ]
  },
  {
   "cell_type": "code",
   "execution_count": 8,
   "metadata": {
    "slideshow": {
     "slide_type": "fragment"
    }
   },
   "outputs": [
    {
     "data": {
      "text/plain": [
       "array([ True,  True, False])"
      ]
     },
     "execution_count": 8,
     "metadata": {},
     "output_type": "execute_result"
    }
   ],
   "source": [
    "bool_array = np.array([True, True, False])\n",
    "bool_array"
   ]
  },
  {
   "cell_type": "code",
   "execution_count": 9,
   "metadata": {
    "slideshow": {
     "slide_type": "fragment"
    }
   },
   "outputs": [
    {
     "data": {
      "text/plain": [
       "array(['numpy', 'is', 'great'], dtype='<U5')"
      ]
     },
     "execution_count": 9,
     "metadata": {},
     "output_type": "execute_result"
    }
   ],
   "source": [
    "string_array = np.array(['numpy', 'is', 'great'])\n",
    "string_array"
   ]
  },
  {
   "cell_type": "markdown",
   "metadata": {
    "slideshow": {
     "slide_type": "fragment"
    }
   },
   "source": [
    "Whoa, what's that `dtype` thing in `string_array`?"
   ]
  },
  {
   "cell_type": "markdown",
   "metadata": {
    "slideshow": {
     "slide_type": "subslide"
    }
   },
   "source": [
    "## Data Types\n",
    "`dtype` is referring to the __data type__ of the array. That is, what is the kind of stuff that is in the array. For `test_array`, `float_array`, and `bool_array`, it was evidently obvious enough what they held, so it isn't output.\n",
    "\n",
    "But for `string_array`, the `dtype` designation is `'<U5'`, which roughly means \"unicode strings of length less than or equal to 5. In general `dtype` is some string that encodes what type of data the array can expect. Let's try and sub in a string that is less than 5 characters and one that is greater:"
   ]
  },
  {
   "cell_type": "code",
   "execution_count": 11,
   "metadata": {
    "slideshow": {
     "slide_type": "fragment"
    }
   },
   "outputs": [
    {
     "data": {
      "text/plain": [
       "array(['UWEC', 'is', 'great'], dtype='<U5')"
      ]
     },
     "execution_count": 11,
     "metadata": {},
     "output_type": "execute_result"
    }
   ],
   "source": [
    "# less than or equal to 5 characters, should be good\n",
    "string_array[0] = 'UWEC'\n",
    "string_array"
   ]
  },
  {
   "cell_type": "code",
   "execution_count": 12,
   "metadata": {
    "slideshow": {
     "slide_type": "fragment"
    }
   },
   "outputs": [
    {
     "data": {
      "text/plain": [
       "array(['UWEC', 'is', 'fabul'], dtype='<U5')"
      ]
     },
     "execution_count": 12,
     "metadata": {},
     "output_type": "execute_result"
    }
   ],
   "source": [
    "# more than 5 characters: violation\n",
    "string_array[2] = 'fabulous'\n",
    "string_array"
   ]
  },
  {
   "cell_type": "markdown",
   "metadata": {
    "slideshow": {
     "slide_type": "fragment"
    }
   },
   "source": [
    "Uh oh... we didn't get an error, but it truncated our string! We must always be aware of the data types of our arrays. It's not just strings, though."
   ]
  },
  {
   "cell_type": "markdown",
   "metadata": {
    "slideshow": {
     "slide_type": "subslide"
    }
   },
   "source": [
    "# Finding and setting the data type\n",
    "Every `numpy` array has an attribute, `dtype`, that you can get at via something like\n",
    "\n",
    "```python\n",
    "    string_array.dtype # => '<U5'\n",
    "```\n",
    "When initializing an array, you can explicitly set the `dtype` to a proper data type string (you can look these up in the `numpy` documentation, but some basic ones are in table 6.2 of your book):\n",
    "```python\n",
    "    float_array = np.array([0.0, 1.0, 2.0], dtype='float64') # => 64-bit floats\n",
    "```\n",
    "This is useful when you don't want python to guess, or when you are first creating  an empty array, so python knows how much memory to allocate."
   ]
  },
  {
   "cell_type": "markdown",
   "metadata": {
    "slideshow": {
     "slide_type": "subslide"
    }
   },
   "source": [
    "# Example: Short integers\n",
    "Integer arrays can have size limits. For instance, if the data type is `'i8'`, then each element is an 8-bit integer (7 bits and one more for the sign). That is, some binary number between `-0b1111111` (=-127) and `+0b1111111` (=127). Technically, it can actually be -128, but we'll not get into those details. If you then try to put a larger integer than 127 in the array, it will truncate your result to the last 7 bits (plus the sign, I think)"
   ]
  },
  {
   "cell_type": "code",
   "execution_count": 13,
   "metadata": {
    "slideshow": {
     "slide_type": "fragment"
    }
   },
   "outputs": [
    {
     "data": {
      "text/plain": [
       "array([0, 1, 2], dtype=int8)"
      ]
     },
     "execution_count": 13,
     "metadata": {},
     "output_type": "execute_result"
    }
   ],
   "source": [
    "int_array = np.array([0,1,2], dtype='int8')\n",
    "int_array"
   ]
  },
  {
   "cell_type": "code",
   "execution_count": 14,
   "metadata": {
    "slideshow": {
     "slide_type": "fragment"
    }
   },
   "outputs": [
    {
     "data": {
      "text/plain": [
       "array([ 0,  1, -1], dtype=int8)"
      ]
     },
     "execution_count": 14,
     "metadata": {},
     "output_type": "execute_result"
    }
   ],
   "source": [
    "int_array[2] = -257 # outside range! and the last 7 bits are all 0b0000001s, so this will be zero\n",
    "int_array"
   ]
  },
  {
   "cell_type": "markdown",
   "metadata": {
    "slideshow": {
     "slide_type": "subslide"
    }
   },
   "source": [
    "# This is a nightmare. Why do I have to track the data type?\n",
    "This is where `numpy`'s ruthless efficiency comes from. By knowing *exactly* how large each element of an array is in memory, it can put all the elements right next to each other and access them trivially. Compare that to a list, which doesn't store data, but it stores references to other parts of memory, so the data is scattered all across your RAM. In short, being meticulous about the size of elements and the fixed length of an array is what gives `numpy` its power, and we just have to deal with that.\n",
    "\n",
    "A common workaround when speed isn't that important is to first build a python list using `append`, and then (assuming the elements are all of compatabile data types), casting it into an array. Something like the following:"
   ]
  },
  {
   "cell_type": "code",
   "execution_count": 15,
   "metadata": {
    "slideshow": {
     "slide_type": "fragment"
    }
   },
   "outputs": [
    {
     "data": {
      "text/plain": [
       "array([ 0,  2,  4,  6,  8, 10, 12, 14, 16, 18])"
      ]
     },
     "execution_count": 15,
     "metadata": {},
     "output_type": "execute_result"
    }
   ],
   "source": [
    "first_ten_evens = []\n",
    "for i in range(10):\n",
    "    first_ten_evens.append(2 * i)\n",
    "first_ten_evens = np.array(first_ten_evens)\n",
    "first_ten_evens"
   ]
  },
  {
   "cell_type": "markdown",
   "metadata": {
    "slideshow": {
     "slide_type": "slide"
    }
   },
   "source": [
    "# Creating sequences of numbers\n",
    "A common need is to generate a sequence of numbers that span a range from some minimum to maximum. `numpy` gives us a few tools to make this dead simple.\n",
    "\n",
    "## `arange`\n",
    "Suppose you want to create a sequence of numbers from 1 to a million. How could we do it? We could use the example above to append to a list and then convert it, but `numpy` gives a quicker and more efficient way that doesn't rely on lists. It's the `arange` function. As the name implies, it is similar to the built in `range` function. If you give it one argument, it creates a list of \"integers\" from 0 up to (but not including) that number:"
   ]
  },
  {
   "cell_type": "code",
   "execution_count": 16,
   "metadata": {
    "slideshow": {
     "slide_type": "fragment"
    }
   },
   "outputs": [
    {
     "data": {
      "text/plain": [
       "array([0, 1, 2, 3, 4, 5, 6, 7, 8, 9])"
      ]
     },
     "execution_count": 16,
     "metadata": {},
     "output_type": "execute_result"
    }
   ],
   "source": [
    "first_range = np.arange(10)\n",
    "first_range"
   ]
  },
  {
   "cell_type": "code",
   "execution_count": 17,
   "metadata": {
    "slideshow": {
     "slide_type": "fragment"
    }
   },
   "outputs": [
    {
     "data": {
      "text/plain": [
       "dtype('int64')"
      ]
     },
     "execution_count": 17,
     "metadata": {},
     "output_type": "execute_result"
    }
   ],
   "source": [
    "first_range.dtype"
   ]
  },
  {
   "cell_type": "markdown",
   "metadata": {
    "slideshow": {
     "slide_type": "subslide"
    }
   },
   "source": [
    "# More with `arange`\n",
    "You can also specify a second argument. If you do that, the first argument becomes the first element, and the last argument becomes the excluded endpoint:"
   ]
  },
  {
   "cell_type": "code",
   "execution_count": 18,
   "metadata": {
    "slideshow": {
     "slide_type": "fragment"
    }
   },
   "outputs": [
    {
     "data": {
      "text/plain": [
       "array([1987, 1988, 1989, 1990, 1991, 1992, 1993, 1994, 1995, 1996, 1997,\n",
       "       1998, 1999, 2000, 2001, 2002, 2003, 2004, 2005, 2006, 2007, 2008,\n",
       "       2009, 2010, 2011, 2012, 2013, 2014, 2015, 2016, 2017, 2018, 2019,\n",
       "       2020])"
      ]
     },
     "execution_count": 18,
     "metadata": {},
     "output_type": "execute_result"
    }
   ],
   "source": [
    "second_range = np.arange(1987, 2021)\n",
    "second_range"
   ]
  },
  {
   "cell_type": "markdown",
   "metadata": {
    "slideshow": {
     "slide_type": "subslide"
    }
   },
   "source": [
    "# Adding stride to `arange`\n",
    "Finally, you can specify a step size with an optional third argument:"
   ]
  },
  {
   "cell_type": "code",
   "execution_count": 19,
   "metadata": {
    "slideshow": {
     "slide_type": "fragment"
    }
   },
   "outputs": [
    {
     "data": {
      "text/plain": [
       "array([1788, 1792, 1796, 1800, 1804, 1808, 1812, 1816, 1820, 1824, 1828,\n",
       "       1832, 1836, 1840, 1844, 1848, 1852, 1856, 1860, 1864, 1868, 1872,\n",
       "       1876, 1880, 1884, 1888, 1892, 1896, 1900, 1904, 1908, 1912, 1916,\n",
       "       1920, 1924, 1928, 1932, 1936, 1940, 1944, 1948, 1952, 1956, 1960,\n",
       "       1964, 1968, 1972, 1976, 1980, 1984, 1988, 1992, 1996, 2000, 2004,\n",
       "       2008, 2012, 2016, 2020])"
      ]
     },
     "execution_count": 19,
     "metadata": {},
     "output_type": "execute_result"
    }
   ],
   "source": [
    "election_years = np.arange(1788, 2021, 4)\n",
    "election_years"
   ]
  },
  {
   "cell_type": "markdown",
   "metadata": {
    "slideshow": {
     "slide_type": "fragment"
    }
   },
   "source": [
    "## And strides can even by floats rather than integers!"
   ]
  },
  {
   "cell_type": "code",
   "execution_count": 20,
   "metadata": {},
   "outputs": [
    {
     "data": {
      "text/plain": [
       "array([2017. , 2017.5, 2018. , 2018.5, 2019. , 2019.5, 2020. , 2020.5])"
      ]
     },
     "execution_count": 20,
     "metadata": {},
     "output_type": "execute_result"
    }
   ],
   "source": [
    "half_years = np.arange(2017, 2021, 0.5)\n",
    "half_years"
   ]
  },
  {
   "cell_type": "markdown",
   "metadata": {
    "slideshow": {
     "slide_type": "fragment"
    }
   },
   "source": [
    "**Problem**: floats are imprecise; range may not behave as you expect!"
   ]
  },
  {
   "cell_type": "markdown",
   "metadata": {
    "slideshow": {
     "slide_type": "subslide"
    }
   },
   "source": [
    "# A better alternative:  `linspace`\n",
    "The second, and perhaps more useful way to generate a sequence of numbers is `linspace` and its sad cousin, `logspace`. \n",
    "\n",
    "We saw `linspace` from back in handout/lab/problem set 7. But as a reminder, to use `linspace`, you provide a starting point and a stopping point, and it generates an array of evenly spaced numbers *including* the end point:"
   ]
  },
  {
   "cell_type": "code",
   "execution_count": 49,
   "metadata": {
    "slideshow": {
     "slide_type": "fragment"
    }
   },
   "outputs": [
    {
     "data": {
      "text/plain": [
       "array([0.        , 0.12822827, 0.25645654, 0.38468481, 0.51291309,\n",
       "       0.64114136, 0.76936963, 0.8975979 , 1.02582617, 1.15405444,\n",
       "       1.28228272, 1.41051099, 1.53873926, 1.66696753, 1.7951958 ,\n",
       "       1.92342407, 2.05165235, 2.17988062, 2.30810889, 2.43633716,\n",
       "       2.56456543, 2.6927937 , 2.82102197, 2.94925025, 3.07747852,\n",
       "       3.20570679, 3.33393506, 3.46216333, 3.5903916 , 3.71861988,\n",
       "       3.84684815, 3.97507642, 4.10330469, 4.23153296, 4.35976123,\n",
       "       4.48798951, 4.61621778, 4.74444605, 4.87267432, 5.00090259,\n",
       "       5.12913086, 5.25735913, 5.38558741, 5.51381568, 5.64204395,\n",
       "       5.77027222, 5.89850049, 6.02672876, 6.15495704, 6.28318531])"
      ]
     },
     "execution_count": 49,
     "metadata": {},
     "output_type": "execute_result"
    }
   ],
   "source": [
    "phases = np.linspace(0, 2*np.pi)\n",
    "phases"
   ]
  },
  {
   "cell_type": "code",
   "execution_count": 50,
   "metadata": {
    "slideshow": {
     "slide_type": "fragment"
    }
   },
   "outputs": [
    {
     "data": {
      "text/plain": [
       "50"
      ]
     },
     "execution_count": 50,
     "metadata": {},
     "output_type": "execute_result"
    }
   ],
   "source": [
    "len(phases)"
   ]
  },
  {
   "cell_type": "markdown",
   "metadata": {
    "slideshow": {
     "slide_type": "subslide"
    }
   },
   "source": [
    "# More with `linspace`\n",
    "Note that we aren't limited to integers, and by default we got 50 points. As you may have guessed, an optional third argument specifies how many points to create. Let's use this to generate a plot of a sine curve:"
   ]
  },
  {
   "cell_type": "code",
   "execution_count": 51,
   "metadata": {
    "slideshow": {
     "slide_type": "fragment"
    }
   },
   "outputs": [
    {
     "data": {
      "text/plain": [
       "[<matplotlib.lines.Line2D at 0x1125fb280>]"
      ]
     },
     "execution_count": 51,
     "metadata": {},
     "output_type": "execute_result"
    },
    {
     "data": {
      "image/png": "[encoded data removed]",
      "text/plain": [
       "<Figure size 640x480 with 1 Axes>"
      ]
     },
     "metadata": {},
     "output_type": "display_data"
    }
   ],
   "source": [
    "fine_phases = np.linspace(0, 2*np.pi, 1000) # 1,000 points!\n",
    "sines = np.sin(fine_phases)\n",
    "\n",
    "import matplotlib.pyplot as plt\n",
    "plt.style.use('default') # not necessary, but ensures uniformity across computers\n",
    "plt.plot(fine_phases, sines)"
   ]
  },
  {
   "cell_type": "markdown",
   "metadata": {
    "slideshow": {
     "slide_type": "subslide"
    }
   },
   "source": [
    "# Step Size from `linspace`\n",
    "Perhaps you want the step size in addition to the steps themselves. That is, you want to know the difference between adjacent points. You could compute the difference one point from the next point, but you can also get it by setting the optional keyword argument `retstep` to true. Then two objects are returned by the function: the points and the step size, so you will need to \"capture\" both with a tuple assignment:"
   ]
  },
  {
   "cell_type": "code",
   "execution_count": 24,
   "metadata": {
    "slideshow": {
     "slide_type": "fragment"
    }
   },
   "outputs": [
    {
     "data": {
      "text/plain": [
       "0.006289474781961547"
      ]
     },
     "execution_count": 24,
     "metadata": {},
     "output_type": "execute_result"
    }
   ],
   "source": [
    "fine_phases, dphi = np.linspace(0, 2 * np.pi, 1000, retstep=True)\n",
    "dphi"
   ]
  },
  {
   "cell_type": "markdown",
   "metadata": {
    "slideshow": {
     "slide_type": "subslide"
    }
   },
   "source": [
    "# `logspace` gives equal spacing in the log of numbers\n",
    "Finally, `logspace` works in exactly the same way as `linspace`, but the values you give are assumed to be powers of 10, and the resulting array will be equally spaced in logarithmic space. Perhaps an example is clearer:"
   ]
  },
  {
   "cell_type": "code",
   "execution_count": 25,
   "metadata": {
    "slideshow": {
     "slide_type": "fragment"
    }
   },
   "outputs": [
    {
     "data": {
      "text/plain": [
       "array([1.e+00, 1.e+01, 1.e+02, 1.e+03, 1.e+04, 1.e+05, 1.e+06, 1.e+07,\n",
       "       1.e+08, 1.e+09, 1.e+10])"
      ]
     },
     "execution_count": 25,
     "metadata": {},
     "output_type": "execute_result"
    }
   ],
   "source": [
    "powers_of_10 = np.logspace(0, 10, 11)\n",
    "powers_of_10"
   ]
  },
  {
   "cell_type": "markdown",
   "metadata": {},
   "source": [
    "These aren't evenly spaced in linear space, but their logs are all evenly spaced. It's very useful when dealing with exponential quantities."
   ]
  },
  {
   "cell_type": "markdown",
   "metadata": {
    "slideshow": {
     "slide_type": "subslide"
    }
   },
   "source": [
    "# Challenge: Linear and Logarithmic Spacing and Plotting (Solution at end)\n",
    "Below is some fancy plotting code that will plot two data sets in two ways each. All panels will plot the function $y = x^3$. The left column will plot data on a linear scale, while the right column will plot the same data on a log-log scale. **Your task** is to set up four arrays:\n",
    "\n",
    "- `xs_linear`: a linearly spaced set of 20 points spanning from one to a million\n",
    "- `ys_linear`: the $y$ values for $y = x^3$, using `xs_linear` as your $x$ values\n",
    "- `xs_log`: a logarithmically spaced set of 20 points spanning from one to a million\n",
    "- `ys_log`: the $y$ values for $y = x^3$, using `xs_log` as your $x$ values\n",
    "\n",
    "Empty dummy arrays are set up for you. You should replace those with your own code. Once you have the arrays set up, execute the cell and observe the plots. Can you see why logarithmically-spaced points can be very useful?"
   ]
  },
  {
   "cell_type": "code",
   "execution_count": 53,
   "metadata": {},
   "outputs": [
    {
     "data": {
      "image/png": "[encoded data removed]",
      "text/plain": [
       "<Figure size 640x480 with 4 Axes>"
      ]
     },
     "metadata": {},
     "output_type": "display_data"
    }
   ],
   "source": [
    "xs_linear = np.array([])\n",
    "ys_linear = np.array([])\n",
    "\n",
    "xs_log = np.array([])\n",
    "ys_log = np.array([])\n",
    "\n",
    "# NO TOUCHIE BELOW HERE!\n",
    "# don't touch this... magic multi-panel matplotlib witchcraft for the next handout!\n",
    "fig, axes = plt.subplots(2, 2)\n",
    "axes[0, 0].scatter(xs_linear, ys_linear)\n",
    "axes[0, 1].scatter(xs_linear, ys_linear)\n",
    "axes[0, 1].set_xscale('log')\n",
    "axes[0, 1].set_yscale('log')\n",
    "axes[1, 0].scatter(xs_log, ys_log)\n",
    "axes[1, 1].scatter(xs_log, ys_log)\n",
    "axes[1, 1].set_xscale('log')\n",
    "axes[1, 1].set_yscale('log')\n",
    "\n",
    "# add labels\n",
    "options = ['linear', 'log']\n",
    "for i in (0, 1):\n",
    "    for j in (0, 1):\n",
    "        axes[i, j].text(0.05, 0.95, f'{options[j]} axes\\n{options[i]} spacing', ha='left', va='top', transform=axes[i, j].transAxes)\n",
    "        axes[i, j].set_xlabel('$x$')\n",
    "        axes[i, j].set_ylabel('$x^3$')\n",
    "\n",
    "plt.tight_layout()"
   ]
  },
  {
   "cell_type": "markdown",
   "metadata": {
    "slideshow": {
     "slide_type": "slide"
    }
   },
   "source": [
    "# Multi-dimensional Arrays\n",
    "Create a 2D array (like a matrix) by converting a list of equal-length lists to `np.array`:"
   ]
  },
  {
   "cell_type": "code",
   "execution_count": null,
   "metadata": {
    "slideshow": {
     "slide_type": "-"
    }
   },
   "outputs": [],
   "source": [
    "matrix = np.array([[1,2,3], [4,5,6], [7,8,9]])\n",
    "matrix"
   ]
  },
  {
   "cell_type": "markdown",
   "metadata": {
    "slideshow": {
     "slide_type": "fragment"
    }
   },
   "source": [
    "But beware! sub-lists need to have equal length so that array has a coherent **shape**. In this example, we just get an array with two elements, each of which are **lists** (note the `dtype`!)"
   ]
  },
  {
   "cell_type": "code",
   "execution_count": null,
   "metadata": {},
   "outputs": [],
   "source": [
    "# sub-lists don't have equal length; numpy does its best, though\n",
    "# notice dtype is now \"object\". The elements are themselves lists;\n",
    "failed = np.array([[1,2,3], [4, 5]])\n",
    "failed"
   ]
  },
  {
   "cell_type": "markdown",
   "metadata": {
    "slideshow": {
     "slide_type": "subslide"
    }
   },
   "source": [
    "# The shape of an array\n",
    "The shape of a numpy array is a tuple of integers that gives the size of each dimension. The shape of a 1D array is just its length (as a singleton tuple). The shape of 3 × 4 matrix will be (3, 4), etc. You can access it as an attribute, rather than a method (so don't \"call\" it with parentheses)."
   ]
  },
  {
   "cell_type": "code",
   "execution_count": null,
   "metadata": {},
   "outputs": [],
   "source": [
    "# 1D array\n",
    "my_ints = np.arange(10)\n",
    "print(my_ints)\n",
    "np.arange(10).shape"
   ]
  },
  {
   "cell_type": "code",
   "execution_count": null,
   "metadata": {},
   "outputs": [],
   "source": [
    "# 2D array from before\n",
    "print(matrix)\n",
    "matrix.shape"
   ]
  },
  {
   "cell_type": "code",
   "execution_count": null,
   "metadata": {},
   "outputs": [],
   "source": [
    "# our failed 2D array from before, which is really just a 1D array\n",
    "print(failed)\n",
    "failed.shape"
   ]
  },
  {
   "cell_type": "markdown",
   "metadata": {
    "slideshow": {
     "slide_type": "subslide"
    }
   },
   "source": [
    "# Reshaping Arrays\n",
    "We can re-shape an array using the `reshape` method, which creates a __new array__ (sort of). It does not change the original array. `resize` (not demoed here) changes the array in place."
   ]
  },
  {
   "cell_type": "code",
   "execution_count": null,
   "metadata": {},
   "outputs": [],
   "source": [
    "matrix2 = matrix.reshape((9,))\n",
    "matrix2.shape"
   ]
  },
  {
   "cell_type": "code",
   "execution_count": null,
   "metadata": {},
   "outputs": [],
   "source": [
    "matrix2"
   ]
  },
  {
   "cell_type": "code",
   "execution_count": null,
   "metadata": {},
   "outputs": [],
   "source": [
    "matrix"
   ]
  },
  {
   "cell_type": "markdown",
   "metadata": {
    "slideshow": {
     "slide_type": "subslide"
    }
   },
   "source": [
    "# `reshape` and other methods create \"views\" on arrays\n",
    "A **view** is another representation of the **same data**. Changes to the data in views will change the data in the original array!"
   ]
  },
  {
   "cell_type": "code",
   "execution_count": null,
   "metadata": {
    "slideshow": {
     "slide_type": "fragment"
    }
   },
   "outputs": [],
   "source": [
    "print(matrix)\n",
    "print(matrix2)"
   ]
  },
  {
   "cell_type": "code",
   "execution_count": null,
   "metadata": {
    "slideshow": {
     "slide_type": "fragment"
    }
   },
   "outputs": [],
   "source": [
    "matrix2[-1] = 1000\n",
    "print(matrix)\n",
    "print(matrix2)"
   ]
  },
  {
   "cell_type": "markdown",
   "metadata": {
    "slideshow": {
     "slide_type": "subslide"
    }
   },
   "source": [
    "# Other useful attributes\n",
    "- __shape__: array of dimnsions: the size of the array along each of its _axes_ (tuple of integers)\n",
    "- __ndim__: number of axes (the \"rank of the matrix\")\n",
    "- __size__: total number of elements in the array; same as the product of each integer in `shape`\n",
    "- __dtype__: string representing the type of data held in the array"
   ]
  },
  {
   "cell_type": "code",
   "execution_count": null,
   "metadata": {},
   "outputs": [],
   "source": [
    "print(\"The shape of\\n {}\\n is {}\\n\".format(matrix, matrix.shape))\n",
    "print(\"The rank of\\n {}\\n is {}\\n\".format(matrix, matrix.ndim))\n",
    "print(\"The size of\\n {}\\n is {}\\n\".format(matrix, matrix.size))\n",
    "print(\"The data type of\\n {}\\n is {}\".format(matrix, matrix.dtype))"
   ]
  },
  {
   "cell_type": "markdown",
   "metadata": {
    "slideshow": {
     "slide_type": "subslide"
    }
   },
   "source": [
    "# Other Ways of Creating Multi-dimensional Arrays\n",
    "We have seen that we can turn lists of lists into multi-dimensional arrays. Two other useful functions exist, similar to how we used `arange`, `linspace`, and `logspace` for 1D arrays. These are `zeros` and `ones`.\n",
    "\n",
    "`np.zeros` just takes a tuple representing the shape of the desired array (and an optional `dtype` argument) and creates an array of all zeros of that prescribed shape (and `dtype`)."
   ]
  },
  {
   "cell_type": "code",
   "execution_count": null,
   "metadata": {
    "slideshow": {
     "slide_type": "fragment"
    }
   },
   "outputs": [],
   "source": [
    "twenty_zeros = np.zeros((4, 5), dtype='int64')\n",
    "twenty_zeros"
   ]
  },
  {
   "cell_type": "code",
   "execution_count": null,
   "metadata": {
    "slideshow": {
     "slide_type": "fragment"
    }
   },
   "outputs": [],
   "source": [
    "# \"zero strings\" are just the empty string\n",
    "zero_strings = np.zeros((3, 3), dtype='<U32')\n",
    "zero_strings"
   ]
  },
  {
   "cell_type": "code",
   "execution_count": null,
   "metadata": {
    "slideshow": {
     "slide_type": "fragment"
    }
   },
   "outputs": [],
   "source": [
    "# \"zero bools\" are just False\n",
    "zero_bools = np.zeros((2, 3), dtype='bool')\n",
    "zero_bools"
   ]
  },
  {
   "cell_type": "markdown",
   "metadata": {
    "slideshow": {
     "slide_type": "subslide"
    }
   },
   "source": [
    "# The lighter side of `zeros`: `ones`\n",
    "`np.ones` does something similar, but uses 1 as the filler instead of zero."
   ]
  },
  {
   "cell_type": "code",
   "execution_count": null,
   "metadata": {},
   "outputs": [],
   "source": [
    "np.ones((2,2), dtype='float64')"
   ]
  },
  {
   "cell_type": "code",
   "execution_count": null,
   "metadata": {
    "slideshow": {
     "slide_type": "fragment"
    }
   },
   "outputs": [],
   "source": [
    "# string variant is a little less useful now\n",
    "np.ones((2,3), dtype='<U12')"
   ]
  },
  {
   "cell_type": "code",
   "execution_count": null,
   "metadata": {
    "slideshow": {
     "slide_type": "fragment"
    }
   },
   "outputs": [],
   "source": [
    "# bools are now True\n",
    "np.ones((4, 5), dtype='bool')"
   ]
  },
  {
   "cell_type": "markdown",
   "metadata": {
    "slideshow": {
     "slide_type": "subslide"
    }
   },
   "source": [
    "# Making arrays with the same shape as another array\n",
    "The functions `np.zeros_like` and `np.ones_like` do what `np.zeros` and `np.ones` do, but instead of an explicit shape and `dtype`, they accept another array as a parameter and then create a new aray with the same shape and `dtype`."
   ]
  },
  {
   "cell_type": "code",
   "execution_count": null,
   "metadata": {},
   "outputs": [],
   "source": [
    "matrix"
   ]
  },
  {
   "cell_type": "code",
   "execution_count": null,
   "metadata": {},
   "outputs": [],
   "source": [
    "np.zeros_like(matrix)"
   ]
  },
  {
   "cell_type": "markdown",
   "metadata": {
    "slideshow": {
     "slide_type": "subslide"
    }
   },
   "source": [
    "# Combining 1D techniques with `reshape`/`resize`\n",
    "Note: we could combine things like `np.linspace` and `np.arange` and then using `reshape` (or `resize`) to get a multidimensional array, though the applications seem quite limited."
   ]
  },
  {
   "cell_type": "code",
   "execution_count": null,
   "metadata": {},
   "outputs": [],
   "source": [
    "# add one to get 1 through 9\n",
    "np.arange(9).reshape((3, 3)) + 1"
   ]
  },
  {
   "cell_type": "markdown",
   "metadata": {
    "slideshow": {
     "slide_type": "subslide"
    }
   },
   "source": [
    "# Making an array based off of a function\n",
    "Perhaps you need to create an array that just has the first 3 powers of the first 10 integers. Weird, but it doesn't allow us to use any of our previous tricks other than doing it by hand with lists. `np.fromfunction` has you covered.\n",
    "\n",
    "You provide a function that takes as many arguments as the desired array has indices, as well as a shape."
   ]
  },
  {
   "cell_type": "code",
   "execution_count": null,
   "metadata": {},
   "outputs": [],
   "source": [
    "# add one to both indices to get rid of the zero cases\n",
    "i_to_the_j = lambda i, j: (i + 1)**(j + 1)\n",
    "np.fromfunction(i_to_the_j, (10, 3))"
   ]
  },
  {
   "cell_type": "markdown",
   "metadata": {
    "slideshow": {
     "slide_type": "slide"
    }
   },
   "source": [
    "# Universal Functions\n",
    "Basic arithmetic operations on numpy arrays happen element-wise. These operations include addition, subtraction, multiplication, and division. If perform an operation between a vector and a scalar, the scalar is broadcast to all elements of the scalar."
   ]
  },
  {
   "cell_type": "code",
   "execution_count": null,
   "metadata": {
    "slideshow": {
     "slide_type": "fragment"
    }
   },
   "outputs": [],
   "source": [
    "np.ones(5) + np.ones(5)"
   ]
  },
  {
   "cell_type": "code",
   "execution_count": null,
   "metadata": {
    "slideshow": {
     "slide_type": "fragment"
    }
   },
   "outputs": [],
   "source": [
    "np.ones(5) + 1"
   ]
  },
  {
   "cell_type": "markdown",
   "metadata": {
    "slideshow": {
     "slide_type": "subslide"
    }
   },
   "source": [
    "# Mathematical Functions\n",
    "numpy also provides a bunch of built-in mathematical operations that can operate on scalars _or_ numpy arrays, so numpy essentially supersedes the math module. \n",
    "\n",
    "The list is large, so consult the documentation, but basic ones like `np.sin`, `np.sqrt`, and `np.exp` should be obvious. Note that `np.log` is base $e$, while `np.log10` is base 10. "
   ]
  },
  {
   "cell_type": "code",
   "execution_count": null,
   "metadata": {
    "scrolled": false,
    "slideshow": {
     "slide_type": "fragment"
    }
   },
   "outputs": [],
   "source": [
    "np.log10(np.arange(10) + 1)"
   ]
  },
  {
   "cell_type": "markdown",
   "metadata": {
    "slideshow": {
     "slide_type": "slide"
    }
   },
   "source": [
    "# Indexing and Slicing\n",
    "For 1D arrays, indexing and slicing works the same as they did for lists and tuples. For a single value, we de-reference with square brackets and putting the index of the desired element in the brackets, using negative numbers if we want to access items from the end of the array."
   ]
  },
  {
   "cell_type": "code",
   "execution_count": null,
   "metadata": {},
   "outputs": [],
   "source": [
    "int_array = np.arange(0, 10)\n",
    "int_array"
   ]
  },
  {
   "cell_type": "code",
   "execution_count": null,
   "metadata": {},
   "outputs": [],
   "source": [
    "# get \"second\" element (at index 2)\n",
    "int_array[2]"
   ]
  },
  {
   "cell_type": "code",
   "execution_count": null,
   "metadata": {},
   "outputs": [],
   "source": [
    "# get second to last element\n",
    "int_array[-2]"
   ]
  },
  {
   "cell_type": "markdown",
   "metadata": {
    "slideshow": {
     "slide_type": "subslide"
    }
   },
   "source": [
    "# Slicing\n",
    "To slice (to get sub-arrays), again we can use the conventions of lists and tuples. We again use square brackets and then put an optional starting index (assumed to be the zeroth index if omitted), a colon, and an optional ending position which will *not* be included. If the ending index is left off, all elements to the end of the array are included. \n",
    "\n",
    "__The returned array does not own its data. Any changes to these \"slices\" will propagate back up to the main array.__ This is different from how lists work."
   ]
  },
  {
   "cell_type": "code",
   "execution_count": null,
   "metadata": {},
   "outputs": [],
   "source": [
    "# first three elements. Note that 3 is not included\n",
    "int_array[0:3]"
   ]
  },
  {
   "cell_type": "markdown",
   "metadata": {
    "slideshow": {
     "slide_type": "subslide"
    }
   },
   "source": [
    "# Strides in Slices\n",
    "We can also include a third integer in our range that specifieds the stride, or how far to go to fetch the next element. By default this is 1, meaning gather each element in sequence. This is most useful for going backwards through the array, but it can also be useful if you need every third value, for example."
   ]
  },
  {
   "cell_type": "code",
   "execution_count": null,
   "metadata": {},
   "outputs": [],
   "source": [
    "# every third element. Take all elements (the first naked colon),\n",
    "# and then only every third element (last \":3\")\n",
    "int_array[::3]"
   ]
  },
  {
   "cell_type": "code",
   "execution_count": null,
   "metadata": {},
   "outputs": [],
   "source": [
    "# getting the reversed array\n",
    "int_array[::-1]"
   ]
  },
  {
   "cell_type": "markdown",
   "metadata": {
    "slideshow": {
     "slide_type": "subslide"
    }
   },
   "source": [
    "# How *NOT* to copy arrays"
   ]
  },
  {
   "cell_type": "code",
   "execution_count": null,
   "metadata": {},
   "outputs": [],
   "source": [
    "# the entire array, omitting both starting and ending indices;\n",
    "# This DOESN'T make a copy like it did for lists, it just provides a \"view\" into the existing data\n",
    "# this cuts down on memory usage in large datasets, but you need to be aware of it\n",
    "int_array[:]"
   ]
  },
  {
   "cell_type": "code",
   "execution_count": null,
   "metadata": {
    "slideshow": {
     "slide_type": "fragment"
    }
   },
   "outputs": [],
   "source": [
    "second_array = int_array[:] # make a \"copy\"\n",
    "second_array[0] = 11 # change that copy\n",
    "print(\"second array: {}\".format(second_array))\n",
    "print(\"first array: {}\".format(int_array))\n",
    "print(\"uh oh!\")"
   ]
  },
  {
   "cell_type": "markdown",
   "metadata": {
    "slideshow": {
     "slide_type": "subslide"
    }
   },
   "source": [
    "# How to copy arrays successfully\n",
    "\"copying\" via our old way didn't work! We only get a new **view** into the old array, so changes to the new array affect the old one. Instead, use numpy's `copy` function."
   ]
  },
  {
   "cell_type": "code",
   "execution_count": null,
   "metadata": {},
   "outputs": [],
   "source": [
    "# first, \"fix\" our original array\n",
    "int_array[0] = 0\n",
    "\n",
    "# now copy the real way\n",
    "second_array = np.copy(int_array[:])\n",
    "second_array[0] = 11 # change that copy\n",
    "print(\"second array: {}\".format(second_array))\n",
    "print(\"first array: {}\".format(int_array))\n",
    "print(\"that's more like it!\")"
   ]
  },
  {
   "cell_type": "markdown",
   "metadata": {
    "slideshow": {
     "slide_type": "subslide"
    }
   },
   "source": [
    "# Accessing Elements in multi-dimensional arrays\n",
    "For multi-dimensional arrays, we need to provide two indices or ranges for de-referencing or slicing. We separate these by commas. To get the zeroth element of the zeroth row, we would use `[0,0]`."
   ]
  },
  {
   "cell_type": "code",
   "execution_count": null,
   "metadata": {},
   "outputs": [],
   "source": [
    "two_d_array = np.arange(1,7).reshape(3, 2)\n",
    "two_d_array"
   ]
  },
  {
   "cell_type": "code",
   "execution_count": null,
   "metadata": {
    "slideshow": {
     "slide_type": "fragment"
    }
   },
   "outputs": [],
   "source": [
    "# getting zeroth row, zeroth column\n",
    "two_d_array[0, 0]"
   ]
  },
  {
   "cell_type": "markdown",
   "metadata": {
    "slideshow": {
     "slide_type": "fragment"
    }
   },
   "source": [
    "To get the first row, we are really saying we want every column but only the first row, so in the \"column\" place (the second index), we just put a colon."
   ]
  },
  {
   "cell_type": "code",
   "execution_count": null,
   "metadata": {},
   "outputs": [],
   "source": [
    "# getting the second row\n",
    "two_d_array[1,:]"
   ]
  },
  {
   "cell_type": "markdown",
   "metadata": {
    "slideshow": {
     "slide_type": "fragment"
    }
   },
   "source": [
    "Or we could get just part of one column. Say the last two rows of the last column"
   ]
  },
  {
   "cell_type": "code",
   "execution_count": null,
   "metadata": {},
   "outputs": [],
   "source": [
    "two_d_array[-2:, -1]"
   ]
  },
  {
   "cell_type": "markdown",
   "metadata": {
    "slideshow": {
     "slide_type": "fragment"
    }
   },
   "source": [
    "Finally, we could get another multidimensional array if we specified it. Here we'll just take all of the first two rows"
   ]
  },
  {
   "cell_type": "code",
   "execution_count": null,
   "metadata": {},
   "outputs": [],
   "source": [
    "two_d_array[:2,:]"
   ]
  },
  {
   "cell_type": "markdown",
   "metadata": {
    "slideshow": {
     "slide_type": "slide"
    }
   },
   "source": [
    "# Advanced Indexing and Masking\n",
    "We can also \"cherry pick\" elements with arbitrary constraints. Say I want the elements at indexes 1, 4, and 5. I can make a list or tuple out of those indices, and then pass that as the \"index\" when de-referencing."
   ]
  },
  {
   "cell_type": "code",
   "execution_count": null,
   "metadata": {},
   "outputs": [],
   "source": [
    "evens = int_array * 2\n",
    "inds = [1, 4, 5]\n",
    "some_evens = evens[inds]\n",
    "some_evens"
   ]
  },
  {
   "cell_type": "markdown",
   "metadata": {
    "slideshow": {
     "slide_type": "fragment"
    }
   },
   "source": [
    "Crucially, __these are new arrays that own their own data__. Changes you make to these sub-arrays will be contained in the sub-arrays. I'm not certain why this choice was made, but there it is."
   ]
  },
  {
   "cell_type": "code",
   "execution_count": null,
   "metadata": {},
   "outputs": [],
   "source": [
    "some_evens[2] = -1\n",
    "print('evens: {}'.format(evens))\n",
    "print('some_evens: {}'.format(some_evens))"
   ]
  },
  {
   "cell_type": "markdown",
   "metadata": {
    "slideshow": {
     "slide_type": "subslide"
    }
   },
   "source": [
    "# Masks\n",
    "Perhaps more useful is using arrays of bools to index. Instead of an index or range, we put a whole numpy array of bools in the square brackets that is of the same shape as the numpy array itself. Every position that is `True` will be returned, and `False` ones will be skipped.\n",
    "\n",
    "But how do I generate these arrays? Since boolean operations are vectorized, we can use the array itself (or other similar arrays) to create them. This array of booleans is called a __mask__.\n",
    "\n",
    "Let's see an example. Starting with an array of negative integers from -20 to 20, let's isolate the ones that are positive first."
   ]
  },
  {
   "cell_type": "code",
   "execution_count": null,
   "metadata": {},
   "outputs": [],
   "source": [
    "starter = np.arange(-20, 21)\n",
    "starter"
   ]
  },
  {
   "cell_type": "code",
   "execution_count": null,
   "metadata": {
    "slideshow": {
     "slide_type": "fragment"
    }
   },
   "outputs": [],
   "source": [
    "positive_mask = starter > 0\n",
    "positive_mask"
   ]
  },
  {
   "cell_type": "code",
   "execution_count": null,
   "metadata": {
    "slideshow": {
     "slide_type": "fragment"
    }
   },
   "outputs": [],
   "source": [
    "positive_starter = starter[positive_mask]\n",
    "positive_starter"
   ]
  },
  {
   "cell_type": "markdown",
   "metadata": {
    "slideshow": {
     "slide_type": "subslide"
    }
   },
   "source": [
    "# Mask Example: Selecting Multiples of 5\n",
    "Now let's get to the multiples of five only from the original array of integers from -20 to +20:"
   ]
  },
  {
   "cell_type": "code",
   "execution_count": null,
   "metadata": {},
   "outputs": [],
   "source": [
    "mult_5_mask = (starter % 5 == 0)\n",
    "mult_5_mask"
   ]
  },
  {
   "cell_type": "code",
   "execution_count": null,
   "metadata": {
    "slideshow": {
     "slide_type": "fragment"
    }
   },
   "outputs": [],
   "source": [
    "mult_5_starter = starter[mult_5_mask]\n",
    "mult_5_starter"
   ]
  },
  {
   "cell_type": "markdown",
   "metadata": {
    "slideshow": {
     "slide_type": "subslide"
    }
   },
   "source": [
    "# Combining Masks\n",
    "We can use logical operators like not, and, and or to combine masks to new, more complicated constraints. To negate a boolean array, affix `~` in front of it. To combine two arrays in an \"and\" sense, put `&` between them (and probably you should put parentheses around the masks if they are literals, like `(starter > 0) & (starter % 5 == 0)`, or else the parser has trouble understanding what you mean. And to combine to masks in an \"or\" sense, use the pipe (`|`) character."
   ]
  },
  {
   "cell_type": "code",
   "execution_count": null,
   "metadata": {
    "slideshow": {
     "slide_type": "fragment"
    }
   },
   "outputs": [],
   "source": [
    "# elements that are non-positive\n",
    "starter[~positive_mask]"
   ]
  },
  {
   "cell_type": "code",
   "execution_count": null,
   "metadata": {
    "slideshow": {
     "slide_type": "fragment"
    }
   },
   "outputs": [],
   "source": [
    "# elements that are both multiples of five AND postive\n",
    "starter[positive_mask & mult_5_mask]"
   ]
  },
  {
   "cell_type": "code",
   "execution_count": null,
   "metadata": {
    "slideshow": {
     "slide_type": "fragment"
    }
   },
   "outputs": [],
   "source": [
    "# elements that are multiples of five OR non-positive\n",
    "starter[mult_5_mask | (~positive_mask)]"
   ]
  },
  {
   "cell_type": "markdown",
   "metadata": {
    "slideshow": {
     "slide_type": "slide"
    }
   },
   "source": [
    "# Meshes\n",
    "Sometimes we will want to deal with a mesh of values. By \"mesh\", I mean a set of $(x, y)$ points. This may seem easy, but it's actually quite tricky. We need an array of $x$ coordinates that has the same shape as an array of $y$ coordinates, and each array contains an $x$ and $y$ coordinate that together make up all the points in some region of the $x-y$ plane. Finally, we might want a third array that, for example, contains all the values of a multi-dimensional function.\n",
    "\n",
    "As a concrete example, let's say we want to have an array of values of the function\n",
    "\n",
    "$$ f(x, y) = \\sin \\left(\\sqrt{x^2 + y^2}\\right) $$\n",
    "\n",
    "And I'd like to be able to plot them. Not only do I need the values of the function themselves, but I probably also want values for the $x$ and $y$ values. Enter `np.meshgrid`. We give it $x$ values and $y$ values, and it gives us the desired multi-dimensional arrays for alll ordered pairs."
   ]
  },
  {
   "cell_type": "markdown",
   "metadata": {
    "slideshow": {
     "slide_type": "subslide"
    }
   },
   "source": [
    "# Creating the mesh for $f(x,y) = \\sin\\left(\\sqrt{x^2 + y^2}\\right)$\n",
    "- `x` and `y` are the coordinates of $x$ and $y$ that we want. Think of them as the tick marks on the coordinate axes\n",
    "- `X` and `Y` are 2D arrays that have the $x$ and $y$ coordinates at each point in the 2D space"
   ]
  },
  {
   "cell_type": "code",
   "execution_count": null,
   "metadata": {},
   "outputs": [],
   "source": [
    "x = np.linspace(-5, 5, 5)\n",
    "y = np.linspace(-5, 5, 5)\n",
    "X, Y = np.meshgrid(x, y)\n",
    "print(\"X:\\n{}\".format(X))\n",
    "print(\"Y:\\n{}\".format(Y))"
   ]
  },
  {
   "cell_type": "markdown",
   "metadata": {},
   "source": [
    "Notice how the values of `X` increase along a single row, while those of `Y` increase along a given column. Now we can use vectorization to get all the values of our function in one line."
   ]
  },
  {
   "cell_type": "markdown",
   "metadata": {
    "slideshow": {
     "slide_type": "subslide"
    }
   },
   "source": [
    "# Creating the $Z$ values for $f(x,y) = \\sin(\\sqrt(x^2 + y^2))$\n",
    "Vectorization for the win! This will create a 2D array of $z$ values using the mesh grid we have already created. `numpy` is beautiful, isn't it?"
   ]
  },
  {
   "cell_type": "code",
   "execution_count": null,
   "metadata": {},
   "outputs": [],
   "source": [
    "Z = np.sin(np.sqrt(X**2 + Y**2))\n",
    "Z"
   ]
  },
  {
   "cell_type": "markdown",
   "metadata": {
    "slideshow": {
     "slide_type": "slide"
    }
   },
   "source": [
    "# Visualizing $f(x,y)=\\sin\\left(\\sqrt{x^2+y^2}\\right)$ with `imshow`\n",
    "`pylab`/`matplotlib` have a function called `imshow` that takes a 2D array and assigns a color scale to the values, displaying an \"image\". We just feed it `Z`, and it converts its rows and columns to colored pixels."
   ]
  },
  {
   "cell_type": "code",
   "execution_count": null,
   "metadata": {
    "slideshow": {
     "slide_type": "-"
    }
   },
   "outputs": [],
   "source": [
    "pylab.imshow(Z)"
   ]
  },
  {
   "cell_type": "markdown",
   "metadata": {
    "slideshow": {
     "slide_type": "fragment"
    }
   },
   "source": [
    "Hmm.. that's gross. Let's expand our range a bit."
   ]
  },
  {
   "cell_type": "markdown",
   "metadata": {
    "slideshow": {
     "slide_type": "subslide"
    }
   },
   "source": [
    "# Getting a Higher Resolution Mesh\n",
    "Instead of a 5 × 5 mesh, lets go with 100 × 100, and over a larger range (both $x$ and $y$ go from –10 to 10 now). We need only change the number of points in `x` and `y`.\n",
    "\n",
    "Note, the axes labels only show the *indices* of `Z`. We would have to use a different function to incorporate the actual coordinate positions encoded in `X` and `Z`. Still, you get the point."
   ]
  },
  {
   "cell_type": "code",
   "execution_count": null,
   "metadata": {
    "scrolled": true
   },
   "outputs": [],
   "source": [
    "x = np.linspace(-10, 10, 100)\n",
    "y = np.linspace(-10, 10, 100)\n",
    "X, Y = np.meshgrid(x, y)\n",
    "Z = np.sin(np.sqrt(X**2 + Y**2))\n",
    "pylab.imshow(Z)"
   ]
  },
  {
   "cell_type": "markdown",
   "metadata": {
    "slideshow": {
     "slide_type": "slide"
    }
   },
   "source": [
    "# Record Arrays (Structured Arrays)\n",
    "- Use a 2D `numpy` array as a database\n",
    "- Each **row** is a \"record\", with different data types for each **column**\n",
    "- Columns can be named for more semantic access"
   ]
  },
  {
   "cell_type": "code",
   "execution_count": null,
   "metadata": {},
   "outputs": [],
   "source": [
    "array_length = 1000\n",
    "\n",
    "# specify data type with a list of tuples\n",
    "# first element of each tuple is the name, second is the actual data type\n",
    "dt = np.dtype([('x', 'float64'), ('y', 'float64')])\n",
    "sine_data = np.zeros(array_length, dtype=dt)\n",
    "sine_data['x'] = np.linspace(0, 4 * np.pi, array_length)\n",
    "sine_data['y'] = np.sin(sine_data['x'])"
   ]
  },
  {
   "cell_type": "code",
   "execution_count": null,
   "metadata": {
    "slideshow": {
     "slide_type": "fragment"
    }
   },
   "outputs": [],
   "source": [
    "pylab.plot(sine_data['x'], sine_data['y'])"
   ]
  },
  {
   "cell_type": "markdown",
   "metadata": {
    "slideshow": {
     "slide_type": "subslide"
    }
   },
   "source": [
    "# Example: Customer Database\n",
    "Want a database of customers that keeps track of the following pieces of data:\n",
    "- last name (string length < 60)\n",
    "- first name (string length < 60)\n",
    "- joined (datetime)\n",
    "- id (integer)"
   ]
  },
  {
   "cell_type": "code",
   "execution_count": null,
   "metadata": {},
   "outputs": [],
   "source": [
    "dt = np.dtype([('last', '<U60'), ('first', '<U60'), ('joined', 'datetime64[D]'), ('id', 'int64')])\n",
    "customers = np.zeros(50, dtype=dt)\n",
    "customers.dtype.names"
   ]
  },
  {
   "cell_type": "code",
   "execution_count": null,
   "metadata": {},
   "outputs": [],
   "source": [
    "customers"
   ]
  },
  {
   "cell_type": "markdown",
   "metadata": {
    "slideshow": {
     "slide_type": "subslide"
    }
   },
   "source": [
    "# Adding a first record\n",
    "Each record (a row in the table) is a tuple of data whose datatypes match up properly with the corresponding columns"
   ]
  },
  {
   "cell_type": "code",
   "execution_count": null,
   "metadata": {},
   "outputs": [],
   "source": [
    "customers[0] = ('Wolf', 'William', '2020-04-20', 1)\n",
    "customers"
   ]
  },
  {
   "cell_type": "markdown",
   "metadata": {
    "slideshow": {
     "slide_type": "subslide"
    }
   },
   "source": [
    "# Searching for a record by one of the columns"
   ]
  },
  {
   "cell_type": "code",
   "execution_count": null,
   "metadata": {},
   "outputs": [],
   "source": [
    "customers[customers['last'] == 'Wolf']"
   ]
  },
  {
   "cell_type": "markdown",
   "metadata": {
    "slideshow": {
     "slide_type": "slide"
    }
   },
   "source": [
    "# Saving and Loading Files (I/O: Input/Output)\n",
    "\n",
    "Writing data:\n",
    "- `np.save` (binary file)\n",
    "- `np.savetxt` (text file)"
   ]
  },
  {
   "cell_type": "code",
   "execution_count": null,
   "metadata": {},
   "outputs": [],
   "source": [
    "np.save('customers_save', customers)"
   ]
  },
  {
   "cell_type": "code",
   "execution_count": null,
   "metadata": {},
   "outputs": [],
   "source": [
    "np.savetxt('customers_save.txt', customers, fmt='%30s, %30s, %10s, %10i')"
   ]
  },
  {
   "cell_type": "markdown",
   "metadata": {
    "slideshow": {
     "slide_type": "subslide"
    }
   },
   "source": [
    "# Loading Data\n",
    "- `np.load` (binary file; opposite of `np.save`)\n",
    "- `np.loadtxt` (opposite of `np.savetxt`)\n",
    "- `np.genfromtxt` (more powerful version of `loadtxt`)\n",
    "- Example: look at [history.data](/view/history.data)"
   ]
  },
  {
   "cell_type": "code",
   "execution_count": null,
   "metadata": {},
   "outputs": [],
   "source": [
    "star_history = np.genfromtxt('history.data', skip_header=5, names=True)\n",
    "star_history.dtype.names"
   ]
  },
  {
   "cell_type": "markdown",
   "metadata": {
    "slideshow": {
     "slide_type": "subslide"
    }
   },
   "source": [
    "# The Payoff: Effortless and clear access to data columns!"
   ]
  },
  {
   "cell_type": "code",
   "execution_count": null,
   "metadata": {},
   "outputs": [],
   "source": [
    "pylab.plot(star_history['star_age'], star_history['log_L'])®\n",
    "pylab.xlabel('Star Age [years]')\n",
    "pylab.ylabel('$\\log L/L_\\odot$')"
   ]
  },
  {
   "cell_type": "code",
   "execution_count": null,
   "metadata": {},
   "outputs": [],
   "source": [
    "pylab.plot(star_history['star_age'], star_history['star_mass'])\n",
    "pylab.xlabel('Star Age [years]')\n",
    "pylab.ylabel('Star Mass [$M_\\odot$]')"
   ]
  },
  {
   "cell_type": "markdown",
   "metadata": {
    "slideshow": {
     "slide_type": "skip"
    }
   },
   "source": [
    "# Challenge: Linear and Logarithmic Spacing and Plotting SOLUTION\n",
    "Below is some fancy plotting code that will plot two data sets in two ways each. All panels will plot the function $y = x^3$. The left column will plot data on a linear scale, while the right column will plot the same data on a log-log scale. **Your task** is to set up four arrays:\n",
    "\n",
    "- `xs_linear`: a linearly spaced set of 20 points spanning from one to a million\n",
    "- `ys_linear`: the $y$ values for $y = x^3$, using `xs_linear` as your $x$ values\n",
    "- `xs_log`: a logarithmically spaced set of 20 points spanning from one to a million\n",
    "- `ys_log`: the $y$ values for $y = x^3$, using `xs_log` as your $x$ values\n",
    "\n",
    "Empty dummy arrays are set up for you. You should replace those with your own code. Once you have the arrays set up, execute the cell and observe the plots. Can you see why logarithmically-spaced points can be very useful?"
   ]
  },
  {
   "cell_type": "code",
   "execution_count": 52,
   "metadata": {
    "slideshow": {
     "slide_type": "skip"
    }
   },
   "outputs": [
    {
     "data": {
      "image/png": "[encoded data removed]",
      "text/plain": [
       "<Figure size 640x480 with 4 Axes>"
      ]
     },
     "metadata": {},
     "output_type": "display_data"
    }
   ],
   "source": [
    "xs_linear = np.linspace(1, 1e6, 20)\n",
    "ys_linear = xs_linear**3\n",
    "\n",
    "xs_log = np.logspace(0, 6, 20)\n",
    "ys_log = xs_log**3\n",
    "\n",
    "# NO TOUCHIE BELOW HERE!\n",
    "# don't touch this... magic multi-panel matplotlib witchcraft for the next handout!\n",
    "fig, axes = plt.subplots(2, 2)\n",
    "axes[0, 0].scatter(xs_linear, ys_linear)\n",
    "axes[0, 1].scatter(xs_linear, ys_linear)\n",
    "axes[0, 1].set_xscale('log')\n",
    "axes[0, 1].set_yscale('log')\n",
    "axes[1, 0].scatter(xs_log, ys_log)\n",
    "axes[1, 1].scatter(xs_log, ys_log)\n",
    "axes[1, 1].set_xscale('log')\n",
    "axes[1, 1].set_yscale('log')\n",
    "\n",
    "# add labels\n",
    "options = ['linear', 'log']\n",
    "for i in (0, 1):\n",
    "    for j in (0, 1):\n",
    "        axes[i, j].text(0.05, 0.95, f'{options[j]} axes\\n{options[i]} spacing', ha='left', va='top', transform=axes[i, j].transAxes)\n",
    "        axes[i, j].set_xlabel('$x$')\n",
    "        axes[i, j].set_ylabel('$x^3$')\n",
    "\n",
    "plt.tight_layout()"
   ]
  }
 ],
 "metadata": {
  "celltoolbar": "Slideshow",
  "kernelspec": {
   "display_name": "Python 3",
   "language": "python",
   "name": "python3"
  },
  "language_info": {
   "codemirror_mode": {
    "name": "ipython",
    "version": 3
   },
   "file_extension": ".py",
   "mimetype": "text/x-python",
   "name": "python",
   "nbconvert_exporter": "python",
   "pygments_lexer": "ipython3",
   "version": "3.9.1"
  },
  "rise": {
   "theme": "solarized",
   "transition": "fade"
  }
 },
 "nbformat": 4,
 "nbformat_minor": 4
}
