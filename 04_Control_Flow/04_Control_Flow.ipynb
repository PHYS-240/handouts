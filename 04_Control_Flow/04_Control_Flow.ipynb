{
 "cells": [
  {
   "cell_type": "markdown",
   "metadata": {
    "nbgrader": {
     "grade": false,
     "grade_id": "cell-5c081c1c48b5095c",
     "locked": true,
     "schema_version": 3,
     "solution": false,
     "task": false
    },
    "slideshow": {
     "slide_type": "slide"
    }
   },
   "source": [
    "---\n",
    "# Control Flow"
   ]
  },
  {
   "cell_type": "markdown",
   "metadata": {
    "slideshow": {
     "slide_type": "slide"
    }
   },
   "source": [
    "# \"Control Flow\" is the ability to execute pieces of code in non-linear order\n",
    "We've already seen two examples of control flow in action: **functions** and **`for` loops**.\n",
    "\n",
    "## functions\n",
    "Functions interrupt the flow to instead execute the body of a function (with the parameters set to the values set by the function call), and then return back to the main flow of execution"
   ]
  },
  {
   "cell_type": "code",
   "execution_count": null,
   "metadata": {},
   "outputs": [],
   "source": [
    "def double(x):\n",
    "    print(\"I just entered double with x set to {}\".format(x))\n",
    "    res = 2 * x\n",
    "    print(\"I'm about to exit double with the return value of {}\".format(res))\n",
    "    return res\n",
    "\n",
    "a = double(2)\n",
    "b = double(3)\n",
    "print(\"a =\", a, \"and b =\", b)"
   ]
  },
  {
   "cell_type": "markdown",
   "metadata": {
    "slideshow": {
     "slide_type": "subslide"
    }
   },
   "source": [
    "# \"Control Flow\" is the ability to execute pieces of code in non-linear order\n",
    "We've already seen two examples of control flow in action: **functions** and **`for` loops**.\n",
    "## `for` Loops\n",
    "`for` loops cause a portion of code to be executed over and over again while iterating over some iterable"
   ]
  },
  {
   "cell_type": "code",
   "execution_count": null,
   "metadata": {},
   "outputs": [],
   "source": [
    "product = 1\n",
    "for i in range(1, 4):\n",
    "    print(\"Starting an iteration with i =\", i, \"and product =\", product)\n",
    "    product = product * i\n",
    "    print(\"Ending iteration with i =\", i, \"and now product =\", product)"
   ]
  },
  {
   "cell_type": "markdown",
   "metadata": {
    "slideshow": {
     "slide_type": "slide"
    }
   },
   "source": [
    "# Conditional Control Flow: `if`, `else`, and `elif`\n",
    "The `if`, `else`, and `elif` keywords let us specify code that should only execute if certain conditions are present. To use `else` or `elif`, we must first use `if`, so we'll cover that first."
   ]
  },
  {
   "cell_type": "code",
   "execution_count": null,
   "metadata": {},
   "outputs": [],
   "source": [
    "i = 8\n",
    "if i % 2 == 0:\n",
    "    print('{:d} is even'.format(i))"
   ]
  },
  {
   "cell_type": "markdown",
   "metadata": {
    "slideshow": {
     "slide_type": "-"
    }
   },
   "source": [
    "The general syntax is\n",
    "```python\n",
    "if [expression that evaluates to something truthy]:\n",
    "    # code that runs if the test evaluated to true\n",
    "# code that runs regardless of the test\n",
    "```\n",
    "The body can have multiple lines; so long as it is indented, it is part of the body. Once we stop indenting, the code executes regardless of the outcome of the test. If the test fails, the body is not executed at all."
   ]
  },
  {
   "cell_type": "markdown",
   "metadata": {
    "slideshow": {
     "slide_type": "subslide"
    }
   },
   "source": [
    "# Aside: Truthiness\n",
    "Though the word's origins come from [early in Stephen Colbert's career](https://vimeo.com/215915944), \"truthiness\",  (or less intrestingly, \"truth value\") in computer science refers to how an object is cast into a boolean. In python, here's the truthiness of objects we have encountered thus far:\n",
    "\n",
    "|Data Type| `False` | `True`|\n",
    "|---------|:------:|:------:|\n",
    "| Number | 0      | Not 0   |\n",
    "| String  | `''`  |Not `''` |\n",
    "| Iterable | empty|Not empty|\n",
    "|`NoneType`|`None`|–|\n",
    "\n",
    "If you are unsure, you can always check by casting to `bool`"
   ]
  },
  {
   "cell_type": "code",
   "execution_count": null,
   "metadata": {},
   "outputs": [],
   "source": [
    "bool(None)"
   ]
  },
  {
   "cell_type": "markdown",
   "metadata": {
    "slideshow": {
     "slide_type": "subslide"
    }
   },
   "source": [
    "# Adding in `else`\n",
    "Perhaps we want one block of code to execute when the test \"succeeds\" (evaluates to `True`), and another, different block to execute when it \"fails\" (evaluates to `False`). Then we can add on an `else` block as a complement to an existing `if` block.\n",
    "\n",
    "**This requires no test** as it relies on the test for the `if` block \"failing\""
   ]
  },
  {
   "cell_type": "code",
   "execution_count": null,
   "metadata": {
    "slideshow": {
     "slide_type": "-"
    }
   },
   "outputs": [],
   "source": [
    "i = 8\n",
    "if i % 2 == 0:\n",
    "    print('{:d} is even'.format(i))\n",
    "else:\n",
    "    print('{:d} is odd'.format(i))"
   ]
  },
  {
   "cell_type": "markdown",
   "metadata": {
    "slideshow": {
     "slide_type": "subslide"
    }
   },
   "source": [
    "# Adding in `elif`\n",
    "An additional keyword that *must* accompany `if`, but may or may not be used with `else`, is `elif`, which is short for \"else if\".\n",
    "\n",
    "It is essentially another `if` statement that is only checked if the test for the accompanying `if` block failed. It has its own test (unlike `else`) that is only checked if the `if` block didn't get executed."
   ]
  },
  {
   "cell_type": "code",
   "execution_count": null,
   "metadata": {},
   "outputs": [],
   "source": [
    "i = 8\n",
    "if i % 4 == 0:\n",
    "    print('{:d} is REALLY even!'.format(i))\n",
    "elif i % 2 == 0:\n",
    "    print('{:d} is even'.format(i))\n",
    "else:\n",
    "    print('{:d} is odd'.format(i))"
   ]
  },
  {
   "cell_type": "markdown",
   "metadata": {
    "slideshow": {
     "slide_type": "subslide"
    }
   },
   "source": [
    "# Example: Determining if a number is prime (Solution at end)\n",
    "This is a bad way to solve this problem (extremely inefficient for large numbers), but it demonstrates `if` and `else` in a more interesting function.\n",
    "\n",
    "**Goal**: Create function that takes in an integer and returns `True` if no smaller integer other than 1 divides it (it is a prime number), and `False` otherwise (it is composite)"
   ]
  },
  {
   "cell_type": "code",
   "execution_count": null,
   "metadata": {},
   "outputs": [],
   "source": [
    "# implement that here!"
   ]
  },
  {
   "cell_type": "markdown",
   "metadata": {
    "slideshow": {
     "slide_type": "subslide"
    }
   },
   "source": [
    "# Challenge: Extracting data from an e-mail address (Solution at end)\n",
    "Most e-mail address are some sort of user name followed by the @ symbol, and finally some domain. We can iterate over the characters in an email address and use control flow to extract the username and the domain.\n",
    "\n",
    "**Goal**: Iterate through the email given below to set `username` to the username, and `domain` to the domain. Do **not** use the `split` methods of strings, which is definitely the easier way to go here (but doesn't use control flow)."
   ]
  },
  {
   "cell_type": "code",
   "execution_count": null,
   "metadata": {},
   "outputs": [],
   "source": [
    "username = ''\n",
    "domain = ''\n",
    "email = 'wolfwm@uwec.edu'\n",
    "\n",
    "# iterate through email and build up username and domain\n",
    "# YOUR CODE HERE\n",
    "\n",
    "print(\"username:\", username)\n",
    "print(\"domain:  \", domain)\n",
    "    "
   ]
  },
  {
   "cell_type": "markdown",
   "metadata": {
    "slideshow": {
     "slide_type": "subslide"
    }
   },
   "source": [
    "# Something with `elif` in it\n",
    "This example is modified version of one from your Hill, but it's nice non-trivial use of `elif` to determine whether or not a given year is a leap year."
   ]
  },
  {
   "cell_type": "code",
   "execution_count": null,
   "metadata": {},
   "outputs": [],
   "source": [
    "def is_leap_year(year):\n",
    "    if year % 4:\n",
    "        # year is not a multiple of 4; definitely not a leap year\n",
    "        return False\n",
    "    elif year % 100:\n",
    "        # multiple of 4, but not of 100. Definitely a leap year\n",
    "        return True\n",
    "    else:\n",
    "        # year is a multiple of 100; might be a leap year\n",
    "        if year % 400 == 0:\n",
    "            # multiple of a 400, STILL a leap year\n",
    "            return True\n",
    "        else:\n",
    "            # not a multiple of 1000, but is a multiple of 100, NOT a leap year\n",
    "            return False\n",
    "\n",
    "year = 2021\n",
    "if is_leap_year(year):\n",
    "    print(year, \"is a leap year\")\n",
    "else:\n",
    "    print(year, \"is not a leap year\")"
   ]
  },
  {
   "cell_type": "markdown",
   "metadata": {
    "slideshow": {
     "slide_type": "slide"
    }
   },
   "source": [
    "# The `while` loop is a powerful, but dangerous tool\n",
    "The `while` keyword accompanies a test and a block of code. So long as the test evaluates to `True`, the loop body will execute. **`while` loops are not directly associated with an iterable**.\n",
    "\n",
    "A test that always evaluates to `True` creates a so-called infinite loop, which is as bad as it sounds. In the Jupyter notebook, you can stop an infinite loop by selecting \"Interrupt Kernel\" from the Kernal menu. The example below is somewhat obvious, but [infinite loops can be very subtle](https://techcrunch.com/2008/12/31/zune-bug-explained-in-detail/)."
   ]
  },
  {
   "cell_type": "code",
   "execution_count": null,
   "metadata": {},
   "outputs": [],
   "source": [
    "i = 1\n",
    "while i < 6:\n",
    "    print(i)\n",
    "#     i += 1\n"
   ]
  },
  {
   "cell_type": "markdown",
   "metadata": {},
   "source": [
    "For this reason, it's best to stick with `for` loops whenever possible."
   ]
  },
  {
   "cell_type": "markdown",
   "metadata": {
    "slideshow": {
     "slide_type": "subslide"
    }
   },
   "source": [
    "# The Zune Bug\n",
    "This code was supposed to set the current year after a day has passed. Can you spot the bug?\n",
    "```C\n",
    "year = ORIGINYEAR; /* = 1980 */\n",
    "\n",
    "while (days > 365)\n",
    "{\n",
    "    if (IsLeapYear(year))\n",
    "    {\n",
    "        if (days > 366)\n",
    "        {\n",
    "            days -= 366;\n",
    "            year += 1;\n",
    "        }\n",
    "    }\n",
    "    else\n",
    "    {\n",
    "        days -= 365;\n",
    "        year += 1;\n",
    "    }\n",
    "```"
   ]
  },
  {
   "cell_type": "markdown",
   "metadata": {
    "slideshow": {
     "slide_type": "subslide"
    }
   },
   "source": [
    "# Example: Getting prime factors of a number (Solution at end)\n",
    "From a number, let's get a list of all prime factors of it. If a prime factor is repeated, we know that the number is twice divisible by that factor (so 2 will appear twice in the list of prime factors for 12). We'll have a more sophisticated way to do this later in the class."
   ]
  },
  {
   "cell_type": "code",
   "execution_count": null,
   "metadata": {},
   "outputs": [],
   "source": [
    "# CODE HERE!"
   ]
  },
  {
   "cell_type": "markdown",
   "metadata": {
    "slideshow": {
     "slide_type": "slide"
    }
   },
   "source": [
    "# `break`, `pass` and `continue` help with edge cases\n",
    "- `break` exits a `for` or `while` loop **immediately**. The rest of the body is not executed, and another iteration is not carried out, regardless of whether the iterable is exhausted or the `while` test failed.\n",
    "- `pass` does nothing, but allevaites syntax errors when writing code (for instance, an `if` block with no body could just have `pass` to make it syntactically valid\n",
    "- `continue` skips the rest of an iteration in a loop, but still allows subsequent iterations to occur"
   ]
  },
  {
   "cell_type": "markdown",
   "metadata": {
    "slideshow": {
     "slide_type": "subslide"
    }
   },
   "source": [
    "# Using `break`\n",
    "We'll loop through an iterable to search for a particular object. Once it's found, we no longer need the loop, so we will break out. Note that `return` effectively breaks out of loops inside functions."
   ]
  },
  {
   "cell_type": "code",
   "execution_count": null,
   "metadata": {},
   "outputs": [],
   "source": [
    "scores = [86, 95, 100, 79, 52, 93, 80, 37, 79]\n",
    "for i, score in enumerate(scores):\n",
    "    if score < 60:\n",
    "        print(\"found failing score of {:d} at index {:d}\".format(score, i))\n",
    "        break\n",
    "    print(\"{:d} is a passing score\".format(score))"
   ]
  },
  {
   "cell_type": "markdown",
   "metadata": {
    "slideshow": {
     "slide_type": "subslide"
    }
   },
   "source": [
    "# Using `pass`\n",
    "Again, `pass` doesn't do anything, but it allows for situations that would otherwise be syntactically invalid, usually useful for scaffolding code."
   ]
  },
  {
   "cell_type": "code",
   "execution_count": null,
   "metadata": {},
   "outputs": [],
   "source": [
    "print(\"can we get through this if statement?\")\n",
    "if True:\n",
    "    # try commenting out this pass statement, I dare you!\n",
    "    pass\n",
    "print(\"this too, did pass\")"
   ]
  },
  {
   "cell_type": "markdown",
   "metadata": {
    "slideshow": {
     "slide_type": "subslide"
    }
   },
   "source": [
    "# Using `continue`\n",
    "`continue` skips the rest of the current iteration of a `while` or `for` loop, but doesn't exit the loop entirely. You can usually accomplish the same thing with an `if` statement and a very long `else` block, but `continue` is more succinct."
   ]
  },
  {
   "cell_type": "code",
   "execution_count": null,
   "metadata": {},
   "outputs": [],
   "source": [
    "for i in range(21, 28):\n",
    "    if is_prime(i):\n",
    "        continue\n",
    "    unique_factors = []\n",
    "    factor_power_pairs = []\n",
    "    all_factors = prime_factors(i)\n",
    "    for factor in all_factors:\n",
    "        if factor in unique_factors:\n",
    "            continue\n",
    "        unique_factors.append(factor)\n",
    "        factor_power_pairs.append((factor, all_factors.count(factor)))\n",
    "\n",
    "    components = []\n",
    "    for factor, power in factor_power_pairs:\n",
    "        if power > 1:\n",
    "            components.append(\"{:d}^{:d}\".format(factor, power))\n",
    "        else:\n",
    "            components.append(str(factor))\n",
    "    print(\"{:d} =\".format(i), ' * '.join(components))"
   ]
  },
  {
   "cell_type": "markdown",
   "metadata": {
    "slideshow": {
     "slide_type": "skip"
    }
   },
   "source": [
    "# Determining if a number is prime [SOLUTION]"
   ]
  },
  {
   "cell_type": "code",
   "execution_count": null,
   "metadata": {
    "slideshow": {
     "slide_type": "skip"
    }
   },
   "outputs": [],
   "source": [
    "def is_prime(num):\n",
    "    for divisor in range(2, int(num**0.5) + 1):\n",
    "        if num % divisor == 0:\n",
    "            return False\n",
    "    return True\n",
    "\n",
    "number = 353\n",
    "if is_prime(number):\n",
    "    print(\"{:d} is prime\".format(number))\n",
    "else:\n",
    "    print(\"{:d} is composite\".format(number))"
   ]
  },
  {
   "cell_type": "markdown",
   "metadata": {},
   "source": [
    "# Extracting data from an email address [SOLUTION]"
   ]
  },
  {
   "cell_type": "code",
   "execution_count": null,
   "metadata": {},
   "outputs": [],
   "source": [
    "username = ''\n",
    "domain = ''\n",
    "email = 'wolfwm@uwec.edu'\n",
    "\n",
    "in_username = True\n",
    "for char in email:\n",
    "    if in_username:\n",
    "        if char == '@':\n",
    "            in_username = False\n",
    "        else:\n",
    "            username = username + char\n",
    "    else:\n",
    "        domain = domain + char\n",
    "\n",
    "print(\"username:\", username)\n",
    "print(\"domain:  \", domain)"
   ]
  },
  {
   "cell_type": "markdown",
   "metadata": {},
   "source": [
    "# Example: Getting prime factors of a number [SOLUTION]"
   ]
  },
  {
   "cell_type": "code",
   "execution_count": null,
   "metadata": {},
   "outputs": [],
   "source": [
    "def prime_factors(num):\n",
    "    res = []\n",
    "    for divisor in range(2, num):\n",
    "        while num % divisor == 0:\n",
    "            res.append(divisor)\n",
    "            # This next step reduces the number. If we skip this,\n",
    "            # the loop will never terminate!\n",
    "            num = num // divisor\n",
    "    return res"
   ]
  }
 ],
 "metadata": {
  "celltoolbar": "Slideshow",
  "kernelspec": {
   "display_name": "Python 3",
   "language": "python",
   "name": "python3"
  },
  "language_info": {
   "codemirror_mode": {
    "name": "ipython",
    "version": 3
   },
   "file_extension": ".py",
   "mimetype": "text/x-python",
   "name": "python",
   "nbconvert_exporter": "python",
   "pygments_lexer": "ipython3",
   "version": "3.9.1"
  },
  "rise": {
   "theme": "solarized",
   "transition": "fade"
  }
 },
 "nbformat": 4,
 "nbformat_minor": 4
}
