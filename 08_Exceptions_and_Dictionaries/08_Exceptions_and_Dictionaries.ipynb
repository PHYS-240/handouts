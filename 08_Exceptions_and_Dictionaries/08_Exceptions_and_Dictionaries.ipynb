{
 "cells": [
  {
   "cell_type": "markdown",
   "metadata": {
    "nbgrader": {
     "grade": false,
     "grade_id": "cell-5c081c1c48b5095c",
     "locked": true,
     "schema_version": 3,
     "solution": false,
     "task": false
    },
    "slideshow": {
     "slide_type": "slide"
    }
   },
   "source": [
    "# Exceptions and Dictionaries\n",
    "---\n",
    "### PHYS 212\n",
    "### Dr. Wolf"
   ]
  },
  {
   "cell_type": "markdown",
   "metadata": {
    "slideshow": {
     "slide_type": "slide"
    }
   },
   "source": [
    "# What are Exceptions?\n",
    "An **exception** is an interruption to the flow of execution when a piece of code cannot execute properly. For instance, if we try to cast a complex number to an integer, the `int` function doesn't know how to deal with a complex, so rather than returning garbage, it **raises** or **throws** an exception."
   ]
  },
  {
   "cell_type": "code",
   "execution_count": null,
   "metadata": {},
   "outputs": [],
   "source": [
    "int(3 + 2j)"
   ]
  },
  {
   "cell_type": "markdown",
   "metadata": {},
   "source": [
    "This particular example raised a `TypeError` along with the helpful message `can't convert complex to int` that makes it pretty clear what the problem was. Higher up, it indicates the exact line in the program where the exception was thrown."
   ]
  },
  {
   "cell_type": "markdown",
   "metadata": {
    "slideshow": {
     "slide_type": "subslide"
    }
   },
   "source": [
    "# Errors or Exceptions?\n",
    "Because these troublesome edge cases can be so easily handled in python, we typically refer to them as \"exceptions\" rather than \"errors\", because you may be able to anticipate them and work around them, so they aren't really errors at all. But, these two words will still be used somewhat interchangeably.\n",
    "\n",
    "One type of exception truly is an \"error\": **syntax errors**. This is when the syntax you use doesn't make any sense to the python interpreter, and it **won't even run your code** because it checks for syntax errors before exectuting it."
   ]
  },
  {
   "cell_type": "code",
   "execution_count": null,
   "metadata": {},
   "outputs": [],
   "source": [
    "a = [0, 1, 2]\n",
    "for i in a\n",
    "    print(i)"
   ]
  },
  {
   "cell_type": "code",
   "execution_count": null,
   "metadata": {},
   "outputs": [],
   "source": [
    "# this poor thing never even got initialized; NONE of the previous cell executed due to the syntax error!\n",
    "print(a)"
   ]
  },
  {
   "cell_type": "markdown",
   "metadata": {
    "slideshow": {
     "slide_type": "slide"
    }
   },
   "source": [
    "# Exception Types\n",
    "There are an arbitrary number of types of exceptions (and you can easily define your own new types in your own code, though we won't learn about that in this class). But why have so many types of errors? Couldn't we just have one type and then have useful error messages?\n",
    "\n",
    "Well, yes, but the power of multiple exception types comes from our ability to selectively \"catch\" some types of errors that we know how to handle, and let other truly bad ones crash the program. So being specific about what type of problem we run into is very useful.\n",
    "\n",
    "We'll go over a few of the most common types of exceptions, but again, there is no limit to the number of types of exceptions running wild in the python world."
   ]
  },
  {
   "cell_type": "markdown",
   "metadata": {
    "slideshow": {
     "slide_type": "subslide"
    }
   },
   "source": [
    "# Exception Types:  `NameError`\n",
    "When the interpreter encounters a variable/function that it doesn't know about, it wll raise a `NameError`"
   ]
  },
  {
   "cell_type": "code",
   "execution_count": null,
   "metadata": {},
   "outputs": [],
   "source": [
    "print(not_defined_yet)"
   ]
  },
  {
   "cell_type": "code",
   "execution_count": null,
   "metadata": {},
   "outputs": [],
   "source": [
    "function_does_not_exist(2)"
   ]
  },
  {
   "cell_type": "markdown",
   "metadata": {
    "slideshow": {
     "slide_type": "subslide"
    }
   },
   "source": [
    "# Exception Types: TypeError\n",
    "When you try to call a function or do a binary operation (addition, subtraction, etc.) with an object that doesn't make sense. Examples might include casting a complex to an int, as shown before, calling `abs` on an object that `abs` doesn't know how to deal with:"
   ]
  },
  {
   "cell_type": "code",
   "execution_count": null,
   "metadata": {},
   "outputs": [],
   "source": [
    "int(3 + 4j)"
   ]
  },
  {
   "cell_type": "code",
   "execution_count": null,
   "metadata": {},
   "outputs": [],
   "source": [
    "abs(None)"
   ]
  },
  {
   "cell_type": "markdown",
   "metadata": {
    "slideshow": {
     "slide_type": "subslide"
    }
   },
   "source": [
    "# Exception Types: `ValueError`\n",
    "Very similar to `TypeError`, but for when the type is acceptable, but the particular value is pathological. Consider the following two examples of casting a string to a float:"
   ]
  },
  {
   "cell_type": "code",
   "execution_count": null,
   "metadata": {},
   "outputs": [],
   "source": [
    "pi = float('3.14159')\n",
    "pi"
   ]
  },
  {
   "cell_type": "code",
   "execution_count": null,
   "metadata": {},
   "outputs": [],
   "source": [
    "pie = float('Banana Créme')\n",
    "pie"
   ]
  },
  {
   "cell_type": "markdown",
   "metadata": {},
   "source": [
    "We are able to cast strings into floats, but only if the string actually \"looks\" like a float. For the \"bad\" values, we get a `ValueError` thrown at us."
   ]
  },
  {
   "cell_type": "markdown",
   "metadata": {
    "slideshow": {
     "slide_type": "slide"
    }
   },
   "source": [
    "# Handling Exceptions with `try` and `except`\n",
    "If you forsee a problem may occur in one or more lines of code, you can use python's error handling to... handle it. Let's look at an example."
   ]
  },
  {
   "cell_type": "code",
   "execution_count": null,
   "metadata": {},
   "outputs": [],
   "source": [
    "students = ('William', 'Laura', 'Saul', 'Gaius')\n",
    "student_grades = ((90, 96, 75), (72, 92, 94), (), ('84', 88, 78))\n",
    "\n",
    "for student, grades in zip(students, student_grades):\n",
    "    try:\n",
    "        print(\"{}'s average is {:.1f}\".format(student, sum(grades)/len(grades)))\n",
    "    except ZeroDivisionError:\n",
    "        print(\"Couldn't determine average grade for {}: no scores.\".format(student))\n",
    "    except TypeError:\n",
    "        print(\"Couldn't determine average grade for {}: invalid grade value.\".format(student))"
   ]
  },
  {
   "cell_type": "markdown",
   "metadata": {},
   "source": [
    "See how for Saul, we had no values in `scores`, so the line in the `try` block would normally try to divide by `len(grades)`, causing a `ZeroDivisionError`. But since we \"caught\" it with the `except` statement, we gave it a new thing to do so it didn't crash the whole program.\n",
    "\n",
    "For the last student, though, we would have run into a `TypeError` as `sum` would try and fail to compute the sume of the tuple `('84', 88, 78)`. Strings and integers cannot be added (we would need to cast the `'84'` into an `int` first), so it would throw a `TypeError` at us, but since we had an `except` statement to catch this, we did something gracefully"
   ]
  },
  {
   "cell_type": "markdown",
   "metadata": {
    "slideshow": {
     "slide_type": "subslide"
    }
   },
   "source": [
    "# More Nuanced Handling: `else` and `finally`\n",
    "## `else`\n",
    "After `try` and `except`, an `else` block is executed if the `try` block executed successfully without raising **ANY** exception, regardless of whether or not they were called.\n",
    "\n",
    "## `finally`\n",
    "After `try` and optionally `except` (and perhaps `else`, as well), a `finally` block **AWAYS** is executed after the `try` block, regardless of whether an exception was raised (caught or uncaught). This is where you should close files and clean up any resources, in case an uncaught exception crashes the program."
   ]
  },
  {
   "cell_type": "markdown",
   "metadata": {
    "slideshow": {
     "slide_type": "slide"
    }
   },
   "source": [
    "# Raising Exceptions\n",
    "When you can forsee a particular problem occurring in your code, you might want to raise an exception immediately with a helpful message rather than waiting for a cascade of exceptions that the modules you've imported, or the built-in library of functions, might raise.\n",
    "\n",
    "To do this, we use the `raise` keyword, followed by the type of exception (must be defined already) along with an error message, like so:"
   ]
  },
  {
   "cell_type": "code",
   "execution_count": null,
   "metadata": {},
   "outputs": [],
   "source": [
    "raise TypeError(\"Here's the message.\")"
   ]
  },
  {
   "cell_type": "markdown",
   "metadata": {},
   "source": [
    "Here we just raised a `TypeError`. Presumably, this would come inside an `if` block where we check if a variable has a type that will not work with the code that is about to be executed. You can use this to enforce types of variables input into a function."
   ]
  },
  {
   "cell_type": "markdown",
   "metadata": {
    "slideshow": {
     "slide_type": "subslide"
    }
   },
   "source": [
    "# Example: Picky Magnitude Function"
   ]
  },
  {
   "cell_type": "code",
   "execution_count": null,
   "metadata": {
    "slideshow": {
     "slide_type": "-"
    }
   },
   "outputs": [],
   "source": [
    "def magnitude(x, y, z=0):\n",
    "    \"\"\"Magnitude of a cartesian vector.\"\"\"\n",
    "    if type(x) not in (int, float):\n",
    "        raise TypeError(\"Invalid type for x: {}\".format(type(x)))\n",
    "    if type(y) not in (int, float):\n",
    "        raise TypeError(\"Invalid type for y: {}\".format(type(y)))\n",
    "    if type(z) not in (int, float):\n",
    "        raise TypeError(\"Invalid type for z: {}\".format(type(z)))\n",
    "    return (x * x + y * y + z * z)**0.5"
   ]
  },
  {
   "cell_type": "code",
   "execution_count": null,
   "metadata": {},
   "outputs": [],
   "source": [
    "magnitude(3, '4')"
   ]
  },
  {
   "cell_type": "markdown",
   "metadata": {
    "slideshow": {
     "slide_type": "subslide"
    }
   },
   "source": [
    "# Assertions are a simpler way to raise less flexible errors\n",
    "If you don't care that an exception can be easily caught by `try`/`except`, but you do want the program to at least print a meaningful message, the `assert` statement is an easier way to crash your program out.\n",
    "\n",
    "An assertion consists of the `assert` keyword followed immediately by a boolean expression, and then a message (a string). If the boolean statement is **false**, it will trigger an `AssertionError` with the message your provided."
   ]
  },
  {
   "cell_type": "code",
   "execution_count": null,
   "metadata": {},
   "outputs": [],
   "source": [
    "def safe_sqrt(n):\n",
    "    assert n > 0, \"Must provide a positive number\"\n",
    "    return n ** 0.5\n",
    "safe_sqrt(-1)"
   ]
  },
  {
   "cell_type": "markdown",
   "metadata": {
    "slideshow": {
     "slide_type": "subslide"
    }
   },
   "source": [
    "# Challenge: Magnitdue Function with Assertions (Solution at end)\n",
    "Recreate the magnitude function from above, but use `assert` rather than `raise` to ensure that `x`, `y`, and `z` are all either ints or floats."
   ]
  },
  {
   "cell_type": "code",
   "execution_count": null,
   "metadata": {},
   "outputs": [],
   "source": [
    "def magnitude(x, y, z=0):\n",
    "    \"\"\"Magnitude of a cartesian vector.\"\"\"\n",
    "    raise NotImplementedError"
   ]
  },
  {
   "cell_type": "code",
   "execution_count": null,
   "metadata": {},
   "outputs": [],
   "source": [
    "magnitude(0, '4')"
   ]
  },
  {
   "cell_type": "markdown",
   "metadata": {
    "slideshow": {
     "slide_type": "slide"
    }
   },
   "source": [
    "# Dictionaries"
   ]
  },
  {
   "cell_type": "markdown",
   "metadata": {
    "slideshow": {
     "slide_type": "subslide"
    }
   },
   "source": [
    "# What are Dictionaries?\n",
    "A **dictionary** (or just `dict`) is a *mutable* and *unordered* data structure like a list, but instead of being indexed by integers from 0 up to the length of the list minus one, they are indexed by an abitrary immutable object.\n",
    "\n",
    "The arbitrary immutable objects used for indexing are called **keys**. The actual values they \"point\" to are called **values**."
   ]
  },
  {
   "cell_type": "markdown",
   "metadata": {
    "slideshow": {
     "slide_type": "subslide"
    }
   },
   "source": [
    "# Creating dictionaries: literals\n",
    "The literal syntax is curly braces (`{}`) with comma-separated key-value pairs, delimited by colons."
   ]
  },
  {
   "cell_type": "code",
   "execution_count": null,
   "metadata": {},
   "outputs": [],
   "source": [
    "rgb_colors = {'red': (1, 0, 0), 'green': (0, 1, 0), 'blue': (0, 0, 1)}\n",
    "rgb_colors"
   ]
  },
  {
   "cell_type": "markdown",
   "metadata": {},
   "source": [
    "The keys are `'red'`, `'green'`, and `'blue'`, and the values are `(1, 0, 0)`, `(0, 1, 0)`, `(0, 0, 1)`. We can access these via the `keys()` and `values()` methods of dictionaries:"
   ]
  },
  {
   "cell_type": "code",
   "execution_count": null,
   "metadata": {},
   "outputs": [],
   "source": [
    "print(rgb_colors.keys())\n",
    "print(rgb_colors.values())"
   ]
  },
  {
   "cell_type": "markdown",
   "metadata": {
    "slideshow": {
     "slide_type": "subslide"
    }
   },
   "source": [
    "# Challenge: Name Dictionaries (Solution at end)\n",
    "Create a **list** that has two **dictionaries** in it. Each of the two dictionaries should have two keys, `'first'` and `'last'`, and the values should be the first and last names of two people at your table. If you are working alone, have the second dictionary contain the names of a celebrity of your choosing."
   ]
  },
  {
   "cell_type": "code",
   "execution_count": null,
   "metadata": {},
   "outputs": [],
   "source": [
    "# Create the list here. This can be done on one line, if you'd like."
   ]
  },
  {
   "cell_type": "markdown",
   "metadata": {
    "slideshow": {
     "slide_type": "subslide"
    }
   },
   "source": [
    "# Creating dictionaries: the `dict` constructor\n",
    "Like other types, there is a `dict` constructor that we can use to build dictionaries without the literal syntax. The simplest way to create them is to pass an iterable of iterables of length 2. That is, a collection of two-item iterables that correspond to key-value pairs."
   ]
  },
  {
   "cell_type": "code",
   "execution_count": null,
   "metadata": {},
   "outputs": [],
   "source": [
    "rgb_colors_2 = dict((('red', (1, 0, 0)), ('green', (0, 1, 0)), ('blue', (0, 0, 1))))\n",
    "rgb_colors_2"
   ]
  },
  {
   "cell_type": "markdown",
   "metadata": {
    "slideshow": {
     "slide_type": "subslide"
    }
   },
   "source": [
    "# Reminder: the `zip` built-in function\n",
    "`zip` is a great tool that takes two or more iterables of equal length and combines them into a single iterable, with each element being a tuple consisting of the corresponding elements of the inputs. So for example:"
   ]
  },
  {
   "cell_type": "code",
   "execution_count": null,
   "metadata": {},
   "outputs": [],
   "source": [
    "words = ('one', 'two', 'three')\n",
    "numbers = (1, 2, 3)\n",
    "list(zip(words, numbers))"
   ]
  },
  {
   "cell_type": "markdown",
   "metadata": {},
   "source": [
    "This can be combined with the `dict` constructor to make a dictionary out of any two iterables of equal length:"
   ]
  },
  {
   "cell_type": "code",
   "execution_count": null,
   "metadata": {},
   "outputs": [],
   "source": [
    "dict(zip(words, numbers))"
   ]
  },
  {
   "cell_type": "markdown",
   "metadata": {
    "slideshow": {
     "slide_type": "subslide"
    }
   },
   "source": [
    "# Challenge: Alphabet Dictionary (Solution at end)\n",
    "Using a range, the `zip` function, and the `alphabet` string provided, construct a dictionary that maps letters (keys) to numbers (values) in alphabetical order. Let \"A\" corresponding to 1 and \"Z\" correspond to 26."
   ]
  },
  {
   "cell_type": "code",
   "execution_count": null,
   "metadata": {},
   "outputs": [],
   "source": [
    "alphabet = \"ABCDEFGHIJKLMNOPQRSTUVWXYZ\""
   ]
  },
  {
   "cell_type": "markdown",
   "metadata": {
    "slideshow": {
     "slide_type": "subslide"
    }
   },
   "source": [
    "# Accessing dictionaries\n",
    "To access the value in a dictionary, we simply add square brackets with the proper key inside. This is just as we would access elements of a list or tuple by using square brackets with an index inside, but now the index is a key, which could be anything (including integers!)."
   ]
  },
  {
   "cell_type": "code",
   "execution_count": null,
   "metadata": {},
   "outputs": [],
   "source": [
    "rgb_colors['red']"
   ]
  },
  {
   "cell_type": "markdown",
   "metadata": {
    "slideshow": {
     "slide_type": "subslide"
    }
   },
   "source": [
    "# Modifying dictionaries\n",
    "To change the value referenced by a key, we use the same syntax we used for lists. We index it with square brackets and assign a new value to that with the normal assignment operator."
   ]
  },
  {
   "cell_type": "code",
   "execution_count": null,
   "metadata": {},
   "outputs": [],
   "source": [
    "# change blue tuple to be a 256 bit integer\n",
    "rgb_colors['blue'] = (0, 0, 255)\n",
    "rgb_colors"
   ]
  },
  {
   "cell_type": "code",
   "execution_count": null,
   "metadata": {},
   "outputs": [],
   "source": [
    "# now change it back to decimal form\n",
    "rgb_colors['blue'] = (0, 0, 1)\n",
    "rgb_colors"
   ]
  },
  {
   "cell_type": "markdown",
   "metadata": {
    "slideshow": {
     "slide_type": "subslide"
    }
   },
   "source": [
    "# Adding items to dictionaries\n",
    "To add a new item, we follow the same procedure as for modifying, but we just use a new key. No need to append or anything; just pretend it existed all along!"
   ]
  },
  {
   "cell_type": "code",
   "execution_count": null,
   "metadata": {},
   "outputs": [],
   "source": [
    "rgb_colors['magenta'] = (1, 0, 1)\n",
    "rgb_colors"
   ]
  },
  {
   "cell_type": "markdown",
   "metadata": {
    "slideshow": {
     "slide_type": "subslide"
    }
   },
   "source": [
    "# The `get` method: great trick for using a default value\n",
    "What if you want to update a value stored in a dictionary based on its current value. Say, we want to add 1 to a particular value. Then we might do the following:"
   ]
  },
  {
   "cell_type": "code",
   "execution_count": null,
   "metadata": {},
   "outputs": [],
   "source": [
    "scores = {'Dr. Wolf': 10, 'Dr. Ford': 0}\n",
    "scores['Dr. Wolf'] = scores['Dr. Wolf'] + 1\n",
    "scores"
   ]
  },
  {
   "cell_type": "markdown",
   "metadata": {},
   "source": [
    "Great, that makes sense, but what if we wanted to add another entry to dictionary if the one we're referencing doesn't exist? For instance:"
   ]
  },
  {
   "cell_type": "code",
   "execution_count": null,
   "metadata": {},
   "outputs": [],
   "source": [
    "scores['Dr. Evans'] = scores['Dr. Evans'] + 1"
   ]
  },
  {
   "cell_type": "markdown",
   "metadata": {},
   "source": [
    "We get an error since `'Dr. Evans'` isn't in the dictionary. Assigning it is fine, but using it in the assignment process (on the right side of the `=` operator) is the problem. This is where the `get` method comes in handy."
   ]
  },
  {
   "cell_type": "markdown",
   "metadata": {
    "slideshow": {
     "slide_type": "subslide"
    }
   },
   "source": [
    "# The `get` method: great trick for using a default value\n",
    "`get` is a method of dictionaries that takes in two arguments. The first is the key we want to get a value for, and the second is the value we want to return if no such key exists. This lets us avoid `KeyError`s when we know what a sensible default value should be."
   ]
  },
  {
   "cell_type": "code",
   "execution_count": null,
   "metadata": {},
   "outputs": [],
   "source": [
    "scores['Dr. Evans'] = scores.get('Dr. Evans', 0) + 1\n",
    "print(f\"Dr. Evans' score is {scores['Dr. Evans']}\")"
   ]
  },
  {
   "cell_type": "markdown",
   "metadata": {},
   "source": [
    "`get()` allows us to specify a default value (in this case, 0) if the key is not found in the dictionary. Very nifty!"
   ]
  },
  {
   "cell_type": "markdown",
   "metadata": {
    "slideshow": {
     "slide_type": "slide"
    }
   },
   "source": [
    "# Iterating over dictionaries\n",
    "Dictionaries are iterables, so they can be iterated over (and converted to lists). A plain loop over a dictionary loops over the **keys**:"
   ]
  },
  {
   "cell_type": "code",
   "execution_count": null,
   "metadata": {},
   "outputs": [],
   "source": [
    "for x in rgb_colors:\n",
    "    print(x)"
   ]
  },
  {
   "cell_type": "markdown",
   "metadata": {
    "slideshow": {
     "slide_type": "subslide"
    }
   },
   "source": [
    "# Iterating over values or key-value pairs\n",
    "The `values()` method returns an iterable (**not a list**) of values that can be iterated over:"
   ]
  },
  {
   "cell_type": "code",
   "execution_count": null,
   "metadata": {},
   "outputs": [],
   "source": [
    "for value in rgb_colors.values():\n",
    "    print(value)"
   ]
  },
  {
   "cell_type": "markdown",
   "metadata": {},
   "source": [
    "And the `items()` method returns an iterable that contains two objects per item representing the key and value for a given pair:"
   ]
  },
  {
   "cell_type": "code",
   "execution_count": null,
   "metadata": {},
   "outputs": [],
   "source": [
    "for key, value in rgb_colors.items():\n",
    "    print(\"{:>10s}: {}\".format(key, value))"
   ]
  },
  {
   "cell_type": "markdown",
   "metadata": {
    "slideshow": {
     "slide_type": "subslide"
    }
   },
   "source": [
    "# WARNING: Dictionaries do not respect order!\n",
    "While lists, tuples, and most other iterables have a clear and predictable order, defined by the index increasing, dictionaries do not. While they will *usually* yield keys, values, or items in the order they were added, you cannot assume this to be the case.\n",
    "\n",
    "If you need to sort these, you need to do so yourself, and then iterate accordingly. So perhaps you would order by the keys by first getting a hold of `sorted(my_dict.keys())`, iterating over that, and then accessing each value in the proper order.\n",
    "\n",
    "Just be careful."
   ]
  },
  {
   "cell_type": "markdown",
   "metadata": {
    "slideshow": {
     "slide_type": "skip"
    }
   },
   "source": [
    "# Magnitude with Assertions Solution"
   ]
  },
  {
   "cell_type": "code",
   "execution_count": null,
   "metadata": {
    "slideshow": {
     "slide_type": "skip"
    }
   },
   "outputs": [],
   "source": [
    "def magnitude(x, y, z=0):\n",
    "    \"\"\"Magnitude of a cartesian vector.\"\"\"\n",
    "    assert type(x) in (int, float), \"Invalid type for x: {}\".format(type(x))\n",
    "    assert type(y) in (int, float), \"Invalid type for y: {}\".format(type(y))\n",
    "    assert type(z) in (int, float), \"Invalid type for z: {}\".format(type(z))\n",
    "    return (x * x + y * y + z * z)**0.5"
   ]
  },
  {
   "cell_type": "markdown",
   "metadata": {
    "slideshow": {
     "slide_type": "skip"
    }
   },
   "source": [
    "# Challenge: Name Dictionaries (SOLUTION)\n",
    "Create a **list** that has two **dictionaries** in it. Each of the two dictionaries should have two keys, `'first'` and `'last'`, and the values should be the first and last names of the two people at your table. If you are working alone, have the second dictionary contain the names of a celebrity of your choosing."
   ]
  },
  {
   "cell_type": "code",
   "execution_count": null,
   "metadata": {
    "slideshow": {
     "slide_type": "skip"
    }
   },
   "outputs": [],
   "source": [
    "partners = [{'first': 'Bill', 'last': 'Wolf'}, {'first': 'Lyle', 'last': 'Ford'}]\n",
    "partners"
   ]
  },
  {
   "cell_type": "markdown",
   "metadata": {
    "slideshow": {
     "slide_type": "skip"
    }
   },
   "source": [
    "# Challenge: Alphabet Dictionary (SOLUTION)\n",
    "Using a range, the `zip` function, and the `alphabet` string provided, construct a dictionary that maps letters (keys) to numbers (values) in alphabetical order. Let \"A\" corresponding to 1 and \"Z\" correspond to 26."
   ]
  },
  {
   "cell_type": "code",
   "execution_count": null,
   "metadata": {
    "slideshow": {
     "slide_type": "skip"
    }
   },
   "outputs": [],
   "source": [
    "alphabet = \"ABCDEFGHIJKLMNOPQRSTUVWXYZ\"\n",
    "dict(zip(alphabet, range(1, len(alphabet) + 1)))"
   ]
  }
 ],
 "metadata": {
  "celltoolbar": "Slideshow",
  "kernelspec": {
   "display_name": "Python 3 (ipykernel)",
   "language": "python",
   "name": "python3"
  },
  "language_info": {
   "codemirror_mode": {
    "name": "ipython",
    "version": 3
   },
   "file_extension": ".py",
   "mimetype": "text/x-python",
   "name": "python",
   "nbconvert_exporter": "python",
   "pygments_lexer": "ipython3",
   "version": "3.8.11"
  },
  "rise": {
   "theme": "solarized",
   "transition": "fade"
  }
 },
 "nbformat": 4,
 "nbformat_minor": 4
}
