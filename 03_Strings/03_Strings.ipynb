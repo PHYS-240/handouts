{
 "cells": [
  {
   "cell_type": "markdown",
   "metadata": {
    "cell_style": "center",
    "slideshow": {
     "slide_type": "slide"
    }
   },
   "source": [
    "# Python Objects I: Strings <em style=\"color: Gray;\">(Hill 2.3)<em>\n",
    "### PHYS 291, Spring 2021\n",
    "### Dr. Wolf"
   ]
  },
  {
   "cell_type": "markdown",
   "metadata": {
    "slideshow": {
     "slide_type": "slide"
    }
   },
   "source": [
    "# Strings are Python objects that encode text\n",
    "- No numerical value whatsoever (though number-like text can be converted to integers, floats, etc.)\n",
    "- Examples:\n",
    "    - a password\n",
    "    - your full name\n",
    "    - the entire text of Moby Dick\n",
    "    "
   ]
  },
  {
   "cell_type": "markdown",
   "metadata": {
    "slideshow": {
     "slide_type": "subslide"
    }
   },
   "source": [
    "# Basics: Literals for Strings\n",
    "\n",
    "We can use either single quotes: `'Hello, World'` or double quotes: `\"Hello World\"`. **There is no difference.** Pick one and stick to it unless you have a good reason to switch.\n",
    "\n",
    "Example: what if a piece of text has the string delimiter in it?"
   ]
  },
  {
   "cell_type": "code",
   "execution_count": 1,
   "metadata": {
    "slideshow": {
     "slide_type": "-"
    }
   },
   "outputs": [
    {
     "ename": "SyntaxError",
     "evalue": "invalid syntax (<ipython-input-1-b347662f2e1c>, line 1)",
     "output_type": "error",
     "traceback": [
      "\u001b[0;36m  File \u001b[0;32m\"<ipython-input-1-b347662f2e1c>\"\u001b[0;36m, line \u001b[0;32m1\u001b[0m\n\u001b[0;31m    'Dr. Wolf isn't very good at this'\u001b[0m\n\u001b[0m                  ^\u001b[0m\n\u001b[0;31mSyntaxError\u001b[0m\u001b[0;31m:\u001b[0m invalid syntax\n"
     ]
    }
   ],
   "source": [
    "'Dr. Wolf isn't very good at this'"
   ]
  },
  {
   "cell_type": "markdown",
   "metadata": {
    "slideshow": {
     "slide_type": "subslide"
    }
   },
   "source": [
    "# Basics: Concatenating Strings\n",
    "**Concatentation** is the act of bringing two or more strings together into a new, combined string.\n",
    "\n",
    "To concatenate, we can simply use the `+` operator between string literals/variables."
   ]
  },
  {
   "cell_type": "code",
   "execution_count": 3,
   "metadata": {},
   "outputs": [
    {
     "data": {
      "text/plain": [
       "'William Wolf'"
      ]
     },
     "execution_count": 3,
     "metadata": {},
     "output_type": "execute_result"
    }
   ],
   "source": [
    "first = 'William'\n",
    "last = 'Wolf'\n",
    "full = first + ' ' + last\n",
    "full"
   ]
  },
  {
   "cell_type": "markdown",
   "metadata": {
    "slideshow": {
     "slide_type": "slide"
    }
   },
   "source": [
    "# Escape Sequences\n",
    "Many characters do not appear on your keyboard (like µ or Ω) or may be difficult to decipher (four spaces or a tab?). **Escape Sequences** are special combinations of characters that Python will interpret as a special character.\n",
    "\n",
    "Escape sequences always start with a backslash (`\\`; same symbol used for most $\\rm\\LaTeX$ commands).\n",
    "\n",
    "Most common and basic escape sequences:\n",
    "- single quote: `\\'` (works even in a single-quote-delimited string)\n",
    "- double quote: `\\\"` (works even in a double-quote-delimited string)\n",
    "- linefeed (or newline): `\\n` (creates a new line in the text)\n",
    "- tab: `\\t`\n",
    "- backspace; `\\b`\n",
    "- the backslash character: `\\\\`"
   ]
  },
  {
   "cell_type": "markdown",
   "metadata": {
    "slideshow": {
     "slide_type": "subslide"
    }
   },
   "source": [
    "# Escape Sequence Example\n",
    "Let's create a literal that replicates this grocery list. Items are set off by tabs.\n",
    "```\n",
    "Bill's Grocery List\n",
    "    - Diet Coke\n",
    "    - Newfangled \"Lady Gaga\" Oreos\n",
    "```\n",
    "\n",
    "Note, to render to the screen properly, we need to use the `print` function to make the string appear properly. You'll explore this more in lab."
   ]
  },
  {
   "cell_type": "code",
   "execution_count": null,
   "metadata": {},
   "outputs": [],
   "source": []
  },
  {
   "cell_type": "markdown",
   "metadata": {
    "slideshow": {
     "slide_type": "subslide"
    }
   },
   "source": [
    "# Unicode Strings\n",
    "**Unicode** is a standard that allows displaying more than 100,000 different characters (asian languages, special accents, and even our beloved emoji) from all over the world. Essentially it is a mapping from binary numbers to what a computer screen should display.\n",
    "\n",
    "### Using `\\u` and `\\N`\n",
    "If you know the 16- or 32- bit hex (hexadecimal) value, simply use `\\u` *immediately* follwed by the code. Or, if you know the official unicode name, you can use `\\N{}`, and put the name in all caps inside the curly brackets.\n",
    "\n",
    "The internet is your friend in finding these special names, or you can copy and paste characters in manually."
   ]
  },
  {
   "cell_type": "code",
   "execution_count": 26,
   "metadata": {},
   "outputs": [
    {
     "name": "stdout",
     "output_type": "stream",
     "text": [
      "⛄\n",
      "🥶\n"
     ]
    }
   ],
   "source": [
    "print('\\u26C4')\n",
    "print('\\N{FREEZING FACE}')"
   ]
  },
  {
   "cell_type": "markdown",
   "metadata": {
    "slideshow": {
     "slide_type": "subslide"
    }
   },
   "source": [
    "# Escaping from Escape Sequences: Raw Strings\n",
    "If you want to render a string EXACTLY as you typed it, without interpreting any escpae sequences, you can use a **raw string**. To indicate a literal as a raw string, append the letter \"r\" directly in front of the opening quotation mark."
   ]
  },
  {
   "cell_type": "code",
   "execution_count": 5,
   "metadata": {},
   "outputs": [
    {
     "name": "stdout",
     "output_type": "stream",
     "text": [
      "The code for a freezing face (🥶) is \\N{FREEZING FACE}\n"
     ]
    }
   ],
   "source": [
    "print(\"The code for a freezing face (\\N{FREEZING FACE}) is \" + r'\\N{FREEZING FACE}')"
   ]
  },
  {
   "cell_type": "markdown",
   "metadata": {
    "slideshow": {
     "slide_type": "slide"
    }
   },
   "source": [
    "# Indexing and Slicing\n",
    "To get at individual characters or sequences of characters in a string, we can **slice** the string using **indexes**. First let's focus on getting at individual characters.\n",
    "\n",
    "## Getting a single character\n",
    "Imagine that each character in a string occupies a slot that is labeled by an index. The very first slot is labeled \"0\", the next by \"1\", and so on. So the string `PHYS 291` would be organized thusly:\n",
    "\n",
    "```\n",
    "characters: P|H|Y|S| |2|9|1\n",
    "indexes:    0|1|2|3|4|5|6|7\n",
    "```\n",
    "To retrieve the character located at some index, we add square brackets containing an integer literal or variable to the end of a string literal or variable."
   ]
  },
  {
   "cell_type": "code",
   "execution_count": 6,
   "metadata": {},
   "outputs": [
    {
     "data": {
      "text/plain": [
       "'S'"
      ]
     },
     "execution_count": 6,
     "metadata": {},
     "output_type": "execute_result"
    }
   ],
   "source": [
    "course = 'PHYS 291'\n",
    "course[3]"
   ]
  },
  {
   "cell_type": "markdown",
   "metadata": {
    "slideshow": {
     "slide_type": "subslide"
    }
   },
   "source": [
    "# Indexing and Slicing\n",
    "## Getting the last character\n",
    "We can get at characters from the end of a string, too. The last character can be referenced as –1. The one before it is at position –2, etc. So in reality, each character has two valid indexes."
   ]
  },
  {
   "cell_type": "code",
   "execution_count": 7,
   "metadata": {},
   "outputs": [
    {
     "data": {
      "text/plain": [
       "'9'"
      ]
     },
     "execution_count": 7,
     "metadata": {},
     "output_type": "execute_result"
    }
   ],
   "source": [
    "course[-2]"
   ]
  },
  {
   "cell_type": "markdown",
   "metadata": {
    "slideshow": {
     "slide_type": "subslide"
    }
   },
   "source": [
    "# Indexing and Slicing\n",
    "## Getting a substring\n",
    "We can **slice** a string by providing two indices, producing a **substring**. The first one indicates where we want to start taking characters, and the second indicates the first character that we **don't** want. These two characters are placed in square brackets and delimited by a colon."
   ]
  },
  {
   "cell_type": "code",
   "execution_count": 34,
   "metadata": {},
   "outputs": [
    {
     "name": "stdout",
     "output_type": "stream",
     "text": [
      "PHYS\n"
     ]
    }
   ],
   "source": [
    "print(course[0:4])"
   ]
  },
  {
   "cell_type": "markdown",
   "metadata": {
    "slideshow": {
     "slide_type": "fragment"
    }
   },
   "source": [
    "If you leave off the first index (and start with a colon), the substring is assumed to start from the beginning, and if you leave off the second one, it is assumed to go on until it runs out of characters."
   ]
  },
  {
   "cell_type": "code",
   "execution_count": 8,
   "metadata": {},
   "outputs": [
    {
     "name": "stdout",
     "output_type": "stream",
     "text": [
      "PHYS\n",
      "291\n"
     ]
    }
   ],
   "source": [
    "print(course[:4])\n",
    "print(course[-3:])"
   ]
  },
  {
   "cell_type": "markdown",
   "metadata": {
    "slideshow": {
     "slide_type": "slide"
    }
   },
   "source": [
    "# Indexing and Slicing\n",
    "## Setting the stride\n",
    "A third, optional, number in the list of indices for a slice sets the **stride**. The stride says, \"take every n<sup>th</sup> character\", where n is the stride. By default, it is 1. Notably, passing a stride of -1 will walk the string backwards."
   ]
  },
  {
   "cell_type": "code",
   "execution_count": 9,
   "metadata": {},
   "outputs": [
    {
     "name": "stdout",
     "output_type": "stream",
     "text": [
      "HS21\n",
      "192 SYHP\n"
     ]
    }
   ],
   "source": [
    "# every second character, starting at the one at index 1\n",
    "print(course[1::2])\n",
    "# all characters, but in reverse order\n",
    "print(course[::-1])"
   ]
  },
  {
   "cell_type": "markdown",
   "metadata": {
    "slideshow": {
     "slide_type": "subslide"
    }
   },
   "source": [
    "# Indexing and Slicing\n",
    "### Determining if a substring is in a string\n",
    "You can check for the inclusion of a substring within a string using the python keyword `in`."
   ]
  },
  {
   "cell_type": "code",
   "execution_count": 10,
   "metadata": {},
   "outputs": [
    {
     "data": {
      "text/plain": [
       "True"
      ]
     },
     "execution_count": 10,
     "metadata": {},
     "output_type": "execute_result"
    }
   ],
   "source": [
    "'PHYS' in course"
   ]
  },
  {
   "cell_type": "markdown",
   "metadata": {},
   "source": [
    "It returns a boolean, indicating if any contiguous substring of the string is equal to the one being checked for."
   ]
  },
  {
   "cell_type": "markdown",
   "metadata": {
    "slideshow": {
     "slide_type": "subslide"
    }
   },
   "source": [
    "# Getting the Length of a String\n",
    "We can use python's built-in `len` function, which computes the lengths of many things (we'll use it more later on other objects."
   ]
  },
  {
   "cell_type": "code",
   "execution_count": 12,
   "metadata": {},
   "outputs": [
    {
     "data": {
      "text/plain": [
       "8"
      ]
     },
     "execution_count": 12,
     "metadata": {},
     "output_type": "execute_result"
    }
   ],
   "source": [
    "len(course)"
   ]
  },
  {
   "cell_type": "code",
   "execution_count": 14,
   "metadata": {},
   "outputs": [
    {
     "name": "stdout",
     "output_type": "stream",
     "text": [
      "\"PHYS 291\" has 8 characters.\n"
     ]
    }
   ],
   "source": [
    "# we can cast integers to strings using the `str` constructor method\n",
    "# but we'll have more robust ways to convert numbers to strings later\n",
    "print('\"' + course + '\" has ' + str(len(course)) + ' characters.')"
   ]
  },
  {
   "cell_type": "markdown",
   "metadata": {
    "slideshow": {
     "slide_type": "fragment"
    }
   },
   "source": [
    " It is **not** a method of strings (we'll deal with those later)."
   ]
  },
  {
   "cell_type": "code",
   "execution_count": 1,
   "metadata": {},
   "outputs": [
    {
     "ename": "AttributeError",
     "evalue": "'str' object has no attribute 'len'",
     "output_type": "error",
     "traceback": [
      "\u001b[0;31m---------------------------------------------------------------------------\u001b[0m",
      "\u001b[0;31mAttributeError\u001b[0m                            Traceback (most recent call last)",
      "\u001b[0;32m<ipython-input-1-3ca41ee177c8>\u001b[0m in \u001b[0;36m<module>\u001b[0;34m\u001b[0m\n\u001b[0;32m----> 1\u001b[0;31m \u001b[0;34m'PHYS 291'\u001b[0m\u001b[0;34m.\u001b[0m\u001b[0mlen\u001b[0m\u001b[0;34m(\u001b[0m\u001b[0;34m)\u001b[0m\u001b[0;34m\u001b[0m\u001b[0;34m\u001b[0m\u001b[0m\n\u001b[0m",
      "\u001b[0;31mAttributeError\u001b[0m: 'str' object has no attribute 'len'"
     ]
    }
   ],
   "source": [
    "'PHYS 291'.len()"
   ]
  },
  {
   "cell_type": "markdown",
   "metadata": {
    "slideshow": {
     "slide_type": "slide"
    }
   },
   "source": [
    "# String Methods\n",
    "Strings, unlike numbers, have a large number of useful **methods**. Remember, methods are little functions that are attached to string objects that perform various useful features. We'll go over a few important ones, but you should look at Table 2.11 in Hill for more examples.\n",
    "\n",
    "## `center(width)`\n",
    "Create a new string that contains the original string, but padding it with whitespace on either side so it is centered and of a fixed width."
   ]
  },
  {
   "cell_type": "code",
   "execution_count": 43,
   "metadata": {},
   "outputs": [
    {
     "data": {
      "text/plain": [
       "'      PHYS 291      '"
      ]
     },
     "execution_count": 43,
     "metadata": {},
     "output_type": "execute_result"
    }
   ],
   "source": [
    "course.center(20)"
   ]
  },
  {
   "cell_type": "markdown",
   "metadata": {
    "slideshow": {
     "slide_type": "subslide"
    }
   },
   "source": [
    "# String Methods\n",
    "## `strip([chars])`\n",
    "With no arguments, will remove all whitespace on either side of a string. If characters are given as a single string as an argument, those character will be removed from the returned string if they are at the beginning or end."
   ]
  },
  {
   "cell_type": "code",
   "execution_count": 15,
   "metadata": {},
   "outputs": [
    {
     "data": {
      "text/plain": [
       "'PHYS 291'"
      ]
     },
     "execution_count": 15,
     "metadata": {},
     "output_type": "execute_result"
    }
   ],
   "source": [
    "# new concept: method chaining! calling center returns a new string, which we can then immediately call methods like strip on\n",
    "course.center(20).strip()"
   ]
  },
  {
   "cell_type": "code",
   "execution_count": 16,
   "metadata": {},
   "outputs": [
    {
     "data": {
      "text/plain": [
       "'HYS 29'"
      ]
     },
     "execution_count": 16,
     "metadata": {},
     "output_type": "execute_result"
    }
   ],
   "source": [
    "course.strip('P1')"
   ]
  },
  {
   "cell_type": "markdown",
   "metadata": {
    "slideshow": {
     "slide_type": "subslide"
    }
   },
   "source": [
    "# String Methods\n",
    "## `index(substring)`\n",
    "Return index where a substring (possibly a single character) **first begins**. Raises an error if the substring isn't found (be careful!)."
   ]
  },
  {
   "cell_type": "code",
   "execution_count": 17,
   "metadata": {},
   "outputs": [
    {
     "data": {
      "text/plain": [
       "5"
      ]
     },
     "execution_count": 17,
     "metadata": {},
     "output_type": "execute_result"
    }
   ],
   "source": [
    "course.index('291')"
   ]
  },
  {
   "cell_type": "code",
   "execution_count": 18,
   "metadata": {},
   "outputs": [
    {
     "ename": "ValueError",
     "evalue": "substring not found",
     "output_type": "error",
     "traceback": [
      "\u001b[0;31m---------------------------------------------------------------------------\u001b[0m",
      "\u001b[0;31mValueError\u001b[0m                                Traceback (most recent call last)",
      "\u001b[0;32m<ipython-input-18-76966ecc8a66>\u001b[0m in \u001b[0;36m<module>\u001b[0;34m\u001b[0m\n\u001b[0;32m----> 1\u001b[0;31m \u001b[0mcourse\u001b[0m\u001b[0;34m.\u001b[0m\u001b[0mindex\u001b[0m\u001b[0;34m(\u001b[0m\u001b[0;34m'not gonna happen'\u001b[0m\u001b[0;34m)\u001b[0m\u001b[0;34m\u001b[0m\u001b[0;34m\u001b[0m\u001b[0m\n\u001b[0m",
      "\u001b[0;31mValueError\u001b[0m: substring not found"
     ]
    }
   ],
   "source": [
    "course.index('not gonna happen')"
   ]
  },
  {
   "cell_type": "markdown",
   "metadata": {
    "slideshow": {
     "slide_type": "subslide"
    }
   },
   "source": [
    "# String Methods\n",
    "## `replace(old, new)`\n",
    "Replaces every instance of a particular substring with a new one."
   ]
  },
  {
   "cell_type": "code",
   "execution_count": 19,
   "metadata": {},
   "outputs": [
    {
     "data": {
      "text/plain": [
       "'Professor Wolf is a terrific professor doing a terrific job.'"
      ]
     },
     "execution_count": 19,
     "metadata": {},
     "output_type": "execute_result"
    }
   ],
   "source": [
    "'Professor Wolf is a terrible professor doing a terrible job.'.replace('terrible', 'terrific')"
   ]
  },
  {
   "cell_type": "markdown",
   "metadata": {
    "slideshow": {
     "slide_type": "slide"
    }
   },
   "source": [
    "# Advanced Usage of  `print`\n",
    "What does `print` really do? In short, it converts its argument to a string (or fails in trying) and then displays it to the screen, interpreting any escape codes as needed, ultimately returning `None`.\n",
    "\n",
    "But it also has some other tricks up its sleeve.\n",
    "\n",
    "## Printing multiple objects\n",
    "By providing multiple arguments that are comma-separated, you can print multiple strings in one command."
   ]
  },
  {
   "cell_type": "code",
   "execution_count": 20,
   "metadata": {},
   "outputs": [
    {
     "name": "stdout",
     "output_type": "stream",
     "text": [
      "The Power of [AND]\n"
     ]
    }
   ],
   "source": [
    "print('The', 'Power', 'of', '[AND]')"
   ]
  },
  {
   "cell_type": "markdown",
   "metadata": {
    "slideshow": {
     "slide_type": "subslide"
    }
   },
   "source": [
    "# Using `print`: Changing the Separation String\n",
    "When printing multiple strings, default behavior is to separate the strings by spaces. We can customize this by using the optional **keyword argument** `sep`.\n",
    "\n",
    "A keyword argument is an argument given near the end of a function call that has the format `KEYWORD=VALUE` where `KEYWORD` is the special name of the argument, and `VALUE` is the actual value."
   ]
  },
  {
   "cell_type": "code",
   "execution_count": 21,
   "metadata": {},
   "outputs": [
    {
     "name": "stdout",
     "output_type": "stream",
     "text": [
      "The\n",
      "Power\n",
      "of\n",
      "[AND]\n"
     ]
    }
   ],
   "source": [
    "print('The', 'Power', 'of', '[AND]', sep=\"\\n\")"
   ]
  },
  {
   "cell_type": "markdown",
   "metadata": {},
   "source": [
    "Note that last argument is the keyword argument. This order is important! Keyword arguments must always go at the end of a function call."
   ]
  },
  {
   "cell_type": "markdown",
   "metadata": {
    "slideshow": {
     "slide_type": "subslide"
    }
   },
   "source": [
    "# Using `print`: Changing the Termination String\n",
    "You might not notice it, but `print` automatically ends a newline (`\"\\n\"`) to the end of every sequence of strings passed to it. That is, subsequent calls to `print` will result in text appearing on a newline.\n",
    "\n",
    "We can customize what character, if any, is added to the end of a call to `print` by using the `end` keyword argument."
   ]
  },
  {
   "cell_type": "code",
   "execution_count": 23,
   "metadata": {},
   "outputs": [
    {
     "name": "stdout",
     "output_type": "stream",
     "text": [
      "ThePower of [AND]"
     ]
    }
   ],
   "source": [
    "# add nothing to end of string\n",
    "print('The', end='')\n",
    "# add a single space after printing the string\n",
    "print('Power', end=' ')\n",
    "# add a space and an opening square bracket\n",
    "print('of', end=' [')\n",
    "# add closing square bracket\n",
    "print('AND', end=']')"
   ]
  },
  {
   "cell_type": "markdown",
   "metadata": {
    "slideshow": {
     "slide_type": "slide"
    }
   },
   "source": [
    "# Formatting Strings\n",
    "The `format` method of python strings allows for fine control over how a data should be **interpolated** (or turned into a string). Most important application for us: formatting numbers (How to do scientific notation? How many digits of precision?).\n",
    "\n",
    "Here's how it works in its simplest form.\n",
    "- Create a string with one or more pairs of curly braces in it. Within the curly braces, optionally embed **format codes**, which python uses to format strings.\n",
    "- Call that string's `format` method, and provide a series of arguments, one for each pair of curly braces.\n",
    "- Python then converts each argument passed to `format` into its corresponding pair of curly braces according to the format string present in those curly braces."
   ]
  },
  {
   "cell_type": "markdown",
   "metadata": {
    "slideshow": {
     "slide_type": "subslide"
    }
   },
   "source": [
    "# Formatting Strings Example: Simple Interpolation\n",
    "Suppose we have several string variables that we simply want to insert into a template string."
   ]
  },
  {
   "cell_type": "code",
   "execution_count": 25,
   "metadata": {},
   "outputs": [
    {
     "name": "stdout",
     "output_type": "stream",
     "text": [
      "Hello, Ben Bitdiddle, and welcome to PHYS 291\n"
     ]
    }
   ],
   "source": [
    "student = 'Ben Bitdiddle'\n",
    "course = 'PHYS 291'\n",
    "print('Hello, {}, and welcome to {}'.format(student, course))"
   ]
  },
  {
   "cell_type": "markdown",
   "metadata": {
    "slideshow": {
     "slide_type": "fragment"
    }
   },
   "source": [
    "The curly braces represent where the arguments to `format` should be inserted. You can also get fancy with specifying *which* arguments you want to use by inserting the index (starting at zero) of the argument to insert within the curly braces."
   ]
  },
  {
   "cell_type": "code",
   "execution_count": 27,
   "metadata": {},
   "outputs": [
    {
     "name": "stdout",
     "output_type": "stream",
     "text": [
      "Welcome to Bill Wolf's class, where the one and only Bill Wolf will teach you to code just as professionally as Bill Wolf does!\n"
     ]
    }
   ],
   "source": [
    "print('Welcome to {0}\\'s class, where the one and only {0} will teach you to code just as professionally as {0} does!'.format('Bill Wolf'))"
   ]
  },
  {
   "cell_type": "markdown",
   "metadata": {
    "slideshow": {
     "slide_type": "subslide"
    }
   },
   "source": [
    "# Formatting Strings Example: Centering a String"
   ]
  },
  {
   "cell_type": "code",
   "execution_count": 7,
   "metadata": {},
   "outputs": [
    {
     "data": {
      "text/plain": [
       "'           The Power of [AND]           '"
      ]
     },
     "execution_count": 7,
     "metadata": {},
     "output_type": "execute_result"
    }
   ],
   "source": [
    "'{:^40}'.format('The Power of [AND]')"
   ]
  },
  {
   "cell_type": "markdown",
   "metadata": {},
   "source": [
    "Let's break this down.\n",
    "- Main string: `'{:^40}'`. This string is JUST a format code. Format codes start with a colon, and the interesting part is `^40`. This means, center the string (`^`) and make it 40 characters wide.\n",
    "- We call the `format` method, which seeks out curly brace pairs, and then applies the format code in each to the corresponding argument\n",
    "- Argument list: `'The Power of [AND]'`. This is the object (in this case, another string) that is to be formatted. It has the format code applied to it, and appears as the centered version of itself in the output."
   ]
  },
  {
   "cell_type": "markdown",
   "metadata": {
    "slideshow": {
     "slide_type": "subslide"
    }
   },
   "source": [
    "# Formatting numbers"
   ]
  },
  {
   "cell_type": "code",
   "execution_count": 8,
   "metadata": {},
   "outputs": [
    {
     "data": {
      "text/plain": [
       "\"The square root of 2 is 1.414 and Avogadro's number is 6.02e+00.\""
      ]
     },
     "execution_count": 8,
     "metadata": {},
     "output_type": "execute_result"
    }
   ],
   "source": [
    "\"The square root of 2 is {:.3f} and Avogadro's number is {:.2e}.\".format(2**(1/2), 6.0221415)"
   ]
  },
  {
   "cell_type": "markdown",
   "metadata": {
    "slideshow": {
     "slide_type": "-"
    }
   },
   "source": [
    "Here we have a more interesting base string that has two format codes embedded in it.\n",
    "\n",
    "1. standard (i.e. not scientific notation) floating point number with three places after the decimal point\n",
    "2. scientific notation with a lower case \"e\" separating the mantissa from the power of 10 and two numbers after the decimal point"
   ]
  },
  {
   "cell_type": "markdown",
   "metadata": {
    "slideshow": {
     "slide_type": "subslide"
    }
   },
   "source": [
    "# Format code details (paraphrased from [realpython](https://realpython.com/python-formatted-output/#the-format_spec-component))\n",
    "\n",
    "General structure of a format code:\n",
    "\n",
    "```\n",
    ":[[<fill>]<align>][<sign>][#][0][<width>][<group>][.<prec>][<type>]\n",
    "```\n",
    "| Component | Description |\n",
    "|:---------:|:------------|\n",
    "|`fill` |What to pad extra characters with|\n",
    "|`align`|left, right, or center align|\n",
    "|`sign` |Whether or not to always provide an explicit sign|\n",
    "|`#`|Whether to use alternate format (special)|\n",
    "|`0`|Whether to pad extra spaces with zeros|\n",
    "|`width`|Minimum width of formatted string|\n",
    "|`group`|Character to use as a thousands separator|\n",
    "|`.prec`|How many digits after the decimal place to display|\n",
    "|`type`|Broad type of data to be distributed|\n",
    "\n",
    "**Most** are optional, but too many to go over! We'll look at the most important: type, width, precision."
   ]
  },
  {
   "cell_type": "markdown",
   "metadata": {
    "slideshow": {
     "slide_type": "subslide"
    }
   },
   "source": [
    "# Format Codes: types\n",
    "| Value | Presentation Type | Example |\n",
    "|:------|:------------------|:-------:|\n",
    "|`b`    |Binary integer     |`'{:b}'.format(15) => '1111'` |\n",
    "|`c`    |Single character   |`'{:c}'.format(65) => 'A'`|\n",
    "|`d`    |Decimal integer    |`'{:d}'.format(1_000) => '1000'`|\n",
    "|`e` or `E`|Exponential     |`'{:E}'.format(6.02e23) => '6.020000E+23'`|\n",
    "|`f` or `F`|Floating Point  |`'{:f}'.format(1.34e-5) => '0.0000134'`|\n",
    "|`g` or `G`| Floating point/Exponential|`'{:g}.format(1.34e-5) => '1.34e-5'`|\n",
    "|`o`    |Octal integer      |`'{:o}'.format(17) => '21'`|\n",
    "|`s`    |String             |`'{:s}'.format('Hello!') => 'Hello!'`|\n",
    "|`x` or `X`| Hexadecimal integer|`'{:X}'.format(28) => '1C'`|\n",
    "|`%`    |Percentage|`'{:%}'.format(0.0249) => '2.490000%'`|"
   ]
  },
  {
   "cell_type": "code",
   "execution_count": null,
   "metadata": {},
   "outputs": [],
   "source": []
  },
  {
   "cell_type": "markdown",
   "metadata": {
    "slideshow": {
     "slide_type": "subslide"
    }
   },
   "source": [
    "# Format Codes: width\n",
    "What is the **minimum** number of characters wide for the output string?"
   ]
  },
  {
   "cell_type": "code",
   "execution_count": 32,
   "metadata": {},
   "outputs": [
    {
     "data": {
      "text/plain": [
       "'  10'"
      ]
     },
     "execution_count": 32,
     "metadata": {},
     "output_type": "execute_result"
    }
   ],
   "source": [
    "# decimal integer is only 2 characters wide, but we force the string to be four wide\n",
    "'{:4d}'.format(10)"
   ]
  },
  {
   "cell_type": "markdown",
   "metadata": {
    "slideshow": {
     "slide_type": "fragment"
    }
   },
   "source": [
    "Combine with an alignment for nice effect!"
   ]
  },
  {
   "cell_type": "code",
   "execution_count": 36,
   "metadata": {},
   "outputs": [
    {
     "data": {
      "text/plain": [
       "'         10         '"
      ]
     },
     "execution_count": 36,
     "metadata": {},
     "output_type": "execute_result"
    }
   ],
   "source": [
    "'{:^20d}'.format(10)"
   ]
  },
  {
   "cell_type": "markdown",
   "metadata": {
    "slideshow": {
     "slide_type": "subslide"
    }
   },
   "source": [
    "# Format Codes: precision\n",
    "For floating point numbers, precision goes **after the width**, (if you provide one) and a period, but **before the type** (one of `f/F`, `g/G`, `e/E`, or `%`."
   ]
  },
  {
   "cell_type": "code",
   "execution_count": 28,
   "metadata": {},
   "outputs": [
    {
     "data": {
      "text/plain": [
       "'           6.022e+23'"
      ]
     },
     "execution_count": 28,
     "metadata": {},
     "output_type": "execute_result"
    }
   ],
   "source": [
    "'{:20.4g}'.format(6.02214076e23)"
   ]
  },
  {
   "cell_type": "code",
   "execution_count": 29,
   "metadata": {},
   "outputs": [
    {
     "data": {
      "text/plain": [
       "'77.34%'"
      ]
     },
     "execution_count": 29,
     "metadata": {},
     "output_type": "execute_result"
    }
   ],
   "source": [
    "'{:.2%}'.format(0.7733529)"
   ]
  }
 ],
 "metadata": {
  "celltoolbar": "Slideshow",
  "kernelspec": {
   "display_name": "Python 3",
   "language": "python",
   "name": "python3"
  },
  "language_info": {
   "codemirror_mode": {
    "name": "ipython",
    "version": 3
   },
   "file_extension": ".py",
   "mimetype": "text/x-python",
   "name": "python",
   "nbconvert_exporter": "python",
   "pygments_lexer": "ipython3",
   "version": "3.7.3"
  },
  "rise": {
   "theme": "solarized",
   "transition": "fade"
  }
 },
 "nbformat": 4,
 "nbformat_minor": 4
}
