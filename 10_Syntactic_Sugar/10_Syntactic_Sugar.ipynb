{
 "cells": [
  {
   "cell_type": "markdown",
   "metadata": {
    "nbgrader": {
     "grade": false,
     "grade_id": "cell-5c081c1c48b5095c",
     "locked": true,
     "schema_version": 3,
     "solution": false,
     "task": false
    },
    "slideshow": {
     "slide_type": "slide"
    }
   },
   "source": [
    "---\n",
    "# Syntactic Sugar"
   ]
  },
  {
   "cell_type": "markdown",
   "metadata": {
    "slideshow": {
     "slide_type": "slide"
    }
   },
   "source": [
    "# What is Syntactic Sugar?\n",
    "Sometimes used as  a derogatory term by stuffy types, **syntactic sugar** refers to features of a programming language that make more verbose actions quicker and slicker. You may have already been using one of these techniques, known as **augmented assignment**.\n",
    "\n",
    "Compare the following two cells, which do *exactly* the same thing. You'll explore this feature in more detail in your lab."
   ]
  },
  {
   "cell_type": "code",
   "execution_count": null,
   "metadata": {},
   "outputs": [],
   "source": [
    "x = 1\n",
    "x = x + 2\n",
    "x"
   ]
  },
  {
   "cell_type": "code",
   "execution_count": null,
   "metadata": {},
   "outputs": [],
   "source": [
    "x = 1\n",
    "x += 2\n",
    "x"
   ]
  },
  {
   "cell_type": "markdown",
   "metadata": {
    "slideshow": {
     "slide_type": "slide"
    }
   },
   "source": [
    "# List Comprehensions: Creating Lists from Tuples\n",
    "We've seen many times when we want to start from an iterable containing data (suppose a bunch of $x$ values), and wish to create a new iterable using those values (suppose, some function evaluated at all of those $x$ values). We've seen that pylab/numpy arrays can make this a lot simpler, but for non-numerical data or more complicated operations that cannot be vectorized.\n",
    "\n",
    "For simple operations, a **list comprehension** can be an efficient way to quickly synthesize a list from another iterable. Consider the two following equivalent cells."
   ]
  },
  {
   "cell_type": "code",
   "execution_count": null,
   "metadata": {},
   "outputs": [],
   "source": [
    "squares = []\n",
    "for i in range(10):\n",
    "    squares.append(i**2)\n",
    "squares"
   ]
  },
  {
   "cell_type": "code",
   "execution_count": null,
   "metadata": {},
   "outputs": [],
   "source": [
    "squares = [i**2 for i in range(10)]\n",
    "squares"
   ]
  },
  {
   "cell_type": "markdown",
   "metadata": {
    "slideshow": {
     "slide_type": "subslide"
    }
   },
   "source": [
    "# Conditions for List Comprehensions\n",
    "- Must have a source iterable (`for x in source` at the end of the comprehension)\n",
    "- Synthesized list will have the same length as the source iterable\n",
    "- Each element of the list to be generated must be synthesized in a **single line** of code using an element of the source iterable."
   ]
  },
  {
   "cell_type": "markdown",
   "metadata": {
    "slideshow": {
     "slide_type": "subslide"
    }
   },
   "source": [
    "# Additional Feature: Filtering in List Comprehensions\n",
    "If you only want the comprehension to \"fire\" off for certain input values, you can append an `if` test to the end of the comprehension. So to get the squares of multiples of 3 less than 20, we could do the following:"
   ]
  },
  {
   "cell_type": "code",
   "execution_count": null,
   "metadata": {},
   "outputs": [],
   "source": [
    "[x**2 for x in range(20) if x % 3 == 0]"
   ]
  },
  {
   "cell_type": "markdown",
   "metadata": {},
   "source": [
    "In fact, the filtering feature is so nifty that you can create some silly list comprehensions that do nothing to the input but filter it:"
   ]
  },
  {
   "cell_type": "code",
   "execution_count": null,
   "metadata": {},
   "outputs": [],
   "source": [
    "# get numbers that are 3 more than a multiple of 4: x = 4n + 3 for some integer n\n",
    "[x for x in range(50) if (x - 3) % 4 == 0]"
   ]
  },
  {
   "cell_type": "markdown",
   "metadata": {
    "slideshow": {
     "slide_type": "subslide"
    }
   },
   "source": [
    "# Example Where List Comprehensions Won't Work\n",
    "Suppose we have a composition of functions that are each defined piecwise, like the following:\n",
    "$$f(x) = \\begin{cases}x > 0: & \\cos x \\\\ x \\leq 0: & \\exp(-x)\\end{cases}$$\n",
    "$$g(x) = \\begin{cases}x > \\frac{1}{2}: & x^2 \\\\  x \\leq \\frac{1}{2}: & x^3\\end{cases}$$\n",
    "$$h(x) = g \\circ f(x) = g(f(x))$$\n",
    "Starting with an iterable of $x$ values, it is impossible to convert it to a list of values obtained from passing those $x$ values into $h$ with a list comprehension."
   ]
  },
  {
   "cell_type": "code",
   "execution_count": null,
   "metadata": {},
   "outputs": [],
   "source": [
    "from math import cos, exp\n",
    "xs = list(range(-10, 11))\n",
    "ys = []\n",
    "for x in xs:\n",
    "    # no way to reduce this junk to a single line\n",
    "    if x > 0:\n",
    "        f = cos(x)\n",
    "    else:\n",
    "        f = exp(-x)\n",
    "    if f > 1/2:\n",
    "        ys.append(f**2)\n",
    "    else:\n",
    "        ys.append(f**3)"
   ]
  },
  {
   "cell_type": "markdown",
   "metadata": {
    "slideshow": {
     "slide_type": "slide"
    }
   },
   "source": [
    "# Lambdas are like diet functions\n",
    "Similar to how list comprehensions work as a single line for-loop that generates a new loop, a lambda is a single-line function. It doesn't even have to have a name associated with it!\n",
    "\n",
    "The following two cells do the same thing."
   ]
  },
  {
   "cell_type": "code",
   "execution_count": null,
   "metadata": {},
   "outputs": [],
   "source": [
    "def squared_plus_one(x):\n",
    "    return x**2 + 1\n",
    "\n",
    "squared_plus_one(3)"
   ]
  },
  {
   "cell_type": "code",
   "execution_count": null,
   "metadata": {},
   "outputs": [],
   "source": [
    "squared_plus_one = lambda x: x**2  + 1\n",
    "squared_plus_one(3)"
   ]
  },
  {
   "cell_type": "markdown",
   "metadata": {
    "slideshow": {
     "slide_type": "subslide"
    }
   },
   "source": [
    "# Anatomy of a lambda\n",
    "```python\n",
    "squared_plus_one = lambda x: x**2  + 1\n",
    "```\n",
    "- The name `squared_plus_one` is now a function\n",
    "- The `lambda` keyword starts the lambda. Immediately after it, we can given an arbitrary number of input variables.\n",
    "- After the list of input variables, we add a colon\n",
    "- After the colon is a single expression that is implicitly the `return` value of the function\n",
    "- **Can only have one line**"
   ]
  },
  {
   "cell_type": "markdown",
   "metadata": {
    "slideshow": {
     "slide_type": "subslide"
    }
   },
   "source": [
    "# Why use lambdas?\n",
    "- You never really *need* to use them\n",
    "- A bit quicker than a multi-line defintion for a quick one-line function that is self-explanatory\n",
    "- Very handy when you just need to pass one function in as an argument to another function, but don't really need it otherwise (next example)"
   ]
  },
  {
   "cell_type": "markdown",
   "metadata": {
    "slideshow": {
     "slide_type": "subslide"
    }
   },
   "source": [
    "# Example: Numerical Differentiation\n",
    "Below we create a function that computes a numerical derivative essentially by \"taking the limit\" of $\\frac{\\Delta f}{\\Delta x}$ over smaller and smaller windows of $\\Delta x$ until the value stops changing. The first parameter of this function *is itself a function*. Below we show usage of this function with a lambda, so that we define it right there in the call to `diff`; no need to set it up as a named function earlier."
   ]
  },
  {
   "cell_type": "code",
   "execution_count": null,
   "metadata": {},
   "outputs": [],
   "source": [
    "def diff(f, x0, tol=1e-5):\n",
    "    \"\"\"Evaluate numerical derivative of `f` at `x0`.\"\"\"\n",
    "    dx = 1\n",
    "    dfdx = (f(x0 + dx) - f(x0 - dx)) / (2 * dx)\n",
    "    diff = 2 * tol\n",
    "    while diff > tol:\n",
    "        dx /= 2\n",
    "        dfdx_old = dfdx\n",
    "        dfdx = (f(x0 + dx) - f(x0 - dx)) / (2 * dx)\n",
    "        diff = abs(dfdx - dfdx_old)\n",
    "    return dfdx\n",
    "\n",
    "# find derivative of x^2 + 3x - 1 evaluated at 5\n",
    "diff(lambda x: x**2 + 3*x - 1, 5)"
   ]
  },
  {
   "cell_type": "markdown",
   "metadata": {
    "slideshow": {
     "slide_type": "slide"
    }
   },
   "source": [
    "# A Quickie: Files and Contexts\n",
    "Whenever we open a file, we know we want to close it. The file object itself is basically ephemeral; once it is closed, it's no longer useful. Python offers a syntax that makes this more explicit, and it takes care of closing the file for us. Consider the two cells below, which do the same thing (with different file names)."
   ]
  },
  {
   "cell_type": "code",
   "execution_count": null,
   "metadata": {},
   "outputs": [],
   "source": [
    "# the old way (totally fine)\n",
    "f = open('testing.txt', 'w')\n",
    "f.write(\"I'm writing to to a file.\")\n",
    "f.close()"
   ]
  },
  {
   "cell_type": "code",
   "execution_count": null,
   "metadata": {},
   "outputs": [],
   "source": [
    "# the cleaner way\n",
    "with open('testing2.txt', 'w') as f:\n",
    "    f.write(\"I'm writing to a file\")"
   ]
  },
  {
   "cell_type": "markdown",
   "metadata": {},
   "source": [
    "The `with`...`as`...`:` setup is called a \"context\", and it shows up elsewhere in python land, usually when there is some implicit \"setup\" and \"cleanup\" process that needs to be done on either side of a block of code."
   ]
  },
  {
   "cell_type": "markdown",
   "metadata": {
    "slideshow": {
     "slide_type": "slide"
    }
   },
   "source": [
    "# `map` and `filter`: More ways to generate iterables from iterables"
   ]
  },
  {
   "cell_type": "markdown",
   "metadata": {},
   "source": [
    "The `map` function takes in a function of one variable and an iterable, applies the provided function to every element of the iterable, and returns the resulting iterable. In this way, it is very similar to a list comprehension, **except** it does not return a list. It returns a `map` object, which computes the elements as they are needed, rather than right when it was instantiated."
   ]
  },
  {
   "cell_type": "markdown",
   "metadata": {
    "slideshow": {
     "slide_type": "subslide"
    }
   },
   "source": [
    "# Example: A trillion multiples of 3: list comprehensions vs `map`\n",
    "`map` in action: it executes immediately"
   ]
  },
  {
   "cell_type": "code",
   "execution_count": null,
   "metadata": {
    "slideshow": {
     "slide_type": "-"
    }
   },
   "outputs": [],
   "source": [
    "mult_3_map = map(lambda x: 3 * x, range(1_000_000_000_000))"
   ]
  },
  {
   "cell_type": "markdown",
   "metadata": {},
   "source": [
    "And now with a list comprehension (it won't work; you'll have to stop the execution because it'll get bogged down)"
   ]
  },
  {
   "cell_type": "code",
   "execution_count": null,
   "metadata": {},
   "outputs": [],
   "source": [
    "mult_3_comp = [3 * x for x in range(1_000_000_000_000)]"
   ]
  },
  {
   "cell_type": "markdown",
   "metadata": {},
   "source": [
    "Why The difference? It's because `map` sets up an iterable that **knows how to calculate** each of its values as they are requested in another `for` loop, but it doesn't compute them all at once. You can force this behavior by casting it to a list, but at that point, you may as well have used a lit comprehension."
   ]
  },
  {
   "cell_type": "markdown",
   "metadata": {
    "slideshow": {
     "slide_type": "slide"
    }
   },
   "source": [
    "# `filter`: Grab only the elements you want from an iterable\n",
    "Simliar to `map`, `filter` takes a function and an iterable, but in this case, the function **must** return either `True` or `False`. It then returns an iterable containing only the values that cause the function to return `True`, thus filtering out the input iterable.\n",
    "\n",
    "This is again very similar to the `if` feature in list comprehension, but just like with `map`, the `filter` iterable doesn't hold all of its objects at once; it only grabs them as they are needed."
   ]
  },
  {
   "cell_type": "markdown",
   "metadata": {
    "slideshow": {
     "slide_type": "subslide"
    }
   },
   "source": [
    "# Example: Multiples of 3 under a trillion\n",
    "`filter` in action: it executes immediately"
   ]
  },
  {
   "cell_type": "code",
   "execution_count": null,
   "metadata": {
    "slideshow": {
     "slide_type": "-"
    }
   },
   "outputs": [],
   "source": [
    "mult_3_filter = filter(lambda x: x % 3 == 0, range(1_000_000_000_000))"
   ]
  },
  {
   "cell_type": "markdown",
   "metadata": {},
   "source": [
    "And the list comprehension solution, which will stall because it tries to do everything all at once (you'll need to interrupt the kernel)."
   ]
  },
  {
   "cell_type": "code",
   "execution_count": null,
   "metadata": {
    "slideshow": {
     "slide_type": ""
    }
   },
   "outputs": [],
   "source": [
    "mult_3_comp2 = [x for x in range(1_000_000_000_000) if x % 3 == 0]"
   ]
  },
  {
   "cell_type": "markdown",
   "metadata": {
    "slideshow": {
     "slide_type": "slide"
    }
   },
   "source": [
    "# List Comprehensions, `map`, and `filter`: Which Should You Use?\n",
    "- List comprehensions are usually the easiest to read\n",
    "- Other languages have features like `map` and `filter`, so you will see that from people coming in from outside python\n",
    "- The cases where `map` and `filter` are necessary are not common, but you should be aware of them"
   ]
  }
 ],
 "metadata": {
  "celltoolbar": "Slideshow",
  "kernelspec": {
   "display_name": "Python 3",
   "language": "python",
   "name": "python3"
  },
  "language_info": {
   "codemirror_mode": {
    "name": "ipython",
    "version": 3
   },
   "file_extension": ".py",
   "mimetype": "text/x-python",
   "name": "python",
   "nbconvert_exporter": "python",
   "pygments_lexer": "ipython3",
   "version": "3.7.8"
  },
  "rise": {
   "theme": "solarized",
   "transition": "fade"
  }
 },
 "nbformat": 4,
 "nbformat_minor": 4
}
