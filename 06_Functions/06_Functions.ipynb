{
 "cells": [
  {
   "cell_type": "markdown",
   "metadata": {
    "nbgrader": {
     "grade": false,
     "grade_id": "cell-5c081c1c48b5095c",
     "locked": true,
     "schema_version": 3,
     "solution": false,
     "task": false
    },
    "slideshow": {
     "slide_type": "slide"
    }
   },
   "source": [
    "---\n",
    "# Functions\n",
    "\n",
    "### PHYS 240\n",
    "### Dr. Wolf"
   ]
  },
  {
   "cell_type": "markdown",
   "metadata": {
    "editable": true,
    "slideshow": {
     "slide_type": "slide"
    },
    "tags": []
   },
   "source": [
    "# Functions are a way to reuse code efficiently\n",
    "Functions comprise a set of statements that are grouped together. These statements might make use of one or more pieces of input data (the **parameters** or **arguments** of the function). The function may also produce an output, or **return value** that can be used elsewhere.\n",
    "\n",
    "We've already been making extensive use of functions, but lets review the basics first. Consider the following usage of the built-in `abs` function:\n",
    "\n",
    "```python\n",
    "y = abs(x)\n",
    "```\n",
    "\n",
    "Here, `abs` is the function. To **call** it with an argument of `x`, we enter the name of the function followed by openening parentheses, the single input, `x`, and closing parentheses. The function then goes off and does something with the value contained in `x`, presumably computing and *returning* the absolute value of `x`. Since this value is returned, it can be \"caught\" by the variable `y` for further use."
   ]
  },
  {
   "cell_type": "markdown",
   "metadata": {
    "slideshow": {
     "slide_type": "subslide"
    }
   },
   "source": [
    "# The `def` keyword starts the definition of a function"
   ]
  },
  {
   "cell_type": "code",
   "execution_count": null,
   "metadata": {},
   "outputs": [],
   "source": [
    "def my_abs(input_var):\n",
    "    \"\"\"This is just informative text about the function, called a docstring.\"\"\"\n",
    "    if input_var < 0:\n",
    "        return -input_var\n",
    "    return input_var"
   ]
  },
  {
   "cell_type": "markdown",
   "metadata": {},
   "source": [
    "Let's look at the first line:\n",
    "```python\n",
    "def my_abs(input_var):\n",
    "```\n",
    "- `def` tells interpreter that we are defining a function\n",
    "- `my_abs` is the name of the function (standard variable name rules apply)\n",
    "- `input_var` is what we'll call this function's one and only input. It goes inside parentheses directly after the function's name.\n",
    "- Don't foget the colon at the end of the first line!\n",
    "- Function **body** is indented (just like `if`, `else`, `elif`, `while`, and `for`. Function is over once indentation ends."
   ]
  },
  {
   "cell_type": "markdown",
   "metadata": {
    "slideshow": {
     "slide_type": "subslide"
    }
   },
   "source": [
    "# The `return` keyword determines what the function evaluates to"
   ]
  },
  {
   "cell_type": "code",
   "execution_count": null,
   "metadata": {},
   "outputs": [],
   "source": [
    "def my_abs(input_var):\n",
    "    \"\"\"This is just informative text about the function, called a docstring.\"\"\"\n",
    "    if input_var < 0:\n",
    "        return -input_var\n",
    "    return input_var"
   ]
  },
  {
   "cell_type": "markdown",
   "metadata": {},
   "source": [
    "When we actually call this function, we use the function's **signature**: `my_abs(-2)`. Execution then shifts to the body of the function, but now `input_var` will be set to –2.\n",
    "\n",
    "This function has two `return` statements. In the flow of execution, whenever we hit either of them, the value after `return` is what the line that called the function evaluates to. The function exits upon hitting a `return` statement, so any indented code after the `return` statement is never executed."
   ]
  },
  {
   "cell_type": "code",
   "execution_count": null,
   "metadata": {},
   "outputs": [],
   "source": [
    "y1 = my_abs(-2)\n",
    "y2 = my_abs(3)\n",
    "y1, y2"
   ]
  },
  {
   "cell_type": "markdown",
   "metadata": {
    "slideshow": {
     "slide_type": "subslide"
    }
   },
   "source": [
    "# Why Use Functions?\n",
    "- **D**on't **R**epeat **Y**ourself (keep your code \"DRY\")\n",
    "- Make intent clear:\n",
    "```python\n",
    "mu = sum(xs) / len(xs)\n",
    "devs_2 = []\n",
    "for x in xs:\n",
    "    devs_2.append((x - mu)**2)\n",
    "sigma = sqrt(sum(devs_2) / len(devs_2))\n",
    "```\n",
    "vs\n",
    "```python\n",
    "sigma = std_dev(xs)\n",
    "```\n",
    "- Fewer transcription errors (prevent bad copies)\n",
    "- Easier to fix bugs (fix the one implementation of an algorithm)"
   ]
  },
  {
   "cell_type": "markdown",
   "metadata": {
    "slideshow": {
     "slide_type": "subslide"
    }
   },
   "source": [
    "# When Should I Use Functions?\n",
    "- Whenever you might feel like copying and pasting code but just changing one or a few variables\n",
    "- When purpose of several statements is not clear, but they constitute one distinct part in an algorithm/process\n",
    "- When other code (in the same program or elsewhere) might want to use a small piece of your program"
   ]
  },
  {
   "cell_type": "markdown",
   "metadata": {
    "slideshow": {
     "slide_type": "slide"
    }
   },
   "source": [
    "# Multiple Inputs\n",
    "Functions can take multiple inputs by having multiple input values separated by commas in the function signature:"
   ]
  },
  {
   "cell_type": "code",
   "execution_count": null,
   "metadata": {
    "editable": true,
    "slideshow": {
     "slide_type": ""
    },
    "tags": []
   },
   "outputs": [],
   "source": [
    "def density(mass, volume):\n",
    "    \"\"\"Simple average density of an object or fluid\n",
    "\n",
    "    mass is in g and volume is in cc.\"\"\"\n",
    "    return mass / volume\n",
    "# calling it for object with mass = 3 g and volume 2 cc\n",
    "density(3, 2)"
   ]
  },
  {
   "cell_type": "markdown",
   "metadata": {
    "editable": true,
    "slideshow": {
     "slide_type": "subslide"
    },
    "tags": []
   },
   "source": [
    "# Multiple Outputs\n",
    "But we can also have multiple return values for a single call, that are returned as a tuple. We do this by simply returning a tuple. Traditionally, we omit the parentheses in such a `return` statement."
   ]
  },
  {
   "cell_type": "code",
   "execution_count": null,
   "metadata": {
    "editable": true,
    "slideshow": {
     "slide_type": ""
    },
    "tags": []
   },
   "outputs": [],
   "source": [
    "def density_with_uncertainty(mass, volume, mass_unc, volume_unc):\n",
    "    mean = mass / volume\n",
    "    unc = mean * ((mass_unc / mass)**2 + (volume_unc / volume)**2)**(0.5)\n",
    "    return mean, unc\n",
    "# call it for object with mass = 3 ± 0.01 g and volume 2 ± 0.005 cc\n",
    "density_with_uncertainty(3, 2, 0.01, 0.005)"
   ]
  },
  {
   "cell_type": "markdown",
   "metadata": {
    "editable": true,
    "slideshow": {
     "slide_type": "fragment"
    },
    "tags": []
   },
   "source": [
    "We can \"catch\" these outputs with a tuple of variables. Again, we traditionally omit the parentheses on such a tuple (this whole process is called \"tuple packing\")"
   ]
  },
  {
   "cell_type": "code",
   "execution_count": null,
   "metadata": {},
   "outputs": [],
   "source": [
    "rho, rho_unc = density_with_uncertainty(3, 2, 0.01, 0.005)\n",
    "print(\"The density is {:.2f} ± {:.3f} g/cc\".format(rho, rho_unc))"
   ]
  },
  {
   "cell_type": "markdown",
   "metadata": {
    "editable": true,
    "slideshow": {
     "slide_type": "subslide"
    },
    "tags": []
   },
   "source": [
    "# Challenge: 2D Coordinate Rotation (Solution at end)\n",
    "In a coordinate rotation we rotate our coordinate axes counterclockwise by some angle $\\theta$. In the process, we transform all ordered pairs $(x, y)$ to transformed coordinates in the new frame, $$(x^\\prime, y^\\prime) = (x\\cos\\theta + y\\sin\\theta, y\\cos\\theta - x\\sin\\theta)$$\n",
    "\n",
    "Create a function called `rotate` that takes in three arguments:\n",
    "- untransformed $x$-coordinate;\n",
    "- untransformed $y$-coordinate\n",
    "- angle $\\theta$ in radians\n",
    "\n",
    "and returns two values:\n",
    "- transformed $x$-coordinate\n",
    "- transformed $y$-coordinate\n",
    "\n",
    "Test that it works by confirming that a rotation by 90° ($\\pi/2$ radians) works by seeing if `xp, yp = rotate(1, 0, pi / 2)` sets `xp` and `yp` to the values you would expect."
   ]
  },
  {
   "cell_type": "code",
   "execution_count": null,
   "metadata": {
    "editable": true,
    "slideshow": {
     "slide_type": ""
    },
    "tags": []
   },
   "outputs": [],
   "source": []
  },
  {
   "cell_type": "markdown",
   "metadata": {
    "editable": true,
    "slideshow": {
     "slide_type": "slide"
    },
    "tags": []
   },
   "source": [
    "# Docstrings are a great way to document functions\n",
    "Start your function body with a triple-quoted string that documents the function. You can access the signature, docstring, and other information about a function by executing an expression with the function name followed immeiately by a question mark (no parentheses, no arguments, etc.) The `help` function offers a similar functionality that doesn't depend on Jupyter."
   ]
  },
  {
   "cell_type": "code",
   "execution_count": null,
   "metadata": {
    "editable": true,
    "slideshow": {
     "slide_type": ""
    },
    "tags": []
   },
   "outputs": [],
   "source": [
    "density?"
   ]
  },
  {
   "cell_type": "code",
   "execution_count": null,
   "metadata": {
    "editable": true,
    "slideshow": {
     "slide_type": ""
    },
    "tags": []
   },
   "outputs": [],
   "source": [
    "help(density)"
   ]
  },
  {
   "cell_type": "markdown",
   "metadata": {
    "editable": true,
    "slideshow": {
     "slide_type": ""
    },
    "tags": []
   },
   "source": [
    "You should **almost always** include a docstring in the definition of a function so that a user that doesn't have access to the code can still know what to expect from your function. Treat the docstring as the contract between any end user and you, the implementer.\n",
    "\n",
    "At the bare minimum, just include a short sentence that fits on one line (<79 characters) that describes what the function does. Ideally, you would also include information about what parameters go into the function, what is returned, and any errors the function might raise."
   ]
  },
  {
   "cell_type": "markdown",
   "metadata": {
    "slideshow": {
     "slide_type": "subslide"
    }
   },
   "source": [
    "# Numpydoc is a good standard to follow\n",
    "Later we'll learn about `numpy`, which is a library that lets us do a lot of nifty numerical tasks. The people behind it came up with their own standard for docstrings that easy for computers and humans to read. You can learn more [here](https://numpydoc.readthedocs.io/en/latest/format.html#docstring-standard), but a simple example is shown below using our earlier example:"
   ]
  },
  {
   "cell_type": "code",
   "execution_count": null,
   "metadata": {
    "editable": true,
    "slideshow": {
     "slide_type": ""
    },
    "tags": []
   },
   "outputs": [],
   "source": [
    "def density_with_uncertainty(mass, volume, mass_unc, volume_unc):\n",
    "    \"\"\"Density and uncertainty in density in g/cc\n",
    "    \n",
    "    Parameters\n",
    "    ----------\n",
    "    mass : float\n",
    "        mass in g of object/fluid\n",
    "    volume : float\n",
    "        volume in cc of object/fluid\n",
    "    mass_unc : float\n",
    "        absolute uncertainty (in g) of `mass`\n",
    "\n",
    "    volume_unc : float\n",
    "        absolute uncertainty (in cc) of `volume`\n",
    "        \n",
    "    Returns\n",
    "    -------\n",
    "    float\n",
    "        expected value of density in g/cc\n",
    "    float\n",
    "        uncertainty in density, in g/cc\n",
    "    \"\"\"\n",
    "    mean = mass / volume\n",
    "    unc = mean * ((mass_unc / mass)**2 + (volume_unc / volume)**2)**(0.5)\n",
    "    return mean, unc\n",
    "density_with_uncertainty?"
   ]
  },
  {
   "cell_type": "markdown",
   "metadata": {
    "slideshow": {
     "slide_type": "subslide"
    }
   },
   "source": [
    "# Benefit of Numpydoc (and other standards): machine readability\n",
    "With a well-defined formatting system for docstrings, you can simultaneously document code for those who read it later, but also allow other programs to generate more user-friendly documentation of your code for the web.\n",
    "\n",
    "Your humble instructor maintains a small project related to their research which is documented [here](https://billwolf.space/py_mesa_reader). That whole web page was automatically generated from the docstrings in the source code. Not too shabby for almost no extra work!"
   ]
  },
  {
   "cell_type": "markdown",
   "metadata": {
    "slideshow": {
     "slide_type": "slide"
    }
   },
   "source": [
    "# Not all arguments are required\n",
    "We have seen functions that have optional keyword arguments already. Notably, `print` has a collection of optional arguments. Usually, we give `print` one or more strings to print, but we can optionally specify separation characters (`sep`), and ending character (`end`), and/or a file to print to (`file`)."
   ]
  },
  {
   "cell_type": "code",
   "execution_count": null,
   "metadata": {
    "editable": true,
    "slideshow": {
     "slide_type": ""
    },
    "tags": []
   },
   "outputs": [],
   "source": [
    "print('separated', 'by', 'tabs', sep='\\t', end='ENDING')"
   ]
  },
  {
   "cell_type": "markdown",
   "metadata": {
    "editable": true,
    "slideshow": {
     "slide_type": ""
    },
    "tags": []
   },
   "source": [
    "The unnamed strings at the beginning are **positional arguments**, and `sep` and `end` are called **keyword arguments**, because they are associated with specific keywords (\"sep\" and \"end\"). Keyword arguments are always optional, while positional arguments may or may not be optional."
   ]
  },
  {
   "cell_type": "markdown",
   "metadata": {
    "slideshow": {
     "slide_type": "subslide"
    }
   },
   "source": [
    "# Keyword Arguments and Positional Arguments\n",
    "Nearly any argument can be a keyword argument if you know what names the arguments were given in the function definition. If you know the names, you can put the keyword arguments in any order, **so long as they come after all positional arguments**.\n",
    "\n",
    "For example, consider our earlier function about density and uncertainties. Suppose we wanted to flip the last two arguments. We could treat them as keyword arguments after we specify the first two in the correct order:"
   ]
  },
  {
   "cell_type": "code",
   "execution_count": null,
   "metadata": {
    "editable": true,
    "slideshow": {
     "slide_type": ""
    },
    "tags": []
   },
   "outputs": [],
   "source": [
    "rho1, unc1 = density_with_uncertainty(3, 2, 0.01, 0.005)\n",
    "rho2, unc2 = density_with_uncertainty(3, 2, volume_unc=0.005, mass_unc=0.01)\n",
    "print(rho1, rho2)\n",
    "print(unc1, unc2)"
   ]
  },
  {
   "cell_type": "markdown",
   "metadata": {},
   "source": [
    "Both work, but the second one is simultaneously more verbose and more clear. You could also maintain the order and use keyword arguments; it's up to you."
   ]
  },
  {
   "cell_type": "markdown",
   "metadata": {
    "slideshow": {
     "slide_type": "subslide"
    }
   },
   "source": [
    "# Setting Default/Optional Arguments\n",
    "In the previous example, even if we used the keyword arguments rather than positional arguments, we still had to provide all four arguments. What if we wanted to provide default arguments that are used if the calling sequence doesn't provide them (like print does for `sep` and `end`)?\n",
    "\n",
    "We can do this by doing an assignment in the function declaration when the argument is first introduced:"
   ]
  },
  {
   "cell_type": "code",
   "execution_count": null,
   "metadata": {
    "editable": true,
    "slideshow": {
     "slide_type": ""
    },
    "tags": []
   },
   "outputs": [],
   "source": [
    "def density_with_uncertainty(mass, volume, mass_unc=0, volume_unc=0):\n",
    "    \"\"\"Density and uncertainty in density in g/cc\"\"\"\n",
    "    mean = mass / volume\n",
    "    unc = mean * ((mass_unc / mass)**2 + (volume_unc / volume)**2)**(0.5)\n",
    "    return mean, unc\n",
    "density_with_uncertainty(3, 2)"
   ]
  },
  {
   "cell_type": "markdown",
   "metadata": {},
   "source": [
    "Now we can forego entering in the uncertainties as either positional or keyword arguments if we are okay with their default values. Note that all optional arguments must come at the end of a function signature. The interpreter will not allow you to define a function with required arguments coming after optional arguments. This prevents ambiguity in function calls (which argument is which?)."
   ]
  },
  {
   "cell_type": "markdown",
   "metadata": {
    "slideshow": {
     "slide_type": "slide"
    }
   },
   "source": [
    "# The \"scope\" refers to the collection of variable accessible to a program at a particular point of execution\n",
    "Functions create their own scopes, so that variables defined within them are not, in general, accessible outside of them. That is, the only way to get data into a function call is thorugh arguments, and the only way to get data back out of the function is by returning the data.\n",
    "\n",
    "Consider the function below, which effectivley does nothing. Since there is no explicit `return` statement, it returns `None` by default. However, it does define a **local variable**, `a` to be 3. Upon defining the function, though `a` no longer exists in the outer scope. Even after calling the function, `a` is unreachable. We say that it is **out of scope**."
   ]
  },
  {
   "cell_type": "code",
   "execution_count": null,
   "metadata": {
    "editable": true,
    "slideshow": {
     "slide_type": ""
    },
    "tags": []
   },
   "outputs": [],
   "source": [
    "def define_and_print_a():\n",
    "    a = 3\n",
    "    print('The value of a in the function is {}.'.format(a))\n",
    "print(a)\n",
    "define_and_print_a()\n",
    "print(a)"
   ]
  },
  {
   "cell_type": "markdown",
   "metadata": {
    "editable": true,
    "slideshow": {
     "slide_type": "subslide"
    },
    "tags": []
   },
   "source": [
    "# A function can look \"out\" to larger scopes, but larger scopes cannot look \"into\" smaller scopes\n",
    "Here are the possible scopes code can be written in\n",
    "1. Local (inside the current function; **innermost**)\n",
    "2. Enclosing (recursively going up a level)\n",
    "3. Global (the entire current environment)\n",
    "4. Built-In (constants and function defined by python, like `True` and `abs`; **outermost**)\n",
    "\n",
    "When referencing a variable, python first looks in the current scope and then to outer scopes, but never inner. For instance, in the previous example, the interpreter didn't look into the scope set up by `define_and_print_a` to determine the value of `a` once back in the global scope."
   ]
  },
  {
   "cell_type": "markdown",
   "metadata": {
    "slideshow": {
     "slide_type": "subslide"
    }
   },
   "source": [
    "# A function can look \"out\" to outer scopes, but outer scopes cannot look \"into\" inner scopes\n",
    "Below, we define `a` in the global scope, and then in the enclosing scope of `print_a`, we print the value of `a`, which is evaluated at call time. Not finding `a` in the function's scope, it prints the value of `a` found in the global scope."
   ]
  },
  {
   "cell_type": "code",
   "execution_count": null,
   "metadata": {
    "editable": true,
    "slideshow": {
     "slide_type": ""
    },
    "tags": []
   },
   "outputs": [],
   "source": [
    "a = 3\n",
    "def print_a():\n",
    "    print('a is', a)\n",
    "    \n",
    "print_a()\n",
    "a = 10\n",
    "print_a()"
   ]
  },
  {
   "cell_type": "markdown",
   "metadata": {
    "slideshow": {
     "slide_type": "subslide"
    }
   },
   "source": [
    "# The Dangers of Global Scope\n",
    "Because the global and built-in scopes are separate, there is nothing preventing us from overwriting built-in functions like `len`, which would have bad side-effects. If you run the next cell, be sure to restart your kernel afterwards to restore `len` (go to \"Kernel\", and then \"Restart\")."
   ]
  },
  {
   "cell_type": "code",
   "execution_count": null,
   "metadata": {
    "editable": true,
    "slideshow": {
     "slide_type": ""
    },
    "tags": []
   },
   "outputs": [],
   "source": [
    "def len(item):\n",
    "    return 1\n",
    "\n",
    "def average(data):\n",
    "    return sum(data)/len(data)\n",
    "\n",
    "# uh oh! Average should be 2, but we nuked `len`!\n",
    "average([1, 2, 3])"
   ]
  },
  {
   "cell_type": "markdown",
   "metadata": {
    "editable": true,
    "slideshow": {
     "slide_type": "slide"
    },
    "tags": []
   },
   "source": [
    "# A recursive function is a function that calls itself in its own definition\n",
    "<center>\n",
    "<img src='did_you_mean_recursion.png' width=50%/>\n",
    "</center>\n",
    "Best way to understand this is with an example, and the classic one is factorial."
   ]
  },
  {
   "cell_type": "code",
   "execution_count": null,
   "metadata": {
    "editable": true,
    "slideshow": {
     "slide_type": ""
    },
    "tags": []
   },
   "outputs": [],
   "source": [
    "def fac(n):\n",
    "#     print('calling factorial of', n)\n",
    "    if n == 0:\n",
    "        return 1\n",
    "#     print('returning ', n, 'times factorial of', n - 1)\n",
    "    return n * fac(n - 1)\n",
    "fac(4)"
   ]
  },
  {
   "cell_type": "markdown",
   "metadata": {
    "editable": true,
    "slideshow": {
     "slide_type": "subslide"
    },
    "tags": []
   },
   "source": [
    "# Recursive functions need a base case\n",
    "Similar to how a `while` loop needs a test that will eventually fail, recursive functions need a **base case** that they will eventually stop on, or else they will go into infinite recursion, though python is better at catching infinite recursion than infinite loops."
   ]
  },
  {
   "cell_type": "markdown",
   "metadata": {
    "slideshow": {
     "slide_type": "subslide"
    }
   },
   "source": [
    "# Why Recursion?\n",
    "- When it works, it's extremely elegant and satisfying\n",
    "- One relatively short function can accomplish a lot\n",
    "- Usually cleaner than explicit iteration via a `for` or `while` loop.\n",
    "\n",
    "# Why not?\n",
    "- Can be harder to understand/debug a recursive function\n",
    "- Can be extremely inefficient (in time and memory)"
   ]
  },
  {
   "cell_type": "markdown",
   "metadata": {
    "editable": true,
    "slideshow": {
     "slide_type": "subslide"
    },
    "tags": []
   },
   "source": [
    "# Example: Palindrome Detection (Solution at end)\n",
    "Goal: Write a function that determines if a string is a palindrome (reads the same forwards and backwards) *using recursion*."
   ]
  },
  {
   "cell_type": "code",
   "execution_count": null,
   "metadata": {
    "editable": true,
    "slideshow": {
     "slide_type": ""
    },
    "tags": []
   },
   "outputs": [],
   "source": [
    "def is_palindrome(word):\n",
    "    # we'll do this together\n",
    "    raise NotImplementedError()"
   ]
  },
  {
   "cell_type": "code",
   "execution_count": null,
   "metadata": {
    "editable": true,
    "slideshow": {
     "slide_type": ""
    },
    "tags": []
   },
   "outputs": [],
   "source": [
    "is_palindrome('racecar')"
   ]
  },
  {
   "cell_type": "markdown",
   "metadata": {
    "editable": true,
    "slideshow": {
     "slide_type": "skip"
    },
    "tags": []
   },
   "source": [
    "# Challenge: 2D Coordinate Rotation Solution"
   ]
  },
  {
   "cell_type": "code",
   "execution_count": null,
   "metadata": {
    "slideshow": {
     "slide_type": "skip"
    }
   },
   "outputs": [],
   "source": [
    "from math import sin, cos, pi\n",
    "def rotate(x, y, theta):\n",
    "    xp = x * cos(theta) + y * sin(theta)\n",
    "    yp = y * cos(theta) - x * sin(theta)\n",
    "    return xp, yp\n",
    "\n",
    "xp1, yp1 = rotate(1, 0, pi/2)\n",
    "xp2, yp2 = rotate(0, 1, pi/2)\n",
    "print(xp1, yp1)\n",
    "print(xp2, yp2)"
   ]
  },
  {
   "cell_type": "markdown",
   "metadata": {
    "slideshow": {
     "slide_type": "skip"
    }
   },
   "source": [
    "# Example: Palindrome Detection Solution"
   ]
  },
  {
   "cell_type": "code",
   "execution_count": null,
   "metadata": {
    "slideshow": {
     "slide_type": "skip"
    }
   },
   "outputs": [],
   "source": [
    "def is_palindrome(word):\n",
    "    # base case: word has zero or one characters\n",
    "    if len(word) in [0, 1]:\n",
    "        return True\n",
    "    else:\n",
    "        # recursive step: word is a palindrome if its first and last characters are equal AND\n",
    "        # if the sub-word inside those outer characters is a palindrome\n",
    "        if word[0] != word[-1]:\n",
    "            return False\n",
    "        return is_palindrome(word[1:-1])"
   ]
  },
  {
   "cell_type": "code",
   "execution_count": null,
   "metadata": {
    "slideshow": {
     "slide_type": "skip"
    }
   },
   "outputs": [],
   "source": [
    "word = 'racecar'\n",
    "if is_palindrome(word):\n",
    "    print(\"{} is a palindrome\".format(word))\n",
    "else:\n",
    "    print(\"{} is NOT a palindrome\".format(word))"
   ]
  }
 ],
 "metadata": {
  "celltoolbar": "Slideshow",
  "kernelspec": {
   "display_name": "Python 3 (ipykernel)",
   "language": "python",
   "name": "python3"
  },
  "language_info": {
   "codemirror_mode": {
    "name": "ipython",
    "version": 3
   },
   "file_extension": ".py",
   "mimetype": "text/x-python",
   "name": "python",
   "nbconvert_exporter": "python",
   "pygments_lexer": "ipython3",
   "version": "3.10.12"
  },
  "rise": {
   "theme": "solarized",
   "transition": "fade"
  }
 },
 "nbformat": 4,
 "nbformat_minor": 4
}
